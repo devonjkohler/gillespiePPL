{
 "cells": [
  {
   "cell_type": "markdown",
   "id": "313d1144-2043-4c80-8e9a-bdaf376859f7",
   "metadata": {},
   "source": [
    "## ProPPA application to Lotka Volterra"
   ]
  },
  {
   "cell_type": "code",
   "execution_count": 43,
   "id": "4fb54f2b-be57-4c11-ae51-0ce2eba86b2a",
   "metadata": {},
   "outputs": [],
   "source": [
    "## Set ProPPA path (need to reformat package into installable version)\n",
    "import sys\n",
    "sys.path.append(\"../../ProPPA\")\n",
    "\n",
    "import proppa\n",
    "import numpy as np\n",
    "import scipy.stats as spst\n",
    "import matplotlib.pyplot as plt\n",
    "import tellurium as te\n",
    "import pickle\n",
    "\n",
    "import pandas as pd"
   ]
  },
  {
   "cell_type": "markdown",
   "id": "2b01b413-6d45-4787-810d-b022dfd07ffc",
   "metadata": {},
   "source": [
    "### Run inference on LV with existing Proppa model and data"
   ]
  },
  {
   "cell_type": "markdown",
   "id": "d75dad37-bd99-44a9-8f52-56cd495448c5",
   "metadata": {},
   "source": [
    "#### Load model"
   ]
  },
  {
   "cell_type": "code",
   "execution_count": 15,
   "id": "204dc37f-5ea8-4222-9ed6-3864dd6384d0",
   "metadata": {},
   "outputs": [],
   "source": [
    "lv_path = \"../../ProPPA/models/predPrey.proppa\"\n",
    "lv_model = proppa.load_model(lv_path)"
   ]
  },
  {
   "cell_type": "code",
   "execution_count": 26,
   "id": "c3a24517-f911-416b-8317-a7902e4a1403",
   "metadata": {},
   "outputs": [
    {
     "data": {
      "text/plain": [
       "<proppa.ParsedModel at 0x7f2a8410f370>"
      ]
     },
     "execution_count": 26,
     "metadata": {},
     "output_type": "execute_result"
    }
   ],
   "source": [
    "lv_model"
   ]
  },
  {
   "cell_type": "markdown",
   "id": "be9db489-9e70-4d1d-9cbf-e225d3554f59",
   "metadata": {},
   "source": [
    "#### Inference"
   ]
  },
  {
   "cell_type": "code",
   "execution_count": 27,
   "id": "c7d19cbd-e039-477f-8b89-213e135b55e0",
   "metadata": {
    "collapsed": true,
    "jupyter": {
     "outputs_hidden": true
    },
    "tags": []
   },
   "outputs": [
    {
     "name": "stdout",
     "output_type": "stream",
     "text": [
      "Will take 100000 samples...\n",
      "Taken 500 samples\n",
      "Taken 1000 samples\n",
      "Taken 1500 samples\n",
      "Taken 2000 samples\n",
      "Taken 2500 samples\n",
      "Taken 3000 samples\n",
      "Taken 3500 samples\n",
      "Taken 4000 samples\n",
      "Taken 4500 samples\n",
      "Taken 5000 samples\n",
      "Taken 5500 samples\n",
      "Taken 6000 samples\n",
      "Taken 6500 samples\n",
      "Taken 7000 samples\n",
      "Taken 7500 samples\n",
      "Taken 8000 samples\n",
      "Taken 8500 samples\n",
      "Taken 9000 samples\n",
      "Taken 9500 samples\n",
      "Taken 10000 samples\n",
      "Taken 10500 samples\n",
      "Taken 11000 samples\n",
      "Taken 11500 samples\n",
      "Taken 12000 samples\n",
      "Taken 12500 samples\n",
      "Taken 13000 samples\n",
      "Taken 13500 samples\n",
      "Taken 14000 samples\n",
      "Taken 14500 samples\n",
      "Taken 15000 samples\n",
      "Taken 15500 samples\n",
      "Taken 16000 samples\n",
      "Taken 16500 samples\n",
      "Taken 17000 samples\n",
      "Taken 17500 samples\n",
      "Taken 18000 samples\n",
      "Taken 18500 samples\n",
      "Taken 19000 samples\n",
      "Taken 19500 samples\n",
      "Taken 20000 samples\n",
      "Taken 20500 samples\n",
      "Taken 21000 samples\n",
      "Taken 21500 samples\n",
      "Taken 22000 samples\n",
      "Taken 22500 samples\n",
      "Taken 23000 samples\n",
      "Taken 23500 samples\n",
      "Taken 24000 samples\n",
      "Taken 24500 samples\n",
      "Taken 25000 samples\n",
      "Taken 25500 samples\n",
      "Taken 26000 samples\n",
      "Taken 26500 samples\n",
      "Taken 27000 samples\n",
      "Taken 27500 samples\n",
      "Taken 28000 samples\n",
      "Taken 28500 samples\n",
      "Taken 29000 samples\n",
      "Taken 29500 samples\n",
      "Taken 30000 samples\n",
      "Taken 30500 samples\n",
      "Taken 31000 samples\n",
      "Taken 31500 samples\n",
      "Taken 32000 samples\n",
      "Taken 32500 samples\n",
      "Taken 33000 samples\n",
      "Taken 33500 samples\n",
      "Taken 34000 samples\n",
      "Taken 34500 samples\n",
      "Taken 35000 samples\n",
      "Taken 35500 samples\n",
      "Taken 36000 samples\n",
      "Taken 36500 samples\n",
      "Taken 37000 samples\n",
      "Taken 37500 samples\n",
      "Taken 38000 samples\n",
      "Taken 38500 samples\n",
      "Taken 39000 samples\n",
      "Taken 39500 samples\n",
      "Taken 40000 samples\n",
      "Taken 40500 samples\n",
      "Taken 41000 samples\n",
      "Taken 41500 samples\n",
      "Taken 42000 samples\n",
      "Taken 42500 samples\n",
      "Taken 43000 samples\n",
      "Taken 43500 samples\n",
      "Taken 44000 samples\n",
      "Taken 44500 samples\n",
      "Taken 45000 samples\n",
      "Taken 45500 samples\n",
      "Taken 46000 samples\n",
      "Taken 46500 samples\n",
      "Taken 47000 samples\n",
      "Taken 47500 samples\n",
      "Taken 48000 samples\n",
      "Taken 48500 samples\n",
      "Taken 49000 samples\n",
      "Taken 49500 samples\n",
      "Taken 50000 samples\n",
      "Taken 50500 samples\n",
      "Taken 51000 samples\n",
      "Taken 51500 samples\n",
      "Taken 52000 samples\n",
      "Taken 52500 samples\n",
      "Taken 53000 samples\n",
      "Taken 53500 samples\n",
      "Taken 54000 samples\n",
      "Taken 54500 samples\n",
      "Taken 55000 samples\n",
      "Taken 55500 samples\n",
      "Taken 56000 samples\n",
      "Taken 56500 samples\n",
      "Taken 57000 samples\n",
      "Taken 57500 samples\n",
      "Taken 58000 samples\n",
      "Taken 58500 samples\n",
      "Taken 59000 samples\n",
      "Taken 59500 samples\n",
      "Taken 60000 samples\n",
      "Taken 60500 samples\n",
      "Taken 61000 samples\n",
      "Taken 61500 samples\n",
      "Taken 62000 samples\n",
      "Taken 62500 samples\n",
      "Taken 63000 samples\n",
      "Taken 63500 samples\n",
      "Taken 64000 samples\n",
      "Taken 64500 samples\n",
      "Taken 65000 samples\n",
      "Taken 65500 samples\n",
      "Taken 66000 samples\n",
      "Taken 66500 samples\n",
      "Taken 67000 samples\n",
      "Taken 67500 samples\n",
      "Taken 68000 samples\n",
      "Taken 68500 samples\n",
      "Taken 69000 samples\n",
      "Taken 69500 samples\n",
      "Taken 70000 samples\n",
      "Taken 70500 samples\n",
      "Taken 71000 samples\n",
      "Taken 71500 samples\n",
      "Taken 72000 samples\n",
      "Taken 72500 samples\n",
      "Taken 73000 samples\n",
      "Taken 73500 samples\n",
      "Taken 74000 samples\n",
      "Taken 74500 samples\n",
      "Taken 75000 samples\n",
      "Taken 75500 samples\n",
      "Taken 76000 samples\n",
      "Taken 76500 samples\n",
      "Taken 77000 samples\n",
      "Taken 77500 samples\n",
      "Taken 78000 samples\n",
      "Taken 78500 samples\n",
      "Taken 79000 samples\n",
      "Taken 79500 samples\n",
      "Taken 80000 samples\n",
      "Taken 80500 samples\n",
      "Taken 81000 samples\n",
      "Taken 81500 samples\n",
      "Taken 82000 samples\n",
      "Taken 82500 samples\n",
      "Taken 83000 samples\n",
      "Taken 83500 samples\n",
      "Taken 84000 samples\n",
      "Taken 84500 samples\n",
      "Taken 85000 samples\n",
      "Taken 85500 samples\n",
      "Taken 86000 samples\n",
      "Taken 86500 samples\n",
      "Taken 87000 samples\n",
      "Taken 87500 samples\n",
      "Taken 88000 samples\n",
      "Taken 88500 samples\n",
      "Taken 89000 samples\n",
      "Taken 89500 samples\n",
      "Taken 90000 samples\n",
      "Taken 90500 samples\n",
      "Taken 91000 samples\n",
      "Taken 91500 samples\n",
      "Taken 92000 samples\n",
      "Taken 92500 samples\n",
      "Taken 93000 samples\n",
      "Taken 93500 samples\n",
      "Taken 94000 samples\n",
      "Taken 94500 samples\n",
      "Taken 95000 samples\n",
      "Taken 95500 samples\n",
      "Taken 96000 samples\n",
      "Taken 96500 samples\n",
      "Taken 97000 samples\n",
      "Taken 97500 samples\n",
      "Taken 98000 samples\n",
      "Taken 98500 samples\n",
      "Taken 99000 samples\n",
      "Taken 99500 samples\n",
      "Taken 100000 samples\n",
      "Sampling finished (100000 samples).\n",
      "Mean:     [7.35741851e-05 4.47207870e-04 6.03796960e-04 9.16189058e-05]\n",
      "Variance: [6.98153596e-10 3.94485748e-08 3.38871821e-08 1.00537297e-09]\n"
     ]
    }
   ],
   "source": [
    "n_samples = 100000  # how many samples to take from the posterior\n",
    "\n",
    "samples = lv_model.infer(n_samples)\n",
    "samples = np.array(samples)"
   ]
  },
  {
   "cell_type": "code",
   "execution_count": 31,
   "id": "12900b04-d3ed-49f1-b035-d9595585450d",
   "metadata": {},
   "outputs": [
    {
     "data": {
      "text/plain": [
       "Text(0.5, 1.0, 'Rate d')"
      ]
     },
     "execution_count": 31,
     "metadata": {},
     "output_type": "execute_result"
    },
    {
     "data": {
      "image/png": "[encoded data removed]",
      "text/plain": [
       "<Figure size 720x576 with 4 Axes>"
      ]
     },
     "metadata": {
      "needs_background": "light"
     },
     "output_type": "display_data"
    }
   ],
   "source": [
    "fig, ax = plt.subplots(2,2, figsize = (10,8))\n",
    "\n",
    "## Inference Results\n",
    "ax[0,0].hist(samples[:, 0], bins = 50)\n",
    "ax[0,1].hist(samples[:, 1], bins = 50)\n",
    "ax[1,0].hist(samples[:, 2], bins = 50)\n",
    "ax[1,1].hist(samples[:, 3], bins = 50)\n",
    "\n",
    "## Overlay true rates\n",
    "true_rates = [ 0.0001, 0.0005, 0.0005,  0.0001]\n",
    "\n",
    "ax[0,0].axvline(true_rates[0], color = \"red\", linewidth=2)\n",
    "ax[0,1].axvline(true_rates[1], color = \"red\", linewidth=2)\n",
    "ax[1,0].axvline(true_rates[2], color = \"red\", linewidth=2)\n",
    "ax[1,1].axvline(true_rates[3], color = \"red\", linewidth=2)\n",
    "\n",
    "ax[0,0].set_title(\"Rate a\")\n",
    "ax[0,1].set_title(\"Rate b\")\n",
    "ax[1,0].set_title(\"Rate c\")\n",
    "ax[1,1].set_title(\"Rate d\")"
   ]
  },
  {
   "cell_type": "markdown",
   "id": "14d5ceeb-5d6d-496c-a19f-8487d0b2cdc9",
   "metadata": {},
   "source": [
    "### Run with new model and data (generated with Pyro implementation)"
   ]
  },
  {
   "cell_type": "code",
   "execution_count": 50,
   "id": "daa156cc-7fd0-4a28-be6c-9251e78a0b76",
   "metadata": {},
   "outputs": [],
   "source": [
    "lv_path = \"../data/Proppa_Models/LotkaVolterra.proppa\"\n",
    "lv_model = proppa.load_model(lv_path)"
   ]
  },
  {
   "cell_type": "code",
   "execution_count": 51,
   "id": "c5d2c6df-dbdb-480a-9d15-498de30ce533",
   "metadata": {
    "collapsed": true,
    "jupyter": {
     "outputs_hidden": true
    },
    "tags": []
   },
   "outputs": [
    {
     "name": "stdout",
     "output_type": "stream",
     "text": [
      "Will take 100000 samples...\n",
      "Taken 500 samples\n",
      "Taken 1000 samples\n",
      "Taken 1500 samples\n",
      "Taken 2000 samples\n",
      "Taken 2500 samples\n",
      "Taken 3000 samples\n",
      "Taken 3500 samples\n",
      "Taken 4000 samples\n",
      "Taken 4500 samples\n",
      "Taken 5000 samples\n",
      "Taken 5500 samples\n",
      "Taken 6000 samples\n",
      "Taken 6500 samples\n",
      "Taken 7000 samples\n",
      "Taken 7500 samples\n",
      "Taken 8000 samples\n",
      "Taken 8500 samples\n",
      "Taken 9000 samples\n",
      "Taken 9500 samples\n",
      "Taken 10000 samples\n",
      "Taken 10500 samples\n",
      "Taken 11000 samples\n",
      "Taken 11500 samples\n",
      "Taken 12000 samples\n",
      "Taken 12500 samples\n",
      "Taken 13000 samples\n",
      "Taken 13500 samples\n",
      "Taken 14000 samples\n",
      "Taken 14500 samples\n",
      "Taken 15000 samples\n",
      "Taken 15500 samples\n",
      "Taken 16000 samples\n",
      "Taken 16500 samples\n",
      "Taken 17000 samples\n",
      "Taken 17500 samples\n",
      "Taken 18000 samples\n",
      "Taken 18500 samples\n",
      "Taken 19000 samples\n",
      "Taken 19500 samples\n",
      "Taken 20000 samples\n",
      "Taken 20500 samples\n",
      "Taken 21000 samples\n",
      "Taken 21500 samples\n",
      "Taken 22000 samples\n",
      "Taken 22500 samples\n",
      "Taken 23000 samples\n",
      "Taken 23500 samples\n",
      "Taken 24000 samples\n",
      "Taken 24500 samples\n",
      "Taken 25000 samples\n",
      "Taken 25500 samples\n",
      "Taken 26000 samples\n",
      "Taken 26500 samples\n",
      "Taken 27000 samples\n",
      "Taken 27500 samples\n",
      "Taken 28000 samples\n",
      "Taken 28500 samples\n",
      "Taken 29000 samples\n",
      "Taken 29500 samples\n",
      "Taken 30000 samples\n",
      "Taken 30500 samples\n",
      "Taken 31000 samples\n",
      "Taken 31500 samples\n",
      "Taken 32000 samples\n",
      "Taken 32500 samples\n",
      "Taken 33000 samples\n",
      "Taken 33500 samples\n",
      "Taken 34000 samples\n",
      "Taken 34500 samples\n",
      "Taken 35000 samples\n",
      "Taken 35500 samples\n",
      "Taken 36000 samples\n",
      "Taken 36500 samples\n",
      "Taken 37000 samples\n",
      "Taken 37500 samples\n",
      "Taken 38000 samples\n",
      "Taken 38500 samples\n",
      "Taken 39000 samples\n",
      "Taken 39500 samples\n",
      "Taken 40000 samples\n",
      "Taken 40500 samples\n",
      "Taken 41000 samples\n",
      "Taken 41500 samples\n",
      "Taken 42000 samples\n",
      "Taken 42500 samples\n",
      "Taken 43000 samples\n",
      "Taken 43500 samples\n",
      "Taken 44000 samples\n",
      "Taken 44500 samples\n",
      "Taken 45000 samples\n",
      "Taken 45500 samples\n",
      "Taken 46000 samples\n",
      "Taken 46500 samples\n",
      "Taken 47000 samples\n",
      "Taken 47500 samples\n",
      "Taken 48000 samples\n",
      "Taken 48500 samples\n",
      "Taken 49000 samples\n",
      "Taken 49500 samples\n",
      "Taken 50000 samples\n",
      "Taken 50500 samples\n",
      "Taken 51000 samples\n",
      "Taken 51500 samples\n",
      "Taken 52000 samples\n",
      "Taken 52500 samples\n",
      "Taken 53000 samples\n",
      "Taken 53500 samples\n",
      "Taken 54000 samples\n",
      "Taken 54500 samples\n",
      "Taken 55000 samples\n",
      "Taken 55500 samples\n",
      "Taken 56000 samples\n",
      "Taken 56500 samples\n",
      "Taken 57000 samples\n",
      "Taken 57500 samples\n",
      "Taken 58000 samples\n",
      "Taken 58500 samples\n",
      "Taken 59000 samples\n",
      "Taken 59500 samples\n",
      "Taken 60000 samples\n",
      "Taken 60500 samples\n",
      "Taken 61000 samples\n",
      "Taken 61500 samples\n",
      "Taken 62000 samples\n",
      "Taken 62500 samples\n",
      "Taken 63000 samples\n",
      "Taken 63500 samples\n",
      "Taken 64000 samples\n",
      "Taken 64500 samples\n",
      "Taken 65000 samples\n",
      "Taken 65500 samples\n",
      "Taken 66000 samples\n",
      "Taken 66500 samples\n",
      "Taken 67000 samples\n",
      "Taken 67500 samples\n",
      "Taken 68000 samples\n",
      "Taken 68500 samples\n",
      "Taken 69000 samples\n",
      "Taken 69500 samples\n",
      "Taken 70000 samples\n",
      "Taken 70500 samples\n",
      "Taken 71000 samples\n",
      "Taken 71500 samples\n",
      "Taken 72000 samples\n",
      "Taken 72500 samples\n",
      "Taken 73000 samples\n",
      "Taken 73500 samples\n",
      "Taken 74000 samples\n",
      "Taken 74500 samples\n",
      "Taken 75000 samples\n",
      "Taken 75500 samples\n",
      "Taken 76000 samples\n",
      "Taken 76500 samples\n",
      "Taken 77000 samples\n",
      "Taken 77500 samples\n",
      "Taken 78000 samples\n",
      "Taken 78500 samples\n",
      "Taken 79000 samples\n",
      "Taken 79500 samples\n",
      "Taken 80000 samples\n",
      "Taken 80500 samples\n",
      "Taken 81000 samples\n",
      "Taken 81500 samples\n",
      "Taken 82000 samples\n",
      "Taken 82500 samples\n",
      "Taken 83000 samples\n",
      "Taken 83500 samples\n",
      "Taken 84000 samples\n",
      "Taken 84500 samples\n",
      "Taken 85000 samples\n",
      "Taken 85500 samples\n",
      "Taken 86000 samples\n",
      "Taken 86500 samples\n",
      "Taken 87000 samples\n",
      "Taken 87500 samples\n",
      "Taken 88000 samples\n",
      "Taken 88500 samples\n",
      "Taken 89000 samples\n",
      "Taken 89500 samples\n",
      "Taken 90000 samples\n",
      "Taken 90500 samples\n",
      "Taken 91000 samples\n",
      "Taken 91500 samples\n",
      "Taken 92000 samples\n",
      "Taken 92500 samples\n",
      "Taken 93000 samples\n",
      "Taken 93500 samples\n",
      "Taken 94000 samples\n",
      "Taken 94500 samples\n",
      "Taken 95000 samples\n",
      "Taken 95500 samples\n",
      "Taken 96000 samples\n",
      "Taken 96500 samples\n",
      "Taken 97000 samples\n",
      "Taken 97500 samples\n",
      "Taken 98000 samples\n",
      "Taken 98500 samples\n",
      "Taken 99000 samples\n",
      "Taken 99500 samples\n",
      "Taken 100000 samples\n",
      "Sampling finished (100000 samples).\n",
      "Mean:     [2.30921115e-02 2.41539810e-04 8.67545948e-05]\n",
      "Variance: [5.66363724e-06 2.45228019e-10 1.87402772e-09]\n"
     ]
    }
   ],
   "source": [
    "n_samples = 100000  # how many samples to take from the posterior\n",
    "\n",
    "samples = lv_model.infer(n_samples)\n",
    "samples = np.array(samples)"
   ]
  },
  {
   "cell_type": "code",
   "execution_count": 52,
   "id": "198fdfbc-c50c-427a-a343-445451bb504c",
   "metadata": {},
   "outputs": [
    {
     "data": {
      "text/plain": [
       "Text(0.5, 1.0, 'Rate c')"
      ]
     },
     "execution_count": 52,
     "metadata": {},
     "output_type": "execute_result"
    },
    {
     "data": {
      "image/png": "[encoded data removed]",
      "text/plain": [
       "<Figure size 720x576 with 3 Axes>"
      ]
     },
     "metadata": {
      "needs_background": "light"
     },
     "output_type": "display_data"
    }
   ],
   "source": [
    "fig, ax = plt.subplots(3,1, figsize = (10,8))\n",
    "\n",
    "## Inference Results\n",
    "ax[0].hist(samples[:, 0], bins = 50)\n",
    "ax[1].hist(samples[:, 1], bins = 50)\n",
    "ax[2].hist(samples[:, 2], bins = 50)\n",
    "\n",
    "## Overlay true rates\n",
    "true_rates = [ 0.0009, 0.000015, 0.00035]\n",
    "\n",
    "ax[0].axvline(true_rates[0], color = \"red\", linewidth=2)\n",
    "ax[1].axvline(true_rates[1], color = \"red\", linewidth=2)\n",
    "ax[2].axvline(true_rates[2], color = \"red\", linewidth=2)\n",
    "\n",
    "ax[0].set_title(\"Rate a\")\n",
    "ax[1].set_title(\"Rate b\")\n",
    "ax[2].set_title(\"Rate c\")"
   ]
  },
  {
   "cell_type": "markdown",
   "id": "fa523943-6ecf-4328-9051-fa3096c0871b",
   "metadata": {},
   "source": [
    "### Lac Operon"
   ]
  },
  {
   "cell_type": "markdown",
   "id": "28ca3efb-8509-4e82-b8fc-985eafd90a80",
   "metadata": {
    "tags": []
   },
   "source": [
    "#### Get info needed to build proppa model"
   ]
  },
  {
   "cell_type": "code",
   "execution_count": 72,
   "id": "9735f116-65bb-4a60-af6f-841eac4c3b15",
   "metadata": {},
   "outputs": [],
   "source": [
    "## Use Tellurium to print model deets\n",
    "ant_lo = te.sbmlToAntimony(r\"..\\data\\LacOperon\\LacOperon_stochastic.xml\")\n",
    "model_lo = te.loadSBMLModel(r\"..\\data\\LacOperon\\LacOperon_stochastic.xml\")"
   ]
  },
  {
   "cell_type": "code",
   "execution_count": 73,
   "id": "bb0d49fb-52f1-48b5-8952-fdf97c1325e3",
   "metadata": {
    "collapsed": true,
    "jupyter": {
     "outputs_hidden": true
    },
    "tags": []
   },
   "outputs": [
    {
     "name": "stdout",
     "output_type": "stream",
     "text": [
      "// Created by libAntimony v2.12.0\n",
      "model *biocrnpyler_24259()\n",
      "\n",
      "  // Compartments and Species:\n",
      "  compartment default;\n",
      "  species rna_M in default, monomer_betaGal in default, protein_betaGal in default;\n",
      "  species Lactose_external in default, Lactose_internal in default, Glucose_external in default;\n",
      "  species Glucose_internal in default, protein_Lactose_Permease in default;\n",
      "  species dna_Lac_Operon in default, Biomass in default, Lactose_consumed in default;\n",
      "\n",
      "  // Reactions:\n",
      "  r0: dna_Lac_Operon => dna_Lac_Operon + rna_M; dna_Lac_Operon*r0_Vtx*(r0_k_leak + (Lactose_internal^r0_n_L/(r0_K_L^r0_n_L + Lactose_internal^r0_n_L))*(1/(1 + (Glucose_external/r0_K_G)^r0_n_G)));\n",
      "  r1: rna_M => rna_M + monomer_betaGal; k_tl_beta_Gal__*rna_M;\n",
      "  r2: rna_M => rna_M + protein_Lactose_Permease; k_tl_lacP__*rna_M;\n",
      "  r3: 4 monomer_betaGal => protein_betaGal; BGal_tetramerization__*monomer_betaGal*(monomer_betaGal - 1)*(monomer_betaGal - 2)*(monomer_betaGal - 3);\n",
      "  r4: Lactose_internal => Lactose_consumed; BGal_vmax__*protein_betaGal*Lactose_internal^r4_n/(Bgal_Kd__^r4_n + Lactose_internal^r4_n);\n",
      "  r5: Glucose_external => Glucose_internal; GluPermease_vmax__*Biomass*Glucose_external^r5_n/(GluPermease_Kd__^r5_n + Glucose_external^r5_n);\n",
      "  r6: Lactose_external => Lactose_internal; (protein_Lactose_Permease*r6_LacPermease_vmax*Lactose_external/(Lactose_external + r6_LacPermease_Kd))*(1 - r6_phi_G*Glucose_external/(r6_GluPermease_Kd + Glucose_external));\n",
      "  r7: Lactose_internal => Lactose_external; LacPermease_reverse_vmax__*protein_Lactose_Permease*Lactose_internal^r7_n/(LacPermease_Kd__^r7_n + Lactose_internal^r7_n);\n",
      "  r8: rna_M => ; kdeg_mRNA__*rna_M;\n",
      "  r9: protein_betaGal => ; kdeg_prot__*protein_betaGal;\n",
      "  r10: protein_Lactose_Permease => ; kdeg_prot__*protein_Lactose_Permease;\n",
      "\n",
      "  // Species initializations:\n",
      "  rna_M = 0;\n",
      "  rna_M has mole_per_volume;\n",
      "  monomer_betaGal = 0;\n",
      "  monomer_betaGal has mole_per_volume;\n",
      "  protein_betaGal = 0;\n",
      "  protein_betaGal has mole_per_volume;\n",
      "  Lactose_external = 120440000;\n",
      "  Lactose_external has mole_per_volume;\n",
      "  Lactose_internal = 0;\n",
      "  Lactose_internal has mole_per_volume;\n",
      "  Glucose_external = 60220000;\n",
      "  Glucose_external has mole_per_volume;\n",
      "  Glucose_internal = 0;\n",
      "  Glucose_internal has mole_per_volume;\n",
      "  protein_Lactose_Permease = 0;\n",
      "  protein_Lactose_Permease has mole_per_volume;\n",
      "  dna_Lac_Operon = 2;\n",
      "  dna_Lac_Operon has mole_per_volume;\n",
      "  Biomass = 1000;\n",
      "  Biomass has mole_per_volume;\n",
      "  Lactose_consumed = 0;\n",
      "  Lactose_consumed has mole_per_volume;\n",
      "\n",
      "  // Compartment initializations:\n",
      "  default = 1e-06;\n",
      "\n",
      "  // Variable initializations:\n",
      "  k_tl_beta_Gal__ = 0.156666666666667;\n",
      "  k_tl_lacP__ = 0.313333333333333;\n",
      "  BGal_tetramerization__ = 1000;\n",
      "  BGal_vmax__ = 300;\n",
      "  Bgal_Kd__ = 84310;\n",
      "  GluPermease_vmax__ = 301;\n",
      "  GluPermease_Kd__ = 9033;\n",
      "  LacPermease_reverse_vmax__ = 1.18966666666667;\n",
      "  LacPermease_Kd__ = 8800000;\n",
      "  kdeg_mRNA__ = 0.00783333333333333;\n",
      "  kdeg_prot__ = 0.000166666666666667;\n",
      "  r0_Vtx = 0.003;\n",
      "  r0_n_L = 4;\n",
      "  r0_K_L = 2900000;\n",
      "  r0_K_G = 1506;\n",
      "  r0_n_G = 2;\n",
      "  r0_k_leak = 0.05;\n",
      "  r4_n = 1;\n",
      "  r5_n = 1;\n",
      "  r6_GluPermease_Kd = 9033;\n",
      "  r6_LacPermease_vmax = 35.8;\n",
      "  r6_LacPermease_Kd = 156576;\n",
      "  r6_phi_G = 0.35;\n",
      "  r7_n = 1;\n",
      "\n",
      "  // Other declarations:\n",
      "  const default, k_tl_beta_Gal__, k_tl_lacP__, BGal_tetramerization__, BGal_vmax__;\n",
      "  const Bgal_Kd__, GluPermease_vmax__, GluPermease_Kd__, LacPermease_reverse_vmax__;\n",
      "  const LacPermease_Kd__, kdeg_mRNA__, kdeg_prot__;\n",
      "\n",
      "  // Unit definitions:\n",
      "  unit square_metre = metre^2;\n",
      "  unit length = metre;\n",
      "  unit area = square_metre;\n",
      "  unit volume = litre;\n",
      "  unit substance = mole;\n",
      "  unit extent = mole;\n",
      "  unit time_unit = second;\n",
      "  unit mole_per_volume = mole / litre;\n",
      "\n",
      "  // Display Names:\n",
      "  rna_M is \"M\";\n",
      "  monomer_betaGal is \"betaGal\";\n",
      "  protein_betaGal is \"betaGal\";\n",
      "  Lactose_external is \"Lactose\";\n",
      "  Lactose_internal is \"Lactose\";\n",
      "  Glucose_external is \"Glucose\";\n",
      "  Glucose_internal is \"Glucose\";\n",
      "  protein_Lactose_Permease is \"Lactose_Permease\";\n",
      "  dna_Lac_Operon is \"Lac_Operon\";\n",
      "  Lactose_consumed is \"Lactose\";\n",
      "end\n",
      "\n",
      "biocrnpyler_24259 is \"biocrnpyler_24259\"\n",
      "\n"
     ]
    }
   ],
   "source": [
    "print(ant_lo)"
   ]
  },
  {
   "cell_type": "code",
   "execution_count": 74,
   "id": "025fbf62-c16e-410c-aedd-a80813975692",
   "metadata": {},
   "outputs": [
    {
     "data": {
      "text/plain": [
       "                            r0, r1, r2, r3, r4, r5, r6, r7, r8, r9, r10\n",
       "rna_M                    [[  1,  0,  0,  0,  0,  0,  0,  0, -1,  0,   0],\n",
       "monomer_betaGal           [  0,  1,  0, -4,  0,  0,  0,  0,  0,  0,   0],\n",
       "protein_betaGal           [  0,  0,  0,  1,  0,  0,  0,  0,  0, -1,   0],\n",
       "Lactose_external          [  0,  0,  0,  0,  0,  0, -1,  1,  0,  0,   0],\n",
       "Lactose_internal          [  0,  0,  0,  0, -1,  0,  1, -1,  0,  0,   0],\n",
       "Glucose_external          [  0,  0,  0,  0,  0, -1,  0,  0,  0,  0,   0],\n",
       "Glucose_internal          [  0,  0,  0,  0,  0,  1,  0,  0,  0,  0,   0],\n",
       "protein_Lactose_Permease  [  0,  0,  1,  0,  0,  0,  0,  0,  0,  0,  -1],\n",
       "dna_Lac_Operon            [  0,  0,  0,  0,  0,  0,  0,  0,  0,  0,   0],\n",
       "Biomass                   [  0,  0,  0,  0,  0,  0,  0,  0,  0,  0,   0],\n",
       "Lactose_consumed          [  0,  0,  0,  0,  1,  0,  0,  0,  0,  0,   0]]"
      ]
     },
     "execution_count": 74,
     "metadata": {},
     "output_type": "execute_result"
    }
   ],
   "source": [
    "## Transistion matrix\n",
    "model_lo.getFullStoichiometryMatrix()"
   ]
  },
  {
   "cell_type": "code",
   "execution_count": 61,
   "id": "3eaa7732-432a-40d6-b765-509d14da8272",
   "metadata": {},
   "outputs": [],
   "source": [
    "## Load (Vivarium) simulated LO data and sample for proppa inference\n",
    "with open(r\"..\\data\\LacOperon\\sim_data.pickle\", \"rb\") as input_file:\n",
    "    lo_data = pickle.load(input_file)\n",
    "lo_data_sample = lo_data[0]\n",
    "\n",
    "## Proppa requires time to be first col\n",
    "lo_data_sample.loc[[x for x in range(len(lo_data_sample)) if x%100 == 0], [\n",
    "    'time', 'rna_M', 'monomer_betaGal', 'protein_betaGal', 'Lactose_external', \n",
    "    'Lactose_internal', 'Glucose_external', 'Glucose_internal', 'protein_Lactose_Permease', \n",
    "    'dna_Lac_Operon', 'Biomass', 'Lactose_consumed']].to_csv(\"../data/lo_proppa_obs\", sep = \" \", index = False)"
   ]
  },
  {
   "cell_type": "markdown",
   "id": "0b43cd20-a44d-4dee-b7ab-76ccea2c8ab6",
   "metadata": {
    "tags": []
   },
   "source": [
    "#### Create Model and Run Inference"
   ]
  },
  {
   "cell_type": "code",
   "execution_count": 89,
   "id": "cae1a6d0-00ce-4160-8684-04024cda3603",
   "metadata": {},
   "outputs": [],
   "source": [
    "lo_path = \"../data/Proppa_Models/LacOperon.proppa\"\n",
    "lo_model = proppa.load_model(lo_path)"
   ]
  },
  {
   "cell_type": "code",
   "execution_count": 90,
   "id": "32198188-f685-4125-a3a7-fdefe70f96ab",
   "metadata": {
    "collapsed": true,
    "jupyter": {
     "outputs_hidden": true
    },
    "tags": []
   },
   "outputs": [
    {
     "name": "stdout",
     "output_type": "stream",
     "text": [
      "Will take 10000 samples...\n",
      "Taken 500 samples\n",
      "Taken 1000 samples\n",
      "Taken 1500 samples\n",
      "Taken 2000 samples\n",
      "Taken 2500 samples\n",
      "Taken 3000 samples\n",
      "Taken 3500 samples\n",
      "Taken 4000 samples\n",
      "Taken 4500 samples\n"
     ]
    },
    {
     "name": "stderr",
     "output_type": "stream",
     "text": [
      "/mnt/d/northeastern/research/causal_inference/biosim_project/gillespiePPL/Jupyter_Notebooks/../../ProPPA/fluid_sampler.py:68: RuntimeWarning:\n",
      "\n",
      "invalid value encountered in subtract\n",
      "\n"
     ]
    },
    {
     "name": "stdout",
     "output_type": "stream",
     "text": [
      "Taken 5000 samples\n",
      "Taken 5500 samples\n",
      "Taken 6000 samples\n",
      "Taken 6500 samples\n",
      "Taken 7000 samples\n",
      "Taken 7500 samples\n",
      "Taken 8000 samples\n",
      "Taken 8500 samples\n",
      "Taken 9000 samples\n",
      "Taken 9500 samples\n",
      "Taken 10000 samples\n",
      "Sampling finished (10000 samples).\n",
      "Mean:     [6.16515202e-01 9.24345580e-01 8.52568200e+02 1.34690040e+02\n",
      " 7.27626485e+04 2.96501583e+02 8.09642939e+03 8.28652350e-01\n",
      " 8.57978783e+06 1.43633217e-01 3.48343414e-01 8.44568858e-01\n",
      " 2.33471294e+00 2.89156226e+06 1.57508869e+03 1.70363015e+00\n",
      " 9.50406682e-01 9.38300389e+03 3.85204407e+01 1.50005944e+05\n",
      " 4.84394695e-01]\n",
      "Variance: [1.19200739e-01 4.03734480e-03 8.30162020e+04 1.95165823e+04\n",
      " 1.18339241e+08 9.33509458e+03 1.90789746e+06 2.89731153e-01\n",
      " 5.17077083e+10 5.27104070e-03 2.13805599e-07 9.62085424e-05\n",
      " 8.29729243e-01 3.16579927e+09 6.14581529e+04 5.95737764e-01\n",
      " 2.37090866e-03 3.46478588e+05 3.79333627e+00 8.16973218e+08\n",
      " 3.12911814e-02]\n"
     ]
    }
   ],
   "source": [
    "n_samples = 10000  # how many samples to take from the posterior\n",
    "\n",
    "samples = lo_model.infer(n_samples)\n",
    "samples = np.array(samples)"
   ]
  },
  {
   "cell_type": "code",
   "execution_count": 94,
   "id": "8459e2bb-6468-4a01-a828-464f863b9929",
   "metadata": {},
   "outputs": [
    {
     "data": {
      "text/plain": [
       "array([0.42679055, 0.42679055, 0.44788776, ..., 0.54517332, 0.54517332,\n",
       "       0.54517332])"
      ]
     },
     "execution_count": 94,
     "metadata": {},
     "output_type": "execute_result"
    }
   ],
   "source": [
    "samples[:, 20]"
   ]
  },
  {
   "cell_type": "code",
   "execution_count": 98,
   "id": "90497e11-fd9a-404c-8bb9-c6751a7290a1",
   "metadata": {},
   "outputs": [
    {
     "data": {
      "image/png": "[encoded data removed]",
      "text/plain": [
       "<Figure size 720x576 with 20 Axes>"
      ]
     },
     "metadata": {
      "needs_background": "light"
     },
     "output_type": "display_data"
    }
   ],
   "source": [
    "fig, ax = plt.subplots(10,2, figsize = (10,8))\n",
    "\n",
    "## True rates\n",
    "true_rates = [0.156666666666667, 0.313333333333333, 1000, 300, 84310, 301, \n",
    "              9033, 1.18966666666667, 8800000, 0.00783333333333333, \n",
    "              0.000166666666666667, 0.003, 4, 2900000, 1506, 2, 0.05, \n",
    "              9033, 35.8, 156576, 0.35]\n",
    "\n",
    "## Inference Results\n",
    "group = 0\n",
    "for i in range(10):\n",
    "    ax[i,0].hist(samples[:, group], bins = 10)\n",
    "    ax[i,1].hist(samples[:, group+1], bins = 10)\n",
    "    \n",
    "    ax[i,0].axvline(true_rates[group], color = \"red\", linewidth=2)\n",
    "    ax[i,1].axvline(true_rates[group+1], color = \"red\", linewidth=2)\n",
    "    \n",
    "    group += 2\n",
    "\n",
    "# ax[0].set_title(\"Rate a\")\n",
    "# ax[1].set_title(\"Rate b\")\n",
    "# ax[2].set_title(\"Rate c\")"
   ]
  },
  {
   "cell_type": "code",
   "execution_count": null,
   "id": "2bd40130-eb9d-45d1-b690-3b7203d4703a",
   "metadata": {},
   "outputs": [],
   "source": []
  }
 ],
 "metadata": {
  "kernelspec": {
   "display_name": "Python 3 (ipykernel)",
   "language": "python",
   "name": "python3"
  },
  "language_info": {
   "codemirror_mode": {
    "name": "ipython",
    "version": 3
   },
   "file_extension": ".py",
   "mimetype": "text/x-python",
   "name": "python",
   "nbconvert_exporter": "python",
   "pygments_lexer": "ipython3",
   "version": "3.9.7"
  }
 },
 "nbformat": 4,
 "nbformat_minor": 5
}
