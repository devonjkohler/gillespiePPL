{
 "cells": [
  {
   "cell_type": "markdown",
   "id": "313d1144-2043-4c80-8e9a-bdaf376859f7",
   "metadata": {},
   "source": [
    "## ProPPA application to Lotka Volterra"
   ]
  },
  {
   "cell_type": "code",
   "execution_count": 15,
   "id": "4fb54f2b-be57-4c11-ae51-0ce2eba86b2a",
   "metadata": {},
   "outputs": [],
   "source": [
    "## Set ProPPA path (need to reformat package into installable version)\n",
    "import sys\n",
    "#sys.path.append(\"../../ProPPA\")\n",
    "\n",
    "from ProPPA import proppa\n",
    "import numpy as np\n",
    "import scipy.stats as spst\n",
    "import matplotlib.pyplot as plt\n",
    "import tellurium as te\n",
    "import pickle\n",
    "\n",
    "import pandas as pd"
   ]
  },
  {
   "cell_type": "code",
   "execution_count": 1,
   "id": "6fb32bc5-b440-4063-8d55-57a866871c7f",
   "metadata": {},
   "outputs": [],
   "source": [
    "import pyparsing"
   ]
  },
  {
   "cell_type": "code",
   "execution_count": 2,
   "id": "e1c83675-ce14-4e0a-b39e-5750e8a2f49d",
   "metadata": {},
   "outputs": [
    {
     "data": {
      "text/plain": [
       "'2.2.1'"
      ]
     },
     "execution_count": 2,
     "metadata": {},
     "output_type": "execute_result"
    }
   ],
   "source": [
    "pyparsing.__version__"
   ]
  },
  {
   "cell_type": "markdown",
   "id": "2b01b413-6d45-4787-810d-b022dfd07ffc",
   "metadata": {
    "tags": []
   },
   "source": [
    "### Run inference on LV with existing Proppa model and data"
   ]
  },
  {
   "cell_type": "markdown",
   "id": "d75dad37-bd99-44a9-8f52-56cd495448c5",
   "metadata": {},
   "source": [
    "#### Load model"
   ]
  },
  {
   "cell_type": "code",
   "execution_count": 2,
   "id": "204dc37f-5ea8-4222-9ed6-3864dd6384d0",
   "metadata": {},
   "outputs": [],
   "source": [
    "lv_path = \"../../ProPPA/models/predPrey.proppa\"\n",
    "lv_model = proppa.load_model(lv_path)"
   ]
  },
  {
   "cell_type": "code",
   "execution_count": 3,
   "id": "c3a24517-f911-416b-8317-a7902e4a1403",
   "metadata": {},
   "outputs": [
    {
     "data": {
      "text/plain": [
       "<ProPPA.proppa.ParsedModel at 0x7f5fc2fa44f0>"
      ]
     },
     "execution_count": 3,
     "metadata": {},
     "output_type": "execute_result"
    }
   ],
   "source": [
    "lv_model"
   ]
  },
  {
   "cell_type": "markdown",
   "id": "be9db489-9e70-4d1d-9cbf-e225d3554f59",
   "metadata": {},
   "source": [
    "#### Inference"
   ]
  },
  {
   "cell_type": "code",
   "execution_count": 3,
   "id": "c7d19cbd-e039-477f-8b89-213e135b55e0",
   "metadata": {
    "tags": []
   },
   "outputs": [
    {
     "name": "stdout",
     "output_type": "stream",
     "text": [
      "Will take 500 samples...\n",
      "Taken 500 samples\n",
      "Sampling finished (500 samples).\n",
      "Mean:     [0.000207   0.00016757 0.00067367 0.00033944]\n",
      "Variance: [3.06409378e-08 1.90145320e-09 3.23874894e-10 5.26128311e-08]\n"
     ]
    }
   ],
   "source": [
    "n_samples = 500  # how many samples to take from the posterior\n",
    "\n",
    "samples = lv_model.infer(n_samples)\n",
    "samples = np.array(samples)"
   ]
  },
  {
   "cell_type": "code",
   "execution_count": 6,
   "id": "12900b04-d3ed-49f1-b035-d9595585450d",
   "metadata": {},
   "outputs": [
    {
     "data": {
      "text/plain": [
       "Text(0.5, 1.0, 'Rate d')"
      ]
     },
     "execution_count": 6,
     "metadata": {},
     "output_type": "execute_result"
    },
    {
     "data": {
      "image/png": "[encoded data removed]",
      "text/plain": [
       "<Figure size 720x576 with 4 Axes>"
      ]
     },
     "metadata": {
      "needs_background": "light"
     },
     "output_type": "display_data"
    }
   ],
   "source": [
    "fig, ax = plt.subplots(2,2, figsize = (10,8))\n",
    "\n",
    "## Inference Results\n",
    "ax[0,0].hist(samples[:, 0], bins = 50)\n",
    "ax[0,1].hist(samples[:, 1], bins = 50)\n",
    "ax[1,0].hist(samples[:, 2], bins = 50)\n",
    "ax[1,1].hist(samples[:, 3], bins = 50)\n",
    "\n",
    "## Overlay true rates\n",
    "true_rates = [ 0.0001, 0.0005, 0.0005,  0.0001]\n",
    "\n",
    "ax[0,0].axvline(true_rates[0], color = \"red\", linewidth=2)\n",
    "ax[0,1].axvline(true_rates[1], color = \"red\", linewidth=2)\n",
    "ax[1,0].axvline(true_rates[2], color = \"red\", linewidth=2)\n",
    "ax[1,1].axvline(true_rates[3], color = \"red\", linewidth=2)\n",
    "\n",
    "ax[0,0].set_title(\"Rate a\")\n",
    "ax[0,1].set_title(\"Rate b\")\n",
    "ax[1,0].set_title(\"Rate c\")\n",
    "ax[1,1].set_title(\"Rate d\")"
   ]
  },
  {
   "cell_type": "markdown",
   "id": "14d5ceeb-5d6d-496c-a19f-8487d0b2cdc9",
   "metadata": {
    "jp-MarkdownHeadingCollapsed": true,
    "tags": []
   },
   "source": [
    "### Run with new model and data (generated with Pyro implementation)"
   ]
  },
  {
   "cell_type": "code",
   "execution_count": 50,
   "id": "daa156cc-7fd0-4a28-be6c-9251e78a0b76",
   "metadata": {},
   "outputs": [],
   "source": [
    "lv_path = \"../data/Proppa_Models/LotkaVolterra.proppa\"\n",
    "lv_model = proppa.load_model(lv_path)"
   ]
  },
  {
   "cell_type": "code",
   "execution_count": 51,
   "id": "c5d2c6df-dbdb-480a-9d15-498de30ce533",
   "metadata": {
    "collapsed": true,
    "jupyter": {
     "outputs_hidden": true
    },
    "tags": []
   },
   "outputs": [
    {
     "name": "stdout",
     "output_type": "stream",
     "text": [
      "Will take 100000 samples...\n",
      "Taken 500 samples\n",
      "Taken 1000 samples\n",
      "Taken 1500 samples\n",
      "Taken 2000 samples\n",
      "Taken 2500 samples\n",
      "Taken 3000 samples\n",
      "Taken 3500 samples\n",
      "Taken 4000 samples\n",
      "Taken 4500 samples\n",
      "Taken 5000 samples\n",
      "Taken 5500 samples\n",
      "Taken 6000 samples\n",
      "Taken 6500 samples\n",
      "Taken 7000 samples\n",
      "Taken 7500 samples\n",
      "Taken 8000 samples\n",
      "Taken 8500 samples\n",
      "Taken 9000 samples\n",
      "Taken 9500 samples\n",
      "Taken 10000 samples\n",
      "Taken 10500 samples\n",
      "Taken 11000 samples\n",
      "Taken 11500 samples\n",
      "Taken 12000 samples\n",
      "Taken 12500 samples\n",
      "Taken 13000 samples\n",
      "Taken 13500 samples\n",
      "Taken 14000 samples\n",
      "Taken 14500 samples\n",
      "Taken 15000 samples\n",
      "Taken 15500 samples\n",
      "Taken 16000 samples\n",
      "Taken 16500 samples\n",
      "Taken 17000 samples\n",
      "Taken 17500 samples\n",
      "Taken 18000 samples\n",
      "Taken 18500 samples\n",
      "Taken 19000 samples\n",
      "Taken 19500 samples\n",
      "Taken 20000 samples\n",
      "Taken 20500 samples\n",
      "Taken 21000 samples\n",
      "Taken 21500 samples\n",
      "Taken 22000 samples\n",
      "Taken 22500 samples\n",
      "Taken 23000 samples\n",
      "Taken 23500 samples\n",
      "Taken 24000 samples\n",
      "Taken 24500 samples\n",
      "Taken 25000 samples\n",
      "Taken 25500 samples\n",
      "Taken 26000 samples\n",
      "Taken 26500 samples\n",
      "Taken 27000 samples\n",
      "Taken 27500 samples\n",
      "Taken 28000 samples\n",
      "Taken 28500 samples\n",
      "Taken 29000 samples\n",
      "Taken 29500 samples\n",
      "Taken 30000 samples\n",
      "Taken 30500 samples\n",
      "Taken 31000 samples\n",
      "Taken 31500 samples\n",
      "Taken 32000 samples\n",
      "Taken 32500 samples\n",
      "Taken 33000 samples\n",
      "Taken 33500 samples\n",
      "Taken 34000 samples\n",
      "Taken 34500 samples\n",
      "Taken 35000 samples\n",
      "Taken 35500 samples\n",
      "Taken 36000 samples\n",
      "Taken 36500 samples\n",
      "Taken 37000 samples\n",
      "Taken 37500 samples\n",
      "Taken 38000 samples\n",
      "Taken 38500 samples\n",
      "Taken 39000 samples\n",
      "Taken 39500 samples\n",
      "Taken 40000 samples\n",
      "Taken 40500 samples\n",
      "Taken 41000 samples\n",
      "Taken 41500 samples\n",
      "Taken 42000 samples\n",
      "Taken 42500 samples\n",
      "Taken 43000 samples\n",
      "Taken 43500 samples\n",
      "Taken 44000 samples\n",
      "Taken 44500 samples\n",
      "Taken 45000 samples\n",
      "Taken 45500 samples\n",
      "Taken 46000 samples\n",
      "Taken 46500 samples\n",
      "Taken 47000 samples\n",
      "Taken 47500 samples\n",
      "Taken 48000 samples\n",
      "Taken 48500 samples\n",
      "Taken 49000 samples\n",
      "Taken 49500 samples\n",
      "Taken 50000 samples\n",
      "Taken 50500 samples\n",
      "Taken 51000 samples\n",
      "Taken 51500 samples\n",
      "Taken 52000 samples\n",
      "Taken 52500 samples\n",
      "Taken 53000 samples\n",
      "Taken 53500 samples\n",
      "Taken 54000 samples\n",
      "Taken 54500 samples\n",
      "Taken 55000 samples\n",
      "Taken 55500 samples\n",
      "Taken 56000 samples\n",
      "Taken 56500 samples\n",
      "Taken 57000 samples\n",
      "Taken 57500 samples\n",
      "Taken 58000 samples\n",
      "Taken 58500 samples\n",
      "Taken 59000 samples\n",
      "Taken 59500 samples\n",
      "Taken 60000 samples\n",
      "Taken 60500 samples\n",
      "Taken 61000 samples\n",
      "Taken 61500 samples\n",
      "Taken 62000 samples\n",
      "Taken 62500 samples\n",
      "Taken 63000 samples\n",
      "Taken 63500 samples\n",
      "Taken 64000 samples\n",
      "Taken 64500 samples\n",
      "Taken 65000 samples\n",
      "Taken 65500 samples\n",
      "Taken 66000 samples\n",
      "Taken 66500 samples\n",
      "Taken 67000 samples\n",
      "Taken 67500 samples\n",
      "Taken 68000 samples\n",
      "Taken 68500 samples\n",
      "Taken 69000 samples\n",
      "Taken 69500 samples\n",
      "Taken 70000 samples\n",
      "Taken 70500 samples\n",
      "Taken 71000 samples\n",
      "Taken 71500 samples\n",
      "Taken 72000 samples\n",
      "Taken 72500 samples\n",
      "Taken 73000 samples\n",
      "Taken 73500 samples\n",
      "Taken 74000 samples\n",
      "Taken 74500 samples\n",
      "Taken 75000 samples\n",
      "Taken 75500 samples\n",
      "Taken 76000 samples\n",
      "Taken 76500 samples\n",
      "Taken 77000 samples\n",
      "Taken 77500 samples\n",
      "Taken 78000 samples\n",
      "Taken 78500 samples\n",
      "Taken 79000 samples\n",
      "Taken 79500 samples\n",
      "Taken 80000 samples\n",
      "Taken 80500 samples\n",
      "Taken 81000 samples\n",
      "Taken 81500 samples\n",
      "Taken 82000 samples\n",
      "Taken 82500 samples\n",
      "Taken 83000 samples\n",
      "Taken 83500 samples\n",
      "Taken 84000 samples\n",
      "Taken 84500 samples\n",
      "Taken 85000 samples\n",
      "Taken 85500 samples\n",
      "Taken 86000 samples\n",
      "Taken 86500 samples\n",
      "Taken 87000 samples\n",
      "Taken 87500 samples\n",
      "Taken 88000 samples\n",
      "Taken 88500 samples\n",
      "Taken 89000 samples\n",
      "Taken 89500 samples\n",
      "Taken 90000 samples\n",
      "Taken 90500 samples\n",
      "Taken 91000 samples\n",
      "Taken 91500 samples\n",
      "Taken 92000 samples\n",
      "Taken 92500 samples\n",
      "Taken 93000 samples\n",
      "Taken 93500 samples\n",
      "Taken 94000 samples\n",
      "Taken 94500 samples\n",
      "Taken 95000 samples\n",
      "Taken 95500 samples\n",
      "Taken 96000 samples\n",
      "Taken 96500 samples\n",
      "Taken 97000 samples\n",
      "Taken 97500 samples\n",
      "Taken 98000 samples\n",
      "Taken 98500 samples\n",
      "Taken 99000 samples\n",
      "Taken 99500 samples\n",
      "Taken 100000 samples\n",
      "Sampling finished (100000 samples).\n",
      "Mean:     [2.30921115e-02 2.41539810e-04 8.67545948e-05]\n",
      "Variance: [5.66363724e-06 2.45228019e-10 1.87402772e-09]\n"
     ]
    }
   ],
   "source": [
    "n_samples = 100000  # how many samples to take from the posterior\n",
    "\n",
    "samples = lv_model.infer(n_samples)\n",
    "samples = np.array(samples)"
   ]
  },
  {
   "cell_type": "code",
   "execution_count": 52,
   "id": "198fdfbc-c50c-427a-a343-445451bb504c",
   "metadata": {},
   "outputs": [
    {
     "data": {
      "text/plain": [
       "Text(0.5, 1.0, 'Rate c')"
      ]
     },
     "execution_count": 52,
     "metadata": {},
     "output_type": "execute_result"
    },
    {
     "data": {
      "image/png": "[encoded data removed]",
      "text/plain": [
       "<Figure size 720x576 with 3 Axes>"
      ]
     },
     "metadata": {
      "needs_background": "light"
     },
     "output_type": "display_data"
    }
   ],
   "source": [
    "fig, ax = plt.subplots(3,1, figsize = (10,8))\n",
    "\n",
    "## Inference Results\n",
    "ax[0].hist(samples[:, 0], bins = 50)\n",
    "ax[1].hist(samples[:, 1], bins = 50)\n",
    "ax[2].hist(samples[:, 2], bins = 50)\n",
    "\n",
    "## Overlay true rates\n",
    "true_rates = [ 0.0009, 0.000015, 0.00035]\n",
    "\n",
    "ax[0].axvline(true_rates[0], color = \"red\", linewidth=2)\n",
    "ax[1].axvline(true_rates[1], color = \"red\", linewidth=2)\n",
    "ax[2].axvline(true_rates[2], color = \"red\", linewidth=2)\n",
    "\n",
    "ax[0].set_title(\"Rate a\")\n",
    "ax[1].set_title(\"Rate b\")\n",
    "ax[2].set_title(\"Rate c\")"
   ]
  },
  {
   "cell_type": "markdown",
   "id": "fa523943-6ecf-4328-9051-fa3096c0871b",
   "metadata": {},
   "source": [
    "### Lac Operon"
   ]
  },
  {
   "cell_type": "markdown",
   "id": "28ca3efb-8509-4e82-b8fc-985eafd90a80",
   "metadata": {
    "tags": []
   },
   "source": [
    "#### Get info needed to build proppa model"
   ]
  },
  {
   "cell_type": "code",
   "execution_count": 3,
   "id": "9735f116-65bb-4a60-af6f-841eac4c3b15",
   "metadata": {
    "tags": []
   },
   "outputs": [],
   "source": [
    "## Use Tellurium to print model deets\n",
    "ant_lo = te.sbmlToAntimony(r\"../data/LacOperon/LacOperon_stochastic.xml\")\n",
    "model_lo = te.loadSBMLModel(r\"../data/LacOperon/LacOperon_stochastic.xml\")"
   ]
  },
  {
   "cell_type": "code",
   "execution_count": 4,
   "id": "bb0d49fb-52f1-48b5-8952-fdf97c1325e3",
   "metadata": {
    "collapsed": true,
    "jupyter": {
     "outputs_hidden": true
    },
    "tags": []
   },
   "outputs": [
    {
     "name": "stdout",
     "output_type": "stream",
     "text": [
      "// Created by libAntimony v2.12.0\n",
      "model *biocrnpyler_24259()\n",
      "\n",
      "  // Compartments and Species:\n",
      "  compartment default;\n",
      "  species rna_M in default, monomer_betaGal in default, protein_betaGal in default;\n",
      "  species Lactose_external in default, Lactose_internal in default, Glucose_external in default;\n",
      "  species Glucose_internal in default, protein_Lactose_Permease in default;\n",
      "  species dna_Lac_Operon in default, Biomass in default, Lactose_consumed in default;\n",
      "\n",
      "  // Reactions:\n",
      "  r0: dna_Lac_Operon => dna_Lac_Operon + rna_M; dna_Lac_Operon*r0_Vtx*(r0_k_leak + (Lactose_internal^r0_n_L/(r0_K_L^r0_n_L + Lactose_internal^r0_n_L))*(1/(1 + (Glucose_external/r0_K_G)^r0_n_G)));\n",
      "  r1: rna_M => rna_M + monomer_betaGal; k_tl_beta_Gal__*rna_M;\n",
      "  r2: rna_M => rna_M + protein_Lactose_Permease; k_tl_lacP__*rna_M;\n",
      "  r3: 4 monomer_betaGal => protein_betaGal; BGal_tetramerization__*monomer_betaGal*(monomer_betaGal - 1)*(monomer_betaGal - 2)*(monomer_betaGal - 3);\n",
      "  r4: Lactose_internal => Lactose_consumed; BGal_vmax__*protein_betaGal*Lactose_internal^r4_n/(Bgal_Kd__^r4_n + Lactose_internal^r4_n);\n",
      "  r5: Glucose_external => Glucose_internal; GluPermease_vmax__*Biomass*Glucose_external^r5_n/(GluPermease_Kd__^r5_n + Glucose_external^r5_n);\n",
      "  r6: Lactose_external => Lactose_internal; (protein_Lactose_Permease*r6_LacPermease_vmax*Lactose_external/(Lactose_external + r6_LacPermease_Kd))*(1 - r6_phi_G*Glucose_external/(r6_GluPermease_Kd + Glucose_external));\n",
      "  r7: Lactose_internal => Lactose_external; LacPermease_reverse_vmax__*protein_Lactose_Permease*Lactose_internal^r7_n/(LacPermease_Kd__^r7_n + Lactose_internal^r7_n);\n",
      "  r8: rna_M => ; kdeg_mRNA__*rna_M;\n",
      "  r9: protein_betaGal => ; kdeg_prot__*protein_betaGal;\n",
      "  r10: protein_Lactose_Permease => ; kdeg_prot__*protein_Lactose_Permease;\n",
      "\n",
      "  // Species initializations:\n",
      "  rna_M = 0;\n",
      "  rna_M has mole_per_volume;\n",
      "  monomer_betaGal = 0;\n",
      "  monomer_betaGal has mole_per_volume;\n",
      "  protein_betaGal = 0;\n",
      "  protein_betaGal has mole_per_volume;\n",
      "  Lactose_external = 120440000;\n",
      "  Lactose_external has mole_per_volume;\n",
      "  Lactose_internal = 0;\n",
      "  Lactose_internal has mole_per_volume;\n",
      "  Glucose_external = 60220000;\n",
      "  Glucose_external has mole_per_volume;\n",
      "  Glucose_internal = 0;\n",
      "  Glucose_internal has mole_per_volume;\n",
      "  protein_Lactose_Permease = 0;\n",
      "  protein_Lactose_Permease has mole_per_volume;\n",
      "  dna_Lac_Operon = 2;\n",
      "  dna_Lac_Operon has mole_per_volume;\n",
      "  Biomass = 1000;\n",
      "  Biomass has mole_per_volume;\n",
      "  Lactose_consumed = 0;\n",
      "  Lactose_consumed has mole_per_volume;\n",
      "\n",
      "  // Compartment initializations:\n",
      "  default = 1e-06;\n",
      "\n",
      "  // Variable initializations:\n",
      "  k_tl_beta_Gal__ = 0.156666666666667;\n",
      "  k_tl_lacP__ = 0.313333333333333;\n",
      "  BGal_tetramerization__ = 1000;\n",
      "  BGal_vmax__ = 300;\n",
      "  Bgal_Kd__ = 84310;\n",
      "  GluPermease_vmax__ = 301;\n",
      "  GluPermease_Kd__ = 9033;\n",
      "  LacPermease_reverse_vmax__ = 1.18966666666667;\n",
      "  LacPermease_Kd__ = 8800000;\n",
      "  kdeg_mRNA__ = 0.00783333333333333;\n",
      "  kdeg_prot__ = 0.000166666666666667;\n",
      "  r0_Vtx = 0.003;\n",
      "  r0_n_L = 4;\n",
      "  r0_K_L = 2900000;\n",
      "  r0_K_G = 1506;\n",
      "  r0_n_G = 2;\n",
      "  r0_k_leak = 0.05;\n",
      "  r4_n = 1;\n",
      "  r5_n = 1;\n",
      "  r6_GluPermease_Kd = 9033;\n",
      "  r6_LacPermease_vmax = 35.8;\n",
      "  r6_LacPermease_Kd = 156576;\n",
      "  r6_phi_G = 0.35;\n",
      "  r7_n = 1;\n",
      "\n",
      "  // Other declarations:\n",
      "  const default, k_tl_beta_Gal__, k_tl_lacP__, BGal_tetramerization__, BGal_vmax__;\n",
      "  const Bgal_Kd__, GluPermease_vmax__, GluPermease_Kd__, LacPermease_reverse_vmax__;\n",
      "  const LacPermease_Kd__, kdeg_mRNA__, kdeg_prot__;\n",
      "\n",
      "  // Unit definitions:\n",
      "  unit square_metre = metre^2;\n",
      "  unit length = metre;\n",
      "  unit area = square_metre;\n",
      "  unit volume = litre;\n",
      "  unit substance = mole;\n",
      "  unit extent = mole;\n",
      "  unit time_unit = second;\n",
      "  unit mole_per_volume = mole / litre;\n",
      "\n",
      "  // Display Names:\n",
      "  rna_M is \"M\";\n",
      "  monomer_betaGal is \"betaGal\";\n",
      "  protein_betaGal is \"betaGal\";\n",
      "  Lactose_external is \"Lactose\";\n",
      "  Lactose_internal is \"Lactose\";\n",
      "  Glucose_external is \"Glucose\";\n",
      "  Glucose_internal is \"Glucose\";\n",
      "  protein_Lactose_Permease is \"Lactose_Permease\";\n",
      "  dna_Lac_Operon is \"Lac_Operon\";\n",
      "  Lactose_consumed is \"Lactose\";\n",
      "end\n",
      "\n",
      "biocrnpyler_24259 is \"biocrnpyler_24259\"\n",
      "\n"
     ]
    }
   ],
   "source": [
    "print(ant_lo)"
   ]
  },
  {
   "cell_type": "code",
   "execution_count": 5,
   "id": "025fbf62-c16e-410c-aedd-a80813975692",
   "metadata": {
    "tags": []
   },
   "outputs": [
    {
     "data": {
      "text/plain": [
       "                            r0, r1, r2, r3, r4, r5, r6, r7, r8, r9, r10\n",
       "rna_M                    [[  1,  0,  0,  0,  0,  0,  0,  0, -1,  0,   0],\n",
       "monomer_betaGal           [  0,  1,  0, -4,  0,  0,  0,  0,  0,  0,   0],\n",
       "protein_betaGal           [  0,  0,  0,  1,  0,  0,  0,  0,  0, -1,   0],\n",
       "Lactose_external          [  0,  0,  0,  0,  0,  0, -1,  1,  0,  0,   0],\n",
       "Lactose_internal          [  0,  0,  0,  0, -1,  0,  1, -1,  0,  0,   0],\n",
       "Glucose_external          [  0,  0,  0,  0,  0, -1,  0,  0,  0,  0,   0],\n",
       "Glucose_internal          [  0,  0,  0,  0,  0,  1,  0,  0,  0,  0,   0],\n",
       "protein_Lactose_Permease  [  0,  0,  1,  0,  0,  0,  0,  0,  0,  0,  -1],\n",
       "dna_Lac_Operon            [  0,  0,  0,  0,  0,  0,  0,  0,  0,  0,   0],\n",
       "Biomass                   [  0,  0,  0,  0,  0,  0,  0,  0,  0,  0,   0],\n",
       "Lactose_consumed          [  0,  0,  0,  0,  1,  0,  0,  0,  0,  0,   0]]"
      ]
     },
     "execution_count": 5,
     "metadata": {},
     "output_type": "execute_result"
    }
   ],
   "source": [
    "## Transistion matrix\n",
    "model_lo.getFullStoichiometryMatrix()"
   ]
  },
  {
   "cell_type": "code",
   "execution_count": 8,
   "id": "a07dcf71-bc1b-422d-a8d1-5e1ee7fd7e20",
   "metadata": {},
   "outputs": [
    {
     "data": {
      "text/plain": [
       "100"
      ]
     },
     "execution_count": 8,
     "metadata": {},
     "output_type": "execute_result"
    }
   ],
   "source": [
    "len(lo_data)"
   ]
  },
  {
   "cell_type": "code",
   "execution_count": 64,
   "id": "3eaa7732-432a-40d6-b765-509d14da8272",
   "metadata": {},
   "outputs": [],
   "source": [
    "## Load (Vivarium) simulated LO data and sample for proppa inference\n",
    "with open(r\"../data/LacOperon/sim_data.pickle\", \"rb\") as input_file:\n",
    "    lo_data = pickle.load(input_file)"
   ]
  },
  {
   "cell_type": "code",
   "execution_count": 3,
   "id": "e3c20f2d-9f51-40a1-9001-802bc1b05830",
   "metadata": {},
   "outputs": [],
   "source": [
    "for i in range(len(lo_data)):\n",
    "\n",
    "    temp_data = lo_data[i]\n",
    "\n",
    "    ## Proppa requires time to be first col\n",
    "    temp_data.loc[[x for x in range(len(temp_data)) if x%100 == 0], [\n",
    "        'time', 'rna_M', 'monomer_betaGal', 'protein_betaGal', 'Lactose_external', \n",
    "        'Lactose_internal', 'Glucose_external', 'Glucose_internal', 'protein_Lactose_Permease', \n",
    "        'dna_Lac_Operon', 'Biomass', 'Lactose_consumed']].to_csv(\"../data/LacOperon/sim_data/trace_{0}\".format(str(i)), sep = \" \", index = False)"
   ]
  },
  {
   "cell_type": "code",
   "execution_count": 73,
   "id": "5ad377af-bb25-413e-af1e-ad035fd7a79d",
   "metadata": {},
   "outputs": [
    {
     "data": {
      "image/png": "[encoded data removed]",
      "text/plain": [
       "<Figure size 720x432 with 1 Axes>"
      ]
     },
     "metadata": {
      "needs_background": "light"
     },
     "output_type": "display_data"
    }
   ],
   "source": [
    "fig, ax = plt.subplots(figsize = (10,6))\n",
    "\n",
    "for i in range(40):\n",
    "    ax.plot(lo_data[i].loc[:, 'time'], lo_data[i].loc[:, 'Lactose_external'], color = \"blue\")\n",
    "    ax.plot(lo_data[i].loc[[x for x in range(len(temp_data)) if x%100 == 0]]['time'], ode_solution[:, 4], color = \"red\", label = \"ODE\")\n"
   ]
  },
  {
   "cell_type": "code",
   "execution_count": 30,
   "id": "ed4a087d-9673-4dc7-9b32-a57d7412856e",
   "metadata": {},
   "outputs": [
    {
     "data": {
      "image/png": "[encoded data removed]",
      "text/plain": [
       "<Figure size 576x1080 with 5 Axes>"
      ]
     },
     "metadata": {
      "needs_background": "light"
     },
     "output_type": "display_data"
    }
   ],
   "source": [
    "fig, ax = plt.subplots(5,1, figsize = (8,15))\n",
    "\n",
    "for i in range(5):\n",
    "    ax[i].plot(lo_data[i].loc[:, 'time'], lo_data[i].loc[:, 'Lactose_external'])\n",
    "    ax[i].plot(lo_data[i].loc[:, 'time'], lo_data[i].loc[:, 'Lactose_internal'])\n",
    "    ax[i].plot(lo_data[i].loc[:, 'time'], lo_data[i].loc[:, 'Glucose_external'])\n",
    "    ax[i].plot(lo_data[i].loc[:, 'time'], lo_data[i].loc[:, 'Glucose_internal'])\n"
   ]
  },
  {
   "cell_type": "markdown",
   "id": "0b43cd20-a44d-4dee-b7ab-76ccea2c8ab6",
   "metadata": {
    "tags": []
   },
   "source": [
    "#### Create Model and Run Inference"
   ]
  },
  {
   "cell_type": "code",
   "execution_count": 63,
   "id": "cae1a6d0-00ce-4160-8684-04024cda3603",
   "metadata": {},
   "outputs": [],
   "source": [
    "lo_path = \"../data/Proppa_Models/LacOperon.proppa\"\n",
    "lo_model = proppa.load_model(lo_path)"
   ]
  },
  {
   "cell_type": "code",
   "execution_count": 100,
   "id": "32198188-f685-4125-a3a7-fdefe70f96ab",
   "metadata": {
    "collapsed": true,
    "jupyter": {
     "outputs_hidden": true
    },
    "tags": []
   },
   "outputs": [
    {
     "name": "stdout",
     "output_type": "stream",
     "text": [
      "Will take 10000 samples...\n",
      "Taken 500 samples\n",
      "Taken 1000 samples\n",
      "Taken 1500 samples\n",
      "Taken 2000 samples\n",
      "Taken 2500 samples\n",
      "Taken 3000 samples\n",
      "Taken 3500 samples\n",
      "Taken 4000 samples\n",
      "Taken 4500 samples\n",
      "Taken 5000 samples\n",
      "Taken 5500 samples\n",
      "Taken 6000 samples\n",
      "Taken 6500 samples\n",
      "Taken 7000 samples\n",
      "Taken 7500 samples\n",
      "Taken 8000 samples\n",
      "Taken 8500 samples\n",
      "Taken 9000 samples\n",
      "Taken 9500 samples\n",
      "Taken 10000 samples\n",
      "Sampling finished (10000 samples).\n",
      "Mean:     [5.21526786e-01 9.88535762e-01 1.05328405e+03 3.66996858e+02\n",
      " 6.55341814e+04 3.20040485e+02 7.77632136e+03 7.41622254e-01\n",
      " 8.41148975e+06 6.52049321e-01 6.87161115e-01 2.09254092e-01\n",
      " 1.59123391e+00 2.91325550e+06 1.46439930e+03 1.58049896e+00\n",
      " 9.70278960e-01 8.98223887e+03 3.94145226e+01 1.33461718e+05\n",
      " 3.77020270e-01]\n",
      "Variance: [1.70098908e-02 1.75746929e-04 9.80122434e+04 5.83407361e+03\n",
      " 8.67820972e+07 4.33083440e+03 2.03157356e+06 1.34683935e-01\n",
      " 8.37136587e+10 9.39335487e-05 3.09395624e-08 8.50871851e-05\n",
      " 1.86420191e+00 2.19569489e+09 5.57736830e+04 6.01914929e-01\n",
      " 2.65966666e-03 3.03725508e+05 6.73949210e-01 2.03825768e+08\n",
      " 4.16963394e-02]\n"
     ]
    }
   ],
   "source": [
    "n_samples = 10000  # how many samples to take from the posterior\n",
    "\n",
    "samples = lo_model.infer(n_samples)\n",
    "samples = np.array(samples)"
   ]
  },
  {
   "cell_type": "code",
   "execution_count": 94,
   "id": "8459e2bb-6468-4a01-a828-464f863b9929",
   "metadata": {},
   "outputs": [
    {
     "data": {
      "text/plain": [
       "array([0.42679055, 0.42679055, 0.44788776, ..., 0.54517332, 0.54517332,\n",
       "       0.54517332])"
      ]
     },
     "execution_count": 94,
     "metadata": {},
     "output_type": "execute_result"
    }
   ],
   "source": [
    "samples[:, 20]"
   ]
  },
  {
   "cell_type": "code",
   "execution_count": 102,
   "id": "f6988257-390b-42ec-96ef-d396cfdb3cfe",
   "metadata": {},
   "outputs": [
    {
     "data": {
      "image/png": "[encoded data removed]",
      "text/plain": [
       "<Figure size 720x576 with 20 Axes>"
      ]
     },
     "metadata": {
      "needs_background": "light"
     },
     "output_type": "display_data"
    }
   ],
   "source": [
    "fig, ax = plt.subplots(10,2, figsize = (10,8))\n",
    "\n",
    "## True rates\n",
    "true_rates = [0.156666666666667, 0.313333333333333, 1000, 300, 84310, 301, \n",
    "              9033, 1.18966666666667, 8800000, 0.00783333333333333, \n",
    "              0.000166666666666667, 0.003, 4, 2900000, 1506, 2, 0.05, \n",
    "              9033, 35.8, 156576, 0.35]\n",
    "\n",
    "## Inference Results\n",
    "group = 0\n",
    "for i in range(10):\n",
    "    ax[i,0].hist(samples[:, group], bins = 10)\n",
    "    ax[i,1].hist(samples[:, group+1], bins = 10)\n",
    "    \n",
    "    ax[i,0].axvline(true_rates[group], color = \"red\", linewidth=2)\n",
    "    ax[i,1].axvline(true_rates[group+1], color = \"red\", linewidth=2)\n",
    "    \n",
    "    group += 2\n",
    "\n",
    "# ax[0].set_title(\"Rate a\")\n",
    "# ax[1].set_title(\"Rate b\")\n",
    "# ax[2].set_title(\"Rate c\")"
   ]
  },
  {
   "cell_type": "markdown",
   "id": "0a58b388-edad-4553-a2e9-20159352f56b",
   "metadata": {},
   "source": [
    "### What about infering one variable?"
   ]
  },
  {
   "cell_type": "code",
   "execution_count": 2,
   "id": "d85dc459-6dc8-4795-aeb1-9f0ecb3fcd02",
   "metadata": {},
   "outputs": [],
   "source": [
    "lo_path = \"../data/Proppa_Models/LacOperon_one_var_infer.proppa\"\n",
    "lo_model = proppa.load_model(lo_path)"
   ]
  },
  {
   "cell_type": "code",
   "execution_count": 78,
   "id": "8610037e-b73a-4c86-8a60-a9e73586f44f",
   "metadata": {
    "collapsed": true,
    "jupyter": {
     "outputs_hidden": true
    },
    "tags": []
   },
   "outputs": [
    {
     "name": "stdout",
     "output_type": "stream",
     "text": [
      "Will take 10000 samples...\n"
     ]
    },
    {
     "name": "stderr",
     "output_type": "stream",
     "text": [
      "/mnt/d/northeastern/research/Causal_Inference/BioSim_Project/gillespiePPL/Jupyter_Notebooks/../../ProPPA/fluid_sampler.py:73: RuntimeWarning:\n",
      "\n",
      "overflow encountered in multiply\n",
      "\n"
     ]
    },
    {
     "name": "stdout",
     "output_type": "stream",
     "text": [
      "Taken 500 samples\n",
      "Taken 1000 samples\n",
      "Taken 1500 samples\n",
      "Taken 2000 samples\n",
      "Taken 2500 samples\n",
      "Taken 3000 samples\n",
      "Taken 3500 samples\n",
      "Taken 4000 samples\n",
      "Taken 4500 samples\n",
      "Taken 5000 samples\n",
      "Taken 5500 samples\n",
      "Taken 6000 samples\n",
      "Taken 6500 samples\n",
      "Taken 7000 samples\n",
      "Taken 7500 samples\n",
      "Taken 8000 samples\n",
      "Taken 8500 samples\n",
      "Taken 9000 samples\n",
      "Taken 9500 samples\n",
      "Taken 10000 samples\n",
      "Sampling finished (10000 samples).\n",
      "Mean:     [72.79647215]\n",
      "Variance: [0.07566167]\n"
     ]
    }
   ],
   "source": [
    "n_samples = 10000  # how many samples to take from the posterior\n",
    "\n",
    "samples = lo_model.infer(n_samples)\n",
    "samples = np.array(samples)"
   ]
  },
  {
   "cell_type": "code",
   "execution_count": 79,
   "id": "fc59362a-1607-4cd5-b7bf-472ccf48853b",
   "metadata": {},
   "outputs": [
    {
     "data": {
      "text/plain": [
       "<matplotlib.lines.Line2D at 0x7f13c789fc70>"
      ]
     },
     "execution_count": 79,
     "metadata": {},
     "output_type": "execute_result"
    },
    {
     "data": {
      "image/png": "[encoded data removed]",
      "text/plain": [
       "<Figure size 720x576 with 1 Axes>"
      ]
     },
     "metadata": {
      "needs_background": "light"
     },
     "output_type": "display_data"
    }
   ],
   "source": [
    "fig, ax = plt.subplots(figsize = (10,8))\n",
    "\n",
    "## True rates\n",
    "true_rates = [35.8, 0.313333333333333]\n",
    "\n",
    "## Inference Results\n",
    "group = 0\n",
    "\n",
    "ax.hist(samples[:, 0], bins = 100)\n",
    "#ax[1].hist(samples[:, 1], bins = 100)\n",
    "\n",
    "ax.axvline(true_rates[0], color = \"red\", linewidth=2)\n",
    "#ax[1].axvline(true_rates[1], color = \"red\", linewidth=2)\n"
   ]
  },
  {
   "cell_type": "markdown",
   "id": "829e6b76-3c80-4557-967d-2eedde9e8d23",
   "metadata": {},
   "source": [
    "### What does Fluid sampler do?"
   ]
  },
  {
   "cell_type": "code",
   "execution_count": 69,
   "id": "5f75d3c9-991e-4f08-8749-b09201886421",
   "metadata": {},
   "outputs": [],
   "source": [
    "## Grab solutions at rate == 35.0\n",
    "with open('../data/sols.pickle', 'rb') as handle:\n",
    "    ode_solution = pickle.load(handle)"
   ]
  },
  {
   "cell_type": "code",
   "execution_count": 47,
   "id": "21bb5eca-95d2-468c-a8cd-700bfb2a9356",
   "metadata": {},
   "outputs": [
    {
     "data": {
      "text/plain": [
       "[<matplotlib.lines.Line2D at 0x7f3ca917ea00>]"
      ]
     },
     "execution_count": 47,
     "metadata": {},
     "output_type": "execute_result"
    },
    {
     "data": {
      "image/png": "[encoded data removed]",
      "text/plain": [
       "<Figure size 576x720 with 2 Axes>"
      ]
     },
     "metadata": {
      "needs_background": "light"
     },
     "output_type": "display_data"
    }
   ],
   "source": [
    "plot_df = lo_data[0].loc[[x for x in range(len(temp_data)) if x%100 == 0], [\n",
    "        'time', 'rna_M', 'monomer_betaGal', 'protein_betaGal', 'Lactose_external', \n",
    "        'Lactose_internal', 'Glucose_external', 'Glucose_internal', 'protein_Lactose_Permease', \n",
    "        'dna_Lac_Operon', 'Biomass', 'Lactose_consumed']]\n",
    "\n",
    "fig, ax = plt.subplots(2,1, figsize = (8,10))\n",
    "\n",
    "ax[0].plot(plot_df.loc[:, 'time'], plot_df.loc[:, 'Lactose_external'], color = \"blue\", label = \"Lactose_external\")\n",
    "ax[0].plot(plot_df.loc[:, 'time'], plot_df.loc[:, 'Lactose_internal'], color = \"red\", label = \"Lactose_internal\")\n",
    "ax[0].plot(plot_df.loc[:, 'time'], plot_df.loc[:, 'Glucose_external'], color = \"orange\", label = \"Glucose_external\")\n",
    "ax[0].plot(plot_df.loc[:, 'time'], plot_df.loc[:, 'Glucose_internal'], color = \"green\", label = \"Glucose_internal\")\n",
    "\n",
    "ax[1].plot(plot_df.loc[:, 'time'], ode_solution[:, 4], color = \"blue\", label = \"Lactose_external\")\n",
    "ax[1].plot(plot_df.loc[:, 'time'], ode_solution[:, 5], color = \"red\", label = \"Lactose_internal\")\n",
    "ax[1].plot(plot_df.loc[:, 'time'], ode_solution[:, 1], color = \"orange\", label = \"Glucose_external\")\n",
    "ax[1].plot(plot_df.loc[:, 'time'], ode_solution[:, 2], color = \"green\", label = \"Glucose_internal\")"
   ]
  },
  {
   "cell_type": "markdown",
   "id": "b06bf2fb-7f68-4e78-9276-bb2fb0c29888",
   "metadata": {},
   "source": [
    "#### Pick Obs that mimics ode solution"
   ]
  },
  {
   "cell_type": "code",
   "execution_count": 59,
   "id": "8b7ccb28-955e-47e3-9d71-b2fc5c85640a",
   "metadata": {},
   "outputs": [
    {
     "data": {
      "text/plain": [
       "[<matplotlib.lines.Line2D at 0x7f3c9b97e0d0>]"
      ]
     },
     "execution_count": 59,
     "metadata": {},
     "output_type": "execute_result"
    },
    {
     "data": {
      "image/png": "[encoded data removed]",
      "text/plain": [
       "<Figure size 576x720 with 2 Axes>"
      ]
     },
     "metadata": {
      "needs_background": "light"
     },
     "output_type": "display_data"
    }
   ],
   "source": [
    "plot_df = lo_data[2].loc[[x for x in range(len(temp_data)) if x%100 == 0], [\n",
    "        'time', 'rna_M', 'monomer_betaGal', 'protein_betaGal', 'Lactose_external', \n",
    "        'Lactose_internal', 'Glucose_external', 'Glucose_internal', 'protein_Lactose_Permease', \n",
    "        'dna_Lac_Operon', 'Biomass', 'Lactose_consumed']]\n",
    "\n",
    "fig, ax = plt.subplots(2,1, figsize = (8,10))\n",
    "\n",
    "ax[0].plot(plot_df.loc[:, 'time'], plot_df.loc[:, 'Lactose_external'], color = \"blue\", label = \"Lactose_external\")\n",
    "ax[0].plot(plot_df.loc[:, 'time'], plot_df.loc[:, 'Lactose_internal'], color = \"red\", label = \"Lactose_internal\")\n",
    "ax[0].plot(plot_df.loc[:, 'time'], plot_df.loc[:, 'Glucose_external'], color = \"orange\", label = \"Glucose_external\")\n",
    "ax[0].plot(plot_df.loc[:, 'time'], plot_df.loc[:, 'Glucose_internal'], color = \"green\", label = \"Glucose_internal\")\n",
    "\n",
    "ax[1].plot(plot_df.loc[:, 'time'], ode_solution[:, 4], color = \"blue\", label = \"Lactose_external\")\n",
    "ax[1].plot(plot_df.loc[:, 'time'], ode_solution[:, 5], color = \"red\", label = \"Lactose_internal\")\n",
    "ax[1].plot(plot_df.loc[:, 'time'], ode_solution[:, 1], color = \"orange\", label = \"Glucose_external\")\n",
    "ax[1].plot(plot_df.loc[:, 'time'], ode_solution[:, 2], color = \"green\", label = \"Glucose_internal\")"
   ]
  },
  {
   "cell_type": "markdown",
   "id": "7a418805-42dd-4975-9cfd-1dadb161c317",
   "metadata": {},
   "source": [
    "### High Var Prior"
   ]
  },
  {
   "cell_type": "code",
   "execution_count": 2,
   "id": "704a3a11-f2ec-4e9b-ad18-b0a25deaa14f",
   "metadata": {},
   "outputs": [],
   "source": [
    "lo_path = \"../data/Proppa_Models/LacOperon_one_var_infer.proppa\"\n",
    "lo_model = proppa.load_model(lo_path)"
   ]
  },
  {
   "cell_type": "code",
   "execution_count": 3,
   "id": "5ba9d671-b6fd-48bc-b669-7d434ad8fc90",
   "metadata": {
    "tags": []
   },
   "outputs": [
    {
     "name": "stdout",
     "output_type": "stream",
     "text": [
      "Will take 500 samples...\n"
     ]
    },
    {
     "name": "stderr",
     "output_type": "stream",
     "text": [
      "/home/dkohler/anaconda3/lib/python3.9/site-packages/ProPPA/fluid_sampler.py:55: RuntimeWarning:\n",
      "\n",
      "overflow encountered in exp\n",
      "\n"
     ]
    },
    {
     "name": "stdout",
     "output_type": "stream",
     "text": [
      "Taken 500 samples\n",
      "Sampling finished (500 samples).\n",
      "Mean:     [18.54653582]\n",
      "Variance: [1.19306016]\n"
     ]
    }
   ],
   "source": [
    "n_samples = 500  # how many samples to take from the posterior\n",
    "\n",
    "samples = lo_model.infer(n_samples)\n",
    "samples = np.array(samples)"
   ]
  },
  {
   "cell_type": "code",
   "execution_count": 4,
   "id": "134bdb95-1bbc-4d98-b062-77fbd68a5a17",
   "metadata": {},
   "outputs": [
    {
     "data": {
      "text/plain": [
       "<matplotlib.lines.Line2D at 0x7fe97f95a160>"
      ]
     },
     "execution_count": 4,
     "metadata": {},
     "output_type": "execute_result"
    },
    {
     "data": {
      "image/png": "[encoded data removed]",
      "text/plain": [
       "<Figure size 720x576 with 1 Axes>"
      ]
     },
     "metadata": {
      "needs_background": "light"
     },
     "output_type": "display_data"
    }
   ],
   "source": [
    "fig, ax = plt.subplots(figsize = (10,8))\n",
    "\n",
    "## True rates\n",
    "true_rates = [35.8]\n",
    "\n",
    "## Inference Results\n",
    "group = 0\n",
    "\n",
    "ax.hist(samples[:, 0], bins = 100)\n",
    "ax.axvline(true_rates[0], color = \"red\", linewidth=2)"
   ]
  },
  {
   "cell_type": "markdown",
   "id": "a7068ad8-6085-4330-9ba2-01d34459c368",
   "metadata": {
    "tags": []
   },
   "source": [
    "### Low Var Prior"
   ]
  },
  {
   "cell_type": "code",
   "execution_count": 18,
   "id": "43cde751-889d-4026-b8a5-da1fd9634ea4",
   "metadata": {},
   "outputs": [
    {
     "name": "stdout",
     "output_type": "stream",
     "text": [
      "Will take 1000 samples...\n",
      "Taken 500 samples\n",
      "Taken 1000 samples\n",
      "Sampling finished (1000 samples).\n",
      "Mean:     [18.73931778]\n",
      "Variance: [1.04491255]\n"
     ]
    },
    {
     "data": {
      "text/plain": [
       "<matplotlib.lines.Line2D at 0x7fe96f51c280>"
      ]
     },
     "execution_count": 18,
     "metadata": {},
     "output_type": "execute_result"
    },
    {
     "data": {
      "image/png": "[encoded data removed]",
      "text/plain": [
       "<Figure size 720x576 with 1 Axes>"
      ]
     },
     "metadata": {
      "needs_background": "light"
     },
     "output_type": "display_data"
    }
   ],
   "source": [
    "lo_path = \"../data/Proppa_Models/LacOperon_one_var_infer.proppa\"\n",
    "lo_model = proppa.load_model(lo_path)\n",
    "n_samples = 1000  # how many samples to take from the posterior\n",
    "\n",
    "samples = lo_model.infer(n_samples)\n",
    "samples = np.array(samples)\n",
    "\n",
    "fig, ax = plt.subplots(figsize = (10,8))\n",
    "## True rates\n",
    "true_rates = [35.8]\n",
    "ax.hist(samples[:, 0], bins = 100)\n",
    "ax.axvline(true_rates[0], color = \"red\", linewidth=2)"
   ]
  },
  {
   "cell_type": "code",
   "execution_count": 19,
   "id": "be261d8a-3910-43e0-adc8-c77dcb27f1dc",
   "metadata": {},
   "outputs": [
    {
     "name": "stdout",
     "output_type": "stream",
     "text": [
      "Will take 1000 samples...\n",
      "Taken 500 samples\n",
      "Taken 1000 samples\n",
      "Sampling finished (1000 samples).\n",
      "Mean:     [18.42741869]\n",
      "Variance: [0.57213659]\n"
     ]
    },
    {
     "data": {
      "text/plain": [
       "<matplotlib.lines.Line2D at 0x7fe96ff5aca0>"
      ]
     },
     "execution_count": 19,
     "metadata": {},
     "output_type": "execute_result"
    },
    {
     "data": {
      "image/png": "[encoded data removed]",
      "text/plain": [
       "<Figure size 720x576 with 1 Axes>"
      ]
     },
     "metadata": {
      "needs_background": "light"
     },
     "output_type": "display_data"
    }
   ],
   "source": [
    "lo_path = \"../data/Proppa_Models/LacOperon_one_var_infer.proppa\"\n",
    "lo_model = proppa.load_model(lo_path)\n",
    "n_samples = 1000  # how many samples to take from the posterior\n",
    "\n",
    "samples = lo_model.infer(n_samples)\n",
    "samples = np.array(samples)\n",
    "\n",
    "fig, ax = plt.subplots(figsize = (10,8))\n",
    "## True rates\n",
    "true_rates = [35.8]\n",
    "ax.hist(samples[:, 0], bins = 100)\n",
    "ax.axvline(true_rates[0], color = \"red\", linewidth=2)"
   ]
  },
  {
   "cell_type": "code",
   "execution_count": 23,
   "id": "b61c1b82-e079-4d48-b4fb-203141d4feaa",
   "metadata": {},
   "outputs": [
    {
     "name": "stdout",
     "output_type": "stream",
     "text": [
      "Will take 1000 samples...\n",
      "Taken 500 samples\n",
      "Taken 1000 samples\n",
      "Sampling finished (1000 samples).\n",
      "Mean:     [18.48427554]\n",
      "Variance: [0.74495264]\n"
     ]
    },
    {
     "data": {
      "text/plain": [
       "<matplotlib.lines.Line2D at 0x7fe96f223be0>"
      ]
     },
     "execution_count": 23,
     "metadata": {},
     "output_type": "execute_result"
    },
    {
     "data": {
      "image/png": "[encoded data removed]",
      "text/plain": [
       "<Figure size 720x576 with 1 Axes>"
      ]
     },
     "metadata": {
      "needs_background": "light"
     },
     "output_type": "display_data"
    }
   ],
   "source": [
    "lo_path = \"../data/Proppa_Models/LacOperon_one_var_infer.proppa\"\n",
    "lo_model = proppa.load_model(lo_path)\n",
    "n_samples = 1000  # how many samples to take from the posterior\n",
    "\n",
    "samples = lo_model.infer(n_samples)\n",
    "samples = np.array(samples)\n",
    "\n",
    "fig, ax = plt.subplots(figsize = (10,8))\n",
    "## True rates\n",
    "true_rates = [35.8]\n",
    "ax.hist(samples[:, 0], bins = 100)\n",
    "ax.axvline(true_rates[0], color = \"red\", linewidth=2)"
   ]
  },
  {
   "cell_type": "code",
   "execution_count": 6,
   "id": "ceb8e967-c51a-41f0-b2ed-89f0f5a69b50",
   "metadata": {},
   "outputs": [
    {
     "name": "stdout",
     "output_type": "stream",
     "text": [
      "Will take 500 samples...\n",
      "Taken 500 samples\n",
      "Sampling finished (500 samples).\n",
      "Mean:     [18.34099108]\n",
      "Variance: [1.00655733]\n"
     ]
    },
    {
     "data": {
      "text/plain": [
       "<matplotlib.lines.Line2D at 0x7fe97f8d1190>"
      ]
     },
     "execution_count": 6,
     "metadata": {},
     "output_type": "execute_result"
    },
    {
     "data": {
      "image/png": "[encoded data removed]",
      "text/plain": [
       "<Figure size 720x576 with 1 Axes>"
      ]
     },
     "metadata": {
      "needs_background": "light"
     },
     "output_type": "display_data"
    }
   ],
   "source": [
    "lo_path = \"../data/Proppa_Models/LacOperon_one_var_infer.proppa\"\n",
    "lo_model = proppa.load_model(lo_path)\n",
    "n_samples = 500  # how many samples to take from the posterior\n",
    "\n",
    "samples = lo_model.infer(n_samples)\n",
    "samples = np.array(samples)\n",
    "\n",
    "fig, ax = plt.subplots(figsize = (10,8))\n",
    "## True rates\n",
    "true_rates = [35.8]\n",
    "ax.hist(samples[:, 0], bins = 100)\n",
    "ax.axvline(true_rates[0], color = \"red\", linewidth=2)"
   ]
  },
  {
   "cell_type": "code",
   "execution_count": 8,
   "id": "06c30667-fa61-44f0-bdcb-e350be2d43a4",
   "metadata": {},
   "outputs": [
    {
     "name": "stdout",
     "output_type": "stream",
     "text": [
      "Will take 500 samples...\n",
      "Taken 500 samples\n",
      "Sampling finished (500 samples).\n",
      "Mean:     [18.41682681]\n",
      "Variance: [0.99130638]\n"
     ]
    },
    {
     "data": {
      "text/plain": [
       "<matplotlib.lines.Line2D at 0x7fe9702d9310>"
      ]
     },
     "execution_count": 8,
     "metadata": {},
     "output_type": "execute_result"
    },
    {
     "data": {
      "image/png": "[encoded data removed]",
      "text/plain": [
       "<Figure size 720x576 with 1 Axes>"
      ]
     },
     "metadata": {
      "needs_background": "light"
     },
     "output_type": "display_data"
    }
   ],
   "source": [
    "lo_path = \"../data/Proppa_Models/LacOperon_one_var_infer.proppa\"\n",
    "lo_model = proppa.load_model(lo_path)\n",
    "n_samples = 500  # how many samples to take from the posterior\n",
    "\n",
    "samples = lo_model.infer(n_samples)\n",
    "samples = np.array(samples)\n",
    "\n",
    "fig, ax = plt.subplots(figsize = (10,8))\n",
    "## True rates\n",
    "true_rates = [35.8]\n",
    "ax.hist(samples[:, 0], bins = 100)\n",
    "ax.axvline(true_rates[0], color = \"red\", linewidth=2)"
   ]
  },
  {
   "cell_type": "code",
   "execution_count": 24,
   "id": "d869b84c-778c-4c7d-a098-3d4575a3d06f",
   "metadata": {
    "collapsed": true,
    "jupyter": {
     "outputs_hidden": true
    },
    "tags": []
   },
   "outputs": [
    {
     "data": {
      "text/plain": [
       "\u001b[0;31mSignature:\u001b[0m\n",
       "\u001b[0mopen\u001b[0m\u001b[0;34m(\u001b[0m\u001b[0;34m\u001b[0m\n",
       "\u001b[0;34m\u001b[0m    \u001b[0mfile\u001b[0m\u001b[0;34m,\u001b[0m\u001b[0;34m\u001b[0m\n",
       "\u001b[0;34m\u001b[0m    \u001b[0mmode\u001b[0m\u001b[0;34m=\u001b[0m\u001b[0;34m'r'\u001b[0m\u001b[0;34m,\u001b[0m\u001b[0;34m\u001b[0m\n",
       "\u001b[0;34m\u001b[0m    \u001b[0mbuffering\u001b[0m\u001b[0;34m=\u001b[0m\u001b[0;34m-\u001b[0m\u001b[0;36m1\u001b[0m\u001b[0;34m,\u001b[0m\u001b[0;34m\u001b[0m\n",
       "\u001b[0;34m\u001b[0m    \u001b[0mencoding\u001b[0m\u001b[0;34m=\u001b[0m\u001b[0;32mNone\u001b[0m\u001b[0;34m,\u001b[0m\u001b[0;34m\u001b[0m\n",
       "\u001b[0;34m\u001b[0m    \u001b[0merrors\u001b[0m\u001b[0;34m=\u001b[0m\u001b[0;32mNone\u001b[0m\u001b[0;34m,\u001b[0m\u001b[0;34m\u001b[0m\n",
       "\u001b[0;34m\u001b[0m    \u001b[0mnewline\u001b[0m\u001b[0;34m=\u001b[0m\u001b[0;32mNone\u001b[0m\u001b[0;34m,\u001b[0m\u001b[0;34m\u001b[0m\n",
       "\u001b[0;34m\u001b[0m    \u001b[0mclosefd\u001b[0m\u001b[0;34m=\u001b[0m\u001b[0;32mTrue\u001b[0m\u001b[0;34m,\u001b[0m\u001b[0;34m\u001b[0m\n",
       "\u001b[0;34m\u001b[0m    \u001b[0mopener\u001b[0m\u001b[0;34m=\u001b[0m\u001b[0;32mNone\u001b[0m\u001b[0;34m,\u001b[0m\u001b[0;34m\u001b[0m\n",
       "\u001b[0;34m\u001b[0m\u001b[0;34m)\u001b[0m\u001b[0;34m\u001b[0m\u001b[0;34m\u001b[0m\u001b[0m\n",
       "\u001b[0;31mDocstring:\u001b[0m\n",
       "Open file and return a stream.  Raise OSError upon failure.\n",
       "\n",
       "file is either a text or byte string giving the name (and the path\n",
       "if the file isn't in the current working directory) of the file to\n",
       "be opened or an integer file descriptor of the file to be\n",
       "wrapped. (If a file descriptor is given, it is closed when the\n",
       "returned I/O object is closed, unless closefd is set to False.)\n",
       "\n",
       "mode is an optional string that specifies the mode in which the file\n",
       "is opened. It defaults to 'r' which means open for reading in text\n",
       "mode.  Other common values are 'w' for writing (truncating the file if\n",
       "it already exists), 'x' for creating and writing to a new file, and\n",
       "'a' for appending (which on some Unix systems, means that all writes\n",
       "append to the end of the file regardless of the current seek position).\n",
       "In text mode, if encoding is not specified the encoding used is platform\n",
       "dependent: locale.getpreferredencoding(False) is called to get the\n",
       "current locale encoding. (For reading and writing raw bytes use binary\n",
       "mode and leave encoding unspecified.) The available modes are:\n",
       "\n",
       "========= ===============================================================\n",
       "Character Meaning\n",
       "--------- ---------------------------------------------------------------\n",
       "'r'       open for reading (default)\n",
       "'w'       open for writing, truncating the file first\n",
       "'x'       create a new file and open it for writing\n",
       "'a'       open for writing, appending to the end of the file if it exists\n",
       "'b'       binary mode\n",
       "'t'       text mode (default)\n",
       "'+'       open a disk file for updating (reading and writing)\n",
       "'U'       universal newline mode (deprecated)\n",
       "========= ===============================================================\n",
       "\n",
       "The default mode is 'rt' (open for reading text). For binary random\n",
       "access, the mode 'w+b' opens and truncates the file to 0 bytes, while\n",
       "'r+b' opens the file without truncation. The 'x' mode implies 'w' and\n",
       "raises an `FileExistsError` if the file already exists.\n",
       "\n",
       "Python distinguishes between files opened in binary and text modes,\n",
       "even when the underlying operating system doesn't. Files opened in\n",
       "binary mode (appending 'b' to the mode argument) return contents as\n",
       "bytes objects without any decoding. In text mode (the default, or when\n",
       "'t' is appended to the mode argument), the contents of the file are\n",
       "returned as strings, the bytes having been first decoded using a\n",
       "platform-dependent encoding or using the specified encoding if given.\n",
       "\n",
       "'U' mode is deprecated and will raise an exception in future versions\n",
       "of Python.  It has no effect in Python 3.  Use newline to control\n",
       "universal newlines mode.\n",
       "\n",
       "buffering is an optional integer used to set the buffering policy.\n",
       "Pass 0 to switch buffering off (only allowed in binary mode), 1 to select\n",
       "line buffering (only usable in text mode), and an integer > 1 to indicate\n",
       "the size of a fixed-size chunk buffer.  When no buffering argument is\n",
       "given, the default buffering policy works as follows:\n",
       "\n",
       "* Binary files are buffered in fixed-size chunks; the size of the buffer\n",
       "  is chosen using a heuristic trying to determine the underlying device's\n",
       "  \"block size\" and falling back on `io.DEFAULT_BUFFER_SIZE`.\n",
       "  On many systems, the buffer will typically be 4096 or 8192 bytes long.\n",
       "\n",
       "* \"Interactive\" text files (files for which isatty() returns True)\n",
       "  use line buffering.  Other text files use the policy described above\n",
       "  for binary files.\n",
       "\n",
       "encoding is the name of the encoding used to decode or encode the\n",
       "file. This should only be used in text mode. The default encoding is\n",
       "platform dependent, but any encoding supported by Python can be\n",
       "passed.  See the codecs module for the list of supported encodings.\n",
       "\n",
       "errors is an optional string that specifies how encoding errors are to\n",
       "be handled---this argument should not be used in binary mode. Pass\n",
       "'strict' to raise a ValueError exception if there is an encoding error\n",
       "(the default of None has the same effect), or pass 'ignore' to ignore\n",
       "errors. (Note that ignoring encoding errors can lead to data loss.)\n",
       "See the documentation for codecs.register or run 'help(codecs.Codec)'\n",
       "for a list of the permitted encoding error strings.\n",
       "\n",
       "newline controls how universal newlines works (it only applies to text\n",
       "mode). It can be None, '', '\\n', '\\r', and '\\r\\n'.  It works as\n",
       "follows:\n",
       "\n",
       "* On input, if newline is None, universal newlines mode is\n",
       "  enabled. Lines in the input can end in '\\n', '\\r', or '\\r\\n', and\n",
       "  these are translated into '\\n' before being returned to the\n",
       "  caller. If it is '', universal newline mode is enabled, but line\n",
       "  endings are returned to the caller untranslated. If it has any of\n",
       "  the other legal values, input lines are only terminated by the given\n",
       "  string, and the line ending is returned to the caller untranslated.\n",
       "\n",
       "* On output, if newline is None, any '\\n' characters written are\n",
       "  translated to the system default line separator, os.linesep. If\n",
       "  newline is '' or '\\n', no translation takes place. If newline is any\n",
       "  of the other legal values, any '\\n' characters written are translated\n",
       "  to the given string.\n",
       "\n",
       "If closefd is False, the underlying file descriptor will be kept open\n",
       "when the file is closed. This does not work when a file name is given\n",
       "and must be True in that case.\n",
       "\n",
       "A custom opener can be used by passing a callable as *opener*. The\n",
       "underlying file descriptor for the file object is then obtained by\n",
       "calling *opener* with (*file*, *flags*). *opener* must return an open\n",
       "file descriptor (passing os.open as *opener* results in functionality\n",
       "similar to passing None).\n",
       "\n",
       "open() returns a file object whose type depends on the mode, and\n",
       "through which the standard file operations such as reading and writing\n",
       "are performed. When open() is used to open a file in a text mode ('w',\n",
       "'r', 'wt', 'rt', etc.), it returns a TextIOWrapper. When used to open\n",
       "a file in a binary mode, the returned class varies: in read binary\n",
       "mode, it returns a BufferedReader; in write binary and append binary\n",
       "modes, it returns a BufferedWriter, and in read/write mode, it returns\n",
       "a BufferedRandom.\n",
       "\n",
       "It is also possible to use a string or bytearray as a file for both\n",
       "reading and writing. For strings StringIO can be used like a file\n",
       "opened in a text mode, and for bytes a BytesIO can be used like a file\n",
       "opened in a binary mode.\n",
       "\u001b[0;31mType:\u001b[0m      builtin_function_or_method\n"
      ]
     },
     "metadata": {},
     "output_type": "display_data"
    }
   ],
   "source": [
    "?open"
   ]
  },
  {
   "cell_type": "code",
   "execution_count": 41,
   "id": "539415f2-7785-4a14-af0e-2d5ba5f3a122",
   "metadata": {},
   "outputs": [
    {
     "name": "stdout",
     "output_type": "stream",
     "text": [
      "\n"
     ]
    }
   ],
   "source": [
    "with open(\"../data/Proppa_Models/config_lo_one_var_infer\", \"r\") as f:\n",
    "    print(f.read())"
   ]
  },
  {
   "cell_type": "markdown",
   "id": "494d5b97-60dd-4ea8-a1a0-8ba0238a5bb3",
   "metadata": {},
   "source": [
    "## Test how noise affects results"
   ]
  },
  {
   "cell_type": "code",
   "execution_count": 80,
   "id": "ea066d79-32a8-4982-aada-301bd8ea21fc",
   "metadata": {},
   "outputs": [],
   "source": [
    "def train_model(noise, samples = 2000):\n",
    "    \n",
    "    lo_path = \"../data/Proppa_Models/LacOperon_one_var_infer.proppa\"\n",
    "    lo_model = proppa.load_model(lo_path)\n",
    "    n_samples = samples  # how many samples to take from the posterior\n",
    "\n",
    "    samples = lo_model.infer(n_samples)\n",
    "    samples = np.array(samples)\n",
    "    \n",
    "    return samples"
   ]
  },
  {
   "cell_type": "code",
   "execution_count": 82,
   "id": "eac1e838-765b-4e28-b744-d0a2a006baeb",
   "metadata": {},
   "outputs": [
    {
     "name": "stdout",
     "output_type": "stream",
     "text": [
      "Will take 2000 samples...\n",
      "Taken 500 samples\n",
      "Taken 1000 samples\n",
      "Taken 1500 samples\n",
      "Taken 2000 samples\n",
      "Sampling finished (2000 samples).\n",
      "Mean:     [18.57873878]\n",
      "Variance: [0.4327594]\n"
     ]
    }
   ],
   "source": [
    "noise_1 = train_model(1)"
   ]
  },
  {
   "cell_type": "code",
   "execution_count": 86,
   "id": "9cac02f8-27e4-4e91-89a2-b6bed52e762d",
   "metadata": {},
   "outputs": [
    {
     "name": "stdout",
     "output_type": "stream",
     "text": [
      "Will take 2000 samples...\n",
      "Taken 500 samples\n",
      "Taken 1000 samples\n",
      "Taken 1500 samples\n",
      "Taken 2000 samples\n",
      "Sampling finished (2000 samples).\n",
      "Mean:     [18.53504821]\n",
      "Variance: [0.89354777]\n"
     ]
    }
   ],
   "source": [
    "noise_100000000000 = train_model(10000000000000000)"
   ]
  },
  {
   "cell_type": "code",
   "execution_count": 88,
   "id": "33d57167-b2f7-4226-9d3a-1e2169b260bb",
   "metadata": {},
   "outputs": [
    {
     "name": "stdout",
     "output_type": "stream",
     "text": [
      "Will take 2000 samples...\n",
      "Taken 500 samples\n",
      "Taken 1000 samples\n",
      "Taken 1500 samples\n",
      "Taken 2000 samples\n",
      "Sampling finished (2000 samples).\n",
      "Mean:     [34.90589376]\n",
      "Variance: [1.03003966]\n"
     ]
    }
   ],
   "source": [
    "noise_10000000000000000 = train_model(10000000000000000)"
   ]
  },
  {
   "cell_type": "code",
   "execution_count": 84,
   "id": "46e024c2-648d-49f7-95e5-c233c8f65211",
   "metadata": {},
   "outputs": [
    {
     "data": {
      "text/plain": [
       "(array([16.45226817, 18.22940799, 18.53076949, 18.92315022, 27.61452082,\n",
       "        32.62096158]),\n",
       " array([  23,   60, 1663,  248,    4,    2]))"
      ]
     },
     "execution_count": 84,
     "metadata": {},
     "output_type": "execute_result"
    }
   ],
   "source": [
    "np.unique(noise_1, return_counts=True)"
   ]
  },
  {
   "cell_type": "code",
   "execution_count": 85,
   "id": "da5e2822-297e-4682-9db0-1df49d4d07ca",
   "metadata": {},
   "outputs": [
    {
     "data": {
      "text/plain": [
       "(array([18.46093768, 18.58458171, 18.65935407, 24.38834537]),\n",
       " array([1711,  169,  103,   17]))"
      ]
     },
     "execution_count": 85,
     "metadata": {},
     "output_type": "execute_result"
    }
   ],
   "source": [
    "np.unique(noise_1000000, return_counts=True)"
   ]
  },
  {
   "cell_type": "code",
   "execution_count": 87,
   "id": "e747968b-f590-4e95-a69a-012cd7d16688",
   "metadata": {},
   "outputs": [
    {
     "data": {
      "text/plain": [
       "(array([11.35304962, 13.45089562, 17.98777725, 18.05615897, 18.49758318,\n",
       "        18.50500235, 18.51182958, 18.52878081, 18.58967418, 18.6079252 ,\n",
       "        18.75593968, 18.79565466, 19.11990497, 21.57115196, 23.63647338,\n",
       "        34.31041021]),\n",
       " array([  7,   1,  56, 137, 278, 822,  90,   9,  36, 292, 187,  71,   1,\n",
       "          7,   1,   5]))"
      ]
     },
     "execution_count": 87,
     "metadata": {},
     "output_type": "execute_result"
    }
   ],
   "source": [
    "np.unique(noise_100000000000, return_counts=True)"
   ]
  },
  {
   "cell_type": "code",
   "execution_count": 89,
   "id": "04c9906f-86cd-424b-af76-6c0d98e4090f",
   "metadata": {},
   "outputs": [
    {
     "data": {
      "text/plain": [
       "(array([32.0087869 , 32.25746452, 32.68057877, 32.93214567, 32.98060755,\n",
       "        33.06047643, 33.14188696, 33.28766676, 33.82286288, 33.83900923,\n",
       "        33.85097898, 33.85222716, 33.87461023, 33.87620818, 33.88057381,\n",
       "        33.88594758, 33.92647914, 33.93617645, 33.96365691, 34.00916826,\n",
       "        34.03107516, 34.05374773, 34.07037276, 34.08674943, 34.12051041,\n",
       "        34.16992723, 34.20427767, 34.2076456 , 34.22032631, 34.22071343,\n",
       "        34.27991407, 34.33677367, 34.35653887, 34.37136604, 34.39750051,\n",
       "        34.45264148, 34.46834202, 34.54579597, 34.60653279, 34.62472376,\n",
       "        34.62968467, 34.63993782, 34.71295022, 34.71570563, 34.72499683,\n",
       "        34.72534613, 34.73586254, 34.78020972, 34.8162253 , 34.81796213,\n",
       "        34.86810396, 34.98338364, 34.99817893, 35.02371688, 35.07904932,\n",
       "        35.20932373, 35.23584579, 35.26911113, 35.28825217, 35.37665515,\n",
       "        35.42170902, 35.443599  , 35.45423699, 35.45936132, 35.48628856,\n",
       "        35.52830099, 35.6143295 , 35.68696182, 35.69292896, 35.83947316,\n",
       "        35.85141459, 35.85283397, 35.86403282, 35.88316093, 35.94938733,\n",
       "        35.98786641, 36.02073979, 36.12055669, 36.20135814, 36.24607628,\n",
       "        36.56934823, 36.57268042, 36.60093272, 36.73586318, 36.82543782,\n",
       "        36.83008363, 36.87937179, 37.11423659, 37.16693475, 37.33226903]),\n",
       " array([32,  3,  2,  8, 12, 23,  6, 14, 55, 16,  5, 33, 19,  2, 30, 14,  3,\n",
       "         4, 39, 23, 61,  1,  5, 42, 29, 11, 45,  5, 17,  8, 31, 53, 36, 35,\n",
       "         5, 24,  4, 16, 37, 50, 33, 24, 23,  4,  3, 12, 13, 46, 14, 35, 69,\n",
       "        32,  6, 36, 21, 23,  3, 55, 20, 10, 77, 51, 10, 17, 12,  3,  7, 36,\n",
       "        18,  6,  6, 16,  9, 23, 62,  6,  6, 16, 19, 64,  2, 63, 49, 18,  2,\n",
       "        13, 15, 18,  2, 14]))"
      ]
     },
     "execution_count": 89,
     "metadata": {},
     "output_type": "execute_result"
    }
   ],
   "source": [
    "np.unique(noise_10000000000000000, return_counts=True)"
   ]
  },
  {
   "cell_type": "code",
   "execution_count": 94,
   "id": "6c3292d2-38d5-46a2-b2ec-605468ab3870",
   "metadata": {},
   "outputs": [
    {
     "name": "stdout",
     "output_type": "stream",
     "text": [
      "Will take 2000 samples...\n"
     ]
    },
    {
     "name": "stderr",
     "output_type": "stream",
     "text": [
      "/home/dkohler/anaconda3/lib/python3.9/site-packages/ProPPA/fluid_sampler.py:54: RuntimeWarning:\n",
      "\n",
      "invalid value encountered in double_scalars\n",
      "\n"
     ]
    },
    {
     "name": "stdout",
     "output_type": "stream",
     "text": [
      "Taken 500 samples\n"
     ]
    },
    {
     "name": "stderr",
     "output_type": "stream",
     "text": [
      "/home/dkohler/anaconda3/lib/python3.9/site-packages/ProPPA/fluid_sampler.py:54: RuntimeWarning:\n",
      "\n",
      "overflow encountered in double_scalars\n",
      "\n"
     ]
    },
    {
     "name": "stdout",
     "output_type": "stream",
     "text": [
      "Taken 1000 samples\n",
      "Taken 1500 samples\n",
      "Taken 2000 samples\n",
      "Sampling finished (2000 samples).\n",
      "Mean:     [52.94144668]\n",
      "Variance: [0.85674846]\n"
     ]
    }
   ],
   "source": [
    "real_test = train_model(12)"
   ]
  },
  {
   "cell_type": "code",
   "execution_count": null,
   "id": "72ec1488-1595-4749-b0be-6a548e69fced",
   "metadata": {},
   "outputs": [],
   "source": []
  }
 ],
 "metadata": {
  "kernelspec": {
   "display_name": "Python 3 (ipykernel)",
   "language": "python",
   "name": "python3"
  },
  "language_info": {
   "codemirror_mode": {
    "name": "ipython",
    "version": 3
   },
   "file_extension": ".py",
   "mimetype": "text/x-python",
   "name": "python",
   "nbconvert_exporter": "python",
   "pygments_lexer": "ipython3",
   "version": "3.9.7"
  }
 },
 "nbformat": 4,
 "nbformat_minor": 5
}
