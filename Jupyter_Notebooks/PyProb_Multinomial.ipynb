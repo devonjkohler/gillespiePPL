{
 "cells": [
  {
   "cell_type": "markdown",
   "id": "0281bda9-aade-4fc8-b680-098849ddc02d",
   "metadata": {},
   "source": [
    "## Gillespie-like Inference in PyProb"
   ]
  },
  {
   "cell_type": "code",
   "execution_count": 1,
   "id": "6b26359c-c82b-4f5c-98c8-a70765eda68b",
   "metadata": {},
   "outputs": [
    {
     "data": {
      "text/plain": [
       "<Figure size 432x288 with 0 Axes>"
      ]
     },
     "metadata": {},
     "output_type": "display_data"
    }
   ],
   "source": [
    "import pyprob\n",
    "from pyprob import Model\n",
    "from pyprob.distributions import Categorical, Normal, Uniform\n",
    "\n",
    "import torch\n",
    "import numpy as np\n",
    "import math\n",
    "import matplotlib.pyplot as plt\n",
    "%matplotlib inline\n",
    "fig = plt.figure();"
   ]
  },
  {
   "cell_type": "markdown",
   "id": "04ebd329-fa20-493e-96fc-d6f7d62d1384",
   "metadata": {},
   "source": [
    "Define a multinomial distribution to mimic one step of gillespie. We are interested in doing inference on a rate parameter used in gillespie. The idea is we have a mispecified rate, we can fix this by collecting data and conditioning on it to correct the parameter.\n",
    "\n",
    "$$X_1, ..., X_n = \\text{Multinomial}(\\Theta)$$\n",
    "\n",
    "$$\\Sigma_{i=1}^m \\Theta_i = 1$$\n",
    "\n",
    "$$\\Theta_i = r_i * \\text{Protein}_i$$\n",
    "\n",
    "But we need the rate $r_i$ to be a random variable so that we can do inference.\n",
    "\n",
    "Convert $r_i => R_i$ where $R_i \\sim N(r_j, \\sigma^2)$\n",
    "\n",
    "Now we can do inference on this random variable. Specify our baysian update rules as follows (Assuming three levels):\n",
    "\n",
    "$$P(R|D) = P(D|R)P(R)$$\n",
    "\n",
    "$$P(D|R) = Multinomial(\\Theta_1, \\Theta_2, f(R))$$\n",
    "\n",
    "$$P(R) = N(r_j, \\sigma^2)$$"
   ]
  },
  {
   "cell_type": "markdown",
   "id": "f869f34f-5a32-40cb-965a-9853bb5092f4",
   "metadata": {},
   "source": [
    "### Define Model"
   ]
  },
  {
   "cell_type": "code",
   "execution_count": 9,
   "id": "f2336d99-9844-40d1-8356-a2947be1e849",
   "metadata": {},
   "outputs": [
    {
     "data": {
      "text/plain": [
       "tensor(2)"
      ]
     },
     "execution_count": 9,
     "metadata": {},
     "output_type": "execute_result"
    }
   ],
   "source": [
    "pyprob.sample(Categorical([1,2,3]))"
   ]
  },
  {
   "cell_type": "code",
   "execution_count": 28,
   "id": "6c3aa320-a1bb-450b-b074-9b2a10fee8d0",
   "metadata": {},
   "outputs": [],
   "source": [
    "class CategroicalUnknownP3(Model):\n",
    "    def __init__(self):\n",
    "        super().__init__(name='Gaussian with unknown mean') # give the model a name\n",
    "        \n",
    "        ## Rate parameters we are not interested in\n",
    "        self.p1_prior = 25\n",
    "        self.p2_prior = 25\n",
    "        \n",
    "        ## rate parameter of interest\n",
    "        self.p3_prior = 50\n",
    "        self.p3_std_prior = 5\n",
    "        \n",
    "        ## Needed for update rule\n",
    "        #self.protein = 1.5\n",
    "\n",
    "    def forward(self): # Needed to specifcy how the generative model is run forward\n",
    "        # sample the (latent) variable to be inferred:\n",
    "        prior = pyprob.sample(Normal(self.p3_prior, self.p3_std_prior)) # NOTE: sample -> denotes latent variables\n",
    "        #prior = prior * self.protein\n",
    "        \n",
    "        # define the likelihood\n",
    "        likelihood = Categorical([self.p1_prior, self.p2_prior, prior])\n",
    "\n",
    "        # Lets add two observed variables\n",
    "        # -> the 'name' argument is used later to assignment values:\n",
    "        pyprob.observe(likelihood, name='obs0') # NOTE: observe -> denotes observable variables\n",
    "        pyprob.observe(likelihood, name='obs1')\n",
    "\n",
    "        # return the latent quantity of interest\n",
    "        return prior\n",
    "    \n",
    "model = CategroicalUnknownP3()"
   ]
  },
  {
   "cell_type": "code",
   "execution_count": 30,
   "id": "25fedbe1-12fd-42f2-ac5b-eb947f272ec2",
   "metadata": {},
   "outputs": [],
   "source": [
    "def plot_function(min_val, max_val, func, *args, **kwargs):\n",
    "        x = np.linspace(min_val,max_val,int((max_val-min_val)*50))\n",
    "        plt.plot(x, np.vectorize(func)(x), *args, **kwargs)\n",
    "\n",
    "def get_dist_pdf(dist):\n",
    "    return lambda x: math.exp(dist.log_prob(x))\n",
    "        \n",
    "class CorrectDistributions:\n",
    "    def __init__(self, model):\n",
    "        self.prior_mean = model.p3_prior\n",
    "        self.prior_std = model.p3_std_prior\n",
    "        #self.protein = model.protein\n",
    "        self.prior_dist = Normal(self.prior_mean, self.prior_std)#* self.protein\n",
    "        \n",
    "    @property\n",
    "    def observed_list(self):\n",
    "        return self.__observed_list\n",
    "\n",
    "    @observed_list.setter\n",
    "    def observed_list(self, new_observed_list):\n",
    "        self.__observed_list = new_observed_list\n",
    "    #     self.construct_correct_posterior()\n",
    "\n",
    "    def prior_pdf(self, model, x):\n",
    "        p = Normal(model.prior_mean,model.prior_stdd)* self.protein\n",
    "        return math.exp(p.log_prob(x))\n",
    "\n",
    "    def plot_posterior(self, min_val, max_val):\n",
    "        if not hasattr(self, 'posterior_dist'):\n",
    "            raise AttributeError('observed values are not set yet, and posterior is not defined.')\n",
    "        plot_function(min_val, max_val, get_dist_pdf(self.posterior_dist), label='correct posterior', color='orange')\n",
    "\n",
    "\n",
    "    def plot_prior(self, min_val, max_val):\n",
    "        plot_function(min_val, max_val, get_dist_pdf(self.prior_dist), label='prior', color='green')\n",
    "\n",
    "correct_dists = CorrectDistributions(model)"
   ]
  },
  {
   "cell_type": "markdown",
   "id": "bb1a1f6c-4a06-47d2-820c-21f698ebbed2",
   "metadata": {},
   "source": [
    "### Observe Prior"
   ]
  },
  {
   "cell_type": "code",
   "execution_count": 31,
   "id": "ee2a5085-8952-447b-9397-871df11d6444",
   "metadata": {},
   "outputs": [
    {
     "name": "stdout",
     "output_type": "stream",
     "text": [
      "Time spent  | Time remain.| Progress             | Trace     | ESS    | Traces/sec\n",
      "0d:00:00:00 | 0d:00:00:00 | #################### | 1000/1000 | 1000.00 | 2,247.00       \n"
     ]
    }
   ],
   "source": [
    "prior = model.prior_results(num_traces=1000)"
   ]
  },
  {
   "cell_type": "code",
   "execution_count": 32,
   "id": "fd7a2a70-fe8a-436e-9ed0-b2171f89f4d9",
   "metadata": {},
   "outputs": [
    {
     "data": {
      "image/png": "[encoded data removed]",
      "text/plain": [
       "<Figure size 720x360 with 1 Axes>"
      ]
     },
     "metadata": {
      "needs_background": "light"
     },
     "output_type": "display_data"
    }
   ],
   "source": [
    "prior.plot_histogram(show=False, alpha=0.75, label='emprical prior')\n",
    "correct_dists.plot_prior(min(prior.values_numpy()),max(prior.values_numpy()))\n",
    "plt.legend();\n",
    "plt.show()"
   ]
  },
  {
   "cell_type": "markdown",
   "id": "2e7d473f-b52e-43f0-94a2-edbfdb9b3944",
   "metadata": {},
   "source": [
    "### Run inference using pyprob's NN learning"
   ]
  },
  {
   "cell_type": "code",
   "execution_count": 34,
   "id": "5f64cf9a-b0ca-4403-b0a6-909fbc69edae",
   "metadata": {},
   "outputs": [
    {
     "name": "stdout",
     "output_type": "stream",
     "text": [
      "Creating new inference network...\n",
      "Observable obs0: reshape not specified, using shape torch.Size([]).\n",
      "Observable obs0: using embedding dim torch.Size([32]).\n",
      "Observable obs0: observe embedding not specified, using the default FEEDFORWARD.\n",
      "Observable obs0: embedding depth not specified, using the default 2.\n",
      "Observable obs1: reshape not specified, using shape torch.Size([]).\n",
      "Observable obs1: using embedding dim torch.Size([32]).\n",
      "Observable obs1: observe embedding not specified, using the default FEEDFORWARD.\n",
      "Observable obs1: embedding depth not specified, using the default 2.\n",
      "Observe embedding dimension: 64\n",
      "Train. time | Epoch| Trace     | Init. loss| Min. loss | Curr. loss| T.since min | Learn.rate| Traces/sec\n",
      "New layers, address: 16__forward__prior__Normal__1, distribution: Normal\n",
      "Total addresses: 1, distribution types: 1, parameters: 1,643,583\n",
      "0d:00:00:22 | 1    | 19,776    | +3.02e+00 | +2.81e+00 | \u001b[32m+2.96e+00\u001b[0m | 0d:00:00:14 | +1.00e-03 | 907.9                                 \n",
      "Stop condition reached. num_traces: 20000\n",
      "0d:00:00:23 | 1    | 20,032    | +3.02e+00 | +2.81e+00 | \u001b[32m+2.82e+00\u001b[0m | 0d:00:00:14 | +1.00e-03 | 835.0                                 \n"
     ]
    }
   ],
   "source": [
    "model.learn_inference_network(num_traces=20000,\n",
    "                              observe_embeddings={'obs0' : {'dim' : 32},\n",
    "                                                  'obs1': {'dim' : 32}},\n",
    "                              inference_network=pyprob.InferenceNetwork.LSTM)"
   ]
  },
  {
   "cell_type": "code",
   "execution_count": 47,
   "id": "9362c158-fe1f-4125-870e-06d127b41c42",
   "metadata": {},
   "outputs": [
    {
     "name": "stdout",
     "output_type": "stream",
     "text": [
      "Time spent  | Time remain.| Progress             | Trace     | ESS    | Traces/sec\n",
      "0d:00:00:06 | 0d:00:00:00 | #################### | 2000/2000 | 1983.72 | 305.94       \n"
     ]
    }
   ],
   "source": [
    "# sample from posterior (2000 samples)\n",
    "posterior_nn = model.posterior_results(\n",
    "                             num_traces=2000, # the number of samples estimating the posterior\n",
    "                             inference_engine=pyprob.InferenceEngine.IMPORTANCE_SAMPLING_WITH_INFERENCE_NETWORK, # specify which inference engine to use\n",
    "                             observe={'obs0': torch.tensor(2),\n",
    "                                      'obs1': torch.tensor(2)} # assign values to the observed values\n",
    "                             )"
   ]
  },
  {
   "cell_type": "code",
   "execution_count": 48,
   "id": "c42de722-dccf-43d4-9ec1-e5d1ba8a8aa5",
   "metadata": {},
   "outputs": [
    {
     "data": {
      "image/png": "[encoded data removed]",
      "text/plain": [
       "<Figure size 720x360 with 1 Axes>"
      ]
     },
     "metadata": {
      "needs_background": "light"
     },
     "output_type": "display_data"
    }
   ],
   "source": [
    "#posterior_unweighted = posterior_nn.unweighted()\n",
    "posterior_nn.plot_histogram(show=False, bins=50, alpha=0.75, label='empirical proposal')\n",
    "\n",
    "# correct_dists.plot_posterior(min(posterior.values_numpy()),\n",
    "#                              max(posterior.values_numpy()))\n",
    "plt.legend();"
   ]
  },
  {
   "cell_type": "code",
   "execution_count": 49,
   "id": "b10f2c44-16e2-461c-97ee-6e6696ebbd73",
   "metadata": {},
   "outputs": [
    {
     "data": {
      "text/plain": [
       "tensor(50.3917)"
      ]
     },
     "execution_count": 49,
     "metadata": {},
     "output_type": "execute_result"
    }
   ],
   "source": [
    "posterior_nn.mean"
   ]
  },
  {
   "cell_type": "markdown",
   "id": "8599c283-6f1f-4b9a-adb6-d10d8945c767",
   "metadata": {},
   "source": [
    "### Inference with Random Walk MH"
   ]
  },
  {
   "cell_type": "code",
   "execution_count": 56,
   "id": "e36534c2-af8a-412d-a583-2e9b02f1632b",
   "metadata": {},
   "outputs": [
    {
     "name": "stdout",
     "output_type": "stream",
     "text": [
      "Time spent  | Time remain.| Progress             | Trace     | Accepted|Smp reuse| Traces/sec\n",
      "0d:00:00:01 | 0d:00:00:00 | #################### | 2000/2000 |  83.85% |   0.00% | 1,074.56       \n"
     ]
    }
   ],
   "source": [
    "# sample from posterior (2000 samples)\n",
    "posterior = model.posterior_results(\n",
    "                             num_traces=2000, # the number of samples estimating the posterior\n",
    "                             inference_engine=pyprob.InferenceEngine.RANDOM_WALK_METROPOLIS_HASTINGS, # specify which inference engine to use\n",
    "                             observe={'obs0': torch.tensor(2),\n",
    "                                      'obs1': torch.tensor(2)\n",
    "                                     } # assign values to the observed values\n",
    "                             )"
   ]
  },
  {
   "cell_type": "code",
   "execution_count": 57,
   "id": "9cb871c1-01f7-4916-9f0a-8906fa12c28a",
   "metadata": {},
   "outputs": [
    {
     "data": {
      "image/png": "[encoded data removed]",
      "text/plain": [
       "<Figure size 720x360 with 1 Axes>"
      ]
     },
     "metadata": {
      "needs_background": "light"
     },
     "output_type": "display_data"
    }
   ],
   "source": [
    "#posterior_unweighted = posterior_nn.unweighted()\n",
    "posterior.plot_histogram(show=False, bins=50, alpha=0.75, label='empirical proposal')\n",
    "\n",
    "# correct_dists.plot_posterior(min(posterior.values_numpy()),\n",
    "#                              max(posterior.values_numpy()))\n",
    "plt.legend();"
   ]
  },
  {
   "cell_type": "code",
   "execution_count": 58,
   "id": "09be3e6e-3183-4329-9791-d3df54421e95",
   "metadata": {},
   "outputs": [
    {
     "data": {
      "text/plain": [
       "tensor(50.4528)"
      ]
     },
     "execution_count": 58,
     "metadata": {},
     "output_type": "execute_result"
    }
   ],
   "source": [
    "posterior.mean"
   ]
  },
  {
   "cell_type": "code",
   "execution_count": null,
   "id": "9f5d33d1-c17f-4b84-a995-a2bce658fc5a",
   "metadata": {},
   "outputs": [],
   "source": []
  }
 ],
 "metadata": {
  "kernelspec": {
   "display_name": "Python 3 (ipykernel)",
   "language": "python",
   "name": "python3"
  },
  "language_info": {
   "codemirror_mode": {
    "name": "ipython",
    "version": 3
   },
   "file_extension": ".py",
   "mimetype": "text/x-python",
   "name": "python",
   "nbconvert_exporter": "python",
   "pygments_lexer": "ipython3",
   "version": "3.9.7"
  }
 },
 "nbformat": 4,
 "nbformat_minor": 5
}
