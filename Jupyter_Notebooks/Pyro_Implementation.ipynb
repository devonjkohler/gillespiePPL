{
 "cells": [
  {
   "cell_type": "markdown",
   "id": "38876678-0bf4-4078-b1a8-28214ebbfd8e",
   "metadata": {},
   "source": [
    "# Gillespie Implementation using Pyro"
   ]
  },
  {
   "cell_type": "code",
   "execution_count": 200,
   "id": "7a82c2f5-6e07-45a0-8726-ee4e48b12eb9",
   "metadata": {},
   "outputs": [],
   "source": [
    "import pyro\n",
    "import torch\n",
    "\n",
    "import numpy as np\n",
    "import pandas as pd\n",
    "import pickle\n",
    "\n",
    "import matplotlib.pyplot as plt\n",
    "%matplotlib inline"
   ]
  },
  {
   "cell_type": "markdown",
   "id": "56e8ebe3-f810-4689-93fe-45bfa40289ea",
   "metadata": {},
   "source": [
    "## Lotka-Volterra Application"
   ]
  },
  {
   "cell_type": "markdown",
   "id": "b98b1fa8-ea3a-437a-aa3a-185949ad7282",
   "metadata": {},
   "source": [
    "### Unvectorized Loop Model (used for data gen)"
   ]
  },
  {
   "cell_type": "markdown",
   "id": "736fc466-a1f0-4def-95a8-f8cd5e180df2",
   "metadata": {},
   "source": [
    "True Rates:"
   ]
  },
  {
   "cell_type": "code",
   "execution_count": 12,
   "id": "77bcc2cc-2918-49ec-944f-5caf09f8e839",
   "metadata": {},
   "outputs": [],
   "source": [
    "## Define Model\n",
    "def lotka_volterra_sampling(data):\n",
    "    \n",
    "    collect = list()\n",
    "    \n",
    "    num_sequences, max_length, data_dim = data.shape\n",
    "    \n",
    "    ## Define true rates\n",
    "    rates = torch.tensor([.9, .015, .35])\n",
    "    \n",
    "    # print(rates)\n",
    "    ## Loop over sequences\n",
    "    sample_plate = pyro.plate(\"sample\", data_dim, dim=-1)\n",
    "    test_plate = pyro.plate(\"test\")\n",
    "    for i in pyro.plate(\"sequences\", num_sequences):\n",
    "        \n",
    "        s_start = torch.tensor([50., 100.])\n",
    "        \n",
    "        temp_list = list()\n",
    "        \n",
    "        for t in pyro.markov(torch.arange(max_length)):\n",
    "            \n",
    "            ## Calculate reaction rates\n",
    "            reaction1 = pyro.deterministic(\"reaction1_{}_{}\".format(t, i),\n",
    "                                           rates[0] * s_start[0])\n",
    "            reaction2 = pyro.deterministic(\"reaction2_{}_{}\".format(t, i),\n",
    "                                           rates[1] * s_start[0] * s_start[1])\n",
    "            reaction3 = pyro.deterministic(\"reaction3_{}_{}\".format(t, i),\n",
    "                                           rates[2] * s_start[1])\n",
    "\n",
    "            rates_matrix = torch.stack([reaction1, reaction2, reaction3], axis = 0)\n",
    "\n",
    "            # Sample\n",
    "            x = pyro.sample(\n",
    "                        \"x_{}_{}\".format(t, i),\n",
    "                        pyro.distributions.Categorical(rates_matrix),\n",
    "                        #infer={\"enumerate\": \"parallel\"},\n",
    "                    )\n",
    "\n",
    "            ## Update tensor\n",
    "            transition = torch.tensor([[ 1,  0],\n",
    "                              [-1,  1],\n",
    "                              [ 0, -1]])            \n",
    "            update = transition[x]\n",
    "            # print(update)\n",
    "            with sample_plate:\n",
    "                ## Observed sample\n",
    "                sample = pyro.sample(\n",
    "                    \"y_{}_{}\".format(t, i),\n",
    "                    pyro.distributions.Normal(s_start + update, .01),\n",
    "                    # obs=data[i, t]\n",
    "                )\n",
    "                temp_list.append(sample)\n",
    "\n",
    "            ## True update\n",
    "            s_start = pyro.deterministic(\"d_{}_{}\".format(t, i), \n",
    "                                         torch.maximum(torch.tensor([1., 1.]), s_start + update), \n",
    "                                         event_dim=1)\n",
    "\n",
    "        collect.append(torch.stack(temp_list))\n",
    "    return collect\n"
   ]
  },
  {
   "cell_type": "code",
   "execution_count": 14,
   "id": "7b3db1f9-6868-4a06-86ce-3c6694acf22a",
   "metadata": {},
   "outputs": [
    {
     "data": {
      "text/plain": [
       "tensor([[ 51.0129,  99.9986],\n",
       "        [ 51.9984,  99.9938],\n",
       "        [ 53.0036,  99.9993],\n",
       "        [ 52.0002, 101.0032],\n",
       "        [ 51.9847, 100.0074],\n",
       "        [ 53.0007, 100.0146],\n",
       "        [ 53.9928, 100.0045],\n",
       "        [ 55.0139, 100.0025],\n",
       "        [ 55.9980,  99.9946],\n",
       "        [ 56.0040,  99.0063]])"
      ]
     },
     "execution_count": 14,
     "metadata": {},
     "output_type": "execute_result"
    }
   ],
   "source": [
    "lv_data_temp = lotka_volterra_sampling(torch.zeros(100, 100, 2))\n",
    "lv_data = torch.stack(lv_data_temp)\n",
    "lv_data[0, :10]"
   ]
  },
  {
   "cell_type": "code",
   "execution_count": 259,
   "id": "5a4a194c-40c7-45ef-8425-fac2b7797dbf",
   "metadata": {},
   "outputs": [],
   "source": [
    "with open('../data/lv_data.pickle', 'wb') as handle:\n",
    "    pickle.dump(temp, handle, protocol=pickle.HIGHEST_PROTOCOL)"
   ]
  },
  {
   "cell_type": "markdown",
   "id": "ba72091e-23e9-42cd-b444-36edfefec2a8",
   "metadata": {},
   "source": [
    "#### Confirm data makes sense"
   ]
  },
  {
   "cell_type": "code",
   "execution_count": 15,
   "id": "b89789f5-3c4f-4891-9282-d4302dc2e015",
   "metadata": {},
   "outputs": [
    {
     "data": {
      "text/plain": [
       "<matplotlib.legend.Legend at 0x7f86f106e190>"
      ]
     },
     "execution_count": 15,
     "metadata": {},
     "output_type": "execute_result"
    },
    {
     "data": {
      "image/png": "[encoded data removed]",
      "text/plain": [
       "<Figure size 432x288 with 1 Axes>"
      ]
     },
     "metadata": {
      "needs_background": "light"
     },
     "output_type": "display_data"
    }
   ],
   "source": [
    "fig, ax = plt.subplots()\n",
    "\n",
    "ax.plot(np.arange(lv_data.shape[1]), lv_data[1, :, 0], color = \"blue\", label = \"prey\")\n",
    "ax.plot(np.arange(lv_data.shape[1]), lv_data[1, :, 1], color = \"red\", label = \"pred\")\n",
    "plt.legend()"
   ]
  },
  {
   "cell_type": "code",
   "execution_count": 16,
   "id": "7b416554-7e5c-4c45-b70a-50eb10074fe2",
   "metadata": {},
   "outputs": [
    {
     "data": {
      "text/plain": [
       "<matplotlib.legend.Legend at 0x7f86f02bbf10>"
      ]
     },
     "execution_count": 16,
     "metadata": {},
     "output_type": "execute_result"
    },
    {
     "data": {
      "image/png": "[encoded data removed]",
      "text/plain": [
       "<Figure size 432x288 with 1 Axes>"
      ]
     },
     "metadata": {
      "needs_background": "light"
     },
     "output_type": "display_data"
    }
   ],
   "source": [
    "lv_data_temp = lotka_volterra_sampling(torch.zeros(1, 10000, 2))\n",
    "lv_data_long = torch.stack(lv_data_temp)\n",
    "lv_data_long[0, :10]\n",
    "\n",
    "fig, ax = plt.subplots()\n",
    "\n",
    "ax.plot(np.arange(lv_data_long.shape[1]), lv_data_long[0, :, 0], color = \"blue\", label = \"prey\")\n",
    "ax.plot(np.arange(lv_data_long.shape[1]), lv_data_long[0, :, 1], color = \"red\", label = \"pred\")\n",
    "\n",
    "plt.legend()"
   ]
  },
  {
   "cell_type": "markdown",
   "id": "2ac75c40-4d9b-4ad9-8b3c-53562614ad76",
   "metadata": {},
   "source": [
    "### Vectorized Model"
   ]
  },
  {
   "cell_type": "markdown",
   "id": "cc3077fd-12ef-4e56-b0a8-5d929de69dde",
   "metadata": {},
   "source": [
    "True Rates: [ .9, .015, .35 ]\n",
    "\n",
    "Priors: [ .9, .05, .4 ]"
   ]
  },
  {
   "cell_type": "code",
   "execution_count": null,
   "id": "2fb46d66-0453-46d4-8abb-fdede3488a7a",
   "metadata": {},
   "outputs": [],
   "source": [
    "def lotka_volterra_1(data):\n",
    "    \n",
    "    num_sequences, max_length, data_dim = data.shape\n",
    "\n",
    "    ## Rate priors (to infer)\n",
    "    rates = pyro.sample(\n",
    "        \"rates\",\n",
    "        pyro.distributions.LogNormal(torch.tensor([-.105, -2.996, -.916]), .1).to_event(1),#[-.15, -6., -1.5][-.15, -4., -1.]\n",
    "    )\n",
    "\n",
    "    ## Starting points\n",
    "    sample_plate = pyro.plate(\"sample\", data_dim, dim=-1)\n",
    "    with pyro.plate(\"sequences\", num_sequences, dim = -2) as batch:\n",
    "\n",
    "        s_start = torch.tensor([[[50., 100.]]])\n",
    "        for t in pyro.markov(range(max_length)):\n",
    "\n",
    "            x = pyro.sample(\n",
    "                    \"x_{}\".format(t),\n",
    "                    pyro.distributions.Categorical(torch.stack([rates[0] * pyro.ops.indexing.Vindex(s_start)[..., :, 0], \n",
    "                                                                rates[1] * pyro.ops.indexing.Vindex(s_start)[..., :, 0] * pyro.ops.indexing.Vindex(s_start)[..., :, 1], \n",
    "                                                                rates[2] * pyro.ops.indexing.Vindex(s_start)[..., :, 1]],\n",
    "                                                               axis = 1).squeeze(-1)),\n",
    "            )\n",
    "\n",
    "            transition = torch.tensor([[ 1,  0],\n",
    "                  [-1,  1],\n",
    "                  [ 0, -1]])\n",
    "            update = transition[x]\n",
    "\n",
    "            with sample_plate:\n",
    "\n",
    "                pyro.sample(\n",
    "                    \"y_{}\".format(t),\n",
    "                    pyro.distributions.Normal(s_start + update, .01),\n",
    "                    obs=data[batch, t]\n",
    "                )\n",
    "            ## Update s_start for next step\n",
    "            s_start = pyro.deterministic(\"d_{}\".format(t), s_start + update)\n"
   ]
  },
  {
   "cell_type": "code",
   "execution_count": null,
   "id": "9b2b9a6d-5435-411a-9af7-ac30204ce150",
   "metadata": {},
   "outputs": [],
   "source": [
    "## Define Model\n",
    "def lotka_volterra_guide(data):\n",
    "    \n",
    "    num_sequences, max_length, data_dim = data.shape\n",
    "\n",
    "    ## Rate priors (to infer)\n",
    "    rates_0 = pyro.param(\"rates_0\", torch.tensor([.9,.05,.4]),\n",
    "                             constraint=torch.distributions.constraints.positive)\n",
    "    rates = pyro.sample(\n",
    "        \"rates\",\n",
    "        pyro.distributions.Delta(rates_0).to_event(1),\n",
    "    )\n",
    "\n",
    "    ## Starting points\n",
    "    sample_plate = pyro.plate(\"sample\", data_dim, dim=-1)\n",
    "    with pyro.plate(\"sequences\", num_sequences, dim = -2) as batch:\n",
    "\n",
    "        s_start = torch.tensor([[[50., 100.]]])\n",
    "        for t in pyro.markov(range(max_length)):\n",
    "\n",
    "            #with sample_plate:\n",
    "            x = pyro.sample(\n",
    "                    \"x_{}\".format(t),\n",
    "                    pyro.distributions.Categorical(torch.stack([rates[0] * pyro.ops.indexing.Vindex(s_start)[..., :, 0], \n",
    "                                                                rates[1] * pyro.ops.indexing.Vindex(\n",
    "                                                                    s_start)[..., :, 0] * pyro.ops.indexing.Vindex(s_start)[..., :, 1], \n",
    "                                                                rates[2] * pyro.ops.indexing.Vindex(s_start)[..., :, 1]],\n",
    "                                                               axis = 1).squeeze(-1)),\n",
    "                    infer={\"enumerate\": \"sequential\"},\n",
    "            )"
   ]
  },
  {
   "cell_type": "markdown",
   "id": "2233fcb4-f844-47a1-be77-2d47f95e12d6",
   "metadata": {},
   "source": [
    "### Confirm that model compiles"
   ]
  },
  {
   "cell_type": "code",
   "execution_count": null,
   "id": "a9e0c6f6-3c4d-4e71-a5b5-0f9e225467cd",
   "metadata": {},
   "outputs": [],
   "source": [
    "lv_data_temp = lotka_volterra_sampling(torch.zeros(10, 5, 2))\n",
    "lv_data = torch.stack(lv_data_temp)"
   ]
  },
  {
   "cell_type": "code",
   "execution_count": null,
   "id": "9af8ba52-796d-4b3f-8c7a-a1f06ed71fe4",
   "metadata": {},
   "outputs": [],
   "source": [
    "pyro.clear_param_store()\n",
    "elbo = pyro.infer.TraceEnum_ELBO(max_plate_nesting=3)#\n",
    "elbo.loss(lotka_volterra_1, lotka_volterra_guide, temp) ## Ensure model compiles"
   ]
  },
  {
   "cell_type": "markdown",
   "id": "e2ec0014-d13e-46bd-98ee-0b46bb7f350e",
   "metadata": {},
   "source": [
    "## Infer Rates"
   ]
  },
  {
   "cell_type": "markdown",
   "id": "0d9a87c8-fa89-4676-849c-a094202c6859",
   "metadata": {},
   "source": [
    "### Inference"
   ]
  },
  {
   "cell_type": "code",
   "execution_count": 32,
   "id": "c0050035-1566-4171-ae44-852d636b3198",
   "metadata": {},
   "outputs": [],
   "source": [
    "def infer_rates(model, guide, learning_rate=.001, num_steps = 1000, beta0=.9, beta1=.99):\n",
    "    \n",
    "    pyro.clear_param_store()\n",
    "    \n",
    "    ## Setup Model Params\n",
    "    elbo = pyro.infer.TraceEnum_ELBO(max_plate_nesting=1)\n",
    "    optim = pyro.optim.Adam({\"lr\": learning_rate, \"betas\" : (beta0, beta1)})\n",
    "    svi = pyro.infer.SVI(model, guide, optim, elbo)\n",
    "    \n",
    "    rates_tracker = list()\n",
    "    loss_tracker = list()\n",
    "    for step in range(num_steps):\n",
    "        svi.step(observations)\n",
    "        loss_tracker.append(svi.evaluate_loss(observations))\n",
    "        for key, value in pyro.get_param_store().items():\n",
    "            rates_tracker.append(value)\n",
    "\n",
    "    \n",
    "    rates_tracker = np.array([x.detach().numpy() for x in rates_tracker])\n",
    "    return rates_tracker, loss_tracker\n"
   ]
  },
  {
   "cell_type": "code",
   "execution_count": 43,
   "id": "09d8f460-108a-4677-820d-275820571258",
   "metadata": {},
   "outputs": [],
   "source": [
    "lv_data_temp = lotka_volterra_sampling(torch.zeros(10, 5, 2))\n",
    "lv_data = torch.stack(lv_data_temp)"
   ]
  },
  {
   "cell_type": "code",
   "execution_count": null,
   "id": "b97cbe0d-dcc2-44ef-97b8-4b53585c4729",
   "metadata": {
    "collapsed": true,
    "jupyter": {
     "outputs_hidden": true
    },
    "tags": []
   },
   "outputs": [
    {
     "name": "stderr",
     "output_type": "stream",
     "text": [
      "/home/dkohler/anaconda3/lib/python3.9/site-packages/pyro/util.py:303: UserWarning: Found vars in model but not guide: {'x_0_64', 'x_71_58', 'x_12_43', 'x_51_52', 'x_67_63', 'x_71_38', 'x_93_42', 'x_97_61', 'x_40_52', 'x_8_52', 'x_79_53', 'x_50_59', 'x_88_29', 'x_1_60', 'x_95_61', 'x_84_73', 'x_84_41', 'x_13_71', 'x_29_30', 'x_10_57', 'x_77_32', 'x_53_86', 'x_47_24', 'x_99_40', 'x_0_4', 'x_49_38', 'x_65_11', 'x_53_16', 'x_50_20', 'x_71_59', 'x_51_17', 'x_55_69', 'x_98_53', 'x_92_26', 'x_19_87', 'x_2_51', 'x_63_66', 'x_76_18', 'x_5_59', 'x_23_42', 'x_93_71', 'x_75_76', 'x_40_39', 'x_86_66', 'x_52_8', 'x_30_49', 'x_21_73', 'x_93_66', 'x_38_72', 'x_68_59', 'x_75_62', 'x_71_49', 'x_20_1', 'x_39_83', 'x_66_17', 'x_86_55', 'x_17_6', 'x_54_96', 'x_94_86', 'x_30_26', 'x_1_99', 'x_79_14', 'x_51_92', 'x_66_5', 'x_49_71', 'x_49_81', 'x_96_35', 'x_87_49', 'x_56_73', 'x_14_61', 'x_12_21', 'x_95_45', 'x_2_80', 'x_57_23', 'x_4_66', 'x_40_91', 'x_36_8', 'x_10_4', 'x_31_80', 'x_5_52', 'x_79_89', 'x_36_13', 'x_33_68', 'x_61_22', 'x_95_70', 'x_31_15', 'x_25_78', 'x_17_71', 'x_86_36', 'x_83_68', 'x_96_18', 'x_79_84', 'x_47_44', 'x_25_51', 'x_31_23', 'x_76_81', 'x_93_89', 'x_65_2', 'x_18_33', 'x_56_86', 'x_4_3', 'x_80_4', 'x_68_6', 'x_86_81', 'x_78_99', 'x_22_7', 'x_89_84', 'x_68_17', 'x_9_86', 'x_57_77', 'x_82_61', 'x_73_58', 'x_68_15', 'x_79_50', 'x_38_36', 'x_33_27', 'x_4_11', 'x_38_98', 'x_32_30', 'x_57_3', 'x_87_22', 'x_28_49', 'x_92_83', 'x_3_37', 'x_20_46', 'x_91_29', 'x_43_4', 'x_70_13', 'x_41_60', 'x_45_21', 'x_93_58', 'x_13_49', 'x_85_17', 'x_20_89', 'x_11_26', 'x_90_52', 'x_99_51', 'x_45_33', 'x_63_77', 'x_80_52', 'x_56_22', 'x_66_31', 'x_34_5', 'x_17_1', 'x_42_65', 'x_38_5', 'x_20_65', 'x_31_7', 'x_25_14', 'x_79_1', 'x_65_12', 'x_40_28', 'x_62_62', 'x_46_63', 'x_90_10', 'x_76_27', 'x_55_50', 'x_91_75', 'x_62_37', 'x_42_18', 'x_13_53', 'x_2_55', 'x_76_97', 'x_38_10', 'x_10_67', 'x_31_96', 'x_4_28', 'x_87_73', 'x_66_7', 'x_47_34', 'x_91_95', 'x_6_60', 'x_3_85', 'x_84_85', 'x_75_23', 'x_94_36', 'x_31_58', 'x_64_86', 'x_12_93', 'x_40_88', 'x_20_42', 'x_93_55', 'x_96_34', 'x_65_73', 'x_82_32', 'x_55_43', 'x_33_56', 'x_10_30', 'x_78_32', 'x_96_70', 'x_60_96', 'x_24_3', 'x_59_68', 'x_44_56', 'x_58_69', 'x_63_74', 'x_29_51', 'x_43_56', 'x_79_0', 'x_27_45', 'x_5_72', 'x_73_78', 'x_19_81', 'x_74_82', 'x_89_63', 'x_69_6', 'x_81_64', 'x_65_64', 'x_75_21', 'x_27_39', 'x_99_81', 'x_18_35', 'x_76_99', 'x_17_79', 'x_20_30', 'x_30_31', 'x_92_42', 'x_27_46', 'x_75_80', 'x_0_17', 'x_62_55', 'x_3_90', 'x_9_3', 'x_26_33', 'x_47_60', 'x_33_89', 'x_5_48', 'x_89_89', 'x_21_96', 'x_80_16', 'x_41_51', 'x_12_25', 'x_43_46', 'x_68_71', 'x_32_90', 'x_67_46', 'x_47_64', 'x_41_99', 'x_47_14', 'x_28_22', 'x_43_3', 'x_26_56', 'x_9_6', 'x_3_17', 'x_49_47', 'x_51_80', 'x_24_17', 'x_37_7', 'x_54_51', 'x_60_63', 'x_19_7', 'x_39_77', 'x_98_87', 'x_7_5', 'x_2_35', 'x_38_82', 'x_42_76', 'x_40_81', 'x_2_96', 'x_33_98', 'x_71_47', 'x_30_9', 'x_79_49', 'x_96_19', 'x_31_10', 'x_62_66', 'x_44_99', 'x_27_80', 'x_89_7', 'x_36_66', 'x_75_13', 'x_41_31', 'x_92_89', 'x_66_3', 'x_22_30', 'x_24_81', 'x_66_98', 'x_31_18', 'x_73_92', 'x_74_22', 'x_51_12', 'x_12_27', 'x_87_64', 'x_57_39', 'x_54_4', 'x_14_59', 'x_30_6', 'x_41_66', 'x_0_41', 'x_59_88', 'x_84_35', 'x_98_21', 'x_31_43', 'x_91_15', 'x_83_73', 'x_35_32', 'x_91_52', 'x_62_82', 'x_36_91', 'x_11_57', 'x_95_94', 'x_42_68', 'x_31_42', 'x_6_39', 'x_31_20', 'x_51_64', 'x_10_38', 'x_90_87', 'x_75_97', 'x_3_22', 'x_65_96', 'x_2_49', 'x_60_50', 'x_52_48', 'x_52_11', 'x_66_10', 'x_9_59', 'x_48_95', 'x_41_0', 'x_54_70', 'x_23_32', 'x_75_5', 'x_50_6', 'x_78_18', 'x_93_92', 'x_67_92', 'x_63_82', 'x_58_75', 'x_22_34', 'x_89_82', 'x_91_27', 'x_3_5', 'x_12_26', 'x_62_65', 'x_20_88', 'x_5_96', 'x_87_5', 'x_26_41', 'x_66_59', 'x_33_19', 'x_27_83', 'x_36_67', 'x_39_87', 'x_74_86', 'x_26_54', 'x_33_47', 'x_87_52', 'x_0_0', 'x_3_29', 'x_81_8', 'x_26_46', 'x_64_54', 'x_14_98', 'x_42_39', 'x_86_50', 'x_22_71', 'x_64_51', 'x_41_64', 'x_12_74', 'x_16_32', 'x_65_97', 'x_21_23', 'x_47_54', 'x_37_14', 'x_82_36', 'x_41_28', 'x_83_49', 'x_14_44', 'x_45_84', 'x_43_1', 'x_19_54', 'x_90_39', 'x_7_27', 'x_26_62', 'x_90_77', 'x_68_70', 'x_75_90', 'x_84_10', 'x_38_39', 'x_35_70', 'x_34_45', 'x_1_0', 'x_75_49', 'x_54_66', 'x_38_88', 'x_69_56', 'x_18_24', 'x_1_94', 'x_29_28', 'x_39_44', 'x_85_61', 'x_69_71', 'x_23_18', 'x_85_33', 'x_80_23', 'x_30_56', 'x_94_93', 'x_25_82', 'x_69_43', 'x_7_31', 'x_58_83', 'x_86_41', 'x_57_48', 'x_54_75', 'x_16_41', 'x_62_33', 'x_27_94', 'x_44_8', 'x_33_96', 'x_33_81', 'x_36_41', 'x_88_13', 'x_42_62', 'x_82_64', 'x_23_73', 'x_72_83', 'x_38_7', 'x_48_53', 'x_14_64', 'x_41_2', 'x_77_79', 'x_41_5', 'x_89_53', 'x_5_55', 'x_75_0', 'x_33_28', 'x_60_11', 'x_98_50', 'x_84_74', 'x_43_77', 'x_87_66', 'x_67_3', 'x_61_81', 'x_38_96', 'x_12_23', 'x_33_9', 'x_84_90', 'x_70_76', 'x_15_63', 'x_50_32', 'x_5_18', 'x_65_15', 'x_16_56', 'x_2_87', 'x_69_3', 'x_37_58', 'x_57_51', 'x_7_0', 'x_3_46', 'x_99_99', 'x_95_54', 'x_99_13', 'x_28_44', 'x_13_1', 'x_17_21', 'x_17_74', 'x_5_12', 'x_43_21', 'x_49_76', 'x_54_5', 'x_47_1', 'x_63_68', 'x_83_65', 'x_34_12', 'x_17_17', 'x_97_1', 'x_6_63', 'x_60_90', 'x_44_75', 'x_20_28', 'x_34_48', 'x_14_47', 'x_77_90', 'x_96_96', 'x_57_32', 'x_42_26', 'x_91_37', 'x_90_51', 'x_81_36', 'x_72_8', 'x_65_7', 'x_80_40', 'x_26_29', 'x_59_23', 'x_68_49', 'x_25_48', 'x_78_37', 'x_40_7', 'x_47_88', 'x_72_26', 'x_66_42', 'x_18_52', 'x_60_91', 'x_28_97', 'x_81_48', 'x_10_73', 'x_3_27', 'x_88_55', 'x_40_47', 'x_57_20', 'x_2_32', 'x_8_19', 'x_68_44', 'x_1_7', 'x_80_97', 'x_45_92', 'x_95_25', 'x_27_57', 'x_21_6', 'x_78_5', 'x_88_82', 'x_90_82', 'x_47_49', 'x_97_32', 'x_44_49', 'x_48_34', 'x_17_10', 'x_70_91', 'x_38_92', 'x_62_96', 'x_85_34', 'x_48_62', 'x_30_96', 'x_19_30', 'x_29_49', 'x_90_65', 'x_25_8', 'x_7_48', 'x_12_39', 'x_4_80', 'x_59_82', 'x_46_95', 'x_82_54', 'x_38_27', 'x_80_73', 'x_56_58', 'x_21_55', 'x_73_44', 'x_59_99', 'x_18_18', 'x_2_24', 'x_78_40', 'x_52_91', 'x_94_6', 'x_39_26', 'x_28_8', 'x_87_74', 'x_96_16', 'x_75_99', 'x_56_55', 'x_86_82', 'x_50_99', 'x_54_24', 'x_52_0', 'x_75_72', 'x_91_79', 'x_86_26', 'x_47_67', 'x_11_68', 'x_7_79', 'x_73_88', 'x_1_6', 'x_5_41', 'x_17_72', 'x_54_94', 'x_75_32', 'x_6_55', 'x_32_56', 'x_17_98', 'x_35_54', 'x_87_17', 'x_70_90', 'x_47_69', 'x_55_30', 'x_98_25', 'x_17_5', 'x_93_16', 'x_22_72', 'x_62_44', 'x_62_45', 'x_7_81', 'x_0_2', 'x_53_30', 'x_84_6', 'x_88_1', 'x_96_12', 'x_81_1', 'x_90_3', 'x_72_50', 'x_31_53', 'x_86_91', 'x_3_55', 'x_67_73', 'x_81_78', 'x_52_34', 'x_65_61', 'x_44_6', 'x_3_52', 'x_30_50', 'x_30_58', 'x_23_51', 'x_6_59', 'x_15_31', 'x_1_68', 'x_71_90', 'x_3_28', 'x_93_38', 'x_67_48', 'x_7_9', 'x_16_81', 'x_76_21', 'x_67_76', 'x_31_61', 'x_23_95', 'x_14_18', 'x_36_30', 'x_33_46', 'x_18_30', 'x_97_43', 'x_90_42', 'x_20_49', 'x_58_6', 'x_11_55', 'x_62_91', 'x_78_14', 'x_99_46', 'x_26_99', 'x_49_19', 'x_70_99', 'x_31_0', 'x_17_84', 'x_63_97', 'x_99_38', 'x_26_94', 'x_84_50', 'x_55_27', 'x_4_70', 'x_28_27', 'x_92_11', 'x_67_10', 'x_56_84', 'x_80_0', 'x_0_6', 'x_6_31', 'x_57_89', 'x_84_26', 'x_41_70', 'x_6_17', 'x_69_24', 'x_75_27', 'x_48_75', 'x_75_2', 'x_28_34', 'x_38_97', 'x_64_40', 'x_95_64', 'x_20_99', 'x_42_53', 'x_22_73', 'x_74_85', 'x_51_5', 'x_10_14', 'x_28_37', 'x_41_29', 'x_16_29', 'x_10_78', 'x_62_16', 'x_14_7', 'x_98_26', 'x_25_18', 'x_93_27', 'x_70_14', 'x_21_56', 'x_38_61', 'x_39_84', 'x_50_83', 'x_0_27', 'x_28_28', 'x_56_46', 'x_0_87', 'x_65_67', 'x_59_47', 'x_22_16', 'x_83_75', 'x_80_87', 'x_78_49', 'x_80_3', 'x_68_84', 'x_7_23', 'x_7_85', 'x_53_49', 'x_73_30', 'x_69_30', 'x_63_64', 'x_81_43', 'x_12_36', 'x_98_51', 'x_28_41', 'x_71_52', 'x_33_92', 'x_27_82', 'x_85_24', 'x_1_69', 'x_89_38', 'x_29_87', 'x_11_45', 'x_14_99', 'x_15_33', 'x_84_72', 'x_23_35', 'x_13_75', 'x_31_94', 'x_92_92', 'x_27_81', 'x_6_80', 'x_29_24', 'x_72_34', 'x_81_62', 'x_47_19', 'x_20_35', 'x_63_51', 'x_84_20', 'x_35_46', 'x_59_11', 'x_62_69', 'x_86_23', 'x_33_5', 'x_25_19', 'x_53_79', 'x_56_87', 'x_73_85', 'x_35_60', 'x_36_42', 'x_71_41', 'x_56_35', 'x_56_5', 'x_39_27', 'x_74_67', 'x_88_63', 'x_36_94', 'x_4_96', 'x_36_80', 'x_97_17', 'x_42_46', 'x_40_63', 'x_10_34', 'x_35_89', 'x_50_96', 'x_74_17', 'x_47_47', 'x_23_85', 'x_92_40', 'x_88_3', 'x_99_72', 'x_26_79', 'x_26_15', 'x_17_81', 'x_75_17', 'x_3_2', 'x_13_4', 'x_4_12', 'x_73_40', 'x_64_59', 'x_76_23', 'x_70_20', 'x_80_30', 'x_87_70', 'x_55_12', 'x_84_8', 'x_63_37', 'x_12_63', 'x_78_31', 'x_94_1', 'x_34_93', 'x_86_47', 'x_59_54', 'x_89_71', 'x_81_28', 'x_44_34', 'x_12_88', 'x_63_52', 'x_66_20', 'x_81_73', 'x_84_46', 'x_0_78', 'x_88_99', 'x_9_36', 'x_5_35', 'x_20_51', 'x_85_21', 'x_59_59', 'x_45_26', 'x_96_30', 'x_17_47', 'x_90_17', 'x_61_83', 'x_0_73', 'x_26_70', 'x_44_29', 'x_52_19', 'x_71_6', 'x_72_22', 'x_47_46', 'x_69_33', 'x_19_34', 'x_88_57', 'x_40_33', 'x_31_48', 'x_86_45', 'x_38_60', 'x_86_72', 'x_19_44', 'x_9_0', 'x_22_47', 'x_52_50', 'x_85_89', 'x_37_68', 'x_90_43', 'x_46_55', 'x_69_92', 'x_54_48', 'x_27_54', 'x_89_56', 'x_78_80', 'x_79_52', 'x_56_60', 'x_71_25', 'x_3_14', 'x_92_62', 'x_10_79', 'x_43_81', 'x_40_95', 'x_26_65', 'x_80_54', 'x_4_57', 'x_81_69', 'x_45_81', 'x_24_46', 'x_43_39', 'x_74_76', 'x_50_36', 'x_38_49', 'x_63_56', 'x_38_99', 'x_55_55', 'x_10_98', 'x_49_3', 'x_58_80', 'x_76_31', 'x_15_28', 'x_74_53', 'x_71_73', 'x_93_49', 'x_91_90', 'x_9_20', 'x_6_2', 'x_24_37', 'x_44_61', 'x_32_85', 'x_65_59', 'x_38_91', 'x_35_13', 'x_1_25', 'x_50_30', 'x_61_28', 'x_86_48', 'x_94_62', 'x_76_37', 'x_16_6', 'x_61_9', 'x_87_12', 'x_91_21', 'x_51_65', 'x_79_75', 'x_64_33', 'x_43_85', 'x_61_75', 'x_30_71', 'x_0_45', 'x_92_63', 'x_8_85', 'x_68_52', 'x_57_6', 'x_20_27', 'x_61_40', 'x_18_57', 'x_86_93', 'x_5_5', 'x_21_38', 'x_58_34', 'x_8_6', 'x_10_15', 'x_23_57', 'x_95_27', 'x_64_70', 'x_28_64', 'x_52_18', 'x_31_21', 'x_42_0', 'x_87_0', 'x_33_32', 'x_9_10', 'x_65_43', 'x_46_46', 'x_59_81', 'x_52_24', 'x_9_51', 'x_53_44', 'x_38_41', 'x_73_76', 'x_61_44', 'x_2_0', 'x_45_69', 'x_6_38', 'x_96_73', 'x_52_69', 'x_4_48', 'x_81_45', 'x_46_43', 'x_21_94', 'x_27_65', 'x_39_50', 'x_49_92', 'x_50_64', 'x_18_16', 'x_30_88', 'x_23_14', 'x_6_40', 'x_23_40', 'x_73_52', 'x_95_10', 'x_25_35', 'x_82_12', 'x_60_86', 'x_22_50', 'x_98_9', 'x_93_45', 'x_57_94', 'x_92_5', 'x_91_38', 'x_68_32', 'x_24_96', 'x_27_91', 'x_16_49', 'x_50_3', 'x_36_48', 'x_95_1', 'x_13_39', 'x_38_94', 'x_71_76', 'x_97_7', 'x_49_36', 'x_20_85', 'x_8_95', 'x_30_29', 'x_6_36', 'x_95_84', 'x_75_33', 'x_94_70', 'x_33_16', 'x_81_34', 'x_48_40', 'x_87_53', 'x_77_18', 'x_17_49', 'x_40_17', 'x_45_96', 'x_84_97', 'x_29_36', 'x_63_58', 'x_81_39', 'x_69_62', 'x_56_69', 'x_8_10', 'x_89_16', 'x_46_70', 'x_48_92', 'x_6_97', 'x_98_70', 'x_7_6', 'x_59_26', 'x_88_5', 'x_15_99', 'x_11_0', 'x_5_38', 'x_14_2', 'x_51_27', 'x_64_58', 'x_61_15', 'x_43_83', 'x_10_25', 'x_94_26', 'x_71_35', 'x_84_11', 'x_69_22', 'x_49_97', 'x_15_41', 'x_6_44', 'x_38_20', 'x_70_61', 'x_12_71', 'x_41_44', 'x_10_54', 'x_61_47', 'x_7_74', 'x_52_1', 'x_97_60', 'x_62_30', 'x_22_13', 'x_27_71', 'x_48_76', 'x_59_83', 'x_69_77', 'x_11_79', 'x_34_46', 'x_14_79', 'x_2_83', 'x_81_66', 'x_80_41', 'x_26_14', 'x_6_53', 'x_70_50', 'x_33_55', 'x_82_65', 'x_55_70', 'x_97_66', 'x_76_15', 'x_43_13', 'x_40_27', 'x_45_51', 'x_76_64', 'x_3_95', 'x_7_39', 'x_9_34', 'x_60_46', 'x_40_56', 'x_72_42', 'x_3_73', 'x_82_88', 'x_61_65', 'x_98_18', 'x_69_32', 'x_7_40', 'x_38_1', 'x_36_34', 'x_80_86', 'x_63_25', 'x_80_27', 'x_32_17', 'x_93_75', 'x_80_98', 'x_80_42', 'x_51_14', 'x_35_85', 'x_4_86', 'x_55_31', 'x_85_81', 'x_35_9', 'x_32_84', 'x_33_93', 'x_16_58', 'x_56_54', 'x_3_50', 'x_59_58', 'x_39_51', 'x_12_31', 'x_79_59', 'x_18_97', 'x_75_18', 'x_23_31', 'x_0_21', 'x_16_7', 'x_57_85', 'x_99_0', 'x_33_2', 'x_89_22', 'x_58_66', 'x_76_10', 'x_28_31', 'x_71_67', 'x_91_56', 'x_25_99', 'x_29_99', 'x_51_9', 'x_41_24', 'x_98_67', 'x_33_39', 'x_64_83', 'x_47_85', 'x_84_15', 'x_83_7', 'x_39_61', 'x_87_87', 'x_65_16', 'x_24_13', 'x_72_16', 'x_63_84', 'x_16_60', 'x_28_96', 'x_99_25', 'x_28_69', 'x_88_88', 'x_77_61', 'x_48_23', 'x_22_75', 'x_40_82', 'x_32_35', 'x_99_29', 'x_79_36', 'x_43_80', 'x_20_64', 'x_53_41', 'x_70_71', 'x_17_4', 'x_22_63', 'x_90_5', 'x_18_40', 'x_10_29', 'x_65_48', 'x_28_10', 'x_19_67', 'x_0_49', 'x_16_34', 'x_52_42', 'x_38_3', 'x_10_23', 'x_86_54', 'x_69_28', 'x_20_38', 'x_60_42', 'x_21_95', 'x_93_41', 'x_6_41', 'x_41_37', 'x_80_29', 'x_16_50', 'x_46_79', 'x_7_69', 'x_33_70', 'x_10_83', 'x_16_63', 'x_41_34', 'x_30_38', 'x_88_62', 'x_59_86', 'x_48_10', 'x_59_28', 'x_30_98', 'x_41_38', 'x_84_83', 'x_5_97', 'x_1_4', 'x_22_79', 'x_9_90', 'x_89_45', 'x_31_68', 'x_77_3', 'x_44_27', 'x_8_29', 'x_74_2', 'x_80_96', 'x_5_47', 'x_95_35', 'x_29_47', 'x_0_88', 'x_62_41', 'x_88_64', 'x_42_13', 'x_80_19', 'x_98_64', 'x_76_5', 'x_72_9', 'x_90_98', 'x_29_26', 'x_28_9', 'x_60_16', 'x_75_57', 'x_33_61', 'x_70_37', 'x_3_3', 'x_24_85', 'x_50_74', 'x_60_82', 'x_92_56', 'x_68_62', 'x_27_50', 'x_67_17', 'x_14_41', 'x_27_51', 'x_29_62', 'x_76_14', 'x_10_32', 'x_85_20', 'x_46_24', 'x_70_66', 'x_23_4', 'x_30_73', 'x_56_44', 'x_1_78', 'x_52_86', 'x_57_30', 'x_89_80', 'x_18_37', 'x_11_18', 'x_48_33', 'x_27_73', 'x_97_76', 'x_10_45', 'x_19_51', 'x_3_88', 'x_17_95', 'x_97_75', 'x_28_6', 'x_86_15', 'x_71_2', 'x_68_14', 'x_42_89', 'x_41_8', 'x_66_64', 'x_26_58', 'x_85_26', 'x_49_22', 'x_56_99', 'x_21_62', 'x_45_63', 'x_68_67', 'x_62_11', 'x_58_3', 'x_73_81', 'x_13_31', 'x_40_54', 'x_85_32', 'x_96_24', 'x_72_44', 'x_69_52', 'x_76_38', 'x_68_60', 'x_40_75', 'x_19_27', 'x_19_65', 'x_20_63', 'x_4_79', 'x_41_81', 'x_11_19', 'x_66_2', 'x_26_3', 'x_50_80', 'x_68_91', 'x_0_34', 'x_10_35', 'x_6_73', 'x_43_17', 'x_62_56', 'x_54_60', 'x_91_31', 'x_18_32', 'x_54_78', 'x_77_63', 'x_59_6', 'x_0_91', 'x_32_42', 'x_74_61', 'x_8_98', 'x_24_91', 'x_67_5', 'x_39_58', 'x_8_17', 'x_5_76', 'x_65_42', 'x_72_3', 'x_5_93', 'x_87_10', 'x_56_3', 'x_90_15', 'x_24_50', 'x_83_88', 'x_4_68', 'x_1_76', 'x_27_1', 'x_22_10', 'x_80_34', 'x_47_68', 'x_84_81', 'x_15_12', 'x_44_70', 'x_75_89', 'x_33_1', 'x_29_3', 'x_81_30', 'x_39_14', 'x_26_34', 'x_51_63', 'x_92_66', 'x_91_80', 'x_80_36', 'x_27_38', 'x_37_87', 'x_37_20', 'x_82_66', 'x_10_87', 'x_76_29', 'x_70_26', 'x_89_18', 'x_77_46', 'x_97_25', 'x_40_6', 'x_92_39', 'x_23_47', 'x_67_56', 'x_95_72', 'x_65_83', 'x_49_70', 'x_55_36', 'x_67_19', 'x_75_16', 'x_62_99', 'x_11_22', 'x_80_68', 'x_19_69', 'x_48_68', 'x_61_98', 'x_48_87', 'x_70_52', 'x_78_15', 'x_31_35', 'x_80_91', 'x_27_72', 'x_97_97', 'x_8_0', 'x_23_98', 'x_85_45', 'x_38_11', 'x_81_70', 'x_71_33', 'x_48_32', 'x_4_4', 'x_30_48', 'x_39_35', 'x_19_64', 'x_94_22', 'x_50_53', 'x_70_64', 'x_96_78', 'x_1_65', 'x_74_91', 'x_17_3', 'x_23_22', 'x_24_26', 'x_40_12', 'x_86_11', 'x_40_23', 'x_10_80', 'x_93_72', 'x_46_56', 'x_43_90', 'x_36_86', 'x_63_29', 'x_73_0', 'x_71_62', 'x_14_54', 'x_71_53', 'x_25_89', 'x_6_7', 'x_81_17', 'x_33_38', 'x_82_96', 'x_12_55', 'x_29_59', 'x_61_18', 'x_10_11', 'x_83_77', 'x_54_92', 'x_97_22', 'x_61_90', 'x_18_56', 'x_75_46', 'x_46_30', 'x_83_39', 'x_88_76', 'x_5_21', 'x_15_35', 'x_91_16', 'x_20_72', 'x_54_43', 'x_59_14', 'x_48_78', 'x_1_91', 'x_32_49', 'x_50_43', 'x_61_29', 'x_25_34', 'x_62_10', 'x_60_54', 'x_88_30', 'x_81_33', 'x_28_66', 'x_42_72', 'x_8_35', 'x_33_83', 'x_17_12', 'x_19_74', 'x_36_14', 'x_73_47', 'x_5_68', 'x_46_32', 'x_48_24', 'x_54_47', 'x_87_25', 'x_12_77', 'x_3_36', 'x_92_30', 'x_92_90', 'x_20_31', 'x_48_71', 'x_98_10', 'x_96_54', 'x_71_8', 'x_47_13', 'x_18_46', 'x_30_83', 'x_86_77', 'x_19_10', 'x_95_53', 'x_79_3', 'x_29_69', 'x_49_49', 'x_12_61', 'x_19_24', 'x_28_17', 'x_56_89', 'x_12_52', 'x_12_24', 'x_56_49', 'x_93_30', 'x_90_18', 'x_29_94', 'x_63_48', 'x_94_7', 'x_0_16', 'x_15_3', 'x_16_44', 'x_86_39', 'x_55_9', 'x_52_51', 'x_66_62', 'x_56_82', 'x_87_55', 'x_10_27', 'x_19_1', 'x_96_84', 'x_73_35', 'x_13_89', 'x_73_95', 'x_35_68', 'x_50_50', 'x_50_46', 'x_14_38', 'x_95_33', 'x_87_35', 'x_25_70', 'x_15_87', 'x_45_80', 'x_41_63', 'x_5_49', 'x_90_0', 'x_91_63', 'x_61_23', 'x_23_43', 'x_39_91', 'x_90_38', 'x_68_50', 'x_21_7', 'x_26_95', 'x_88_77', 'x_62_27', 'x_81_61', 'x_24_10', 'x_84_32', 'x_6_81', 'x_27_36', 'x_97_29', 'x_62_71', 'x_99_92', 'x_57_28', 'x_33_31', 'x_47_65', 'x_24_29', 'x_15_23', 'x_43_50', 'x_4_7', 'x_22_12', 'x_68_99', 'x_71_11', 'x_67_12', 'x_40_21', 'x_11_30', 'x_33_90', 'x_15_58', 'x_75_96', 'x_49_32', 'x_79_2', 'x_32_46', 'x_69_29', 'x_84_5', 'x_85_87', 'x_70_41', 'x_48_98', 'x_92_12', 'x_40_46', 'x_51_57', 'x_33_80', 'x_29_84', 'x_82_86', 'x_31_74', 'x_20_15', 'x_1_35', 'x_65_81', 'x_30_10', 'x_20_54', 'x_98_56', 'x_66_32', 'x_95_69', 'x_98_92', 'x_92_75', 'x_82_10', 'x_96_28', 'x_64_7', 'x_51_61', 'x_84_55', 'x_64_81', 'x_76_0', 'x_54_25', 'x_67_68', 'x_51_73', 'x_17_92', 'x_49_62', 'x_46_6', 'x_71_16', 'x_35_37', 'x_24_7', 'x_11_74', 'x_35_87', 'x_81_88', 'x_99_9', 'x_49_98', 'x_16_23', 'x_21_65', 'x_83_0', 'x_82_92', 'x_23_9', 'x_56_85', 'x_45_42', 'x_7_92', 'x_36_37', 'x_29_78', 'x_58_11', 'x_84_0', 'x_35_12', 'x_66_75', 'x_11_44', 'x_83_5', 'x_89_0', 'x_42_91', 'x_71_51', 'x_86_94', 'x_78_79', 'x_78_77', 'x_85_72', 'x_50_79', 'x_34_42', 'x_67_74', 'x_51_76', 'x_32_94', 'x_13_95', 'x_12_54', 'x_44_96', 'x_52_66', 'x_34_85', 'x_55_52', 'x_42_44', 'x_50_11', 'x_49_55', 'x_58_14', 'x_44_5', 'x_74_7', 'x_92_54', 'x_72_97', 'x_44_9', 'x_35_61', 'x_78_6', 'x_86_76', 'x_98_33', 'x_14_76', 'x_43_94', 'x_62_23', 'x_90_49', 'x_21_22', 'x_46_21', 'x_91_14', 'x_94_33', 'x_3_24', 'x_22_6', 'x_59_72', 'x_91_82', 'x_22_84', 'x_36_7', 'x_20_23', 'x_79_79', 'x_28_13', 'x_0_61', 'x_16_85', 'x_42_49', 'x_13_91', 'x_28_32', 'x_56_78', 'x_1_53', 'x_98_30', 'x_83_57', 'x_16_0', 'x_22_23', 'x_70_33', 'x_64_47', 'x_50_23', 'x_82_98', 'x_96_48', 'x_25_32', 'x_52_58', 'x_3_96', 'x_41_32', 'x_9_8', 'x_50_49', 'x_35_25', 'x_52_13', 'x_79_27', 'x_14_75', 'x_60_70', 'x_72_85', 'x_93_99', 'x_54_8', 'x_47_25', 'x_9_83', 'x_18_47', 'x_24_53', 'x_4_31', 'x_61_42', 'x_66_51', 'x_23_28', 'x_4_6', 'x_75_41', 'x_50_42', 'x_20_96', 'x_1_74', 'x_40_67', 'x_8_77', 'x_10_8', 'x_3_39', 'x_10_92', 'x_50_66', 'x_10_85', 'x_16_36', 'x_46_81', 'x_70_18', 'x_91_41', 'x_57_92', 'x_76_53', 'x_29_53', 'x_9_22', 'x_94_23', 'x_21_66', 'x_90_99', 'x_21_60', 'x_90_62', 'x_80_32', 'x_5_61', 'x_7_42', 'x_86_71', 'x_24_44', 'x_33_24', 'x_70_63', 'x_24_6', 'x_5_17', 'x_61_76', 'x_74_93', 'x_20_26', 'x_19_94', 'x_75_7', 'x_88_51', 'x_77_1', 'x_85_37', 'x_20_36', 'x_98_83', 'x_0_86', 'x_87_81', 'x_7_33', 'x_29_75', 'x_24_15', 'x_47_42', 'x_2_6', 'x_3_21', 'x_84_99', 'x_3_34', 'x_20_0', 'x_53_81', 'x_36_54', 'x_73_46', 'x_1_57', 'x_62_20', 'x_37_6', 'x_76_78', 'x_12_97', 'x_93_90', 'x_65_89', 'x_36_2', 'x_0_46', 'x_22_62', 'x_82_68', 'x_72_2', 'x_77_85', 'x_54_71', 'x_92_67', 'x_30_60', 'x_83_9', 'x_29_0', 'x_9_52', 'x_44_95', 'x_97_21', 'x_1_98', 'x_7_73', 'x_33_78', 'x_72_38', 'x_94_21', 'x_53_3', 'x_32_83', 'x_66_80', 'x_43_12', 'x_91_99', 'x_47_51', 'x_66_4', 'x_65_57', 'x_16_67', 'x_25_81', 'x_77_13', 'x_77_84', 'x_95_4', 'x_15_6', 'x_23_78', 'x_18_73', 'x_53_18', 'x_1_30', 'x_68_48', 'x_48_85', 'x_37_2', 'x_65_56', 'x_58_50', 'x_49_85', 'x_18_0', 'x_97_18', 'x_53_34', 'x_28_91', 'x_29_60', 'x_47_62', 'x_65_13', 'x_83_3', 'x_57_0', 'x_99_11', 'x_10_60', 'x_18_58', 'x_3_71', 'x_12_51', 'x_85_68', 'x_62_80', 'x_77_16', 'x_38_66', 'x_60_31', 'x_64_1', 'x_6_9', 'x_43_71', 'x_80_25', 'x_48_93', 'x_32_31', 'x_2_73', 'x_76_76', 'x_66_63', 'x_27_30', 'x_3_10', 'x_57_29', 'x_62_36', 'x_75_19', 'x_22_58', 'x_49_6', 'x_20_52', 'x_7_37', 'x_16_65', 'x_23_62', 'x_99_62', 'x_22_5', 'x_0_80', 'x_72_94', 'x_0_12', 'x_90_2', 'x_24_93', 'x_68_81', 'x_50_8', 'x_13_81', 'x_62_17', 'x_42_27', 'x_54_82', 'x_59_0', 'x_16_73', 'x_57_74', 'x_51_60', 'x_45_37', 'x_51_66', 'x_69_47', 'x_84_31', 'x_81_23', 'x_29_57', 'x_0_68', 'x_37_8', 'x_83_38', 'x_37_34', 'x_31_27', 'x_8_26', 'x_34_13', 'x_92_3', 'x_16_35', 'x_75_37', 'x_23_46', 'x_41_56', 'x_40_30', 'x_68_61', 'x_46_76', 'x_20_92', 'x_39_73', 'x_15_76', 'x_18_70', 'x_25_45', 'x_81_2', 'x_99_98', 'x_4_32', 'x_70_56', 'x_38_68', 'x_47_79', 'x_91_93', 'x_42_70', 'x_51_96', 'x_96_63', 'x_73_67', 'x_6_51', 'x_54_33', 'x_77_67', 'x_64_29', 'x_75_1', 'x_99_59', 'x_39_88', 'x_93_5', 'x_11_2', 'x_93_7', 'x_90_89', 'x_97_47', 'x_57_62', 'x_35_92', 'x_35_34', 'x_16_99', 'x_16_26', 'x_50_75', 'x_50_10', 'x_57_40', 'x_40_19', 'x_28_24', 'x_64_77', 'x_27_97', 'x_91_2', 'x_82_48', 'x_95_97', 'x_70_28', 'x_79_41', 'x_9_38', 'x_28_16', 'x_27_2', 'x_54_27', 'x_83_85', 'x_74_10', 'x_15_95', 'x_83_96', 'x_89_55', 'x_81_27', 'x_93_54', 'x_96_87', 'x_76_89', 'x_67_30', 'x_78_38', 'x_63_71', 'x_48_27', 'x_25_61', 'x_28_4', 'x_7_95', 'x_70_39', 'x_27_96', 'x_48_41', 'x_66_23', 'x_48_12', 'x_84_47', 'x_39_21', 'x_77_51', 'x_50_78', 'x_62_40', 'x_61_51', 'x_88_98', 'x_27_77', 'x_53_33', 'x_81_3', 'x_5_32', 'x_85_0', 'x_85_77', 'x_9_24', 'x_39_53', 'x_99_18', 'x_15_54', 'x_31_98', 'x_67_54', 'x_19_97', 'x_62_31', 'x_17_15', 'x_94_18', 'x_84_13', 'x_18_95', 'x_42_59', 'x_69_89', 'x_31_36', 'x_86_92', 'x_7_58', 'x_19_26', 'x_60_10', 'x_99_49', 'x_11_40', 'x_77_96', 'x_1_38', 'x_63_70', 'x_88_75', 'x_70_55', 'x_53_40', 'x_12_94', 'x_8_44', 'x_8_97', 'x_79_18', 'x_26_38', 'x_60_5', 'x_87_48', 'x_73_50', 'x_46_77', 'x_88_43', 'x_14_86', 'x_37_33', 'x_20_10', 'x_3_82', 'x_23_6', 'x_37_36', 'x_30_18', 'x_22_54', 'x_64_80', 'x_95_36', 'x_91_47', 'x_1_63', 'x_94_29', 'x_96_8', 'x_51_6', 'x_17_37', 'x_57_8', 'x_88_10', 'x_82_8', 'x_61_13', 'x_1_47', 'x_40_73', 'x_62_34', 'x_77_43', 'x_32_24', 'x_78_58', 'x_39_64', 'x_4_69', 'x_50_35', 'x_10_68', 'x_95_78', 'x_84_24', 'x_81_18', 'x_0_70', 'x_46_51', 'x_25_29', 'x_3_81', 'x_96_81', 'x_1_97', 'x_47_98', 'x_40_87', 'x_32_2', 'x_91_10', 'x_17_0', 'x_52_12', 'x_71_50', 'x_61_63', 'x_80_2', 'x_53_8', 'x_64_61', 'x_3_1', 'x_32_1', 'x_12_60', 'x_39_80', 'x_82_78', 'x_26_57', 'x_8_78', 'x_26_28', 'x_2_45', 'x_63_23', 'x_63_12', 'x_0_31', 'x_67_80', 'x_46_35', 'x_36_92', 'x_4_73', 'x_65_75', 'x_54_34', 'x_15_15', 'x_38_87', 'x_21_20', 'x_58_15', 'x_32_29', 'x_37_45', 'x_9_4', 'x_5_27', 'x_57_64', 'x_28_73', 'x_77_53', 'x_46_96', 'x_88_92', 'x_15_48', 'x_35_3', 'x_96_43', 'x_19_85', 'x_21_91', 'x_53_55', 'x_61_99', 'x_60_97', 'x_15_66', 'x_91_9', 'x_94_56', 'x_44_12', 'x_50_24', 'x_9_9', 'x_29_98', 'x_2_63', 'x_59_40', 'x_10_5', 'x_96_95', 'x_77_40', 'x_83_44', 'x_20_29', 'x_75_14', 'x_71_17', 'x_69_64', 'x_66_71', 'x_11_31', 'x_90_24', 'x_9_27', 'x_77_39', 'x_11_12', 'x_67_49', 'x_32_71', 'x_71_63', 'x_93_53', 'x_36_83', 'x_14_49', 'x_92_64', 'x_42_6', 'x_29_70', 'x_57_9', 'x_55_56', 'x_68_41', 'x_50_37', 'x_64_41', 'x_43_91', 'x_55_28', 'x_34_64', 'x_22_26', 'x_13_45', 'x_77_52', 'x_67_89', 'x_79_87', 'x_39_10', 'x_42_82', 'x_49_21', 'x_35_10', 'x_30_37', 'x_35_80', 'x_71_26', 'x_15_84', 'x_78_72', 'x_14_4', 'x_98_61', 'x_7_12', 'x_68_30', 'x_52_22', 'x_4_45', 'x_35_44', 'x_54_61', 'x_8_30', 'x_0_39', 'x_54_44', 'x_96_79', 'x_44_76', 'x_0_37', 'x_51_11', 'x_99_60', 'x_59_69', 'x_7_38', 'x_4_24', 'x_29_38', 'x_77_21', 'x_90_91', 'x_73_84', 'x_7_32', 'x_97_6', 'x_12_34', 'x_42_61', 'x_88_39', 'x_84_87', 'x_32_13', 'x_14_31', 'x_12_6', 'x_97_24', 'x_35_33', 'x_13_90', 'x_19_80', 'x_31_85', 'x_34_50', 'x_17_73', 'x_55_13', 'x_46_31', 'x_21_41', 'x_68_79', 'x_37_13', 'x_24_20', 'x_45_40', 'x_18_92', 'x_50_38', 'x_17_56', 'x_60_66', 'x_91_12', 'x_64_98', 'x_78_81', 'x_77_69', 'x_49_23', 'x_98_91', 'x_53_82', 'x_90_68', 'x_89_64', 'x_68_96', 'x_48_46', 'x_19_57', 'x_48_4', 'x_23_3', 'x_60_35', 'x_78_7', 'x_84_30', 'x_13_80', 'x_4_72', 'x_49_43', 'x_56_98', 'x_9_67', 'x_94_13', 'x_37_57', 'x_22_95', 'x_83_18', 'x_73_20', 'x_47_43', 'x_20_58', 'x_68_92', 'x_42_52', 'x_84_69', 'x_59_5', 'x_79_24', 'x_81_16', 'x_9_96', 'x_26_60', 'x_49_88', 'x_12_78', 'x_10_58', 'x_93_34', 'x_53_68', 'x_55_54', 'x_73_99', 'x_35_14', 'x_87_62', 'x_32_6', 'x_8_9', 'x_76_9', 'x_28_58', 'x_33_53', 'x_89_33', 'x_74_69', 'x_48_19', 'x_1_9', 'x_7_45', 'x_99_68', 'x_78_35', 'x_22_89', 'x_98_85', 'x_25_64', 'x_14_69', 'x_5_6', 'x_6_29', 'x_21_40', 'x_44_74', 'x_71_46', 'x_8_11', 'x_10_63', 'x_36_21', 'x_60_83', 'x_47_22', 'x_69_18', 'x_5_29', 'x_70_1', 'x_3_4', 'x_95_48', 'x_31_57', 'x_51_70', 'x_32_51', 'x_94_77', 'x_90_53', 'x_90_47', 'x_5_58', 'x_46_69', 'x_94_95', 'x_82_25', 'x_56_92', 'x_41_30', 'x_66_55', 'x_87_34', 'x_73_27', 'x_99_1', 'x_66_37', 'x_58_87', 'x_34_29', 'x_16_83', 'x_72_32', 'x_1_62', 'x_11_5', 'x_62_24', 'x_46_0', 'x_75_53', 'x_87_40', 'x_83_35', 'x_14_1', 'x_97_67', 'x_0_24', 'x_41_27', 'x_80_18', 'x_29_34', 'x_97_68', 'x_29_46', 'x_67_25', 'x_35_17', 'x_33_59', 'x_95_59', 'x_41_45', 'x_1_45', 'x_26_77', 'x_96_62', 'x_43_48', 'x_63_32', 'x_0_35', 'x_2_47', 'x_22_48', 'x_95_43', 'x_75_29', 'x_34_76', 'x_15_98', 'x_25_90', 'x_73_54', 'x_55_47', 'x_26_86', 'x_75_85', 'x_17_60', 'x_79_91', 'x_88_4', 'x_67_24', 'x_66_52', 'x_42_42', 'x_18_65', 'x_3_57', 'x_12_64', 'x_37_16', 'x_93_35', 'x_55_96', 'x_41_65', 'x_48_88', 'x_58_20', 'x_44_20', 'x_57_11', 'x_6_64', 'x_78_51', 'x_11_82', 'x_75_43', 'x_41_55', 'x_91_45', 'x_52_76', 'x_77_97', 'x_2_95', 'x_87_6', 'x_61_74', 'x_74_16', 'x_4_75', 'x_93_4', 'x_10_26', 'x_65_40', 'x_45_73', 'x_50_81', 'x_35_99', 'x_99_76', 'x_33_20', 'x_78_1', 'x_21_87', 'x_24_71', 'x_99_67', 'x_59_71', 'x_60_33', 'x_26_69', 'x_21_13', 'x_23_75', 'x_98_49', 'x_46_52', 'x_32_80', 'x_84_56', 'x_2_27', 'x_64_60', 'x_95_67', 'x_46_83', 'x_70_44', 'x_33_36', 'x_21_25', 'x_66_22', 'x_77_34', 'x_10_36', 'x_66_77', 'x_2_20', 'x_25_15', 'x_3_44', 'x_14_45', 'x_60_55', 'x_74_11', 'x_40_32', 'x_5_95', 'x_82_84', 'x_71_97', 'x_52_41', 'x_7_1', 'x_59_85', 'x_14_10', 'x_90_1', 'x_60_0', 'x_54_46', 'x_14_24', 'x_36_10', 'x_96_51', 'x_23_60', 'x_54_55', 'x_85_16', 'x_19_9', 'x_9_45', 'x_37_77', 'x_3_6', 'x_64_17', 'x_55_11', 'x_25_49', 'x_56_47', 'x_69_57', 'x_79_16', 'x_26_45', 'x_97_77', 'x_99_73', 'x_62_5', 'x_98_17', 'x_96_64', 'x_8_82', 'x_76_82', 'x_10_3', 'x_67_78', 'x_48_6', 'x_82_18', 'x_73_91', 'x_63_99', 'x_69_0', 'x_19_96', 'x_37_23', 'x_94_46', 'x_30_64', 'x_92_84', 'x_34_39', 'x_32_66', 'x_23_59', 'x_14_63', 'x_12_87', 'x_26_8', 'x_69_11', 'x_49_53', 'x_41_59', 'x_97_52', 'x_76_26', 'x_11_91', 'x_91_76', 'x_58_78', 'x_52_92', 'x_18_6', 'x_58_47', 'x_41_22', 'x_74_44', 'x_40_14', 'x_67_37', 'x_92_53', 'x_52_28', 'x_65_44', 'x_60_26', 'x_48_37', 'x_3_13', 'x_8_3', 'x_72_75', 'x_94_37', 'x_99_19', 'x_11_71', 'x_66_33', 'x_76_68', 'x_85_63', 'x_76_4', 'x_22_82', 'x_53_97', 'x_33_6', 'x_54_64', 'x_52_84', 'x_12_80', 'x_74_57', 'x_93_47', 'x_0_96', 'x_10_84', 'x_17_30', 'x_31_3', 'x_55_95', 'x_75_66', 'x_84_51', 'x_23_77', 'x_58_72', 'x_97_95', 'x_1_48', 'x_38_19', 'x_35_26', 'x_23_50', 'x_76_69', 'x_90_78', 'x_71_27', 'x_85_10', 'x_1_41', 'x_72_30', 'x_42_17', 'x_40_96', 'x_19_15', 'x_76_3', 'x_3_0', 'x_52_43', 'x_78_12', 'x_95_32', 'x_34_27', 'x_32_58', 'x_96_44', 'x_73_69', 'x_88_14', 'x_56_4', 'x_75_38', 'x_96_41', 'x_81_37', 'x_66_56', 'x_91_48', 'x_37_78', 'x_22_65', 'x_95_52', 'x_6_15', 'x_2_29', 'x_35_22', 'x_64_96', 'x_21_37', 'x_38_14', 'x_12_76', 'x_6_25', 'x_4_92', 'x_91_88', 'x_62_15', 'x_43_22', 'x_14_15', 'x_47_5', 'x_89_23', 'x_18_68', 'x_71_92', 'x_95_18', 'x_46_41', 'x_50_68', 'x_66_25', 'x_84_53', 'x_34_61', 'x_66_27', 'x_95_0', 'x_28_29', 'x_38_42', 'x_8_60', 'x_18_98', 'x_87_63', 'x_67_15', 'x_80_48', 'x_21_43', 'x_76_8', 'x_8_12', 'x_43_76', 'x_92_1', 'x_72_7', 'x_41_67', 'x_35_67', 'x_79_69', 'x_10_28', 'x_56_12', 'x_60_99', 'x_46_22', 'x_29_58', 'x_34_30', 'x_35_40', 'x_0_63', 'x_55_79', 'x_68_83', 'x_82_91', 'x_3_16', 'x_65_32', 'x_36_52', 'x_12_38', 'x_71_21', 'x_89_27', 'x_1_37', 'x_1_58', 'x_37_4', 'x_19_63', 'x_52_31', 'x_23_44', 'x_19_46', 'x_86_64', 'x_72_80', 'x_25_54', 'x_57_84', 'x_51_3', 'x_73_72', 'x_59_41', 'x_89_41', 'x_22_52', 'x_74_24', 'x_71_0', 'x_84_25', 'x_93_74', 'x_65_51', 'x_63_95', 'x_95_9', 'x_29_83', 'x_31_70', 'x_35_5', 'x_90_26', 'x_81_51', 'x_38_55', 'x_28_25', 'x_82_75', 'x_76_13', 'x_3_19', 'x_82_97', 'x_3_45', 'x_10_81', 'x_4_20', 'x_86_19', 'x_14_23', 'x_81_32', 'x_29_6', 'x_70_69', 'x_46_65', 'x_98_13', 'x_75_60', 'x_34_59', 'x_60_62', 'x_55_88', 'x_52_97', 'x_44_36', 'x_12_29', 'x_6_14', 'x_64_94', 'x_98_76', 'x_95_3', 'x_20_70', 'x_83_13', 'x_51_89', 'x_4_63', 'x_90_70', 'x_59_96', 'x_31_56', 'x_8_94', 'x_40_10', 'x_33_49', 'x_36_39', 'x_83_32', 'x_99_86', 'x_74_36', 'x_19_95', 'x_83_67', 'x_55_92', 'x_35_43', 'x_75_82', 'x_10_93', 'x_25_37', 'x_99_50', 'x_78_13', 'x_66_58', 'x_85_60', 'x_91_86', 'x_59_35', 'x_85_74', 'x_28_1', 'x_66_65', 'x_53_27', 'x_75_34', 'x_71_60', 'x_81_21', 'x_85_51', 'x_65_58', 'x_89_75', 'x_45_65', 'x_61_78', 'x_39_98', 'x_43_95', 'x_51_86', 'x_5_31', 'x_28_77', 'x_2_1', 'x_95_46', 'x_81_58', 'x_20_40', 'x_68_82', 'x_68_29', 'x_20_90', 'x_97_65', 'x_89_39', 'x_46_88', 'x_83_17', 'x_12_70', 'x_7_16', 'x_63_87', 'x_98_89', 'x_2_75', 'x_29_93', 'x_42_10', 'x_65_27', 'x_29_10', 'x_26_53', 'x_57_13', 'x_6_72', 'x_13_16', 'x_90_50', 'x_33_13', 'x_63_20', 'x_92_0', 'x_93_10', 'x_96_91', 'x_26_36', 'x_9_13', 'x_8_43', 'x_72_41', 'x_38_44', 'x_13_76', 'x_38_86', 'x_29_42', 'x_34_68', 'x_62_77', 'x_79_25', 'x_53_89', 'x_84_49', 'x_61_6', 'x_45_82', 'x_97_41', 'x_65_62', 'x_97_38', 'x_31_39', 'x_12_41', 'x_49_80', 'x_54_85', 'x_36_81', 'x_21_35', 'x_72_95', 'x_93_40', 'x_9_43', 'x_74_42', 'x_81_60', 'x_61_34', 'x_46_66', 'x_7_51', 'x_49_51', 'x_70_22', 'x_47_36', 'x_74_6', 'x_31_19', 'x_76_19', 'x_79_71', 'x_83_83', 'x_67_81', 'x_46_99', 'x_40_43', 'x_52_79', 'x_66_12', 'x_76_63', 'x_32_54', 'x_30_89', 'x_38_56', 'x_83_76', 'x_32_78', 'x_26_98', 'x_5_25', 'x_45_4', 'x_56_76', 'x_56_24', 'x_45_44', 'x_24_98', 'x_99_83', 'x_37_59', 'x_2_46', 'x_58_60', 'x_50_7', 'x_38_52', 'x_5_34', 'x_23_8', 'x_5_33', 'x_17_64', 'x_28_71', 'x_63_38', 'x_74_26', 'x_25_77', 'x_66_87', 'x_70_53', 'x_27_56', 'x_35_6', 'x_72_66', 'x_40_42', 'x_94_25', 'x_47_92', 'x_65_92', 'x_87_57', 'x_59_2', 'x_64_64', 'x_61_37', 'x_26_78', 'x_96_56', 'x_29_7', 'x_76_71', 'x_2_8', 'x_76_75', 'x_68_34', 'x_70_82', 'x_99_69', 'x_56_0', 'x_89_65', 'x_36_77', 'x_81_52', 'x_45_66', 'x_20_87', 'x_76_6', 'x_81_89', 'x_41_6', 'x_97_57', 'x_49_95', 'x_41_49', 'x_42_1', 'x_24_22', 'x_57_16', 'x_9_37', 'x_3_41', 'x_66_83', 'x_99_43', 'x_12_7', 'x_80_1', 'x_43_59', 'x_40_85', 'x_58_68', 'x_30_99', 'x_56_11', 'x_8_45', 'x_20_12', 'x_43_6', 'x_52_73', 'x_14_72', 'x_93_28', 'x_64_78', 'x_1_8', 'x_57_2', 'x_84_77', 'x_98_81', 'x_71_43', 'x_60_71', 'x_53_32', 'x_3_25', 'x_0_72', 'x_79_61', 'x_2_50', 'x_57_12', 'x_74_70', 'x_82_23', 'x_12_47', 'x_15_67', 'x_71_85', 'x_78_28', 'x_81_35', 'x_22_31', 'x_16_69', 'x_74_15', 'x_57_99', 'x_94_91', 'x_90_32', 'x_86_85', 'x_56_88', 'x_47_2', 'x_6_96', 'x_30_45', 'x_47_82', 'x_0_33', 'x_69_4', 'x_57_68', 'x_76_74', 'x_17_16', 'x_25_21', 'x_97_92', 'x_35_24', 'x_14_33', 'x_37_75', 'x_18_26', 'x_9_60', 'x_11_86', 'x_52_56', 'x_80_67', 'x_23_82', 'x_37_54', 'x_61_91', 'x_98_4', 'x_23_67', 'x_63_46', 'x_46_11', 'x_39_18', 'x_65_18', 'x_97_93', 'x_17_46', 'x_64_69', 'x_40_38', 'x_58_5', 'x_48_60', 'x_41_71', 'x_28_95', 'x_69_12', 'x_6_88', 'x_54_90', 'x_32_91', 'x_31_71', 'x_23_24', 'x_51_19', 'x_1_44', 'x_50_98', 'x_18_27', 'x_21_17', 'x_55_86', 'x_28_23', 'x_92_51', 'x_19_36', 'x_85_28', 'x_77_29', 'x_40_44', 'x_16_54', 'x_82_77', 'x_87_78', 'x_40_20', 'x_42_38', 'x_31_88', 'x_1_80', 'x_42_81', 'x_74_79', 'x_82_69', 'x_54_52', 'x_9_61', 'x_5_60', 'x_43_73', 'x_81_47', 'x_13_23', 'x_46_14', 'x_73_14', 'x_84_9', 'x_79_67', 'x_32_87', 'x_77_4', 'x_49_17', 'x_76_51', 'x_17_80', 'x_2_78', 'x_34_98', 'x_93_70', 'x_65_74', 'x_45_8', 'x_38_45', 'x_65_49', 'x_85_38', 'x_15_37', 'x_21_75', 'x_21_30', 'x_56_62', 'x_45_39', 'x_6_19', 'x_93_29', 'x_89_79', 'x_63_76', 'x_0_5', 'x_21_42', 'x_73_13', 'x_76_34', 'x_92_28', 'x_29_37', 'x_83_2', 'x_38_31', 'x_88_12', 'x_22_0', 'x_87_89', 'x_54_14', 'x_63_0', 'x_38_32', 'x_55_33', 'x_40_66', 'x_85_96', 'x_83_63', 'x_64_8', 'x_10_82', 'x_39_69', 'x_4_53', 'x_46_29', 'x_93_1', 'x_50_95', 'x_26_1', 'x_83_33', 'x_45_70', 'x_76_7', 'x_38_81', 'x_93_14', 'x_25_4', 'x_15_89', 'x_7_65', 'x_35_62', 'x_71_3', 'x_89_81', 'x_90_73', 'x_86_18', 'x_83_50', 'x_81_50', 'x_3_84', 'x_5_7', 'x_50_60', 'x_71_96', 'x_50_16', 'x_2_16', 'x_88_78', 'x_25_53', 'x_34_8', 'x_29_52', 'x_94_24', 'x_77_91', 'x_84_67', 'x_38_77', 'x_9_26', 'x_28_98', 'x_79_51', 'x_41_76', 'x_34_4', 'x_17_45', 'x_22_60', 'x_89_34', 'x_53_65', 'x_5_19', 'x_22_49', 'x_79_85', 'x_13_11', 'x_67_35', 'x_45_27', 'x_9_62', 'x_96_32', 'x_60_68', 'x_58_70', 'x_31_4', 'x_88_17', 'x_54_77', 'x_92_94', 'x_7_70', 'x_45_78', 'x_36_98', 'x_17_59', 'x_67_95', 'x_85_11', 'x_56_16', 'x_78_86', 'x_90_23', 'x_96_60', 'x_32_69', 'x_53_95', 'x_80_88', 'x_32_20', 'x_48_52', 'x_77_80', 'x_6_76', 'x_26_71', 'x_6_3', 'x_74_13', 'x_54_73', 'x_22_57', 'x_4_23', 'x_19_72', 'x_78_82', 'x_83_64', 'x_91_51', 'x_57_55', 'x_77_50', 'x_28_78', 'x_17_22', 'x_16_45', 'x_77_54', 'x_62_61', 'x_85_99', 'x_53_84', 'x_0_51', 'x_12_67', 'x_82_99', 'x_66_61', 'x_7_52', 'x_17_86', 'x_77_10', 'x_65_4', 'x_37_65', 'x_34_84', 'x_94_85', 'x_98_3', 'x_25_95', 'x_83_37', 'x_34_75', 'x_79_15', 'x_61_57', 'x_23_30', 'x_93_33', 'x_77_47', 'x_45_34', 'x_52_4', 'x_2_94', 'x_79_99', 'x_14_67', 'x_39_39', 'x_91_1', 'x_23_7', 'x_52_57', 'x_89_8', 'x_27_6', 'x_91_65', 'x_8_67', 'x_51_43', 'x_43_32', 'x_92_45', 'x_85_46', 'x_29_12', 'x_71_74', 'x_42_97', 'x_44_42', 'x_14_39', 'x_14_32', 'x_26_73', 'x_35_86', 'x_36_90', 'x_22_29', 'x_35_66', 'x_61_31', 'x_38_69', 'x_90_19', 'x_66_47', 'x_62_3', 'x_34_36', 'x_80_92', 'x_47_17', 'x_2_25', 'x_58_39', 'x_46_27', 'x_71_66', 'x_81_75', 'x_16_72', 'x_13_77', 'x_33_60', 'x_13_35', 'x_44_30', 'x_2_74', 'x_19_40', 'x_70_83', 'x_49_29', 'x_64_34', 'x_37_61', 'x_13_54', 'x_82_82', 'x_58_0', 'x_75_4', 'x_7_20', 'x_36_43', 'x_77_72', 'x_41_18', 'x_72_57', 'x_13_73', 'x_89_49', 'x_25_58', 'x_53_10', 'x_96_23', 'x_67_22', 'x_12_0', 'x_96_86', 'x_19_59', 'x_8_88', 'x_2_59', 'x_68_4', 'x_67_90', 'x_4_38', 'x_22_11', 'x_44_11', 'x_6_21', 'x_94_19', 'x_8_56', 'x_21_19', 'x_27_18', 'x_76_84', 'x_38_85', 'x_33_79', 'x_76_46', 'x_50_15', 'x_99_31', 'x_47_70', 'x_40_1', 'x_49_90', 'x_61_17', 'x_86_25', 'x_91_60', 'x_70_42', 'x_16_27', 'x_64_26', 'x_88_7', 'x_85_79', 'x_82_71', 'x_73_60', 'x_51_15', 'x_1_56', 'x_90_88', 'x_98_60', 'x_73_56', 'x_96_59', 'x_58_51', 'x_71_44', 'x_27_66', 'x_51_68', 'x_87_24', 'x_47_37', 'x_79_40', 'x_91_49', 'x_61_19', 'x_21_10', 'x_72_81', 'x_99_57', 'x_60_6', 'x_90_55', 'x_97_5', 'x_13_22', 'x_76_40', 'x_39_23', 'x_59_49', 'x_92_19', 'x_72_69', 'x_34_47', 'x_41_19', 'x_94_15', 'x_62_52', 'x_31_77', 'x_48_72', 'x_54_97', 'x_71_83', 'x_54_19', 'x_20_67', 'x_55_87', 'x_19_61', 'x_72_78', 'x_35_52', 'x_26_25', 'x_31_37', 'x_86_88', 'x_67_20', 'x_91_68', 'x_45_57', 'x_29_61', 'x_97_94', 'x_55_64', 'x_65_72', 'x_20_22', 'x_21_78', 'x_85_9', 'x_74_88', 'x_95_15', 'x_40_65', 'x_25_71', 'x_19_43', 'x_2_60', 'x_68_28', 'x_42_71', 'x_64_48', 'x_10_2', 'x_85_83', 'x_37_17', 'x_32_34', 'x_84_34', 'x_62_21', 'x_19_50', 'x_1_36', 'x_58_94', 'x_71_88', 'x_47_71', 'x_16_98', 'x_42_92', 'x_12_32', 'x_22_93', 'x_33_94', 'x_10_1', 'x_49_8', 'x_42_3', 'x_25_73', 'x_79_73', 'x_7_44', 'x_39_65', 'x_93_83', 'x_52_37', 'x_10_96', 'x_67_53', 'x_64_10', 'x_44_24', 'x_6_98', 'x_36_62', 'x_60_80', 'x_92_24', 'x_6_94', 'x_3_53', 'x_19_78', 'x_69_35', 'x_76_85', 'x_28_72', 'x_84_63', 'x_4_14', 'x_69_96', 'x_27_8', 'x_64_44', 'x_44_68', 'x_2_11', 'x_88_53', 'x_13_84', 'x_11_97', 'x_31_47', 'x_58_55', 'x_19_93', 'x_39_9', 'x_78_57', 'x_92_38', 'x_69_66', 'x_11_80', 'x_25_88', 'x_85_62', 'x_23_26', 'x_74_35', 'x_34_78', 'x_5_87', 'x_51_42', 'x_88_45', 'x_83_30', 'x_8_57', 'x_63_7', 'x_27_53', 'x_66_91', 'x_46_28', 'x_48_86', 'x_48_69', 'x_20_62', 'x_13_87', 'x_79_63', 'x_43_87', 'x_43_96', 'x_11_14', 'x_97_88', 'x_71_12', 'x_29_55', 'x_96_53', 'x_30_44', 'x_51_10', 'x_60_65', 'x_79_68', 'x_5_83', 'x_46_89', 'x_26_22', 'x_98_59', 'x_22_74', 'x_29_96', 'x_93_6', 'x_21_77', 'x_30_36', 'x_80_61', 'x_37_90', 'x_58_18', 'x_23_25', 'x_53_35', 'x_3_58', 'x_4_21', 'x_44_13', 'x_66_41', 'x_84_23', 'x_9_25', 'x_54_16', 'x_30_74', 'x_82_3', 'x_44_45', 'x_60_43', 'x_0_15', 'x_30_1', 'x_58_35', 'x_27_60', 'x_61_88', 'x_57_56', 'x_83_22', 'x_66_21', 'x_70_36', 'x_24_88', 'x_42_7', 'x_85_49', 'x_45_3', 'x_63_96', 'x_19_14', 'x_47_73', 'x_13_37', 'x_19_41', 'x_97_59', 'x_65_68', 'x_69_82', 'x_93_62', 'x_67_0', 'x_54_99', 'x_14_74', 'x_74_25', 'x_57_5', 'x_12_48', 'x_76_54', 'x_8_61', 'x_15_60', 'x_10_13', 'x_81_98', 'x_16_22', 'x_52_94', 'x_12_30', 'x_7_71', 'x_64_37', 'x_88_22', 'x_33_34', 'x_75_22', 'x_33_69', 'x_22_18', 'x_1_14', 'x_18_50', 'x_3_72', 'x_34_99', 'x_70_62', 'x_50_93', 'x_78_73', 'x_81_44', 'x_92_17', 'x_90_48', 'x_86_69', 'x_56_7', 'x_96_29', 'x_52_52', 'x_16_55', 'x_34_62', 'x_69_44', 'x_59_27', 'x_20_61', 'x_53_13', 'x_27_34', 'x_12_84', 'x_8_1', 'x_52_74', 'x_15_36', 'x_52_46', 'x_33_52', 'x_4_71', 'x_47_3', 'x_61_7', 'x_21_98', 'x_92_93', 'x_42_57', 'x_16_91', 'x_36_11', 'x_47_41', 'x_91_8', 'x_88_37', 'x_98_79', 'x_62_95', 'x_72_77', 'x_57_66', 'x_36_9', 'x_83_23', 'x_59_89', 'x_84_37', 'x_50_31', 'x_45_22', 'x_92_72', 'x_20_37', 'x_83_79', 'x_9_41', 'x_50_85', 'x_75_54', 'x_4_77', 'x_67_65', 'x_1_66', 'x_38_16', 'x_76_48', 'x_70_12', 'x_74_68', 'x_80_20', 'x_16_71', 'x_61_25', 'x_58_32', 'x_13_66', 'x_47_89', 'x_30_21', 'x_26_13', 'x_5_39', 'x_70_85', 'x_1_83', 'x_47_38', 'x_13_58', 'x_96_14', 'x_26_27', 'x_93_73', 'x_92_41', 'x_57_76', 'x_38_29', 'x_49_2', 'x_88_71', 'x_46_48', 'x_91_70', 'x_35_28', 'x_77_93', 'x_3_86', 'x_34_16', 'x_76_92', 'x_64_50', 'x_69_41', 'x_14_82', 'x_18_88', 'x_75_88', 'x_57_69', 'x_96_71', 'x_87_13', 'x_63_86', 'x_67_88', 'x_16_52', 'x_18_74', 'x_57_97', 'x_12_50', 'x_27_31', 'x_99_45', 'x_45_35', 'x_41_36', 'x_25_68', 'x_89_77', 'x_45_46', 'x_8_76', 'x_76_98', 'x_58_22', 'x_26_61', 'x_57_17', 'x_82_72', 'x_49_48', 'x_36_75', 'x_5_57', 'x_99_84', 'x_5_85', 'x_86_46', 'x_13_30', 'x_7_34', 'x_65_46', 'x_77_20', 'x_9_70', 'x_27_16', 'x_94_32', 'x_1_93', 'x_18_72', 'x_23_69', 'x_4_30', 'x_60_78', 'x_44_31', 'x_69_88', 'x_82_22', 'x_33_85', 'x_44_54', 'x_1_20', 'x_73_23', 'x_62_63', 'x_38_67', 'x_73_73', 'x_55_83', 'x_4_8', 'x_50_28', 'x_79_35', 'x_14_65', 'x_67_87', 'x_96_92', 'x_31_46', 'x_3_15', 'x_86_75', 'x_16_5', 'x_88_11', 'x_82_31', 'x_59_43', 'x_60_2', 'x_85_97', 'x_87_96', 'x_2_89', 'x_40_36', 'x_8_51', 'x_6_46', 'x_60_15', 'x_93_79', 'x_92_13', 'x_96_20', 'x_64_89', 'x_77_9', 'x_62_64', 'x_68_94', 'x_47_99', 'x_34_10', 'x_14_21', 'x_89_69', 'x_13_12', 'x_51_90', 'x_1_24', 'x_89_72', 'x_90_30', 'x_21_99', 'x_84_22', 'x_75_64', 'x_73_29', 'x_25_24', 'x_98_29', 'x_29_95', 'x_13_57', 'x_14_3', 'x_71_7', 'x_18_10', 'x_54_79', 'x_32_65', 'x_49_75', 'x_5_77', 'x_97_85', 'x_5_81', 'x_26_24', 'x_97_89', 'x_89_19', 'x_2_28', 'x_70_94', 'x_32_41', 'x_22_59', 'x_57_91', 'x_87_68', 'x_42_5', 'x_37_19', 'x_60_23', 'x_88_18', 'x_61_62', 'x_77_74', 'x_74_49', 'x_89_24', 'x_11_32', 'x_19_4', 'x_16_2', 'x_25_93', 'x_51_81', 'x_49_9', 'x_56_71', 'x_70_73', 'x_3_64', 'x_77_45', 'x_23_86', 'x_93_21', 'x_91_24', 'x_23_11', 'x_1_52', 'x_34_52', 'x_76_44', 'x_44_72', 'x_5_14', 'x_60_49', 'x_2_88', 'x_35_27', 'x_98_57', 'x_22_43', 'x_38_8', 'x_89_60', 'x_13_86', 'x_72_46', 'x_64_13', 'x_72_70', 'x_29_16', 'x_62_2', 'x_14_89', 'x_86_13', 'x_76_39', 'x_58_19', 'x_33_66', 'x_1_84', 'x_61_52', 'x_30_97', 'x_58_7', 'x_53_61', 'x_14_57', 'x_47_91', 'x_70_5', 'x_40_99', 'x_63_57', 'x_38_54', 'x_11_10', 'x_24_36', 'x_12_99', 'x_45_87', 'x_44_98', 'x_8_14', 'x_14_13', 'x_53_29', 'x_33_37', 'x_64_97', 'x_88_8', 'x_28_63', 'x_91_64', 'x_55_65', 'x_70_79', 'x_49_93', 'x_80_6', 'x_72_27', 'x_17_77', 'x_5_51', 'x_95_5', 'x_80_77', 'x_57_71', 'x_25_28', 'x_49_52', 'x_28_39', 'x_13_62', 'x_1_16', 'x_62_92', 'x_9_87', 'x_51_25', 'x_18_41', 'x_87_79', 'x_24_83', 'x_11_50', 'x_19_88', 'x_34_6', 'x_12_5', 'x_27_22', 'x_72_60', 'x_38_13', 'x_87_7', 'x_55_93', 'x_15_7', 'x_90_22', 'x_27_64', 'x_58_27', 'x_84_96', 'x_29_54', 'x_69_99', 'x_68_75', 'x_97_8', 'x_52_21', 'x_81_24', 'x_77_94', 'x_29_31', 'x_11_15', 'x_13_0', 'x_11_51', 'x_89_2', 'x_29_9', 'x_34_67', 'x_95_71', 'x_34_88', 'x_21_18', 'x_46_4', 'x_57_61', 'x_2_61', 'x_23_53', 'x_57_88', 'x_70_58', 'x_23_84', 'x_72_79', 'x_24_34', 'x_55_72', 'x_92_18', 'x_7_77', 'x_17_32', 'x_34_49', 'x_58_74', 'x_96_22', 'x_34_81', 'x_50_91', 'x_48_21', 'x_61_89', 'x_83_69', 'x_37_82', 'x_82_55', 'x_52_16', 'x_49_27', 'x_81_14', 'x_99_41', 'x_24_73', 'x_58_29', 'x_96_50', 'x_11_90', 'x_3_93', 'x_82_40', 'x_18_39', 'x_14_35', 'x_42_20', 'x_87_11', 'x_64_72', 'x_92_27', 'x_31_41', 'x_26_0', 'x_59_56', 'x_6_93', 'x_42_4', 'x_49_65', 'x_17_14', 'x_41_82', 'x_89_17', 'x_53_77', 'x_4_90', 'x_1_89', 'x_21_16', 'x_69_91', 'x_1_88', 'x_56_45', 'x_95_81', 'x_92_74', 'x_52_96', 'x_0_9', 'x_39_43', 'x_20_8', 'x_8_86', 'x_92_49', 'x_38_71', 'x_8_25', 'x_66_39', 'x_18_78', 'x_24_30', 'x_30_79', 'x_69_61', 'x_72_47', 'x_37_73', 'x_23_0', 'x_64_56', 'x_61_30', 'x_37_91', 'x_44_40', 'x_41_46', 'x_77_19', 'x_46_84', 'x_83_29', 'x_13_63', 'x_43_65', 'x_74_75', 'x_33_74', 'x_64_65', 'x_83_10', 'x_95_37', 'x_96_10', 'x_81_97', 'x_20_4', 'x_61_3', 'x_40_18', 'x_47_74', 'x_27_78', 'x_39_29', 'x_75_95', 'x_83_60', 'x_71_99', 'x_28_56', 'x_66_14', 'x_6_12', 'x_41_43', 'x_27_62', 'x_94_51', 'x_47_16', 'x_29_88', 'x_28_83', 'x_41_10', 'x_92_2', 'x_21_0', 'x_35_77', 'x_56_9', 'x_71_79', 'x_61_12', 'x_98_20', 'x_31_54', 'x_23_34', 'x_16_39', 'x_76_93', 'x_94_67', 'x_89_86', 'x_33_51', 'x_24_9', 'x_83_47', 'x_73_98', 'x_83_28', 'x_51_97', 'x_7_76', 'x_2_4', 'x_55_90', 'x_6_68', 'x_7_4', 'x_37_89', 'x_35_2', 'x_60_28', 'x_56_42', 'x_76_77', 'x_41_93', 'x_99_17', 'x_3_99', 'x_47_20', 'x_13_56', 'x_52_15', 'x_78_66', 'x_84_57', 'x_84_60', 'x_38_73', 'x_80_50', 'x_53_90', 'x_62_75', 'x_18_43', 'x_74_94', 'x_90_72', 'x_79_62', 'x_13_72', 'x_26_50', 'x_63_6', 'x_99_61', 'x_54_12', 'x_52_83', 'x_60_13', 'x_30_59', 'x_46_73', 'x_46_60', 'x_1_95', 'x_87_19', 'x_59_32', 'x_87_77', 'x_44_93', 'x_80_63', 'x_78_34', 'x_29_91', 'x_60_7', 'x_38_62', 'x_87_69', 'x_52_72', 'x_5_92', 'x_24_35', 'x_11_72', 'x_42_28', 'x_23_12', 'x_85_92', 'x_79_34', 'x_49_45', 'x_92_95', 'x_64_21', 'x_11_4', 'x_37_79', 'x_1_12', 'x_85_86', 'x_79_6', 'x_46_92', 'x_53_60', 'x_71_87', 'x_66_50', 'x_30_22', 'x_57_38', 'x_92_46', 'x_41_50', 'x_24_0', 'x_48_96', 'x_9_84', 'x_81_86', 'x_17_11', 'x_24_54', 'x_53_57', 'x_86_80', 'x_50_9', 'x_12_79', 'x_78_42', 'x_93_87', 'x_88_40', 'x_63_92', 'x_91_33', 'x_44_47', 'x_20_53', 'x_22_8', 'x_45_19', 'x_56_65', 'x_16_46', 'x_49_14', 'x_61_93', 'x_36_26', 'x_43_35', 'x_82_4', 'x_34_66', 'x_21_54', 'x_8_99', 'x_36_35', 'x_88_9', 'x_21_46', 'x_49_68', 'x_80_75', 'x_41_42', 'x_78_87', 'x_43_38', 'x_14_29', 'x_49_24', 'x_88_83', 'x_48_97', 'x_50_4', 'x_60_30', 'x_93_15', 'x_51_45', 'x_7_68', 'x_40_35', 'x_65_70', 'x_60_89', 'x_45_76', 'x_30_43', 'x_74_20', 'x_26_19', 'x_37_42', 'x_50_52', 'x_25_76', 'x_42_40', 'x_40_4', 'x_53_26', 'x_20_97', 'x_63_78', 'x_32_9', 'x_78_24', 'x_21_74', 'x_67_9', 'x_54_13', 'x_39_46', 'x_64_19', 'x_58_64', 'x_4_55', 'x_63_69', 'x_27_19', 'x_72_53', 'x_67_72', 'x_87_43', 'x_97_19', 'x_1_18', 'x_67_97', 'x_96_72', 'x_59_24', 'x_74_50', 'x_72_13', 'x_85_91', 'x_74_97', 'x_60_41', 'x_20_78', 'x_51_8', 'x_37_9', 'x_15_25', 'x_29_22', 'x_44_43', 'x_37_1', 'x_66_66', 'x_42_99', 'x_69_84', 'x_52_55', 'x_27_92', 'x_58_62', 'x_61_55', 'x_40_16', 'x_43_88', 'x_47_61', 'x_37_67', 'x_76_28', 'x_16_97', 'x_99_74', 'x_42_35', 'x_76_94', 'x_34_95', 'x_2_3', 'x_73_71', 'x_72_10', 'x_64_5', 'x_21_2', 'x_51_4', 'x_90_33', 'x_35_0', 'x_3_75', 'x_59_52', 'x_19_71', 'x_92_85', 'x_91_34', 'x_41_80', 'x_8_64', 'x_25_67', 'x_55_51', 'x_71_18', 'x_95_63', 'x_49_7', 'x_1_2', 'x_9_23', 'x_95_29', 'x_20_9', 'x_20_66', 'x_78_2', 'x_24_42', 'x_44_50', 'x_74_62', 'x_54_83', 'x_63_26', 'x_92_16', 'x_98_7', 'x_94_40', 'x_57_83', 'x_86_59', 'x_88_94', 'x_56_26', 'x_85_93', 'x_46_7', 'x_32_81', 'x_10_65', 'x_23_89', 'x_0_89', 'x_30_93', 'x_23_79', 'x_87_88', 'x_72_71', 'x_91_73', 'x_11_39', 'x_83_91', 'x_87_30', 'x_58_95', 'x_16_66', 'x_7_93', 'x_0_40', 'x_46_57', 'x_8_41', 'x_97_55', 'x_40_78', 'x_17_55', 'x_48_84', 'x_15_86', 'x_61_86', 'x_86_20', 'x_24_90', 'x_15_88', 'x_16_95', 'x_29_8', 'x_48_15', 'x_36_69', 'x_70_19', 'x_52_45', 'x_36_64', 'x_71_9', 'x_53_45', 'x_31_67', 'x_60_61', 'x_87_95', 'x_36_65', 'x_28_87', 'x_98_32', 'x_89_1', 'x_54_89', 'x_72_12', 'x_12_65', 'x_16_3', 'x_69_42', 'x_30_19', 'x_16_53', 'x_57_65', 'x_43_36', 'x_25_0', 'x_52_33', 'x_84_18', 'x_61_54', 'x_39_75', 'x_93_96', 'x_43_15', 'x_70_97', 'x_0_25', 'x_41_74', 'x_47_7', 'x_23_27', 'x_70_88', 'x_35_8', 'x_4_65', 'x_3_32', 'x_90_36', 'x_60_77', 'x_43_84', 'x_25_38', 'x_89_67', 'x_36_40', 'x_23_17', 'x_52_53', 'x_2_97', 'x_3_9', 'x_34_20', 'x_36_82', 'x_99_28', 'x_63_10', 'x_43_92', 'x_79_47', 'x_23_96', 'x_19_8', 'x_36_25', 'x_77_70', 'x_95_14', 'x_36_60', 'x_66_78', 'x_34_65', 'x_44_69', 'x_97_80', 'x_59_90', 'x_5_37', 'x_76_43', 'x_21_44', 'x_0_82', 'x_64_88', 'x_43_45', 'x_75_73', 'x_8_74', 'x_50_88', 'x_38_58', 'x_9_79', 'x_93_17', 'x_59_78', 'x_7_60', 'x_31_8', 'x_6_82', 'x_94_94', 'x_45_68', 'x_26_26', 'x_41_9', 'x_55_39', 'x_59_87', 'x_98_39', 'x_28_53', 'x_32_25', 'x_97_10', 'x_5_73', 'x_72_76', 'x_39_0', 'x_72_82', 'x_52_85', 'x_75_68', 'x_88_61', 'x_73_49', 'x_77_6', 'x_58_54', 'x_6_1', 'x_23_1', 'x_86_83', 'x_83_80', 'x_34_24', 'x_79_30', 'x_44_52', 'x_4_98', 'x_83_31', 'x_59_50', 'x_95_80', 'x_45_0', 'x_14_68', 'x_49_11', 'x_61_53', 'x_79_10', 'x_22_68', 'x_49_83', 'x_40_90', 'x_31_86', 'x_24_40', 'x_62_32', 'x_99_48', 'x_39_95', 'x_69_86', 'x_89_85', 'x_53_2', 'x_7_57', 'x_24_61', 'x_16_25', 'x_84_70', 'x_87_84', 'x_56_32', 'x_9_82', 'x_24_14', 'x_56_20', 'x_78_29', 'x_76_32', 'x_82_52', 'x_12_2', 'x_78_11', 'x_88_38', 'x_78_71', 'x_36_88', 'x_9_66', 'x_72_19', 'x_91_19', 'x_21_28', 'x_56_29', 'x_95_90', 'x_23_83', 'x_65_38', 'x_83_95', 'x_55_62', 'x_36_50', 'x_88_60', 'x_69_54', 'x_83_55', 'x_6_18', 'x_44_67', 'x_71_15', 'x_98_1', 'x_31_29', 'x_58_65', 'x_11_94', 'x_95_98', 'x_15_71', 'x_80_89', 'x_87_26', 'x_31_66', 'x_76_11', 'x_31_16', 'x_42_2', 'x_14_53', 'x_41_39', 'x_41_72', 'x_55_48', 'x_1_15', 'x_31_60', 'x_53_69', 'x_42_24', 'x_43_27', 'x_28_57', 'x_94_49', 'x_33_45', 'x_78_55', 'x_78_97', 'x_42_63', 'x_88_35', 'x_61_77', 'x_57_26', 'x_21_14', 'x_93_63', 'x_26_21', 'x_11_49', 'x_25_2', 'x_46_8', 'x_8_93', 'x_94_96', 'x_46_12', 'x_50_45', 'x_6_5', 'x_40_11', 'x_25_83', 'x_73_59', 'x_91_17', 'x_58_48', 'x_91_18', 'x_0_50', 'x_15_14', 'x_99_42', 'x_47_75', 'x_69_65', 'x_97_42', 'x_62_84', 'x_80_38', 'x_76_61', 'x_97_72', 'x_13_41', 'x_82_6', 'x_14_97', 'x_4_15', 'x_25_40', 'x_12_14', 'x_27_74', 'x_24_18', 'x_77_92', 'x_11_81', 'x_90_86', 'x_32_52', 'x_32_64', 'x_94_64', 'x_85_69', 'x_97_70', 'x_99_77', 'x_92_88', 'x_36_44', 'x_36_99', 'x_37_71', 'x_18_49', 'x_14_96', 'x_70_17', 'x_66_11', 'x_59_62', 'x_41_90', 'x_31_72', 'x_28_82', 'x_26_83', 'x_96_80', 'x_69_46', 'x_46_59', 'x_18_25', 'x_38_2', 'x_26_20', 'x_70_38', 'x_81_40', 'x_55_0', 'x_43_54', 'x_7_8', 'x_32_27', 'x_45_41', 'x_84_44', 'x_5_30', 'x_16_31', 'x_71_1', 'x_69_14', 'x_93_94', 'x_70_96', 'x_61_0', 'x_52_23', 'x_76_35', 'x_99_91', 'x_43_43', 'x_14_78', 'x_50_87', 'x_43_57', 'x_80_60', 'x_92_10', 'x_2_91', 'x_48_89', 'x_22_56', 'x_39_28', 'x_67_86', 'x_22_91', 'x_58_57', 'x_18_15', 'x_56_39', 'x_37_74', 'x_21_52', 'x_52_10', 'x_40_34', 'x_43_16', 'x_67_79', 'x_85_80', 'x_81_54', 'x_42_41', 'x_61_10', 'x_66_96', 'x_94_47', 'x_28_43', 'x_99_58', 'x_91_94', 'x_17_54', 'x_21_69', 'x_95_88', 'x_2_48', 'x_13_34', 'x_94_65', 'x_26_66', 'x_88_42', 'x_72_39', 'x_65_93', 'x_72_87', 'x_2_98', 'x_43_18', 'x_51_33', 'x_8_39', 'x_39_41', 'x_32_61', 'x_2_72', 'x_39_22', 'x_5_15', 'x_35_48', 'x_29_27', 'x_54_40', 'x_76_57', 'x_6_28', 'x_83_54', 'x_63_27', 'x_44_15', 'x_87_20', 'x_79_28', 'x_60_38', 'x_50_51', 'x_94_79', 'x_73_94', 'x_82_95', 'x_67_39', 'x_16_15', 'x_73_53', 'x_20_25', 'x_12_9', 'x_47_40', 'x_32_62', 'x_24_78', 'x_67_33', 'x_88_72', 'x_70_93', 'x_24_55', 'x_56_1', 'x_59_60', 'x_62_60', 'x_13_99', 'x_8_55', 'x_27_99', 'x_74_52', 'x_70_51', 'x_41_7', 'x_30_47', 'x_92_15', 'x_30_81', 'x_38_34', 'x_14_28', 'x_82_63', 'x_35_53', 'x_45_12', 'x_47_18', 'x_35_94', 'x_9_75', 'x_64_71', 'x_1_21', 'x_60_34', 'x_57_36', 'x_65_33', 'x_34_31', 'x_84_94', 'x_10_70', 'x_20_68', 'x_97_35', 'x_54_15', 'x_10_71', 'x_53_92', 'x_29_14', 'x_14_94', 'x_30_92', 'x_15_44', 'x_16_94', 'x_23_19', 'x_77_78', 'x_73_38', 'x_14_26', 'x_30_32', 'x_83_74', 'x_30_13', 'x_77_12', 'x_33_57', 'x_14_22', 'x_7_54', 'x_46_53', 'x_92_37', 'x_41_58', 'x_78_48', 'x_89_43', 'x_51_24', 'x_66_90', 'x_55_60', 'x_27_58', 'x_92_32', 'x_14_19', 'x_72_36', 'x_61_14', 'x_21_58', 'x_81_67', 'x_0_83', 'x_43_44', 'x_97_96', 'x_51_50', 'x_25_23', 'x_79_76', 'x_18_11', 'x_36_85', 'x_62_19', 'x_82_20', 'x_59_93', 'x_55_58', 'x_85_3', 'x_21_86', 'x_17_7', 'x_85_94', 'x_96_89', 'x_7_49', 'x_67_50', 'x_22_51', 'x_40_26', 'x_20_98', 'x_4_42', 'x_68_64', 'x_35_15', 'x_50_90', 'x_68_63', 'x_44_62', 'x_85_1', 'x_30_23', 'x_81_46', 'x_7_84', 'x_75_91', 'x_89_13', 'x_44_22', 'x_44_80', 'x_25_42', 'x_5_88', 'x_28_15', 'x_92_71', 'x_47_52', 'x_79_31', 'x_54_54', 'x_0_8', 'x_11_87', 'x_46_1', 'x_26_40', 'x_25_79', 'x_61_24', 'x_81_15', 'x_17_34', 'x_29_67', 'x_99_94', 'x_7_19', 'x_69_85', 'x_88_16', 'x_45_7', 'x_7_94', 'x_2_10', 'x_90_64', 'x_10_39', 'x_83_45', 'x_40_15', 'x_34_33', 'x_16_28', 'x_69_81', 'x_34_43', 'x_52_80', 'x_70_23', 'x_17_8', 'x_21_57', 'x_61_68', 'x_49_37', 'x_63_33', 'x_74_29', 'x_56_37', 'x_18_42', 'x_95_34', 'x_86_51', 'x_5_1', 'x_79_95', 'x_61_66', 'x_81_92', 'x_16_11', 'x_78_94', 'x_83_93', 'x_95_95', 'x_10_97', 'x_81_85', 'x_21_92', 'x_32_77', 'x_58_90', 'x_7_41', 'x_17_9', 'x_54_22', 'x_34_23', 'x_4_0', 'x_35_29', 'x_10_9', 'x_51_20', 'x_95_47', 'x_21_70', 'x_37_99', 'x_24_33', 'x_83_6', 'x_51_48', 'x_73_96', 'x_45_10', 'x_87_4', 'x_24_69', 'x_88_56', 'x_58_26', 'x_48_18', 'x_25_57', 'x_77_7', 'x_62_78', 'x_6_62', 'x_49_72', 'x_19_17', 'x_76_59', 'x_80_43', 'x_99_66', 'x_64_73', 'x_64_74', 'x_32_59', 'x_78_36', 'x_34_14', 'x_13_65', 'x_96_74', 'x_69_45', 'x_24_23', 'x_19_86', 'x_28_42', 'x_15_34', 'x_30_39', 'x_22_46', 'x_31_11', 'x_26_68', 'x_52_14', 'x_3_51', 'x_51_62', 'x_20_47', 'x_48_91', 'x_53_19', 'x_54_49', 'x_22_67', 'x_1_11', 'x_88_65', 'x_76_36', 'x_66_44', 'x_89_6', 'x_15_77', 'x_50_61', 'x_98_62', 'x_48_39', 'x_70_78', 'x_94_30', 'x_91_83', 'x_98_66', 'x_68_43', 'x_69_75', 'x_5_56', 'x_66_88', 'x_55_29', 'x_46_75', 'x_24_21', 'x_75_35', 'x_23_49', 'x_7_17', 'x_74_73', 'x_68_95', 'x_83_46', 'x_94_83', 'x_47_97', 'x_42_29', 'x_27_32', 'x_99_44', 'x_5_20', 'x_89_95', 'x_18_21', 'x_42_58', 'x_79_37', 'x_64_24', 'x_52_95', 'x_53_99', 'x_54_50', 'x_98_96', 'x_66_34', 'x_10_75', 'x_63_1', 'x_37_3', 'x_18_22', 'x_15_16', 'x_40_53', 'x_64_3', 'x_36_18', 'x_16_86', 'x_13_21', 'x_21_45', 'x_74_5', 'x_73_41', 'x_78_33', 'x_82_70', 'x_25_16', 'x_92_36', 'x_50_54', 'x_67_98', 'x_29_25', 'x_49_12', 'x_91_58', 'x_71_5', 'x_61_27', 'x_63_59', 'x_80_85', 'x_1_43', 'x_80_39', 'x_7_96', 'x_77_0', 'x_80_35', 'x_12_37', 'x_2_41', 'x_88_20', 'x_76_73', 'x_16_64', 'x_34_71', 'x_12_10', 'x_14_20', 'x_29_40', 'x_65_21', 'x_0_43', 'x_64_38', 'x_58_41', 'x_75_65', 'x_83_4', 'x_90_95', 'x_86_12', 'x_72_51', 'x_96_26', 'x_89_68', 'x_15_49', 'x_42_12', 'x_69_23', 'x_36_95', 'x_23_66', 'x_1_86', 'x_28_99', 'x_86_31', 'x_1_42', 'x_97_50', 'x_28_94', 'x_95_26', 'x_37_49', 'x_0_55', 'x_87_42', 'x_9_32', 'x_98_71', 'x_82_87', 'x_31_40', 'x_49_96', 'x_62_50', 'x_17_66', 'x_37_28', 'x_53_6', 'x_82_29', 'x_89_25', 'x_53_53', 'x_31_6', 'x_20_5', 'x_77_2', 'x_64_52', 'x_74_39', 'x_32_40', 'x_98_19', 'x_30_42', 'x_51_47', 'x_79_96', 'x_53_73', 'x_81_90', 'x_29_90', 'x_4_87', 'x_23_5', 'x_80_51', 'x_82_62', 'x_63_98', 'x_73_19', 'x_55_4', 'x_61_38', 'x_97_28', 'x_22_81', 'x_63_39', 'x_60_74', 'x_93_85', 'x_88_85', 'x_58_53', 'x_43_42', 'x_0_58', 'x_90_58', 'x_42_32', 'x_99_89', 'x_6_27', 'x_0_94', 'x_21_97', 'x_90_60', 'x_11_17', 'x_8_62', 'x_60_84', 'x_71_20', 'x_96_36', 'x_58_2', 'x_36_46', 'x_72_49', 'x_10_51', 'x_80_64', 'x_83_98', 'x_50_26', 'x_5_28', 'x_44_18', 'x_4_47', 'x_17_28', 'x_27_17', 'x_85_57', 'x_76_12', 'x_6_86', 'x_68_38', 'x_91_84', 'x_65_71', 'x_90_7', 'x_91_85', 'x_84_89', 'x_30_40', 'x_67_34', 'x_84_64', 'x_61_49', 'x_27_44', 'x_93_81', 'x_18_63', 'x_13_68', 'x_81_99', 'x_87_65', 'x_63_67', 'x_11_37', 'x_73_9', 'x_59_38', 'x_20_69', 'x_56_40', 'x_40_51', 'x_96_82', 'x_45_99', 'x_27_9', 'x_45_23', 'x_93_50', 'x_46_94', 'x_4_40', 'x_78_53', 'x_57_95', 'x_37_11', 'x_58_79', 'x_36_96', 'x_91_72', 'x_5_53', 'x_82_24', 'x_79_19', 'x_39_62', 'x_88_69', 'x_87_80', 'x_47_76', 'x_16_17', 'x_8_46', 'x_48_58', 'x_6_57', 'x_96_6', 'x_19_84', 'x_67_96', 'x_34_80', 'x_41_68', 'x_43_20', 'x_98_27', 'x_19_37', 'x_11_46', 'x_50_94', 'x_67_6', 'x_62_97', 'x_18_84', 'x_5_46', 'x_72_89', 'x_7_29', 'x_11_54', 'x_45_85', 'x_81_19', 'x_90_66', 'x_58_23', 'x_88_84', 'x_68_9', 'x_83_59', 'x_17_62', 'x_45_86', 'x_99_64', 'x_39_13', 'x_96_90', 'x_59_48', 'x_45_9', 'x_62_43', 'x_78_3', 'x_4_35', 'x_99_97', 'x_9_72', 'x_7_99', 'x_66_73', 'x_20_74', 'x_38_26', 'x_96_42', 'x_11_96', 'x_35_57', 'x_36_3', 'x_83_27', 'x_55_40', 'x_77_17', 'x_4_91', 'x_17_65', 'x_72_92', 'x_83_99', 'x_92_60', 'x_69_59', 'x_82_79', 'x_58_37', 'x_4_60', 'x_48_1', 'x_93_68', 'x_65_26', 'x_64_36', 'x_17_85', 'x_94_38', 'x_9_21', 'x_8_80', 'x_90_31', 'x_16_88', 'x_37_38', 'x_14_80', 'x_55_35', 'x_67_52', 'x_94_80', 'x_83_97', 'x_32_63', 'x_42_19', 'x_10_37', 'x_87_92', 'x_23_92', 'x_14_90', 'x_14_91', 'x_36_16', 'x_62_26', 'x_82_17', 'x_45_64', 'x_23_36', 'x_32_32', 'x_58_1', 'x_87_36', 'x_74_59', 'x_17_44', 'x_2_5', 'x_87_44', 'x_54_10', 'x_87_3', 'x_65_20', 'x_58_96', 'x_7_36', 'x_94_53', 'x_85_67', 'x_56_70', 'x_0_75', 'x_84_82', 'x_75_10', 'x_94_4', 'x_2_19', 'x_97_2', 'x_41_16', 'x_72_91', 'x_70_11', 'x_25_12', 'x_30_30', 'x_70_86', 'x_44_66', 'x_54_59', 'x_54_63', 'x_68_2', 'x_70_0', 'x_84_7', 'x_32_21', 'x_30_82', 'x_99_87', 'x_46_25', 'x_41_86', 'x_86_21', 'x_15_19', 'x_3_61', 'x_62_18', 'x_56_56', 'x_1_13', 'x_53_42', 'x_52_78', 'x_95_86', 'x_53_1', 'x_58_21', 'x_52_68', 'x_73_57', 'x_49_46', 'x_86_16', 'x_70_48', 'x_70_16', 'x_82_11', 'x_14_52', 'x_30_72', 'x_97_90', 'x_86_42', 'x_74_63', 'x_40_77', 'x_95_58', 'x_78_59', 'x_44_79', 'x_71_13', 'x_55_18', 'x_19_47', 'x_62_86', 'x_8_48', 'x_38_51', 'x_62_73', 'x_35_96', 'x_72_84', 'x_7_24', 'x_4_19', 'x_35_21', 'x_51_46', 'x_1_31', 'x_6_43', 'x_43_67', 'x_71_56', 'x_96_93', 'x_35_81', 'x_3_74', 'x_24_80', 'x_55_63', 'x_96_88', 'x_89_12', 'x_32_70', 'x_76_66', 'x_42_11', 'x_87_37', 'x_80_21', 'x_1_40', 'x_4_61', 'x_44_90', 'x_53_22', 'x_25_55', 'x_18_99', 'x_39_40', 'x_85_36', 'x_0_67', 'x_73_97', 'x_4_25', 'x_72_40', 'x_19_68', 'x_52_99', 'x_36_78', 'x_99_85', 'x_71_89', 'x_88_70', 'x_19_92', 'x_94_74', 'x_30_67', 'x_2_31', 'x_92_9', 'x_9_39', 'x_58_40', 'x_81_53', 'x_24_92', 'x_58_25', 'x_88_44', 'x_75_40', 'x_46_19', 'x_76_72', 'x_9_81', 'x_22_25', 'x_6_89', 'x_5_89', 'x_86_0', 'x_37_18', 'x_68_12', 'x_68_42', 'x_34_2', 'x_80_13', 'x_93_51', 'x_91_66', 'x_13_94', 'x_20_39', 'x_48_77', 'x_18_67', 'x_79_55', 'x_49_77', 'x_11_48', 'x_78_22', 'x_11_27', 'x_15_53', 'x_48_65', 'x_26_91', 'x_85_55', 'x_80_7', 'x_12_33', 'x_97_49', 'x_78_78', 'x_26_2', 'x_68_25', 'x_17_41', 'x_34_60', 'x_77_65', 'x_96_83', 'x_19_52', 'x_0_1', 'x_50_40', 'x_58_24', 'x_82_80', 'x_76_88', 'x_47_77', 'x_96_1', 'x_9_92', 'x_27_89', 'x_45_25', 'x_9_68', 'x_14_43', 'x_24_66', 'x_13_93', 'x_70_95', 'x_98_36', 'x_70_3', 'x_90_56', 'x_14_34', 'x_29_39', 'x_22_99', 'x_67_27', 'x_22_28', 'x_73_21', 'x_57_14', 'x_78_61', 'x_20_3', 'x_15_93', 'x_73_83', 'x_49_35', 'x_85_23', 'x_31_64', 'x_43_2', 'x_48_54', 'x_68_77', 'x_8_31', 'x_88_21', 'x_93_76', 'x_30_91', 'x_57_47', 'x_42_31', 'x_38_84', 'x_66_57', 'x_56_59', 'x_41_52', 'x_6_87', 'x_47_56', 'x_19_66', 'x_29_18', 'x_33_67', 'x_46_13', 'x_74_18', 'x_64_23', 'x_8_20', 'x_44_16', 'x_8_24', 'x_51_32', 'x_40_62', 'x_14_93', 'x_60_45', 'x_18_51', 'x_24_70', 'x_66_81', 'x_52_2', 'x_59_10', 'x_15_97', 'x_72_64', 'x_82_51', 'x_15_74', 'x_20_82', 'x_34_41', 'x_69_93', 'x_34_40', 'x_54_91', 'x_89_91', 'x_42_30', 'x_78_27', 'x_40_98', 'x_59_64', 'x_25_41', 'x_57_54', 'x_4_59', 'x_22_37', 'x_80_5', 'x_22_96', 'x_45_97', 'x_0_26', 'x_11_60', 'x_26_89', 'x_47_59', 'x_63_72', 'x_97_73', 'x_82_42', 'x_15_62', 'x_20_11', 'x_75_11', 'x_13_47', 'x_16_82', 'x_0_59', 'x_25_91', 'x_5_4', 'x_46_82', 'x_57_86', 'x_70_2', 'x_45_95', 'x_0_93', 'x_45_48', 'x_36_49', 'x_79_13', 'x_46_86', 'x_35_20', 'x_53_38', 'x_62_38', 'x_55_7', 'x_6_34', 'x_66_45', 'x_82_35', 'x_14_46', 'x_73_28', 'x_62_67', 'x_60_85', 'x_25_25', 'x_53_17', 'x_37_56', 'x_1_85', 'x_38_18', 'x_42_9', 'x_12_20', 'x_54_41', 'x_42_14', 'x_51_21', 'x_98_28', 'x_95_17', 'x_56_41', 'x_97_74', 'x_11_88', 'x_93_98', 'x_12_82', 'x_13_61', 'x_54_88', 'x_63_60', 'x_26_90', 'x_62_7', 'x_24_95', 'x_64_95', 'x_58_9', 'x_62_68', 'x_49_86', 'x_63_35', 'x_52_49', 'x_26_88', 'x_13_46', 'x_98_75', 'x_73_62', 'x_75_44', 'x_46_97', 'x_33_87', 'x_99_2', 'x_77_23', 'x_70_59', 'x_6_79', 'x_66_18', 'x_71_30', 'x_37_63', 'x_5_64', 'x_40_83', 'x_61_70', 'x_1_49', 'x_67_11', 'x_28_33', 'x_82_0', 'x_34_34', 'x_94_28', 'x_55_75', 'x_51_88', 'x_68_7', 'x_81_94', 'x_66_40', 'x_46_40', 'x_65_94', 'x_94_55', 'x_9_74', 'x_95_77', 'x_44_83', 'x_42_88', 'x_27_90', 'x_90_84', 'x_13_6', 'x_88_32', 'x_86_89', 'x_12_45', 'x_39_54', 'x_76_79', 'x_37_98', 'x_18_8', 'x_23_15', 'x_81_49', 'x_36_20', 'x_36_1', 'x_99_33', 'x_84_42', 'x_94_75', 'x_93_91', 'x_99_88', 'x_27_93', 'x_89_5', 'x_52_25', 'x_74_90', 'x_83_14', 'x_54_6', 'x_0_32', 'x_90_92', 'x_48_35', 'x_93_39', 'x_57_60', 'x_99_71', 'x_90_41', 'x_51_69', 'x_78_95', 'x_71_64', 'x_52_71', 'x_86_27', 'x_36_0', 'x_56_28', 'x_39_86', 'x_39_48', 'x_80_26', 'x_11_3', 'x_42_54', 'x_82_76', 'x_79_92', 'x_87_21', 'x_25_92', 'x_57_4', 'x_65_0', 'x_50_19', 'x_97_83', 'x_18_61', 'x_13_28', 'x_76_95', 'x_60_9', 'x_37_43', 'x_66_82', 'x_83_16', 'x_69_78', 'x_15_65', 'x_72_35', 'x_13_79', 'x_38_53', 'x_66_69', 'x_75_28', 'x_54_7', 'x_75_8', 'x_86_6', 'x_73_79', 'x_73_36', 'x_59_25', 'x_11_11', 'x_95_92', 'x_76_55', 'x_52_36', 'x_60_67', 'x_81_93', 'x_88_34', 'x_74_31', 'x_84_28', 'x_20_84', 'x_25_96', 'x_60_1', 'x_23_37', 'x_75_92', 'x_35_18', 'x_40_9', 'x_38_50', 'x_79_78', 'x_81_63', 'x_31_26', 'x_30_35', 'x_56_50', 'x_30_16', 'x_6_56', 'x_45_24', 'x_94_0', 'x_53_75', 'x_77_98', 'x_1_82', 'x_44_86', 'x_84_65', 'x_52_38', 'x_96_2', 'x_8_83', 'x_14_42', 'x_86_52', 'x_73_2', 'x_6_37', 'x_17_27', 'x_3_31', 'x_16_96', 'x_95_82', 'x_83_24', 'x_61_87', 'x_13_64', 'x_82_7', 'x_83_1', 'x_56_61', 'x_57_19', 'x_49_30', 'x_39_60', 'x_21_81', 'x_6_71', 'x_20_33', 'x_75_3', 'x_32_8', 'x_59_55', 'x_93_80', 'x_13_25', 'x_73_48', 'x_19_56', 'x_35_65', 'x_52_93', 'x_61_36', 'x_65_34', 'x_74_78', 'x_57_18', 'x_34_77', 'x_89_50', 'x_28_20', 'x_34_86', 'x_18_80', 'x_97_3', 'x_58_44', 'x_54_23', 'x_50_12', 'x_19_39', 'x_97_31', 'x_83_71', 'x_91_11', 'x_6_54', 'x_77_64', 'x_13_38', 'x_43_51', 'x_96_85', 'x_53_64', 'x_52_67', 'x_16_51', 'x_98_80', 'x_61_11', 'x_75_56', 'x_44_48', 'x_89_3', 'x_48_38', 'x_16_8', 'x_69_83', 'x_41_40', 'x_82_58', 'x_57_33', 'x_31_82', 'x_28_7', 'x_67_13', 'x_24_32', 'x_11_73', 'x_24_1', 'x_76_16', 'x_23_99', 'x_10_18', 'x_33_72', 'x_46_23', 'x_79_11', 'x_40_92', 'x_95_23', 'x_8_47', 'x_83_66', 'x_86_30', 'x_55_91', 'x_75_55', 'x_43_29', 'x_7_3', 'x_35_16', 'x_17_26', 'x_10_43', 'x_2_82', 'x_4_46', 'x_54_65', 'x_24_72', 'x_73_87', 'x_22_94', 'x_89_70', 'x_72_25', 'x_53_85', 'x_33_41', 'x_67_44', 'x_30_80', 'x_42_84', 'x_7_90', 'x_74_80', 'x_90_37', 'x_56_38', 'x_64_66', 'x_73_33', 'x_6_67', 'x_38_24', 'x_81_84', 'x_86_98', 'x_51_99', 'x_74_30', 'x_14_36', 'x_8_90', 'x_25_9', 'x_40_76', 'x_27_37', 'x_17_24', 'x_64_53', 'x_31_79', 'x_50_57', 'x_54_0', 'x_60_64', 'x_50_84', 'x_19_45', 'x_60_32', 'x_58_84', 'x_44_21', 'x_36_93', 'x_82_39', 'x_40_72', 'x_70_68', 'x_79_21', 'x_87_54', 'x_55_74', 'x_63_9', 'x_36_63', 'x_56_64', 'x_40_84', 'x_25_50', 'x_44_64', 'x_46_38', 'x_31_97', 'x_15_4', 'x_89_94', 'x_54_53', 'x_98_14', 'x_17_25', 'x_25_47', 'x_63_54', 'x_0_20', 'x_34_69', 'x_97_51', 'x_24_75', 'x_63_53', 'x_54_29', 'x_32_36', 'x_86_43', 'x_93_0', 'x_40_3', 'x_93_25', 'x_0_23', 'x_92_23', 'x_15_24', 'x_32_26', 'x_0_99', 'x_12_91', 'x_98_97', 'x_68_54', 'x_62_93', 'x_65_30', 'x_93_2', 'x_10_49', 'x_38_25', 'x_68_5', 'x_22_86', 'x_79_72', 'x_0_74', 'x_70_4', 'x_30_69', 'x_15_72', 'x_16_19', 'x_56_18', 'x_55_37', 'x_52_64', 'x_5_13', 'x_86_22', 'x_83_25', 'x_51_56', 'x_84_66', 'x_43_99', 'x_95_85', 'x_59_16', 'x_2_54', 'x_28_26', 'x_66_74', 'x_45_20', 'x_21_24', 'x_32_76', 'x_89_15', 'x_20_48', 'x_63_36', 'x_34_25', 'x_40_79', 'x_5_79', 'x_70_29', 'x_19_5', 'x_87_67', 'x_58_12', 'x_94_54', 'x_88_96', 'x_91_98', 'x_82_43', 'x_12_46', 'x_2_85', 'x_85_2', 'x_64_6', 'x_12_69', 'x_44_33', 'x_62_35', 'x_90_44', 'x_48_99', 'x_17_48', 'x_29_81', 'x_91_54', 'x_67_14', 'x_36_38', 'x_39_42', 'x_57_43', 'x_79_9', 'x_24_28', 'x_88_74', 'x_70_75', 'x_3_76', 'x_59_21', 'x_16_21', 'x_41_91', 'x_37_5', 'x_8_89', 'x_4_84', 'x_18_87', 'x_44_4', 'x_42_80', 'x_80_55', 'x_3_8', 'x_48_47', 'x_40_61', 'x_61_79', 'x_10_19', 'x_48_5', 'x_18_36', 'x_6_45', 'x_36_22', 'x_18_14', 'x_59_45', 'x_85_19', 'x_43_33', 'x_69_39', 'x_49_60', 'x_70_10', 'x_48_36', 'x_91_20', 'x_74_98', 'x_24_68', 'x_53_21', 'x_43_26', 'x_19_99', 'x_39_15', 'x_27_23', 'x_28_90', 'x_10_99', 'x_52_40', 'x_58_8', 'x_83_84', 'x_19_18', 'x_44_63', 'x_31_24', 'x_38_21', 'x_41_1', 'x_20_95', 'x_59_94', 'x_62_89', 'x_25_56', 'x_20_32', 'x_73_64', 'x_81_5', 'x_77_26', 'x_35_11', 'x_16_1', 'x_27_35', 'x_72_62', 'x_78_88', 'x_43_49', 'x_3_56', 'x_14_40', 'x_58_30', 'x_33_3', 'x_59_7', 'x_37_85', 'x_39_66', 'x_86_62', 'x_37_0', 'x_3_63', 'x_30_55', 'x_38_95', 'x_36_27', 'x_97_91', 'x_74_83', 'x_78_92', 'x_55_6', 'x_24_2', 'x_11_98', 'x_63_83', 'x_97_4', 'x_55_53', 'x_37_10', 'x_62_48', 'x_25_1', 'x_85_25', 'x_42_90', 'x_9_63', 'x_6_91', 'x_95_89', 'x_40_0', 'x_61_5', 'x_27_27', 'x_47_27', 'x_75_77', 'x_67_45', 'x_24_57', 'x_30_53', 'x_34_72', 'x_86_74', 'x_92_25', 'x_73_66', 'x_32_12', 'x_40_2', 'x_80_9', 'x_45_53', 'x_10_47', 'x_78_10', 'x_98_69', 'x_85_12', 'x_35_78', 'x_50_25', 'x_38_93', 'x_39_55', 'x_51_71', 'x_68_10', 'x_89_97', 'x_82_41', 'x_12_22', 'x_79_42', 'x_72_93', 'x_2_30', 'x_18_71', 'x_93_64', 'x_1_28', 'x_10_76', 'x_82_81', 'x_53_74', 'x_4_95', 'x_63_15', 'x_73_82', 'x_65_17', 'x_84_54', 'x_38_64', 'x_14_12', 'x_73_86', 'x_46_58', 'x_33_42', 'x_18_64', 'x_24_86', 'x_84_21', 'x_52_30', 'x_5_11', 'x_38_46', 'x_46_33', 'x_71_57', 'x_27_14', 'x_5_69', 'x_60_39', 'x_54_69', 'x_73_70', 'x_64_22', 'x_59_53', 'x_40_55', 'x_39_49', 'x_65_60', 'x_18_60', 'x_91_36', 'x_87_76', 'x_20_7', 'x_5_8', 'x_69_58', 'x_69_38', 'x_87_33', 'x_65_41', 'x_7_59', 'x_2_70', 'x_39_81', 'x_48_51', 'x_93_9', 'x_42_22', 'x_10_86', 'x_36_24', 'x_24_48', 'x_89_37', 'x_33_8', 'x_65_8', 'x_0_19', 'x_5_24', 'x_2_42', 'x_98_40', 'x_42_15', 'x_34_96', 'x_81_72', 'x_30_27', 'x_23_71', 'x_0_14', 'x_16_9', 'x_29_15', 'x_54_37', 'x_75_63', 'x_38_9', 'x_35_38', 'x_13_18', 'x_16_48', 'x_54_76', 'x_82_89', 'x_19_21', 'x_29_63', 'x_28_65', 'x_85_73', 'x_24_74', 'x_75_6', 'x_22_33', 'x_53_4', 'x_22_45', 'x_15_40', 'x_28_76', 'x_59_70', 'x_68_51', 'x_41_79', 'x_59_79', 'x_97_0', 'x_4_22', 'x_88_52', 'x_46_67', 'x_57_73', 'x_30_78', 'x_34_89', 'x_32_93', 'x_65_10', 'x_97_44', 'x_79_8', 'x_77_11', 'x_16_70', 'x_29_74', 'x_9_54', 'x_46_39', 'x_79_20', 'x_78_25', 'x_79_12', 'x_63_93', 'x_94_98', 'x_80_17', 'x_90_21', 'x_99_34', 'x_57_41', 'x_15_46', 'x_42_69', 'x_96_25', 'x_89_29', 'x_13_52', 'x_40_59', 'x_13_51', 'x_46_71', 'x_96_94', 'x_52_32', 'x_94_76', 'x_62_98', 'x_94_52', 'x_67_99', 'x_13_7', 'x_5_2', 'x_46_16', 'x_32_3', 'x_8_73', 'x_55_17', 'x_95_24', 'x_78_47', 'x_45_77', 'x_18_86', 'x_15_38', 'x_14_8', 'x_5_43', 'x_80_33', 'x_30_24', 'x_54_68', 'x_73_7', 'x_45_67', 'x_31_52', 'x_60_79', 'x_10_22', 'x_99_20', 'x_35_7', 'x_68_13', 'x_80_44', 'x_18_83', 'x_94_84', 'x_20_94', 'x_29_43', 'x_94_72', 'x_46_61', 'x_79_93', 'x_41_94', 'x_93_31', 'x_22_44', 'x_32_38', 'x_28_47', 'x_49_78', 'x_46_5', 'x_12_18', 'x_85_14', 'x_56_81', 'x_59_91', 'x_99_7', 'x_75_86', 'x_6_65', 'x_13_19', 'x_36_55', 'x_80_74', 'x_11_65', 'x_24_47', 'x_23_76', 'x_59_22', 'x_29_72', 'x_71_23', 'x_99_36', 'x_9_18', 'x_18_5', 'x_11_59', 'x_23_70', 'x_45_29', 'x_81_79', 'x_89_32', 'x_69_2', 'x_27_88', 'x_11_62', 'x_68_18', 'x_77_31', 'x_11_77', 'x_60_36', 'x_35_45', 'x_31_9', 'x_47_8', 'x_75_31', 'x_39_37', 'x_7_46', 'x_49_39', 'x_39_71', 'x_67_16', 'x_9_17', 'x_41_41', 'x_55_97', 'x_52_26', 'x_67_82', 'x_55_85', 'x_3_87', 'x_7_61', 'x_41_12', 'x_35_64', 'x_97_87', 'x_47_58', 'x_74_9', 'x_14_77', 'x_0_84', 'x_89_76', 'x_20_6', 'x_93_77', 'x_12_42', 'x_61_48', 'x_26_18', 'x_71_98', 'x_13_17', 'x_56_97', 'x_59_98', 'x_81_41', 'x_16_38', 'x_16_76', 'x_8_37', 'x_44_58', 'x_70_32', 'x_47_35', 'x_36_89', 'x_3_33', 'x_7_53', 'x_65_52', 'x_60_56', 'x_55_14', 'x_24_59', 'x_65_85', 'x_99_56', 'x_86_79', 'x_25_26', 'x_91_78', 'x_43_23', 'x_16_18', 'x_12_62', 'x_85_71', 'x_65_65', 'x_8_33', 'x_4_94', 'x_27_29', 'x_54_35', 'x_54_84', 'x_61_96', 'x_56_31', 'x_29_5', 'x_29_65', 'x_72_6', 'x_76_86', 'x_68_74', 'x_12_66', 'x_44_89', 'x_32_82', 'x_8_7', 'x_49_79', 'x_17_19', 'x_39_24', 'x_44_87', 'x_38_59', 'x_90_81', 'x_66_76', 'x_9_76', 'x_95_42', 'x_99_21', 'x_93_52', 'x_28_54', 'x_64_63', 'x_84_36', 'x_17_33', 'x_32_50', 'x_97_45', 'x_69_68', 'x_73_17', 'x_84_76', 'x_19_55', 'x_15_80', 'x_4_44', 'x_8_68', 'x_51_77', 'x_79_45', 'x_62_94', 'x_95_44', 'x_28_48', 'x_68_68', 'x_58_58', 'x_10_6', 'x_6_30', 'x_14_92', 'x_14_70', 'x_17_36', 'x_31_2', 'x_61_94', 'x_15_9', 'x_69_48', 'x_70_65', 'x_0_10', 'x_86_38', 'x_26_97', 'x_80_81', 'x_85_29', 'x_59_92', 'x_51_75', 'x_61_16', 'x_88_87', 'x_85_30', 'x_98_54', 'x_67_75', 'x_80_14', 'x_62_83', 'x_79_5', 'x_98_11', 'x_78_43', 'x_26_47', 'x_6_95', 'x_63_42', 'x_85_48', 'x_33_77', 'x_72_15', 'x_1_19', 'x_65_78', 'x_31_30', 'x_57_46', 'x_68_45', 'x_48_3', 'x_74_92', 'x_11_76', 'x_73_6', 'x_40_40', 'x_79_74', 'x_80_8', 'x_35_84', 'x_81_96', 'x_39_31', 'x_14_60', 'x_7_2', 'x_70_9', 'x_28_50', 'x_54_57', 'x_82_53', 'x_70_8', 'x_55_59', 'x_0_60', 'x_64_87', 'x_49_26', 'x_29_20', 'x_87_97', 'x_56_2', 'x_38_83', 'x_96_47', 'x_3_67', 'x_14_50', 'x_90_28', 'x_15_22', 'x_26_80', 'x_39_12', 'x_79_66', 'x_40_68', 'x_87_98', 'x_29_66', 'x_59_13', 'x_67_36', 'x_72_96', 'x_42_79', 'x_11_85', 'x_94_2', 'x_84_14', 'x_70_46', 'x_8_66', 'x_79_48', 'x_18_62', 'x_18_3', 'x_10_41', 'x_88_80', 'x_37_95', 'x_32_98', 'x_54_81', 'x_15_1', 'x_8_75', 'x_78_23', 'x_88_58', 'x_79_86', 'x_33_91', 'x_37_64', 'x_27_10', 'x_23_68', 'x_26_32', 'x_98_52', 'x_68_78', 'x_4_93', 'x_56_91', 'x_39_25', 'x_94_71', 'x_9_73', 'x_16_37', 'x_82_34', 'x_82_85', 'x_58_4', 'x_73_32', 'x_34_11', 'x_89_88', 'x_38_0', 'x_78_64', 'x_77_83', 'x_70_67', 'x_22_21', 'x_98_84', 'x_14_81', 'x_40_86', 'x_21_39', 'x_75_79', 'x_33_17', 'x_33_29', 'x_63_62', 'x_56_23', 'x_16_43', 'x_8_63', 'x_94_45', 'x_7_56', 'x_10_69', 'x_11_47', 'x_18_79', 'x_8_34', 'x_57_10', 'x_76_47', 'x_46_91', 'x_91_67', 'x_21_67', 'x_93_67', 'x_72_52', 'x_28_85', 'x_33_10', 'x_94_11', 'x_65_14', 'x_22_77', 'x_39_76', 'x_27_68', 'x_72_88', 'x_92_21', 'x_89_90', 'x_76_87', 'x_26_63', 'x_60_92', 'x_74_65', 'x_58_16', 'x_48_74', 'x_60_75', 'x_91_89', 'x_31_90', 'x_32_22', 'x_94_66', 'x_53_46', 'x_42_43', 'x_69_20', 'x_49_59', 'x_3_78', 'x_76_25', 'x_25_31', 'x_65_37', 'x_96_58', 'x_71_65', 'x_18_31', 'x_11_1', 'x_46_54', 'x_39_16', 'x_25_84', 'x_51_74', 'x_24_12', 'x_56_6', 'x_90_85', 'x_75_93', 'x_62_46', 'x_39_17', 'x_49_0', 'x_68_76', 'x_61_73', 'x_55_71', 'x_75_20', 'x_78_50', 'x_30_12', 'x_99_30', 'x_75_74', 'x_67_28', 'x_13_88', 'x_70_40', 'x_89_28', 'x_5_99', 'x_41_92', 'x_54_1', 'x_38_89', 'x_68_37', 'x_78_75', 'x_90_94', 'x_34_21', 'x_13_29', 'x_68_89', 'x_11_53', 'x_51_49', 'x_55_61', 'x_37_72', 'x_88_93', 'x_90_63', 'x_39_20', 'x_14_58', 'x_71_71', 'x_27_79', 'x_77_57', 'x_66_93', 'x_92_47', 'x_81_6', 'x_86_56', 'x_2_76', 'x_65_77', 'x_58_36', 'x_74_38', 'x_76_22', 'x_36_5', 'x_22_39', 'x_44_59', 'x_73_43', 'x_6_61', 'x_15_68', 'x_72_43', 'x_48_25', 'x_77_89', 'x_67_59', 'x_11_38', 'x_96_0', 'x_19_49', 'x_22_36', 'x_1_34', 'x_69_55', 'x_79_29', 'x_18_17', 'x_26_59', 'x_17_82', 'x_61_26', 'x_3_83', 'x_97_86', 'x_31_59', 'x_72_98', 'x_53_56', 'x_35_73', 'x_78_41', 'x_76_1', 'x_78_69', 'x_28_80', 'x_32_75', 'x_81_91', 'x_6_6', 'x_8_72', 'x_27_61', 'x_54_98', 'x_51_58', 'x_1_64', 'x_40_29', 'x_90_67', 'x_24_65', 'x_41_3', 'x_8_27', 'x_56_43', 'x_81_56', 'x_78_67', 'x_15_78', 'x_15_81', 'x_39_92', 'x_15_70', 'x_23_16', 'x_39_82', 'x_79_56', 'x_87_59', 'x_93_23', 'x_76_17', 'x_8_87', 'x_31_28', 'x_2_71', 'x_48_63', 'x_63_28', 'x_36_79', 'x_53_58', 'x_0_76', 'x_29_76', 'x_67_67', 'x_87_58', 'x_36_32', 'x_47_95', 'x_16_12', 'x_85_85', 'x_15_82', 'x_8_22', 'x_11_69', 'x_10_91', 'x_60_19', 'x_82_67', 'x_61_80', 'x_26_92', 'x_60_24', 'x_88_66', 'x_12_81', 'x_72_24', 'x_67_42', 'x_8_59', 'x_42_37', 'x_79_97', 'x_53_15', 'x_54_56', 'x_38_75', 'x_18_13', 'x_90_25', 'x_58_46', 'x_6_22', 'x_86_96', 'x_53_39', 'x_94_20', 'x_33_12', 'x_78_39', 'x_84_38', 'x_35_1', 'x_18_28', 'x_17_76', 'x_6_42', 'x_27_40', 'x_73_68', 'x_68_73', 'x_77_95', 'x_98_12', 'x_14_48', 'x_52_60', 'x_13_40', 'x_1_32', 'x_86_58', 'x_21_72', 'x_93_59', 'x_18_48', 'x_10_33', 'x_65_9', 'x_67_31', 'x_31_51', 'x_43_34', 'x_57_70', 'x_57_21', 'x_12_59', 'x_54_42', 'x_97_23', 'x_23_2', 'x_99_54', 'x_20_44', 'x_58_63', 'x_59_18', 'x_76_49', 'x_65_53', 'x_87_75', 'x_26_17', 'x_62_22', 'x_2_14', 'x_15_90', 'x_87_51', 'x_71_45', 'x_90_76', 'x_65_24', 'x_27_24', 'x_34_63', 'x_40_80', 'x_94_9', 'x_60_27', 'x_31_34', 'x_30_20', 'x_3_54', 'x_49_31', 'x_57_27', 'x_93_19', 'x_46_15', 'x_36_47', 'x_47_63', 'x_92_14', 'x_79_23', 'x_75_24', 'x_49_40', 'x_5_23', 'x_65_84', 'x_25_13', 'x_61_50', 'x_50_73', 'x_72_90', 'x_73_90', 'x_77_48', 'x_93_65', 'x_17_43', 'x_28_67', 'x_76_90', 'x_15_64', 'x_33_82', 'x_57_52', 'x_75_50', 'x_45_1', 'x_23_13', 'x_72_21', 'x_29_32', 'x_19_31', 'x_25_72', 'x_22_66', 'x_44_37', 'x_61_45', 'x_43_10', 'x_32_28', 'x_5_94', 'x_78_16', 'x_7_75', 'x_63_81', 'x_27_28', 'x_59_30', 'x_14_84', 'x_92_4', 'x_46_45', 'x_39_56', 'x_98_24', 'x_68_1', 'x_3_20', 'x_9_49', 'x_45_11', 'x_70_21', 'x_57_78', 'x_60_29', 'x_64_14', 'x_0_47', 'x_69_53', 'x_83_42', 'x_34_19', 'x_28_84', 'x_52_63', 'x_13_96', 'x_18_9', 'x_31_22', 'x_65_66', 'x_41_54', 'x_25_59', 'x_18_45', 'x_61_21', 'x_39_94', 'x_72_45', 'x_48_50', 'x_48_44', 'x_99_39', 'x_63_18', 'x_34_44', 'x_90_93', 'x_73_16', 'x_66_89', 'x_99_82', 'x_11_56', 'x_48_30', 'x_51_84', 'x_24_58', 'x_0_48', 'x_91_53', 'x_84_1', 'x_33_48', 'x_52_70', 'x_54_20', 'x_60_76', 'x_39_74', 'x_13_2', 'x_20_20', 'x_94_48', 'x_64_25', 'x_44_92', 'x_48_82', 'x_50_21', 'x_45_61', 'x_31_76', 'x_4_51', 'x_8_5', 'x_64_84', 'x_33_25', 'x_89_73', 'x_12_90', 'x_19_19', 'x_87_91', 'x_88_50', 'x_32_0', 'x_80_94', 'x_60_59', 'x_30_14', 'x_20_14', 'x_62_79', 'x_35_93', 'x_68_90', 'x_26_43', 'x_79_7', 'x_47_48', 'x_53_37', 'x_65_1', 'x_56_14', 'x_15_13', 'x_64_85', 'x_2_39', 'x_17_93', 'x_38_15', 'x_81_76', 'x_25_10', 'x_41_95', 'x_63_5', 'x_2_26', 'x_59_75', 'x_10_90', 'x_66_68', 'x_30_4', 'x_98_55', 'x_83_61', 'x_92_33', 'x_18_77', 'x_53_50', 'x_93_97', 'x_26_76', 'x_73_55', 'x_15_29', 'x_63_19', 'x_89_40', 'x_51_91', 'x_21_8', 'x_49_56', 'x_68_86', 'x_68_56', 'x_61_58', 'x_17_99', 'x_61_39', 'x_92_86', 'x_32_95', 'x_30_95', 'x_83_82', 'x_72_33', 'x_34_54', 'x_87_23', 'x_40_49', 'x_56_48', 'x_53_23', 'x_27_67', 'x_89_9', 'x_90_74', 'x_35_91', 'x_69_69', 'x_39_6', 'x_85_31', 'x_34_22', 'x_83_40', 'x_55_81', 'x_71_91', 'x_6_78', 'x_34_56', 'x_20_18', 'x_80_65', 'x_97_54', 'x_98_0', 'x_59_37', 'x_34_35', 'x_98_68', 'x_49_58', 'x_91_7', 'x_3_42', 'x_57_34', 'x_11_78', 'x_2_66', 'x_83_78', 'x_22_97', 'x_92_20', 'x_39_32', 'x_31_31', 'x_37_60', 'x_22_22', 'x_50_56', 'x_17_31', 'x_28_40', 'x_58_93', 'x_2_2', 'x_29_89', 'x_70_7', 'x_29_97', 'x_77_66', 'x_72_99', 'x_63_43', 'x_63_49', 'x_42_23', 'x_98_77', 'x_0_52', 'x_85_98', 'x_11_67', 'x_95_20', 'x_13_33', 'x_95_12', 'x_60_21', 'x_7_88', 'x_32_11', 'x_24_16', 'x_73_26', 'x_38_30', 'x_89_93', 'x_25_22', 'x_37_69', 'x_11_20', 'x_88_67', 'x_83_43', 'x_14_30', 'x_84_17', 'x_15_11', 'x_21_48', 'x_45_15', 'x_66_60', 'x_63_8', 'x_44_77', 'x_57_93', 'x_60_94', 'x_44_17', 'x_63_17', 'x_55_20', 'x_23_94', 'x_91_3', 'x_47_29', 'x_71_40', 'x_56_72', 'x_3_30', 'x_78_30', 'x_66_8', 'x_48_28', 'x_34_37', 'x_75_70', 'x_61_59', 'x_13_78', 'x_15_57', 'x_41_77', 'x_78_17', 'x_50_77', 'x_97_30', 'x_74_19', 'x_93_36', 'x_70_15', 'x_96_11', 'x_77_25', 'x_7_43', 'x_87_18', 'x_72_17', 'x_1_59', 'x_68_0', 'x_46_47', 'x_14_6', 'x_32_48', 'x_64_68', 'x_19_33', 'x_79_80', 'x_19_35', 'x_62_57', 'x_81_10', 'x_51_18', 'x_83_92', 'x_71_81', 'x_55_42', 'x_78_90', 'x_9_93', 'x_48_20', 'x_98_94', 'x_32_53', 'x_55_16', 'x_57_31', 'x_55_3', 'x_75_48', 'x_66_97', 'x_73_34', 'x_26_42', 'x_96_97', 'x_29_71', 'x_18_19', 'x_9_15', 'x_26_67', 'x_8_53', 'x_34_70', 'x_1_90', 'x_31_12', 'x_10_46', 'x_70_25', 'x_71_70', 'x_69_50', 'x_6_92', 'x_29_77', 'x_34_17', 'x_86_34', 'x_30_51', 'x_91_22', 'x_15_17', 'x_32_67', 'x_42_78', 'x_62_90', 'x_51_13', 'x_59_80', 'x_29_85', 'x_89_42', 'x_68_21', 'x_89_57', 'x_43_60', 'x_93_8', 'x_69_74', 'x_4_62', 'x_98_16', 'x_98_15', 'x_25_44', 'x_79_4', 'x_50_29', 'x_60_58', 'x_33_43', 'x_32_92', 'x_16_59', 'x_15_92', 'x_92_99', 'x_21_80', 'x_92_76', 'x_69_13', 'x_95_99', 'x_71_61', 'x_59_73', 'x_90_97', 'x_9_42', 'x_30_52', 'x_42_60', 'x_68_55', 'x_75_59', 'x_61_32', 'x_58_59', 'x_7_80', 'x_31_87', 'x_13_98', 'x_1_50', 'x_37_50', 'x_23_90', 'x_67_29', 'x_67_43', 'x_48_49', 'x_68_88', 'x_30_57', 'x_40_89', 'x_0_57', 'x_27_76', 'x_58_13', 'x_17_97', 'x_97_78', 'x_48_94', 'x_43_47', 'x_36_29', 'x_69_31', 'x_70_60', 'x_65_19', 'x_98_5', 'x_31_62', 'x_81_4', 'x_4_10', 'x_7_22', 'x_43_69', 'x_66_85', 'x_30_68', 'x_22_1', 'x_41_25', 'x_74_40', 'x_2_17', 'x_87_72', 'x_16_20', 'x_28_79', 'x_42_21', 'x_94_39', 'x_70_98', 'x_52_81', 'x_75_9', 'x_19_28', 'x_55_98', 'x_45_79', 'x_54_80', 'x_66_92', 'x_13_24', 'x_63_16', 'x_85_18', 'x_12_15', 'x_83_36', 'x_94_42', 'x_44_81', 'x_27_12', 'x_43_9', 'x_55_23', 'x_32_47', 'x_89_14', 'x_51_37', 'x_99_55', 'x_26_10', 'x_39_57', 'x_16_42', 'x_85_65', 'x_99_15', 'x_45_5', 'x_27_20', 'x_65_35', 'x_66_43', 'x_36_4', 'x_95_28', 'x_1_73', 'x_35_74', 'x_80_79', 'x_82_26', 'x_83_19', 'x_82_60', 'x_57_72', 'x_5_75', 'x_7_83', 'x_47_84', 'x_37_81', 'x_92_59', 'x_88_2', 'x_83_53', 'x_21_51', 'x_52_65', 'x_24_39', 'x_48_2', 'x_97_56', 'x_10_61', 'x_72_68', 'x_37_41', 'x_88_46', 'x_83_52', 'x_95_19', 'x_73_65', 'x_86_86', 'x_3_80', 'x_97_84', 'x_24_52', 'x_9_99', 'x_78_56', 'x_85_90', 'x_35_4', 'x_71_95', 'x_95_21', 'x_39_7', 'x_60_4', 'x_37_97', 'x_92_96', 'x_12_3', 'x_95_51', 'x_6_85', 'x_16_93', 'x_38_6', 'x_91_40', 'x_93_18', 'x_91_6', 'x_87_86', 'x_21_76', 'x_12_12', 'x_16_13', 'x_77_75', 'x_19_32', 'x_96_13', 'x_9_29', 'x_39_3', 'x_98_44', 'x_5_78', 'x_22_32', 'x_90_90', 'x_43_97', 'x_83_51', 'x_42_87', 'x_53_67', 'x_48_55', 'x_76_33', 'x_46_36', 'x_35_50', 'x_31_65', 'x_69_79', 'x_19_25', 'x_10_48', 'x_41_75', 'x_67_7', 'x_90_29', 'x_39_96', 'x_66_6', 'x_5_67', 'x_86_10', 'x_40_94', 'x_21_61', 'x_89_66', 'x_88_19', 'x_74_54', 'x_92_55', 'x_87_85', 'x_66_28', 'x_63_79', 'x_0_62', 'x_74_71', 'x_9_47', 'x_23_33', 'x_24_60', 'x_4_97', 'x_1_92', 'x_5_26', 'x_64_92', 'x_50_97', 'x_6_13', 'x_67_57', 'x_4_64', 'x_55_67', 'x_53_59', 'x_73_80', 'x_89_99', 'x_23_63', 'x_62_49', 'x_74_58', 'x_81_87', 'x_59_61', 'x_23_48', 'x_79_58', 'x_85_64', 'x_58_89', 'x_50_18', 'x_84_88', 'x_27_48', 'x_72_65', 'x_52_62', 'x_26_4', 'x_93_78', 'x_71_48', 'x_50_69', 'x_79_88', 'x_77_41', 'x_15_61', 'x_34_7', 'x_42_8', 'x_93_13', 'x_20_80', 'x_50_72', 'x_4_37', 'x_47_31', 'x_54_39', 'x_41_73', 'x_59_9', 'x_68_22', 'x_65_79', 'x_76_80', 'x_42_64', 'x_81_65', 'x_21_82', 'x_20_2', 'x_23_56', 'x_25_5', 'x_36_87', 'x_65_6', 'x_0_98', 'x_14_87', 'x_59_31', 'x_2_84', 'x_95_11', 'x_85_4', 'x_62_76', 'x_63_61', 'x_28_0', 'x_9_40', 'x_99_23', 'x_53_28', 'x_43_75', 'x_30_41', 'x_5_66', 'x_36_74', 'x_45_32', 'x_21_64', 'x_14_73', 'x_43_25', 'x_38_37', 'x_82_46', 'x_86_84', 'x_16_68', 'x_73_51', 'x_81_20', 'x_20_17', 'x_68_24', 'x_6_52', 'x_1_1', 'x_52_61', 'x_62_72', 'x_27_42', 'x_70_30', 'x_66_36', 'x_91_71', 'x_11_92', 'x_1_3', 'x_2_15', 'x_67_64', 'x_64_49', 'x_59_19', 'x_81_12', 'x_54_87', 'x_30_11', 'x_81_77', 'x_70_89', 'x_32_44', 'x_97_53', 'x_5_70', 'x_58_49', 'x_15_52', 'x_55_41', 'x_78_60', 'x_38_63', 'x_37_80', 'x_88_26', 'x_38_70', 'x_14_88', 'x_97_27', 'x_28_74', 'x_13_14', 'x_10_94', 'x_1_5', 'x_77_44', 'x_11_42', 'x_61_71', 'x_56_8', 'x_7_7', 'x_95_13', 'x_66_48', 'x_98_73', 'x_2_33', 'x_55_5', 'x_11_16', 'x_28_51', 'x_22_9', 'x_51_98', 'x_42_47', 'x_61_8', 'x_39_97', 'x_60_52', 'x_41_97', 'x_2_18', 'x_58_38', 'x_17_69', 'x_91_62', 'x_76_65', 'x_32_96', 'x_48_26', 'x_57_87', 'x_19_2', 'x_25_33', 'x_48_13', 'x_6_16', 'x_51_39', 'x_6_10', 'x_49_54', 'x_88_68', 'x_85_13', 'x_37_53', 'x_0_42', 'x_19_79', 'x_67_91', 'x_0_29', 'x_4_39', 'x_5_90', 'x_80_78', 'x_93_88', 'x_38_47', 'x_38_33', 'x_99_10', 'x_13_83', 'x_57_7', 'x_4_82', 'x_77_42', 'x_45_54', 'x_57_96', 'x_34_79', 'x_96_61', 'x_53_96', 'x_68_47', 'x_48_73', 'x_89_92', 'x_40_13', 'x_91_77', 'x_73_18', 'x_70_57', 'x_17_68', 'x_83_21', 'x_80_69', 'x_55_49', 'x_27_47', 'x_98_35', 'x_91_92', 'x_61_84', 'x_84_93', 'x_17_35', 'x_53_63', 'x_67_38', 'x_19_60', 'x_93_11', 'x_60_81', 'x_86_49', 'x_12_58', 'x_86_90', 'x_58_76', 'x_17_23', 'x_78_44', 'x_99_96', 'x_91_42', 'x_63_31', 'x_29_33', 'x_3_35', 'x_74_3', 'x_58_17', 'x_22_85', 'x_97_37', 'x_80_11', 'x_23_38', 'x_94_14', 'x_84_39', 'x_70_77', 'x_90_11', 'x_53_25', 'x_74_47', 'x_46_10', 'x_71_72', 'x_87_47', 'x_84_48', 'x_15_8', 'x_28_11', 'x_3_7', 'x_94_16', 'x_61_85', 'x_54_93', 'x_94_99', 'x_36_70', 'x_70_34', 'x_67_70', 'x_1_33', 'x_18_2', 'x_50_1', 'x_96_21', 'x_17_52', 'x_74_8', 'x_95_49', 'x_55_1', 'x_33_76', 'x_2_13', 'x_11_23', 'x_45_13', 'x_33_21', 'x_37_22', 'x_32_57', 'x_75_30', 'x_77_35', 'x_40_45', 'x_99_93', 'x_2_56', 'x_61_1', 'x_45_50', 'x_75_98', 'x_32_33', 'x_2_69', 'x_29_79', 'x_53_62', 'x_24_45', 'x_49_18', 'x_87_31', 'x_30_28', 'x_4_85', 'x_1_72', 'x_4_88', 'x_88_91', 'x_48_57', 'x_72_74', 'x_45_17', 'x_71_28', 'x_67_61', 'x_9_1', 'x_13_74', 'x_72_58', 'x_80_76', 'x_32_89', 'x_69_98', 'x_86_65', 'x_55_25', 'x_50_71', 'x_33_4', 'x_53_66', 'x_82_38', 'x_30_65', 'x_30_34', 'x_19_3', 'x_51_55', 'x_47_12', 'x_82_57', 'x_59_95', 'x_41_61', 'x_0_36', 'x_13_82', 'x_0_77', 'x_96_7', 'x_95_38', 'x_34_90', 'x_97_13', 'x_11_70', 'x_95_56', 'x_29_48', 'x_15_18', 'x_35_51', 'x_49_63', 'x_71_19', 'x_75_87', 'x_3_18', 'x_61_2', 'x_14_25', 'x_18_7', 'x_80_84', 'x_89_35', 'x_94_3', 'x_51_7', 'x_74_84', 'x_84_61', 'x_60_40', 'x_97_58', 'x_79_60', 'x_95_87', 'x_11_66', 'x_73_39', 'x_10_0', 'x_44_0', 'x_26_6', 'x_97_14', 'x_91_43', 'x_65_87', 'x_9_35', 'x_60_18', 'x_94_82', 'x_91_30', 'x_19_83', 'x_7_50', 'x_9_77', 'x_17_78', 'x_55_10', 'x_64_45', 'x_80_57', 'x_68_46', 'x_30_85', 'x_78_96', 'x_82_50', 'x_16_57', 'x_9_33', 'x_40_48', 'x_69_70', 'x_1_70', 'x_63_40', 'x_82_2', 'x_11_7', 'x_22_80', 'x_47_66', 'x_54_21', 'x_15_69', 'x_38_74', 'x_24_94', 'x_76_41', 'x_92_65', 'x_42_16', 'x_30_63', 'x_23_20', 'x_67_93', 'x_9_19', 'x_60_8', 'x_72_63', 'x_53_47', 'x_33_11', 'x_43_41', 'x_83_15', 'x_18_89', 'x_83_70', 'x_79_39', 'x_49_4', 'x_56_30', 'x_47_87', 'x_26_51', 'x_18_34', 'x_87_83', 'x_67_84', 'x_36_97', 'x_82_28', 'x_99_16', 'x_92_77', 'x_71_31', 'x_58_45', 'x_32_60', 'x_82_9', 'x_43_86', 'x_17_88', 'x_64_62', 'x_26_85', 'x_82_5', 'x_0_3', 'x_17_13', 'x_96_40', 'x_71_82', 'x_34_82', 'x_88_47', 'x_94_34', 'x_11_8', 'x_98_23', 'x_8_28', 'x_62_28', 'x_92_78', 'x_20_50', 'x_91_26', 'x_87_32', 'x_87_9', 'x_56_63', 'x_6_11', 'x_28_2', 'x_80_28', 'x_76_70', 'x_85_52', 'x_96_33', 'x_82_49', 'x_51_59', 'x_26_72', 'x_38_17', 'x_9_14', 'x_93_46', 'x_27_85', 'x_69_7', 'x_52_90', 'x_12_98', 'x_84_27', 'x_65_28', 'x_38_43', 'x_15_5', 'x_53_52', 'x_78_85', 'x_43_11', 'x_95_50', 'x_18_85', 'x_76_52', 'x_19_82', 'x_23_93', 'x_84_40', 'x_52_6', 'x_73_11', 'x_41_53', 'x_92_6', 'x_7_25', 'x_53_88', 'x_35_71', 'x_5_44', 'x_50_48', 'x_4_78', 'x_24_43', 'x_72_18', 'x_6_75', 'x_39_11', 'x_77_24', 'x_70_84', 'x_98_63', 'x_10_59', 'x_26_82', 'x_46_50', 'x_94_90', 'x_13_60', 'x_38_48', 'x_7_10', 'x_69_27', 'x_33_30', 'x_60_95', 'x_86_9', 'x_88_24', 'x_26_30', 'x_34_97', 'x_57_75', 'x_92_58', 'x_7_13', 'x_5_65', 'x_94_78', 'x_42_33', 'x_64_67', 'x_12_4', 'x_47_33', 'x_52_54', 'x_57_49', 'x_78_20', 'x_52_59', 'x_4_83', 'x_57_82', 'x_37_29', 'x_65_82', 'x_67_85', 'x_67_41', 'x_71_42', 'x_89_44', 'x_96_39', 'x_19_89', 'x_69_1', 'x_91_23', 'x_89_47', 'x_85_15', 'x_56_93', 'x_47_15', 'x_38_38', 'x_62_74', 'x_18_94', 'x_12_44', 'x_42_86', 'x_55_82', 'x_64_57', 'x_39_5', 'x_21_53', 'x_8_40', 'x_98_8', 'x_56_95', 'x_12_73', 'x_93_86', 'x_82_74', 'x_27_86', 'x_70_87', 'x_44_10', 'x_77_8', 'x_28_92', 'x_92_81', 'x_16_74', 'x_69_76', 'x_48_67', 'x_66_35', 'x_42_67', 'x_41_62', 'x_75_84', 'x_1_10', 'x_63_89', 'x_32_23', 'x_99_80', 'x_88_41', 'x_48_48', 'x_74_32', 'x_82_37', 'x_17_40', 'x_99_70', 'x_64_11', 'x_3_89', 'x_81_29', 'x_71_75', 'x_72_31', 'x_29_82', 'x_9_53', 'x_35_83', 'x_31_13', 'x_27_25', 'x_91_74', 'x_50_55', 'x_77_5', 'x_89_83', 'x_27_95', 'x_49_84', 'x_88_86', 'x_44_51', 'x_34_53', 'x_90_27', 'x_69_90', 'x_13_10', 'x_31_49', 'x_95_79', 'x_51_16', 'x_40_69', 'x_15_56', 'x_10_72', 'x_43_93', 'x_33_33', 'x_7_64', 'x_84_78', 'x_62_0', 'x_9_95', 'x_33_86', 'x_64_93', 'x_50_5', 'x_39_68', 'x_90_12', 'x_51_79', 'x_52_7', 'x_27_84', 'x_35_30', 'x_85_40', 'x_48_43', 'x_10_89', 'x_68_16', 'x_96_57', 'x_50_92', 'x_56_94', 'x_88_95', 'x_8_13', 'x_54_45', 'x_59_66', 'x_24_49', 'x_63_45', 'x_43_64', 'x_34_0', 'x_15_83', 'x_50_86', 'x_86_35', 'x_49_16', 'x_77_58', 'x_65_23', 'x_80_80', 'x_41_88', 'x_69_37', 'x_35_19', 'x_14_95', 'x_15_59', 'x_87_90', 'x_56_33', 'x_85_56', 'x_85_50', 'x_17_51', 'x_20_21', 'x_63_30', 'x_79_70', 'x_9_31', 'x_5_80', 'x_55_68', 'x_48_8', 'x_68_11', 'x_30_25', 'x_94_57', 'x_54_32', 'x_66_49', 'x_9_12', 'x_10_62', 'x_10_53', 'x_48_56', 'x_32_4', 'x_65_91', 'x_79_90', 'x_50_2', 'x_93_69', 'x_77_15', 'x_28_45', 'x_80_95', 'x_64_39', 'x_78_84', 'x_42_25', 'x_70_27', 'x_44_39', 'x_62_85', 'x_75_47', 'x_92_8', 'x_47_94', 'x_62_81', 'x_94_97', 'x_79_17', 'x_37_46', 'x_1_55', 'x_36_59', 'x_23_29', 'x_97_82', 'x_41_48', 'x_20_60', 'x_27_26', 'x_96_17', 'x_80_66', 'x_31_69', 'x_43_61', 'x_51_41', 'x_95_93', 'x_44_65', 'x_47_78', 'x_25_36', 'x_41_69', 'x_0_54', 'x_11_29', 'x_25_80', 'x_74_14', 'x_51_67', 'x_50_27', 'x_97_71', 'x_24_8', 'x_49_34', 'x_32_86', 'x_4_33', 'x_35_75', 'x_5_54', 'x_72_0', 'x_72_4', 'x_74_95', 'x_89_46', 'x_91_35', 'x_2_65', 'x_91_50', 'x_64_35', 'x_53_12', 'x_69_16', 'x_20_56', 'x_82_14', 'x_5_3', 'x_45_36', 'x_57_24', 'x_46_26', 'x_53_51', 'x_21_21', 'x_84_58', 'x_96_68', 'x_45_45', 'x_88_59', 'x_41_14', 'x_60_12', 'x_39_99', 'x_48_29', 'x_75_36', 'x_88_89', 'x_47_55', 'x_17_38', 'x_50_34', 'x_59_34', 'x_46_49', 'x_49_61', 'x_62_1', 'x_36_12', 'x_6_49', 'x_51_28', 'x_2_38', 'x_99_75', 'x_85_5', 'x_16_14', 'x_5_16', 'x_58_73', 'x_19_23', 'x_9_91', 'x_18_38', 'x_21_49', 'x_7_35', 'x_31_44', 'x_45_89', 'x_87_93', 'x_26_9', 'x_14_56', 'x_22_40', 'x_54_17', 'x_31_93', 'x_22_90', 'x_3_97', 'x_9_89', 'x_16_84', 'x_3_66', 'x_25_85', 'x_23_64', 'x_63_2', 'x_1_79', 'x_49_41', 'x_43_7', 'x_17_70', 'x_98_41', 'x_11_99', 'x_25_17', 'x_10_40', 'x_50_0', 'x_33_18', 'x_48_22', 'x_54_30', 'x_39_59', 'x_68_40', 'x_80_59', 'x_13_9', 'x_43_31', 'x_93_48', 'x_48_11', 'x_95_62', 'x_2_64', 'x_84_75', 'x_16_79', 'x_33_58', 'x_28_30', 'x_7_86', 'x_92_82', 'x_0_66', 'x_38_28', 'x_39_8', 'x_9_16', 'x_86_68', 'x_68_31', 'x_87_46', 'x_31_75', 'x_97_98', 'x_69_19', 'x_51_29', 'x_75_81', 'x_86_63', 'x_29_44', 'x_67_66', 'x_53_43', 'x_48_16', 'x_85_76', 'x_66_79', 'x_81_59', 'x_78_4', 'x_20_57', 'x_80_58', 'x_59_29', 'x_64_75', 'x_53_93', 'x_33_35', 'x_86_53', 'x_72_73', 'x_92_79', 'x_22_92', 'x_39_93', 'x_32_88', 'x_2_77', 'x_78_9', 'x_59_76', 'x_15_85', 'x_79_77', 'x_15_91', 'x_44_73', 'x_87_8', 'x_83_8', 'x_45_75', 'x_49_42', 'x_71_29', 'x_54_2', 'x_61_67', 'x_33_75', 'x_9_55', 'x_4_36', 'x_18_44', 'x_27_15', 'x_24_24', 'x_75_94', 'x_49_82', 'x_9_98', 'x_89_10', 'x_92_52', 'x_53_5', 'x_42_73', 'x_11_58', 'x_85_66', 'x_51_72', 'x_95_39', 'x_28_86', 'x_50_41', 'x_43_0', 'x_82_73', 'x_31_32', 'x_18_54', 'x_34_91', 'x_98_45', 'x_68_98', 'x_87_56', 'x_38_78', 'x_67_58', 'x_93_20', 'x_85_53', 'x_16_89', 'x_53_98', 'x_81_38', 'x_43_52', 'x_27_3', 'x_36_6', 'x_58_98', 'x_7_72', 'x_26_52', 'x_47_90', 'x_0_30', 'x_70_80', 'x_24_38', 'x_21_85', 'x_9_64', 'x_68_8', 'x_7_89', 'x_46_44', 'x_5_71', 'x_6_48', 'x_16_16', 'x_12_17', 'x_42_98', 'x_15_50', 'x_11_25', 'x_24_63', 'x_56_66', 'x_95_96', 'x_29_45', 'x_10_20', 'x_19_58', 'x_94_27', 'x_63_88', 'x_16_87', 'x_86_24', 'x_8_4', 'x_28_52', 'x_5_36', 'x_26_16', 'x_21_34', 'x_60_48', 'x_89_54', 'x_67_2', 'x_87_61', 'x_11_33', 'x_63_50', 'x_51_85', 'x_92_22', 'x_79_33', 'x_94_43', 'x_35_31', 'x_6_70', 'x_37_76', 'x_69_63', 'x_51_2', 'x_19_62', 'x_15_42', 'x_4_9', 'x_41_17', 'x_4_29', 'x_89_51', 'x_80_45', 'x_67_94', 'x_37_12', 'x_33_97', 'x_83_26', 'x_62_13', 'x_7_14', 'x_64_27', 'x_84_92', 'x_23_61', 'x_23_52', 'x_20_24', 'x_74_27', 'x_31_99', 'x_16_10', 'x_98_98', 'x_50_44', 'x_59_65', 'x_27_0', 'x_15_45', 'x_29_50', 'x_95_31', 'x_64_28', 'x_37_25', 'x_69_95', 'x_27_5', 'x_6_23', 'x_80_83', 'x_97_33', 'x_12_56', 'x_88_36', 'x_5_86', 'x_56_52', 'x_63_3', 'x_51_31', 'x_3_48', 'x_97_63', 'x_22_83', 'x_46_87', 'x_91_59', 'x_30_46', 'x_0_11', 'x_39_2', 'x_51_78', 'x_26_49', 'x_74_4', 'x_26_87', 'x_91_32', 'x_29_2', 'x_44_3', 'x_34_51', 'x_82_45', 'x_69_9', 'x_22_17', 'x_41_4', 'x_35_59', 'x_47_96', 'x_84_52', 'x_81_26', 'x_17_89', 'x_1_22', 'x_55_80', 'x_98_2', 'x_38_57', 'x_94_88', 'x_49_87', 'x_53_24', 'x_60_17', 'x_24_19', 'x_0_90', 'x_15_96', 'x_46_93', 'x_22_53', 'x_31_81', 'x_26_64', 'x_58_71', 'x_30_33', 'x_10_10', 'x_36_56', 'x_74_77', 'x_27_4', 'x_89_31', 'x_76_83', 'x_17_18', 'x_30_61', 'x_34_55', 'x_72_28', 'x_10_50', 'x_21_50', 'x_58_61', 'x_78_83', 'x_39_72', 'x_89_61', 'x_58_88', 'x_18_12', 'x_39_33', 'x_95_41', 'x_32_43', 'x_97_64', 'x_70_70', 'x_39_1', 'x_43_24', 'x_15_75', 'x_93_22', 'x_59_1', 'x_39_90', 'x_37_96', 'x_35_39', 'x_74_1', 'x_76_58', 'x_4_17', 'x_0_38', 'x_29_68', 'x_47_0', 'x_6_58', 'x_35_56', 'x_29_56', 'x_2_90', 'x_53_7', 'x_7_97', 'x_97_20', 'x_6_8', 'x_55_73', 'x_9_2', 'x_53_20', 'x_37_44', 'x_97_81', 'x_83_90', 'x_26_37', 'x_99_8', 'x_80_70', 'x_80_24', 'x_99_47', 'x_62_54', 'x_89_74', 'x_21_12', 'x_2_92', 'x_95_73', 'x_49_74', 'x_38_35', 'x_32_74', 'x_96_52', 'x_92_97', 'x_55_19', 'x_86_61', 'x_75_15', 'x_42_83', 'x_11_43', 'x_76_56', 'x_4_76', 'x_63_14', 'x_20_55', 'x_69_10', 'x_43_70', 'x_39_70', 'x_15_21', 'x_56_36', 'x_43_40', 'x_16_77', 'x_72_11', 'x_0_85', 'x_80_22', 'x_43_89', 'x_95_91', 'x_12_16', 'x_44_82', 'x_30_15', 'x_86_60', 'x_60_88', 'x_21_15', 'x_22_64', 'x_23_88', 'x_35_47', 'x_99_78', 'x_68_69', 'x_58_81', 'x_82_90', 'x_27_98', 'x_99_53', 'x_51_94', 'x_51_95', 'x_31_83', 'x_77_56', 'x_58_92', 'x_2_7', 'x_19_12', 'x_55_15', 'x_32_7', 'x_74_64', 'x_24_56', 'x_33_15', 'x_93_3', 'x_66_24', 'x_24_31', 'x_97_36', 'x_81_95', 'x_61_97', 'x_37_37', 'x_34_38', 'x_8_58', 'x_94_10', 'x_4_27', 'x_86_95', 'x_86_40', 'x_85_42', 'x_21_79', 'x_32_72', 'x_65_36', 'x_12_8', 'x_94_59', 'x_66_67', 'x_84_12', 'x_74_66', 'x_33_54', 'x_67_21', 'x_45_2', 'x_28_59', 'x_25_97', 'x_44_7', 'x_1_61', 'x_89_78', 'x_4_49', 'x_49_73', 'x_10_95', 'x_20_76', 'x_86_97', 'x_66_99', 'x_19_48', 'x_45_72', 'x_5_40', 'x_17_94', 'x_96_9', 'x_96_75', 'x_33_7', 'x_1_75', 'x_65_22', 'x_73_15', 'x_78_8', 'x_7_15', 'x_14_83', 'x_3_49', 'x_9_58', 'x_43_28', 'x_11_9', 'x_67_47', 'x_70_45', 'x_51_82', 'x_7_98', 'x_22_76', 'x_37_35', 'x_98_78', 'x_84_79', 'x_49_33', 'x_28_62', 'x_30_90', 'x_46_17', 'x_66_95', 'x_87_14', 'x_26_31', 'x_27_13', 'x_83_89', 'x_3_91', 'x_80_62', 'x_25_63', 'x_42_56', 'x_2_23', 'x_93_12', 'x_52_3', 'x_60_47', 'x_52_47', 'x_59_17', 'x_73_77', 'x_65_86', 'x_62_39', 'x_4_52', 'x_23_58', 'x_53_9', 'x_63_41', 'x_55_2', 'x_76_24', 'x_17_58', 'x_15_32', 'x_5_50', 'x_1_87', 'x_8_21', 'x_8_49', 'x_32_18', 'x_3_12', 'x_8_23', 'x_37_47', 'x_18_81', 'x_17_90', 'x_58_97', 'x_91_61', 'x_43_66', 'x_47_4', 'x_47_10', 'x_16_92', 'x_75_52', 'x_28_55', 'x_93_37', 'x_80_12', 'x_55_24', 'x_91_46', 'x_57_53', 'x_9_56', 'x_24_67', 'x_32_55', 'x_54_67', 'x_47_21', 'x_65_45', 'x_64_42', 'x_37_70', 'x_58_42', 'x_13_13', 'x_96_49', 'x_81_82', 'x_69_97', 'x_73_31', 'x_16_78', 'x_11_63', 'x_5_84', 'x_83_20', 'x_22_78', 'x_17_96', 'x_36_53', 'x_72_61', 'x_9_46', 'x_38_22', 'x_90_8', 'x_2_53', 'x_46_80', 'x_18_69', 'x_19_75', 'x_9_7', 'x_41_33', 'x_75_83', 'x_31_14', 'x_8_15', 'x_66_53', 'x_39_79', 'x_28_89', 'x_73_22', 'x_32_10', 'x_49_28', 'x_64_76', 'x_19_16', 'x_13_36', 'x_28_88', 'x_30_84', 'x_44_2', 'x_37_48', 'x_46_20', 'x_94_89', 'x_32_97', 'x_57_50', 'x_5_82', 'x_85_70', 'x_27_59', 'x_96_65', 'x_91_28', 'x_77_62', 'x_94_61', 'x_57_58', 'x_5_62', 'x_91_69', 'x_53_71', 'x_96_45', 'x_95_75', 'x_62_14', 'x_56_74', 'x_60_87', 'x_71_37', 'x_0_53', 'x_87_60', 'x_37_88', 'x_3_43', 'x_74_41', 'x_82_56', 'x_71_68', 'x_74_33', 'x_23_10', 'x_67_1', 'x_63_22', 'x_98_65', 'x_21_33', 'x_43_62', 'x_26_75', 'x_16_30', 'x_64_4', 'x_27_7', 'x_20_81', 'x_99_65', 'x_14_16', 'x_75_12', 'x_35_35', 'x_90_4', 'x_70_35', 'x_7_91', 'x_51_53', 'x_93_60', 'x_79_81', 'x_0_28', 'x_37_84', 'x_15_47', 'x_67_55', 'x_99_4', 'x_6_74', 'x_67_83', 'x_17_61', 'x_38_90', 'x_49_20', 'x_35_42', 'x_73_89', 'x_0_81', 'x_78_68', 'x_88_90', 'x_74_89', 'x_25_94', 'x_70_54', 'x_0_95', 'x_83_86', 'x_22_2', 'x_58_67', 'x_82_19', 'x_18_66', 'x_14_0', 'x_48_9', 'x_33_23', 'x_12_85', 'x_85_43', 'x_37_66', 'x_35_95', 'x_80_31', 'x_74_28', 'x_10_7', 'x_97_16', 'x_21_26', 'x_79_38', 'x_71_94', 'x_54_11', 'x_15_27', 'x_62_25', 'x_8_32', 'x_40_57', 'x_12_86', 'x_57_98', 'x_11_24', 'x_74_21', 'x_61_95', 'x_34_26', 'x_39_63', 'x_16_40', 'x_86_33', 'x_98_90', 'x_45_49', 'x_69_67', 'x_58_31', 'x_6_47', 'x_50_67', 'x_88_48', 'x_70_6', 'x_69_80', 'x_2_40', 'x_33_14', 'x_58_85', 'x_49_69', 'x_98_47', 'x_27_69', 'x_22_20', 'x_74_74', 'x_24_87', 'x_18_90', 'x_20_16', 'x_24_4', 'x_98_86', 'x_59_51', 'x_34_94', 'x_99_79', 'x_62_29', 'x_85_58', 'x_73_12', 'x_30_70', 'x_98_82', 'x_76_62', 'x_84_98', 'x_95_16', 'x_0_44', 'x_95_8', 'x_81_57', 'x_23_81', 'x_34_92', 'x_83_34', 'x_85_75', 'x_60_57', 'x_8_81', 'x_9_57', 'x_56_90', 'x_74_55', 'x_52_89', 'x_75_61', 'x_76_50', 'x_39_52', 'x_35_55', 'x_2_21', 'x_38_23', 'x_90_46', 'x_18_23', 'x_21_27', 'x_28_36', 'x_94_68', 'x_65_3', 'x_58_91', 'x_68_36', 'x_20_79', 'x_40_93', 'x_65_98', 'x_1_81', 'x_20_43', 'x_69_87', 'x_88_28', 'x_81_9', 'x_40_22', 'x_43_79', 'x_47_26', 'x_3_98', 'x_30_86', 'x_2_9', 'x_12_13', 'x_39_89', 'x_77_59', 'x_94_63', 'x_96_67', 'x_57_90', 'x_64_12', 'x_72_54', 'x_29_4', 'x_54_3', 'x_10_16', 'x_29_29', 'x_11_61', 'x_68_27', 'x_57_45', 'x_71_54', 'x_5_9', 'x_26_48', 'x_24_5', 'x_54_62', 'x_99_95', 'x_87_99', 'x_99_14', 'x_52_75', 'x_77_14', 'x_34_74', 'x_80_37', 'x_69_73', 'x_84_71', 'x_64_0', 'x_99_32', 'x_69_15', 'x_74_60', 'x_80_46', 'x_20_77', 'x_27_87', 'x_60_53', 'x_61_43', 'x_75_51', 'x_18_96', 'x_7_63', 'x_13_59', 'x_56_77', 'x_77_82', 'x_39_45', 'x_13_67', 'x_92_70', 'x_68_65', 'x_53_36', 'x_86_4', 'x_28_68', 'x_41_98', 'x_48_0', 'x_54_86', 'x_21_68', 'x_49_44', 'x_31_17', 'x_26_84', 'x_42_55', 'x_3_62', 'x_40_41', 'x_41_96', 'x_97_34', 'x_81_81', 'x_48_45', 'x_22_15', 'x_59_20', 'x_40_64', 'x_19_11', 'x_42_66', 'x_7_11', 'x_78_26', 'x_6_77', 'x_5_98', 'x_54_31', 'x_64_32', 'x_57_80', 'x_43_98', 'x_1_26', 'x_8_71', 'x_58_28', 'x_13_43', 'x_45_55', 'x_23_45', 'x_74_72', 'x_79_64', 'x_18_91', 'x_23_74', 'x_13_27', 'x_78_70', 'x_8_79', 'x_45_83', 'x_33_95', 'x_64_9', 'x_63_73', 'x_61_20', 'x_22_35', 'x_25_7', 'x_77_30', 'x_36_36', 'x_78_76', 'x_74_56', 'x_55_44', 'x_22_4', 'x_88_49', 'x_68_33', 'x_49_64', 'x_9_88', 'x_2_36', 'x_46_74', 'x_37_39', 'x_45_59', 'x_58_86', 'x_21_36', 'x_25_52', 'x_38_12', 'x_2_68', 'x_53_70', 'x_3_47', 'x_3_70', 'x_14_71', 'x_11_75', 'x_44_26', 'x_22_38', 'x_42_36', 'x_0_79', 'x_96_69', 'x_66_46', 'x_82_27', 'x_84_4', 'x_33_0', 'x_1_67', 'x_42_95', 'x_47_72', 'x_50_14', 'x_1_51', 'x_67_60', 'x_95_55', 'x_57_63', 'x_60_73', 'x_85_78', 'x_65_31', 'x_25_86', 'x_90_40', 'x_1_23', 'x_28_93', 'x_20_59', 'x_81_13', 'x_36_76', 'x_14_85', 'x_52_82', 'x_98_31', 'x_82_16', 'x_31_89', 'x_34_9', 'x_92_44', 'x_97_12', 'x_76_2', 'x_44_44', 'x_52_77', 'x_90_16', 'x_6_32', 'x_16_75', 'x_66_1', 'x_84_68', 'x_92_61', 'x_24_62', 'x_59_15', 'x_97_69', 'x_93_93', 'x_58_56', 'x_36_58', 'x_85_88', 'x_11_36', 'x_20_45', 'x_4_2', 'x_62_51', 'x_54_72', 'x_79_32', 'x_51_87', 'x_98_72', 'x_22_42', 'x_71_69', 'x_75_42', 'x_84_80', 'x_99_24', 'x_98_42', 'x_92_50', 'x_90_13', 'x_36_57', 'x_90_61', 'x_78_19', 'x_55_32', 'x_53_80', 'x_65_69', 'x_11_93', 'x_3_92', 'x_44_23', 'x_74_34', 'x_7_78', 'x_14_11', 'x_49_13', 'x_29_80', 'x_21_89', 'x_53_91', 'x_80_56', 'x_38_4', 'x_18_53', 'x_40_97', 'x_37_24', 'x_91_25', 'x_78_52', 'x_76_67', 'x_37_93', 'x_25_74', 'x_19_70', 'x_37_26', 'x_82_33', 'x_22_61', 'x_93_82', 'x_99_37', 'x_20_93', 'x_49_94', 'x_50_89', 'x_3_79', 'x_77_71', 'x_72_67', 'x_48_81', 'x_87_82', 'x_77_76', 'x_43_82', 'x_82_47', 'x_49_15', 'x_34_28', 'x_13_70', 'x_85_54', 'x_98_95', 'x_36_45', 'x_83_58', 'x_88_25', 'x_13_50', 'x_32_5', 'x_87_27', 'x_27_43', 'x_8_2', 'x_84_91', 'x_26_74', 'x_99_26', 'x_84_3', 'x_55_21', 'x_99_12', 'x_41_83', 'x_48_7', 'x_36_15', 'x_75_26', 'x_27_52', 'x_44_60', 'x_57_25', 'x_96_27', 'x_2_44', 'x_34_87', 'x_73_1', 'x_98_34', 'x_87_38', 'x_94_17', 'x_72_48', 'x_63_34', 'x_84_95', 'x_68_57', 'x_15_73', 'x_44_55', 'x_97_9', 'x_82_83', 'x_2_86', 'x_27_33', 'x_30_76', 'x_69_51', 'x_66_94', 'x_10_52', 'x_84_45', 'x_46_42', 'x_87_16', 'x_27_55', 'x_31_5', 'x_46_2', 'x_90_96', 'x_55_46', 'x_2_99', 'x_83_11', 'x_9_11', 'x_92_98', 'x_94_92', 'x_36_61', 'x_89_21', 'x_21_11', 'x_2_22', 'x_12_72', 'x_55_76', 'x_68_85', 'x_9_48', 'x_83_56', 'x_78_0', 'x_85_44', 'x_90_71', 'x_68_23', 'x_21_93', 'x_50_22', 'x_88_31', 'x_31_78', 'x_56_96', 'x_96_66', 'x_85_59', 'x_92_68', 'x_47_9', 'x_3_77', 'x_69_25', 'x_88_33', 'x_63_4', 'x_77_77', 'x_73_3', 'x_90_14', 'x_62_88', 'x_42_96', 'x_79_54', 'x_9_71', 'x_47_53', 'x_99_22', 'x_29_1', 'x_97_26', 'x_10_24', 'x_12_11', 'x_76_20', 'x_77_88', 'x_83_62', 'x_92_91', 'x_35_90', 'x_78_89', 'x_59_12', 'x_46_72', 'x_39_85', 'x_44_1', 'x_42_45', 'x_66_9', 'x_12_92', 'x_29_13', 'x_6_69', 'x_27_41', 'x_3_68', 'x_3_94', 'x_31_73', 'x_34_15', 'x_7_67', 'x_54_18', 'x_76_60', 'x_77_55', 'x_30_62', 'x_45_14', 'x_13_85', 'x_3_69', 'x_35_82', 'x_78_74', 'x_83_94', 'x_46_34', 'x_37_31', 'x_17_87', 'x_21_90', 'x_58_77', 'x_58_33', 'x_91_87', 'x_71_36', 'x_24_11', 'x_49_89', 'x_27_75', 'x_11_13', 'x_8_8', 'x_84_33', 'x_60_93', 'x_16_61', 'x_68_80', 'x_2_37', 'x_91_97', 'x_39_67', 'x_45_56', 'x_35_23', 'x_19_90', 'x_2_62', 'x_59_67', 'x_45_71', 'x_87_29', 'x_30_2', 'x_19_6', 'x_72_86', 'x_20_34', 'x_60_60', 'x_36_84', 'x_21_29', 'x_77_37', 'x_32_19', 'x_51_1', 'x_67_77', 'x_65_90', 'x_18_93', 'x_44_97', 'x_56_75', 'x_98_74', 'x_21_63', 'x_53_31', 'x_54_38', 'x_97_40', 'x_79_44', 'x_31_84', 'x_8_42', 'x_59_57', 'x_86_57', 'x_16_4', 'x_99_3', 'x_82_59', 'x_75_67', 'x_69_40', 'x_24_79', 'x_15_30', 'x_95_57', 'x_13_26', 'x_12_57', 'x_64_55', 'x_48_59', 'x_19_53', 'x_22_19', 'x_62_47', 'x_21_59', 'x_33_62', 'x_91_96', 'x_46_9', 'x_13_3', 'x_24_27', 'x_24_51', 'x_41_84', 'x_61_82', 'x_46_85', 'x_14_51', 'x_15_94', 'x_13_20', 'x_15_26', 'x_82_1', 'x_17_53', 'x_32_15', 'x_53_72', 'x_22_3', 'x_86_67', 'x_35_58', 'x_6_84', 'x_41_87', 'x_28_60', 'x_90_80', 'x_37_86', 'x_43_53', 'x_4_74', 'x_52_87', 'x_59_44', 'x_4_56', 'x_8_54', 'x_37_40', 'x_93_32', 'x_97_46', 'x_38_80', 'x_47_86', 'x_29_92', 'x_64_18', 'x_29_17', 'x_35_41', 'x_21_83', 'x_69_34', 'x_8_70', 'x_71_77', 'x_88_79', 'x_96_46', 'x_66_38', 'x_97_48', 'x_68_72', 'x_6_4', 'x_10_21', 'x_44_71', 'x_39_19', 'x_18_29', 'x_57_35', 'x_28_19', 'x_36_19', 'x_28_38', 'x_84_86', 'x_95_65', 'x_14_66', 'x_60_37', 'x_63_11', 'x_47_57', 'x_35_69', 'x_53_48', 'x_90_83', 'x_80_10', 'x_98_93', 'x_31_33', 'x_32_37', 'x_47_32', 'x_30_3', 'x_32_68', 'x_64_79', 'x_29_86', 'x_64_82', 'x_19_22', 'x_26_23', 'x_44_32', 'x_56_57', 'x_70_81', 'x_30_94', 'x_53_0', 'x_8_50', 'x_63_24', 'x_58_10', 'x_71_14', 'x_46_3', 'x_17_20', 'x_76_30', 'x_50_65', 'x_86_28', 'x_72_5', 'x_41_26', 'x_90_75', 'x_73_75', 'x_25_87', 'x_24_97', 'x_45_28', 'x_48_42', 'x_77_33', 'x_29_19', 'x_95_83', 'x_22_87', 'x_22_69', 'x_15_51', 'x_72_23', 'x_24_25', 'x_49_25', 'x_78_63', 'x_50_47', 'x_36_33', 'x_63_21', 'x_26_39', 'x_43_74', 'x_64_99', 'x_91_55', 'x_50_82', 'x_40_74', 'x_47_93', 'x_29_41', 'x_59_4', 'x_9_5', 'x_39_34', 'x_56_17', 'x_3_23', 'x_1_39', 'x_58_43', 'x_31_63', 'x_68_97', 'x_4_5', 'x_82_21', 'x_39_36', 'x_8_65', 'x_54_74', 'x_15_20', 'x_48_70', 'x_20_75', 'x_72_59', 'x_24_41', 'x_57_59', 'x_55_38', 'x_89_20', 'x_73_74', 'x_28_5', 'x_41_89', 'x_23_91', 'x_91_57', 'x_52_88', 'x_50_33', 'x_13_5', 'x_69_60', 'x_4_1', 'x_73_4', 'x_57_79', 'x_63_47', 'x_93_95', 'x_51_36', 'x_63_94', 'x_79_22', 'x_90_6', 'x_8_91', 'x_35_63', 'x_89_62', 'x_46_98', 'x_45_62', 'x_68_93', 'x_30_0', 'x_4_41', 'x_85_8', 'x_94_50', 'x_39_78', 'x_54_9', 'x_41_57', 'x_85_6', 'x_86_14', 'x_9_65', 'x_97_79', 'x_42_75', 'x_47_83', 'x_44_46', 'x_5_45', 'x_22_14', 'x_86_87', 'x_94_87', 'x_51_34', 'x_91_4', 'x_55_57', 'x_6_26', 'x_20_91', 'x_86_99', 'x_44_14', 'x_93_24', 'x_84_16', 'x_72_37', 'x_49_57', 'x_45_74', 'x_68_20', 'x_37_92', 'x_65_5', 'x_64_20', 'x_52_20', 'x_32_39', 'x_96_77', 'x_20_73', 'x_7_47', 'x_68_66', 'x_96_38', 'x_34_18', 'x_67_18', 'x_46_64', 'x_65_25', 'x_17_39', 'x_55_84', 'x_24_76', 'x_48_64', 'x_74_46', 'x_7_26', 'x_75_69', 'x_45_38', 'x_86_3', 'x_69_21', 'x_37_94', 'x_2_34', 'x_95_76', 'x_19_73', 'x_44_78', 'x_92_80', 'x_17_2', 'x_75_39', 'x_15_0', 'x_40_70', 'x_96_99', 'x_75_71', 'x_59_74', 'x_55_89', 'x_54_58', 'x_55_22', 'x_30_17', 'x_34_58', 'x_4_67', 'x_40_25', 'x_92_34', 'x_32_79', 'x_40_37', 'x_23_55', 'x_86_73', 'x_43_72', 'x_11_52', 'x_80_99', 'x_19_0', 'x_39_4', 'x_42_51', 'x_0_22', 'x_67_23', 'x_74_43', 'x_56_79', 'x_27_49', 'x_7_55', 'x_34_1', 'x_97_11', 'x_86_78', 'x_80_53', 'x_13_42', 'x_86_29', 'x_44_94', 'x_77_60', 'x_10_55', 'x_19_42', 'x_63_55', 'x_12_68', 'x_91_39', 'x_19_13', 'x_14_5', 'x_56_15', 'x_28_18', 'x_85_22', 'x_53_11', 'x_4_18', 'x_67_51', 'x_4_54', 'x_93_61', 'x_65_63', 'x_18_75', 'x_21_84', 'x_50_63', 'x_51_54', 'x_70_24', 'x_13_32', 'x_49_91', 'x_92_43', 'x_23_87', 'x_45_91', 'x_93_57', 'x_77_99', 'x_25_60', 'x_77_68', 'x_20_71', 'x_2_79', 'x_65_47', 'x_81_25', 'x_18_76', 'x_9_85', 'x_66_26', 'x_74_12', 'x_21_31', 'x_25_39', 'x_44_35', 'x_57_67', 'x_0_18', 'x_4_34', 'x_23_80', 'x_90_57', 'x_66_15', 'x_51_22', 'x_40_60', 'x_67_4', 'x_92_87', 'x_91_44', 'x_54_26', 'x_62_53', 'x_12_49', 'x_71_86', 'x_28_70', 'x_61_4', 'x_26_5', 'x_71_10', 'x_4_16', 'x_48_61', 'x_85_27', 'x_71_22', 'x_47_28', 'x_9_69', 'x_9_78', 'x_18_4', 'x_57_22', 'x_61_35', 'x_17_75', 'x_70_31', 'x_14_9', 'x_18_20', 'x_25_27', 'x_4_58', 'x_12_19', 'x_82_30', 'x_49_66', 'x_43_37', 'x_1_96', 'x_28_12', 'x_25_62', 'x_76_45', 'x_95_6', 'x_9_97', 'x_30_75', 'x_20_86', 'x_62_8', 'x_70_72', 'x_35_36', 'x_8_18', 'x_33_99', 'x_73_24', 'x_18_55', 'x_95_2', 'x_44_19', 'x_45_6', 'x_41_20', 'x_41_47', 'x_44_57', 'x_56_80', 'x_30_5', 'x_23_21', 'x_55_77', 'x_7_82', 'x_45_94', 'x_51_0', 'x_30_87', 'x_12_35', 'x_15_2', 'x_11_28', 'x_57_44', 'x_14_14', 'x_71_84', 'x_32_14', 'x_2_43', 'x_2_81', 'x_0_7', 'x_54_36', 'x_63_13', 'x_73_37', 'x_42_77', 'x_59_3', 'x_93_56', 'x_67_26', 'x_14_62', 'x_55_34', 'x_80_47', 'x_64_31', 'x_23_23', 'x_21_3', 'x_60_72', 'x_12_96', 'x_8_69', 'x_21_32', 'x_55_78', 'x_0_71', 'x_78_62', 'x_12_28', 'x_21_71', 'x_32_45', 'x_36_28', 'x_40_31', 'x_65_80', 'x_12_1', 'x_16_90', 'x_13_97', 'x_87_1', 'x_89_11', 'x_63_90', 'x_10_88', 'x_38_65', 'x_77_49', 'x_63_65', 'x_16_62', 'x_60_14', 'x_6_83', 'x_75_25', 'x_73_93', 'x_80_71', 'x_13_15', 'x_70_43', 'x_99_90', 'x_84_29', 'x_25_20', 'x_41_78', 'x_98_88', 'x_10_17', 'x_72_56', 'x_98_48', 'x_83_87', 'x_51_30', 'x_50_76', 'x_88_97', 'x_73_8', 'x_32_16', 'x_68_35', 'x_17_57', 'x_59_42', 'x_49_5', 'x_51_83', 'x_26_35', 'x_43_68', 'x_3_60', 'x_82_15', 'x_66_13', 'x_65_76', 'x_63_91', 'x_72_20', 'x_39_30', 'x_51_26', 'x_59_63', 'x_34_3', 'x_5_0', 'x_4_99', 'x_98_37', 'x_43_14', 'x_64_2', 'x_60_20', 'x_89_30', 'x_37_62', 'x_43_5', 'x_31_50', 'x_53_14', 'x_33_65', 'x_88_6', 'x_64_15', 'x_14_55', 'x_65_50', 'x_69_49', 'x_54_95', 'x_60_69', 'x_62_4', 'x_10_56', 'x_98_6', 'x_53_78', 'x_65_88', 'x_0_92', 'x_55_45', 'x_0_56', 'x_56_19', 'x_28_46', 'x_60_3', 'x_34_32', 'x_91_81', 'x_66_29', 'x_78_98', 'x_74_0', 'x_28_14', 'x_63_85', 'x_11_89', 'x_9_28', 'x_79_83', 'x_45_88', 'x_26_7', 'x_81_71', 'x_59_84', 'x_8_92', 'x_97_99', 'x_14_27', 'x_29_11', 'x_16_24', 'x_47_11', 'x_71_78', 'x_90_79', 'x_51_23', 'x_87_71', 'x_45_30', 'x_92_31', 'x_38_76', 'x_94_81', 'x_40_5', 'x_54_28', 'x_90_54', 'x_70_49', 'x_27_70', 'x_53_54', 'x_87_15', 'x_25_30', 'x_75_45', 'x_36_31', 'x_53_87', 'x_18_82', 'x_19_77', 'x_13_44', 'x_51_44', 'x_47_80', 'x_33_22', 'x_78_93', 'x_19_38', 'x_62_9', 'x_89_59', 'x_68_58', 'x_41_13', 'x_61_33', 'x_79_65', 'x_33_63', 'x_69_26', 'x_41_21', 'x_26_93', 'x_96_76', 'x_46_18', 'x_84_2', 'x_4_43', 'x_33_26', 'x_66_16', 'x_92_73', 'x_67_32', 'x_66_86', 'x_4_26', 'x_90_20', 'x_95_74', 'x_91_13', 'x_36_23', 'x_72_72', 'x_43_78', 'x_24_99', 'x_99_52', 'x_68_26', 'x_83_41', 'x_6_90', 'x_24_82', 'x_38_79', 'x_35_88', 'x_42_50', 'x_29_23', 'x_57_57', 'x_4_50', 'x_71_93', 'x_65_55', 'x_77_87', 'x_50_39', 'x_83_72', 'x_44_85', 'x_76_42', 'x_47_6', 'x_17_83', 'x_88_15', 'x_61_69', 'x_67_8', 'x_37_15', 'x_81_55', 'x_94_60', 'x_37_83', 'x_19_29', 'x_86_37', 'x_8_16', 'x_27_63', 'x_49_67', 'x_13_8', 'x_2_12', 'x_46_90', 'x_56_53', 'x_6_0', 'x_40_8', 'x_7_66', 'x_61_41', 'x_82_13', 'x_25_11', 'x_72_1', 'x_79_57', 'x_35_98', 'x_70_92', 'x_26_81', 'x_57_37', 'x_81_22', 'x_59_46', 'x_52_44', 'x_49_10', 'x_17_42', 'x_9_44', 'x_44_28', 'x_20_41', 'x_68_53', 'x_89_4', 'x_84_59', 'x_75_75', 'x_81_31', 'x_30_54', 'x_8_36', 'x_9_94', 'x_68_19', 'x_57_81', 'x_88_23', 'x_95_60', 'x_36_72', 'x_37_32', 'x_31_95', 'x_68_3', 'x_21_9', 'x_90_34', 'x_52_27', 'x_48_17', 'x_59_33', 'x_33_50', 'x_33_64', 'x_77_38', 'x_19_76', 'x_3_40', 'x_3_65', 'x_41_15', 'x_0_97', 'x_6_99', 'x_50_58', 'x_26_96', 'x_65_54', 'x_86_70', 'x_79_98', 'x_87_50', 'x_66_30', 'x_34_83', 'x_72_55', 'x_10_12', 'x_7_18', 'x_11_84', 'x_42_93', 'x_52_98', 'x_78_46', 'x_61_60', 'x_96_5', 'x_53_76', 'x_77_22', 'x_64_30', 'x_31_92', 'x_14_17', 'x_90_45', 'x_26_44', 'x_17_50', 'x_71_80', 'x_91_5', 'x_64_46', 'x_10_74', 'x_80_93', 'x_1_77', 'x_77_86', 'x_5_74', 'x_97_15', 'x_87_41', 'x_98_22', 'x_25_66', 'x_94_5', 'x_78_21', 'x_86_8', 'x_60_98', 'x_89_48', 'x_81_80', 'x_45_58', 'x_10_44', 'x_93_26', 'x_33_40', 'x_45_90', 'x_77_81', 'x_44_84', 'x_73_45', 'x_0_65', 'x_24_84', 'x_51_35', 'x_88_73', 'x_94_12', 'x_74_45', 'x_64_91', 'x_95_7', 'x_60_25', 'x_50_70', 'x_51_51', 'x_98_38', 'x_69_5', 'x_63_75', 'x_59_8', 'x_74_81', 'x_9_80', 'x_20_83', 'x_53_94', 'x_15_39', 'x_31_45', 'x_5_63', 'x_25_6', 'x_68_39', 'x_92_35', 'x_42_34', 'x_8_96', 'x_41_11', 'x_11_6', 'x_94_73', 'x_50_13', 'x_50_62', 'x_73_5', 'x_96_3', 'x_48_66', 'x_46_37', 'x_75_58', 'x_51_38', 'x_72_14', 'x_65_39', 'x_20_19', 'x_47_81', 'x_18_1', 'x_21_5', 'x_62_12', 'x_80_15', 'x_33_73', 'x_98_99', 'x_56_67', 'x_47_45', 'x_22_27', 'x_1_27', 'x_89_36', 'x_13_48', 'x_15_55', 'x_47_50', 'x_36_73', 'x_7_87', 'x_61_61', 'x_85_39', 'x_90_9', 'x_97_39', 'x_45_31', 'x_55_99', 'x_37_30', 'x_62_6', 'x_65_29', 'x_48_31', 'x_88_0', 'x_46_62', 'x_92_48', 'x_19_20', 'x_82_44', 'x_59_39', 'x_79_46', 'x_93_43', 'x_75_78', 'x_11_41', 'x_0_13', 'x_76_96', 'x_2_58', 'x_85_7', 'x_96_55', 'x_34_57', 'x_22_24', 'x_44_53', 'x_70_47', 'x_17_63', 'x_4_89', 'x_80_82', 'x_11_64', 'x_87_45', 'x_10_77', 'x_44_38', 'x_48_83', 'x_80_49', 'x_64_43', 'x_97_62', 'x_37_52', 'x_45_47', 'x_22_41', 'x_71_4', 'x_56_13', 'x_37_51', 'x_10_64', 'x_19_98', 'x_23_65', 'x_49_99', 'x_2_52', 'x_42_74', 'x_12_83', 'x_6_50', 'x_69_36', 'x_56_21', 'x_82_94', 'x_74_48', 'x_25_75', 'x_87_28', 'x_45_98', 'x_11_21', 'x_21_1', 'x_47_39', 'x_15_43', 'x_22_98', 'x_5_91', 'x_36_51', 'x_26_55', 'x_28_81', 'x_79_26', 'x_78_54', 'x_1_29', 'x_56_25', 'x_52_5', 'x_48_14', 'x_42_48', 'x_1_71', 'x_4_81', 'x_71_34', 'x_62_87', 'x_7_21', 'x_96_98', 'x_86_17', 'x_23_72', 'x_99_35', 'x_6_35', 'x_62_70', 'x_72_29', 'x_33_84', 'x_95_30', 'x_40_58', 'x_25_65', 'x_74_23', 'x_19_91', 'x_78_91', 'x_55_26', 'x_26_11', 'x_81_11', 'x_96_37', 'x_40_71', 'x_1_54', 'x_58_99', 'x_11_95', 'x_2_67', 'x_73_10', 'x_69_17', 'x_60_22', 'x_86_1', 'x_37_21', 'x_66_54', 'x_30_7', 'x_71_32', 'x_45_16', 'x_15_10', 'x_26_12', 'x_41_35', 'x_60_51', 'x_74_96', 'x_24_64', 'x_59_36', 'x_9_50', 'x_48_79', 'x_34_73', 'x_68_87', 'x_31_55', 'x_35_49', 'x_36_71', 'x_29_35', 'x_87_2', 'x_86_7', 'x_77_27', 'x_99_63', 'x_52_17', 'x_79_82', 'x_62_42', 'x_23_97', 'x_31_38', 'x_29_73', 'x_71_24', 'x_16_47', 'x_95_22', 'x_79_94', 'x_67_62', 'x_73_42', 'x_31_91', 'x_1_17', 'x_57_1', 'x_47_23', 'x_98_58', 'x_81_7', 'x_93_84', 'x_3_59', 'x_39_38', 'x_17_67', 'x_85_47', 'x_41_85', 'x_86_2', 'x_52_35', 'x_59_77', 'x_91_0', 'x_30_8', 'x_35_72', 'x_6_24', 'x_85_84', 'x_7_28', 'x_96_31', 'x_67_71', 'x_66_70', 'x_21_4', 'x_86_5', 'x_64_16', 'x_77_28', 'x_29_64', 'x_62_59', 'x_86_32', 'x_32_73', 'x_65_95', 'x_81_74', 'x_25_69', 'x_89_98', 'x_70_74', 'x_25_98', 'x_51_93', 'x_84_19', 'x_90_59', 'x_52_29', 'x_89_26', 'x_85_41', 'x_37_27', 'x_99_27', 'x_92_57', 'x_5_42', 'x_57_42', 'x_62_58', 'x_81_83', 'x_21_88', 'x_52_39', 'x_61_64', 'x_38_40', 'x_51_40', 'x_50_17', 'x_27_21', 'x_37_55', 'x_43_55', 'x_94_41', 'x_81_68', 'x_92_7', 'x_63_63', 'x_22_88', 'x_87_94', 'x_84_62', 'x_79_43', 'x_28_61', 'x_84_43', 'x_35_79', 'x_42_94', 'x_88_27', 'x_20_13', 'x_24_77', 'x_94_31', 'x_25_46', 'x_71_55', 'x_21_47', 'x_45_60', 'x_66_19', 'x_81_0', 'x_89_96', 'x_11_35', 'x_74_99', 'x_56_34', 'x_28_75', 'x_89_58', 'x_49_50', 'x_39_47', 'x_83_81', 'x_12_75', 'x_56_27', 'x_22_70', 'x_10_42', 'x_30_66', 'x_66_72', 'x_44_91', 'x_40_50', 'x_74_51', 'x_45_18', 'x_28_3', 'x_58_52', 'x_56_83', 'x_94_8', 'x_98_43', 'x_23_54', 'x_56_68', 'x_69_72', 'x_76_91', 'x_86_44', 'x_23_39', 'x_96_4', 'x_12_40', 'x_23_41', 'x_87_39', 'x_61_46', 'x_16_80', 'x_67_69', 'x_4_13', 'x_5_22', 'x_61_92', 'x_74_87', 'x_30_77', 'x_55_94', 'x_99_5', 'x_65_99', 'x_63_80', 'x_3_11', 'x_41_23', 'x_94_35', 'x_36_17', 'x_12_95', 'x_55_8', 'x_78_65', 'x_33_88', 'x_80_90', 'x_45_43', 'x_73_61', 'x_28_35', 'x_32_99', 'x_12_89', 'x_56_10', 'x_73_63', 'x_8_38', 'x_12_53', 'x_47_30', 'x_74_37', 'x_85_82', 'x_17_29', 'x_28_21', 'x_92_69', 'x_7_30', 'x_63_44', 'x_53_83', 'x_94_58', 'x_46_78', 'x_10_66', 'x_5_10', 'x_48_90', 'x_81_42', 'x_90_35', 'x_25_3', 'x_82_93', 'x_13_55', 'x_25_43', 'x_66_84', 'x_58_82', 'x_59_97', 'x_61_72', 'x_95_66', 'x_95_68', 'x_17_91', 'x_73_25', 'x_43_19', 'x_29_21', 'x_24_89', 'x_13_92', 'x_85_35', 'x_91_91', 'x_35_97', 'x_49_1', 'x_57_15', 'x_94_69', 'x_98_46', 'x_46_68', 'x_6_66', 'x_44_41', 'x_88_54', 'x_6_33', 'x_2_93', 'x_31_1', 'x_84_84', 'x_64_90', 'x_11_34', 'x_69_94', 'x_83_48', 'x_56_51', 'x_13_69', 'x_60_44', 'x_43_30', 'x_90_69', 'x_89_87', 'x_18_59', 'x_14_37', 'x_3_26', 'x_85_95', 'x_88_81', 'x_33_44', 'x_80_72', 'x_36_68', 'x_43_58', 'x_78_45', 'x_9_30', 'x_71_39', 'x_66_0', 'x_44_25', 'x_67_40', 'x_77_73', 'x_0_69', 'x_99_6', 'x_96_15', 'x_40_24', 'x_42_85', 'x_69_8', 'x_93_44', 'x_44_88', 'x_10_31', 'x_55_66', 'x_43_8', 'x_6_20', 'x_22_55', 'x_61_56', 'x_35_76', 'x_8_84', 'x_15_79', 'x_11_83', 'x_89_52', 'x_77_36', 'x_31_25', 'x_45_93', 'x_45_52', 'x_83_12', 'x_48_80', 'x_94_44', 'x_1_46', 'x_33_71', 'x_3_38', 'x_2_57', 'x_92_29', 'x_16_33', 'x_95_40', 'x_7_62', 'x_52_9', 'x_27_11', 'x_43_63'}\n",
      "  warnings.warn(f\"Found vars in model but not guide: {bad_sites}\")\n",
      "/home/dkohler/anaconda3/lib/python3.9/site-packages/pyro/infer/traceenum_elbo.py:355: UserWarning: TraceEnum_ELBO found no sample sites configured for enumeration. If you want to enumerate sites, you need to @config_enumerate or set infer={\"enumerate\": \"sequential\"} or infer={\"enumerate\": \"parallel\"}? If you do not want to enumerate, consider using Trace_ELBO instead.\n",
      "  warnings.warn(\n"
     ]
    }
   ],
   "source": [
    "rate_results = infer_rates(lotka_volterra_1, lotka_volterra_guide, lv_data, learning_rate=.01, num_steps = 1000)"
   ]
  },
  {
   "cell_type": "markdown",
   "id": "18d3eae0-adf3-4dae-962c-b5287b4084eb",
   "metadata": {},
   "source": [
    "#### With bad priors : .9, .3, .7\n",
    "\n",
    "True rates:  [ .9, .015, .35 ]"
   ]
  },
  {
   "cell_type": "code",
   "execution_count": 17,
   "id": "7eac3917-76aa-41f4-b321-dae30d53f2d5",
   "metadata": {
    "jupyter": {
     "source_hidden": true
    },
    "tags": []
   },
   "outputs": [],
   "source": [
    "loss = np.array([691468.0650115013, 670521.465144515, 646260.9688317776, 618265.590899229, 586548.1366419792,\n",
    "                551873.916841507, 516014.1296849251, 481703.79737758636, 452045.583524704, 429378.5150299072,\n",
    "                414242.46589660645, 405307.2240142822, 400363.3226928711, 397473.473236084, 395474.75326538086, \n",
    "                393856.9665527344, 392456.2741088867, 391236.37268066406, 390189.1943359375, 389305.2114868164, \n",
    "                388569.32849121094, 387962.4634399414, 387465.7897338867, 387061.17764282227, 386732.04095458984,\n",
    "                386464.5118713379, 386247.3483886719, 386070.51960754395, 385926.5041656494, 385809.4211730957, \n",
    "                385713.8262023926, 385635.678024292, 385571.72982788086, 385519.5032348633, 385476.7055358887, \n",
    "                385441.94638061523, 385413.2445678711, 385389.4839782715, 385370.22270202637, 385354.5023345947, \n",
    "                385341.55506134033, 385330.8786087036, 385322.1106414795, 385314.92069244385, 385309.1728515625, \n",
    "                385304.3779067993, 385300.5311126709, 385297.2459869385])\n",
    "rates = np.array([[0.9090, 0.2970, 0.7070], [1.0052, 0.2686, 0.7818], [1.1141, 0.2424, 0.8663], [1.2393, 0.2180, 0.9632], [1.3841, 0.1953, 1.0744], \n",
    "                 [1.5514, 0.1745, 1.2015], [1.7427, 0.1557, 1.3442], [1.9577, 0.1391, 1.4993], [2.1930, 0.1250, 1.6596], [2.4417, 0.1134, 1.8128], \n",
    "                 [2.6947, 0.1044, 1.9432], [2.9420, 0.0977, 2.0364], [3.1763, 0.0930, 2.0852], [3.3936, 0.0899, 2.0921], [3.5936, 0.0879, 2.0667], \n",
    "                 [3.7778, 0.0868, 2.0209], [3.9484, 0.0862, 1.9649], [4.1074, 0.0859, 1.9057], [4.2560, 0.0858, 1.8476], [4.3948, 0.0857, 1.7926],\n",
    "                 [4.5238, 0.0858, 1.7417], [4.6426, 0.0859, 1.6950], [4.7513, 0.0860, 1.6524], [4.8500, 0.0862, 1.6137], [4.9390, 0.0864, 1.5786], \n",
    "                 [5.0192, 0.0866, 1.5468], [5.0912, 0.0868, 1.5180], [5.1561, 0.0871, 1.4920], [5.2144, 0.0873, 1.4684], [5.2671, 0.0875, 1.4472], \n",
    "                 [5.3147, 0.0877, 1.4279], [5.3576, 0.0878, 1.4105], [5.3965, 0.0880, 1.3947], [5.4316, 0.0881, 1.3803], [5.4634, 0.0883, 1.3673], \n",
    "                 [5.4921, 0.0884, 1.3554], [5.5180, 0.0885, 1.3446], [5.5414, 0.0886, 1.3348], [5.5624, 0.0887, 1.3259], [5.5814, 0.0888, 1.3177], \n",
    "                 [5.5984, 0.0889, 1.3102], [5.6136, 0.0889, 1.3034], [5.6273, 0.0890, 1.2972], [5.6394, 0.0890, 1.2915], [5.6503, 0.0891, 1.2863], \n",
    "                 [5.6598, 0.0891, 1.2815], [5.6683, 0.0891, 1.2772], [5.6757, 0.0892, 1.2732]])"
   ]
  },
  {
   "cell_type": "code",
   "execution_count": 18,
   "id": "5f8dd840-bd6c-4815-8d71-50fd083b9c25",
   "metadata": {
    "collapsed": true,
    "jupyter": {
     "outputs_hidden": true
    },
    "tags": []
   },
   "outputs": [
    {
     "data": {
      "text/plain": [
       "array([[0.909 , 0.297 , 0.707 ],\n",
       "       [1.0052, 0.2686, 0.7818],\n",
       "       [1.1141, 0.2424, 0.8663],\n",
       "       [1.2393, 0.218 , 0.9632],\n",
       "       [1.3841, 0.1953, 1.0744],\n",
       "       [1.5514, 0.1745, 1.2015],\n",
       "       [1.7427, 0.1557, 1.3442],\n",
       "       [1.9577, 0.1391, 1.4993],\n",
       "       [2.193 , 0.125 , 1.6596],\n",
       "       [2.4417, 0.1134, 1.8128],\n",
       "       [2.6947, 0.1044, 1.9432],\n",
       "       [2.942 , 0.0977, 2.0364],\n",
       "       [3.1763, 0.093 , 2.0852],\n",
       "       [3.3936, 0.0899, 2.0921],\n",
       "       [3.5936, 0.0879, 2.0667],\n",
       "       [3.7778, 0.0868, 2.0209],\n",
       "       [3.9484, 0.0862, 1.9649],\n",
       "       [4.1074, 0.0859, 1.9057],\n",
       "       [4.256 , 0.0858, 1.8476],\n",
       "       [4.3948, 0.0857, 1.7926],\n",
       "       [4.5238, 0.0858, 1.7417],\n",
       "       [4.6426, 0.0859, 1.695 ],\n",
       "       [4.7513, 0.086 , 1.6524],\n",
       "       [4.85  , 0.0862, 1.6137],\n",
       "       [4.939 , 0.0864, 1.5786],\n",
       "       [5.0192, 0.0866, 1.5468],\n",
       "       [5.0912, 0.0868, 1.518 ],\n",
       "       [5.1561, 0.0871, 1.492 ],\n",
       "       [5.2144, 0.0873, 1.4684],\n",
       "       [5.2671, 0.0875, 1.4472],\n",
       "       [5.3147, 0.0877, 1.4279],\n",
       "       [5.3576, 0.0878, 1.4105],\n",
       "       [5.3965, 0.088 , 1.3947],\n",
       "       [5.4316, 0.0881, 1.3803],\n",
       "       [5.4634, 0.0883, 1.3673],\n",
       "       [5.4921, 0.0884, 1.3554],\n",
       "       [5.518 , 0.0885, 1.3446],\n",
       "       [5.5414, 0.0886, 1.3348],\n",
       "       [5.5624, 0.0887, 1.3259],\n",
       "       [5.5814, 0.0888, 1.3177],\n",
       "       [5.5984, 0.0889, 1.3102],\n",
       "       [5.6136, 0.0889, 1.3034],\n",
       "       [5.6273, 0.089 , 1.2972],\n",
       "       [5.6394, 0.089 , 1.2915],\n",
       "       [5.6503, 0.0891, 1.2863],\n",
       "       [5.6598, 0.0891, 1.2815],\n",
       "       [5.6683, 0.0891, 1.2772],\n",
       "       [5.6757, 0.0892, 1.2732]])"
      ]
     },
     "execution_count": 18,
     "metadata": {},
     "output_type": "execute_result"
    }
   ],
   "source": [
    "rates"
   ]
  },
  {
   "cell_type": "code",
   "execution_count": 26,
   "id": "950f23c3-7b71-4634-8c0e-1084dc52044c",
   "metadata": {},
   "outputs": [
    {
     "data": {
      "text/plain": [
       "Text(0.5, 0, 'steps')"
      ]
     },
     "execution_count": 26,
     "metadata": {},
     "output_type": "execute_result"
    },
    {
     "data": {
      "image/png": "[encoded data removed]",
      "text/plain": [
       "<Figure size 720x576 with 1 Axes>"
      ]
     },
     "metadata": {
      "needs_background": "light"
     },
     "output_type": "display_data"
    }
   ],
   "source": [
    "fig, ax = plt.subplots(figsize = (10,8))\n",
    "\n",
    "ax.plot(np.arange(0,48), loss, color = \"red\", label = \"loss\")\n",
    "\n",
    "plt.legend()\n",
    "ax.set_title(\"Loss\")\n",
    "ax.set_xlabel(\"steps\")"
   ]
  },
  {
   "cell_type": "code",
   "execution_count": 27,
   "id": "e7554fca-39d7-475d-a71d-08f38f66be3c",
   "metadata": {},
   "outputs": [
    {
     "data": {
      "text/plain": [
       "Text(0.5, 0, 'steps')"
      ]
     },
     "execution_count": 27,
     "metadata": {},
     "output_type": "execute_result"
    },
    {
     "data": {
      "image/png": "[encoded data removed]",
      "text/plain": [
       "<Figure size 720x576 with 1 Axes>"
      ]
     },
     "metadata": {
      "needs_background": "light"
     },
     "output_type": "display_data"
    }
   ],
   "source": [
    "fig, ax = plt.subplots(figsize = (10,8))\n",
    "\n",
    "ax.plot(np.arange(0,48), rates[:, 0], color = \"red\", label = \"r1\")\n",
    "ax.plot(np.arange(0,48), rates[:, 1], color = \"blue\", label = \"r2\")\n",
    "ax.plot(np.arange(0,48), rates[:, 2], color = \"green\", label = \"r3\")\n",
    "\n",
    "ax.hlines(y = .9, xmin = 0, xmax = 48, color = \"darkred\")\n",
    "ax.hlines(y = .015, xmin = 0, xmax = 48,color = \"navy\")\n",
    "ax.hlines(y = .35, xmin = 0, xmax = 48,color = \"darkgreen\")\n",
    "\n",
    "plt.legend()\n",
    "ax.set_title(\"Infered Rates\")\n",
    "ax.set_xlabel(\"steps\")"
   ]
  },
  {
   "cell_type": "markdown",
   "id": "0cb95aaf-8e35-4fd8-85e3-b1e87762cf62",
   "metadata": {},
   "source": [
    "Why did it not converge to the correct values:\n",
    "1. (Very) low replicates (2)\n",
    "2. (Very) low steps (5)\n",
    "3. Bad priors"
   ]
  },
  {
   "cell_type": "markdown",
   "id": "e53103fc-20b4-44f1-9d62-190eeedd7a58",
   "metadata": {},
   "source": [
    "#### With bad priors : .9, .05, .4, and more replicates (10)\n",
    "\n",
    "True rates:  [ .9, .015, .35 ]"
   ]
  },
  {
   "cell_type": "code",
   "execution_count": 28,
   "id": "0de58e85-95af-4f46-a894-57bb3c2d8e5c",
   "metadata": {
    "jupyter": {
     "source_hidden": true
    },
    "tags": []
   },
   "outputs": [],
   "source": [
    "loss = np.array([1958518.2779693604, 1880021.4254760742, 1829479.6990356445, 1807661.7854614258, 1801638.1197509766, \n",
    "                 1798100.5393676758, 1794205.083557129, 1791088.7697143555, 1788878.5608520508, 1787259.3004760742, \n",
    "                 1786086.9563293457, 1785264.33303833, 1784683.2415771484, 1784275.1806030273, 1783988.8352966309, \n",
    "                 1783790.7803955078, 1783651.7004699707, 1783555.1278381348, 1783489.988494873, 1783443.8989868164, \n",
    "                 1783413.990600586, 1783392.951599121, 1783378.2848205566, 1783368.5862503052, 1783362.9032211304, \n",
    "                 1783358.122970581, 1783356.4904251099, 1783353.5543670654, 1783352.9811096191, 1783352.410583496, \n",
    "                 1783351.5933380127, 1783352.013534546, 1783350.7700805664, 1783351.828338623, 1783351.6425628662, \n",
    "                 1783351.5021514893, 1783351.6183242798])\n",
    "\n",
    "rates = np.array([[0.9090, 0.0495, 0.4040], [1.0038, 0.0448, 0.4458], [1.1028, 0.0409, 0.4863], [1.1968, 0.0380, 0.5145], \n",
    "                  [1.2745, 0.0363, 0.5182], [1.3306, 0.0357, 0.4994], [1.3703, 0.0357, 0.4712], [1.4037, 0.0359, 0.4442], \n",
    "                  [1.4375, 0.0361, 0.4220], [1.4722, 0.0360, 0.4046], [1.5047, 0.0360, 0.3903], [1.5323, 0.0360, 0.3780], \n",
    "                  [1.5545, 0.0360, 0.3674], [1.5725, 0.0361, 0.3584], [1.5879, 0.0361, 0.3508], [1.6013, 0.0362, 0.3445], \n",
    "                  [1.6127, 0.0362, 0.3393], [1.6223, 0.0363, 0.3349], [1.6303, 0.0363, 0.3312], [1.6370, 0.0363, 0.3281],\n",
    "                  [1.6426, 0.0363, 0.3255], [1.6474, 0.0364, 0.3234], [1.6513, 0.0364, 0.3216], [1.6545, 0.0364, 0.3202], \n",
    "                  [1.6572, 0.0364, 0.3190], [1.6593, 0.0364, 0.3180], [1.6611, 0.0364, 0.3172], [1.6626, 0.0364, 0.3165],\n",
    "                  [1.6638, 0.0364, 0.3160], [1.6647, 0.0364, 0.3156], [1.6654, 0.0364, 0.3152], [1.6660, 0.0364, 0.3150], \n",
    "                  [1.6665, 0.0364, 0.3148], [1.6669, 0.0364, 0.3146], [1.6671, 0.0364, 0.3145], [1.6673, 0.0364, 0.3144], [1.6675, 0.0365, 0.3143]])\n"
   ]
  },
  {
   "cell_type": "code",
   "execution_count": 30,
   "id": "4a864348-e832-459e-a25a-06bfd68b2fd5",
   "metadata": {},
   "outputs": [
    {
     "data": {
      "text/plain": [
       "Text(0.5, 0, 'steps')"
      ]
     },
     "execution_count": 30,
     "metadata": {},
     "output_type": "execute_result"
    },
    {
     "data": {
      "image/png": "[encoded data removed]",
      "text/plain": [
       "<Figure size 720x576 with 1 Axes>"
      ]
     },
     "metadata": {
      "needs_background": "light"
     },
     "output_type": "display_data"
    }
   ],
   "source": [
    "fig, ax = plt.subplots(figsize = (10,8))\n",
    "\n",
    "ax.plot(np.arange(0,37), loss, color = \"red\", label = \"loss\")\n",
    "\n",
    "plt.legend()\n",
    "ax.set_title(\"Loss\")\n",
    "ax.set_xlabel(\"steps\")"
   ]
  },
  {
   "cell_type": "code",
   "execution_count": 31,
   "id": "9bfd3d01-4a7a-407e-9525-5d942e72d9c7",
   "metadata": {},
   "outputs": [
    {
     "data": {
      "text/plain": [
       "Text(0.5, 0, 'steps')"
      ]
     },
     "execution_count": 31,
     "metadata": {},
     "output_type": "execute_result"
    },
    {
     "data": {
      "image/png": "[encoded data removed]",
      "text/plain": [
       "<Figure size 720x576 with 1 Axes>"
      ]
     },
     "metadata": {
      "needs_background": "light"
     },
     "output_type": "display_data"
    }
   ],
   "source": [
    "fig, ax = plt.subplots(figsize = (10,8))\n",
    "\n",
    "ax.plot(np.arange(0,37), rates[:, 0], color = \"red\", label = \"r1\")\n",
    "ax.plot(np.arange(0,37), rates[:, 1], color = \"blue\", label = \"r2\")\n",
    "ax.plot(np.arange(0,37), rates[:, 2], color = \"green\", label = \"r3\")\n",
    "\n",
    "ax.hlines(y = .9, xmin = 0, xmax = 37, color = \"darkred\")\n",
    "ax.hlines(y = .015, xmin = 0, xmax = 37,color = \"navy\")\n",
    "ax.hlines(y = .35, xmin = 0, xmax = 37,color = \"darkgreen\")\n",
    "\n",
    "plt.legend()\n",
    "ax.set_title(\"Infered Rates\")\n",
    "ax.set_xlabel(\"steps\")"
   ]
  },
  {
   "cell_type": "markdown",
   "id": "05e1b752-095d-4c5a-bbb2-1c179f0f87a9",
   "metadata": {},
   "source": [
    "Looks better but still off. Most likely still an issue with the # of timesteps."
   ]
  },
  {
   "cell_type": "markdown",
   "id": "6b2e7072-7823-4c36-bac4-0b209db760fb",
   "metadata": {
    "tags": []
   },
   "source": [
    "### Next Steps"
   ]
  },
  {
   "cell_type": "markdown",
   "id": "2c627d53-ebfa-449b-9a0a-9836bc422329",
   "metadata": {},
   "source": [
    "1. Get parallel enumeration working\n",
    "2. Get Lotka Volterra rates to converge to correct values\n",
    "3. Add time to Lotka Volterra model\n",
    "4. Apply model to Lac Operon\n",
    "    1. Make sure rates can still converge with all steps observed\n",
    "    2. Adjust model to only observe certain steps (as in real life)\n",
    "5. Test experimental design conditions with differing number of replicates and observations\n",
    "6. Find real data and apply it to the model"
   ]
  },
  {
   "cell_type": "markdown",
   "id": "f368c20f-13e9-49cd-b6c9-cc5cfa729d9e",
   "metadata": {},
   "source": [
    "### Data generation model with time component"
   ]
  },
  {
   "cell_type": "markdown",
   "id": "e757bcef-085f-4f39-9c22-25a4947bf91e",
   "metadata": {},
   "source": [
    "Define parameters and data used for Proppa"
   ]
  },
  {
   "cell_type": "code",
   "execution_count": 195,
   "id": "41bf1dab-c57b-4bc4-9030-a60fc7cb0705",
   "metadata": {},
   "outputs": [],
   "source": [
    "## Define Model\n",
    "def lotka_volterra_sampling(data):\n",
    "    \n",
    "    collect_samples = list()\n",
    "    \n",
    "    num_sequences, max_length, data_dim = data.shape\n",
    "    \n",
    "    ## Define true rates\n",
    "    rates = torch.tensor([.0009, .000015, .00035])\n",
    "    \n",
    "    # print(rates)\n",
    "    ## Loop over sequences\n",
    "    sample_plate = pyro.plate(\"sample\", data_dim, dim=-1)\n",
    "    test_plate = pyro.plate(\"test\")\n",
    "    for i in pyro.plate(\"sequences\", num_sequences):\n",
    "        \n",
    "        s_start = torch.tensor([20., 40., 0.])\n",
    "        \n",
    "        time = torch.tensor(0.)\n",
    "        temp_species_list = [s_start]\n",
    "        \n",
    "        for t in pyro.markov(torch.arange(max_length)):\n",
    "            \n",
    "            ## Calculate reaction rates\n",
    "            reaction1 = pyro.deterministic(\"reaction1_{}_{}\".format(t, i),\n",
    "                                           rates[0] * s_start[0])\n",
    "            reaction2 = pyro.deterministic(\"reaction2_{}_{}\".format(t, i),\n",
    "                                           rates[1] * s_start[0] * s_start[1])\n",
    "            reaction3 = pyro.deterministic(\"reaction3_{}_{}\".format(t, i),\n",
    "                                           rates[2] * s_start[1])\n",
    "\n",
    "            rates_matrix = torch.stack([reaction1, reaction2, reaction3], axis = 0)\n",
    "\n",
    "            # Sample\n",
    "            x = pyro.sample(\n",
    "                        \"x_{}_{}\".format(t, i),\n",
    "                        pyro.distributions.Categorical(rates_matrix),\n",
    "                        #infer={\"enumerate\": \"parallel\"},\n",
    "                    )\n",
    "\n",
    "            ## Update tensor\n",
    "            transition = torch.tensor([[ 1,  0, 0],\n",
    "                              [-1,  1,0],\n",
    "                              [ 0, -1,0]])            \n",
    "            update = transition[x]\n",
    "            # print(update)\n",
    "            with sample_plate:\n",
    "                ## Observed sample\n",
    "                sample = pyro.sample(\n",
    "                    \"y_{}_{}\".format(t, i),\n",
    "                    pyro.distributions.Normal(s_start + update, .01),\n",
    "                    # obs=data[i, t]\n",
    "                )\n",
    "\n",
    "\n",
    "            time_sample = pyro.sample(\n",
    "                    \"time_{}_{}\".format(t, i),\n",
    "                    pyro.distributions.Exponential(sum(s_start + update)),\n",
    "                    # obs=data[i, t]\n",
    "                )\n",
    "            \n",
    "            combo_list = list()\n",
    "            \n",
    "            time += time_sample  \n",
    "            append_val = torch.cat((sample[:-1], torch.tensor([time])))\n",
    "            temp_species_list.append(append_val)\n",
    "            \n",
    "            ## True update\n",
    "            s_start = pyro.deterministic(\"d_{}_{}\".format(t, i), \n",
    "                                         torch.maximum(torch.tensor([1., 1.,0.]), s_start + update), \n",
    "                                         event_dim=1)\n",
    "            \n",
    "            \n",
    "        collect_samples.append(torch.stack(temp_species_list))\n",
    "    return collect_samples\n"
   ]
  },
  {
   "cell_type": "code",
   "execution_count": 196,
   "id": "5b8fa4e5-08dd-4a43-ae0b-42108f2d7bad",
   "metadata": {
    "tags": []
   },
   "outputs": [],
   "source": [
    "lv_data_temp = lotka_volterra_sampling(torch.zeros(10, 10000, 3))\n",
    "lv_data_samples = torch.stack(lv_data_temp)\n",
    "# lv_data[0, :10]"
   ]
  },
  {
   "cell_type": "code",
   "execution_count": 198,
   "id": "49f07e94-b1d0-4e6f-b6a1-59f21f8e74af",
   "metadata": {},
   "outputs": [
    {
     "data": {
      "text/plain": [
       "<matplotlib.legend.Legend at 0x7f86e8f67490>"
      ]
     },
     "execution_count": 198,
     "metadata": {},
     "output_type": "execute_result"
    },
    {
     "data": {
      "image/png": "[encoded data removed]",
      "text/plain": [
       "<Figure size 432x288 with 1 Axes>"
      ]
     },
     "metadata": {
      "needs_background": "light"
     },
     "output_type": "display_data"
    }
   ],
   "source": [
    "fig, ax = plt.subplots()\n",
    "\n",
    "ax.plot(lv_data_samples[0, :, 2], lv_data_samples[0, :, 0], color = \"blue\", label = \"prey\")\n",
    "ax.plot(lv_data_samples[0, :, 2], lv_data_samples[0, :, 1], color = \"red\", label = \"pred\")\n",
    "\n",
    "plt.legend()"
   ]
  },
  {
   "cell_type": "code",
   "execution_count": 212,
   "id": "48eeff1c-f85e-4332-9b47-62560ed7f580",
   "metadata": {},
   "outputs": [
    {
     "data": {
      "text/plain": [
       "array([[2.0000000e+01, 4.0000000e+01, 0.0000000e+00],\n",
       "       [1.8983036e+01, 4.1000755e+01, 2.8073801e-02],\n",
       "       [1.8005167e+01, 4.2004864e+01, 4.3379847e-02],\n",
       "       ...,\n",
       "       [3.2993965e+01, 1.4099678e+02, 1.0837571e+02],\n",
       "       [3.3001484e+01, 1.4001086e+02, 1.0837627e+02],\n",
       "       [3.2007591e+01, 1.4100348e+02, 1.0838406e+02]], dtype=float32)"
      ]
     },
     "execution_count": 212,
     "metadata": {},
     "output_type": "execute_result"
    }
   ],
   "source": [
    "np.array(lv_data_samples[0])"
   ]
  },
  {
   "cell_type": "code",
   "execution_count": 217,
   "id": "34564e9a-98b3-4067-86ca-163e3919d5cf",
   "metadata": {},
   "outputs": [],
   "source": [
    "df = pd.DataFrame(np.array(lv_data_samples[0]), columns = [\"X\", \"Y\", \"time\"])\n",
    "df.loc[[x for x in range(len(df)) if x%100 == 0], [\"time\", \"X\", \"Y\"]\n",
    "      ].to_csv(\"../data/lv_proppa_obs\", sep = \" \", index = False)"
   ]
  },
  {
   "cell_type": "code",
   "execution_count": 192,
   "id": "a52050cd-f66a-4fde-a71d-d0467205164c",
   "metadata": {},
   "outputs": [
    {
     "data": {
      "text/plain": [
       "<matplotlib.legend.Legend at 0x7f86e8f6e5e0>"
      ]
     },
     "execution_count": 192,
     "metadata": {},
     "output_type": "execute_result"
    },
    {
     "data": {
      "image/png": "[encoded data removed]",
      "text/plain": [
       "<Figure size 432x288 with 1 Axes>"
      ]
     },
     "metadata": {
      "needs_background": "light"
     },
     "output_type": "display_data"
    }
   ],
   "source": [
    "fig, ax = plt.subplots()\n",
    "\n",
    "ax.plot(np.arange(lv_data_samples.shape[1]), lv_data_samples[3, :, 0], color = \"blue\", label = \"prey\")\n",
    "ax.plot(np.arange(lv_data_samples.shape[1]), lv_data_samples[3, :, 1], color = \"red\", label = \"pred\")\n",
    "\n",
    "plt.legend()"
   ]
  },
  {
   "cell_type": "code",
   "execution_count": null,
   "id": "582e198b-0104-4fbd-8b08-7f9fd06661c0",
   "metadata": {},
   "outputs": [],
   "source": [
    "with open('../data/lv_data.pickle', 'wb') as handle:\n",
    "    pickle.dump(temp, handle, protocol=pickle.HIGHEST_PROTOCOL)"
   ]
  },
  {
   "cell_type": "markdown",
   "id": "2f86de23-8b2c-4757-9088-4938b255cead",
   "metadata": {
    "jp-MarkdownHeadingCollapsed": true,
    "tags": []
   },
   "source": [
    "# Old models and code.. \n",
    "TODO: Figure out what should be kept/deleted"
   ]
  },
  {
   "cell_type": "markdown",
   "id": "b03440c6-597f-4be9-8dac-29b662f865d9",
   "metadata": {
    "tags": []
   },
   "source": [
    "### Try some different data sizes"
   ]
  },
  {
   "cell_type": "code",
   "execution_count": 38,
   "id": "11df4fa8-ad27-43ce-aba5-ea5beccd71df",
   "metadata": {},
   "outputs": [],
   "source": [
    "## Define Model\n",
    "def lotka_volterra_0(data):\n",
    "    \n",
    "    collect = list()\n",
    "    \n",
    "    num_sequences, max_length, data_dim = data.shape\n",
    "    \n",
    "    ## Define true rates\n",
    "    rates = pyro.sample(\n",
    "        \"rates\",\n",
    "        pyro.distributions.LogNormal(torch.tensor([0., 0., 0.]), .1).to_event(1),\n",
    "    )\n",
    "    # print(rates)\n",
    "    ## Loop over sequences\n",
    "    sample_plate = pyro.plate(\"sample\", data_dim, dim=-1)\n",
    "    test_plate = pyro.plate(\"test\")\n",
    "    for i in pyro.plate(\"sequences\", num_sequences):\n",
    "        \n",
    "        s_start = torch.tensor([50., 100.])\n",
    "        \n",
    "        temp_list = list()\n",
    "        \n",
    "        for t in pyro.markov(torch.arange(max_length)):\n",
    "            \n",
    "            ## Calculate reaction rates\n",
    "            reaction1 = pyro.deterministic(\"reaction1_{}_{}\".format(t, i),\n",
    "                                           rates[0] * s_start[0])\n",
    "            reaction2 = pyro.deterministic(\"reaction2_{}_{}\".format(t, i),\n",
    "                                           rates[1] * s_start[0] * s_start[1])\n",
    "            reaction3 = pyro.deterministic(\"reaction3_{}_{}\".format(t, i),\n",
    "                                           rates[2] * s_start[1])\n",
    "\n",
    "            rates_matrix = torch.stack([reaction1, reaction2, reaction3], axis = 0)\n",
    "\n",
    "            # Sample\n",
    "            x = pyro.sample(\n",
    "                        \"x_{}_{}\".format(t, i),\n",
    "                        pyro.distributions.Categorical(rates_matrix),\n",
    "                        #infer={\"enumerate\": \"parallel\"},\n",
    "                    )\n",
    "\n",
    "            ## Update tensor\n",
    "            transition = torch.tensor([[ 1,  0],\n",
    "                              [-1,  1],\n",
    "                              [ 0, -1]])            \n",
    "            update = transition[x]\n",
    "            # print(update)\n",
    "            with sample_plate:\n",
    "                ## Observed sample\n",
    "                sample = pyro.sample(\n",
    "                    \"y_{}_{}\".format(t, i),\n",
    "                    pyro.distributions.Normal(s_start + update, .01),\n",
    "                    obs=data[i, t]\n",
    "                )\n",
    "                temp_list.append(sample)\n",
    "\n",
    "            ## True update\n",
    "            s_start = pyro.deterministic(\"d_{}_{}\".format(t, i), \n",
    "                                         torch.maximum(torch.tensor([1, 1]), s_start + update), \n",
    "                                         event_dim=1)\n",
    "\n",
    "        collect.append(torch.stack(temp_list))\n",
    "    return collect\n"
   ]
  },
  {
   "cell_type": "markdown",
   "id": "f196bd4a-588a-442b-90b9-155d53a6b797",
   "metadata": {
    "tags": []
   },
   "source": [
    "#### 20 reps, 100 steps"
   ]
  },
  {
   "cell_type": "code",
   "execution_count": 420,
   "id": "0088a6c4-63c5-42bb-ba26-c7e114f1e8f3",
   "metadata": {},
   "outputs": [
    {
     "data": {
      "text/plain": [
       "<matplotlib.legend.Legend at 0x7ffa0a7f15b0>"
      ]
     },
     "execution_count": 420,
     "metadata": {},
     "output_type": "execute_result"
    },
    {
     "data": {
      "image/png": "[encoded data removed]",
      "text/plain": [
       "<Figure size 576x432 with 1 Axes>"
      ]
     },
     "metadata": {
      "needs_background": "light"
     },
     "output_type": "display_data"
    }
   ],
   "source": [
    "data_shape = torch.zeros(20, 100, 3)\n",
    "data_gen = model_0(data_shape)\n",
    "data = torch.stack(data_gen)\n",
    "\n",
    "rate_results = infer_rates(model_1, data, learning_rate=.0001, num_steps = 10000)\n",
    "\n",
    "fig, ax = plt.subplots(figsize = (8,6))\n",
    "\n",
    "ax.plot(np.arange(0,10000), rate_results[:, 0], color = \"red\", label = \"r1\")\n",
    "ax.plot(np.arange(0,10000), rate_results[:, 1], color = \"blue\", label = \"r2\")\n",
    "ax.plot(np.arange(0,10000), rate_results[:, 2], color = \"green\", label = \"r3\")\n",
    "\n",
    "ax.hlines(y = .7, xmin = 0, xmax = 10000, color = \"darkred\")\n",
    "ax.hlines(y = .3, xmin = 0, xmax = 10000, color = \"navy\")\n",
    "ax.hlines(y = .9, xmin = 0, xmax = 100, color = \"darkgreen\")\n",
    "\n",
    "plt.legend()"
   ]
  },
  {
   "cell_type": "markdown",
   "id": "25c0849b-4442-413f-976a-f5e21198386c",
   "metadata": {},
   "source": [
    "#### 100 reps, 20 steps"
   ]
  },
  {
   "cell_type": "code",
   "execution_count": 421,
   "id": "06e204f4-7cbe-4b37-9c21-cd706eed2fe0",
   "metadata": {},
   "outputs": [
    {
     "data": {
      "text/plain": [
       "<matplotlib.legend.Legend at 0x7ffa09ad2340>"
      ]
     },
     "execution_count": 421,
     "metadata": {},
     "output_type": "execute_result"
    },
    {
     "data": {
      "image/png": "[encoded data removed]",
      "text/plain": [
       "<Figure size 576x432 with 1 Axes>"
      ]
     },
     "metadata": {
      "needs_background": "light"
     },
     "output_type": "display_data"
    }
   ],
   "source": [
    "data_shape = torch.zeros(100, 20, 3)\n",
    "data_gen = model_0(data_shape)\n",
    "data = torch.stack(data_gen)\n",
    "\n",
    "rate_results = infer_rates(model_1, data, learning_rate=.0001, num_steps = 10000)\n",
    "\n",
    "fig, ax = plt.subplots(figsize = (8,6))\n",
    "\n",
    "ax.plot(np.arange(0,10000), rate_results[:, 0], color = \"red\", label = \"r1\")\n",
    "ax.plot(np.arange(0,10000), rate_results[:, 1], color = \"blue\", label = \"r2\")\n",
    "ax.plot(np.arange(0,10000), rate_results[:, 2], color = \"green\", label = \"r3\")\n",
    "\n",
    "ax.hlines(y = .7, xmin = 0, xmax = 10000, color = \"darkred\")\n",
    "ax.hlines(y = .3, xmin = 0, xmax = 10000, color = \"navy\")\n",
    "ax.hlines(y = .9, xmin = 0, xmax = 100, color = \"darkgreen\")\n",
    "\n",
    "plt.legend()"
   ]
  },
  {
   "cell_type": "markdown",
   "id": "8e55644a-83e5-431f-b9a4-c61789ee79e0",
   "metadata": {},
   "source": [
    "#### 100 reps, 100 steps"
   ]
  },
  {
   "cell_type": "code",
   "execution_count": 422,
   "id": "fd97cf6b-0906-4792-acfa-0b543c2b340d",
   "metadata": {},
   "outputs": [
    {
     "data": {
      "text/plain": [
       "<matplotlib.legend.Legend at 0x7ffa03dec880>"
      ]
     },
     "execution_count": 422,
     "metadata": {},
     "output_type": "execute_result"
    },
    {
     "data": {
      "image/png": "[encoded data removed]",
      "text/plain": [
       "<Figure size 576x432 with 1 Axes>"
      ]
     },
     "metadata": {
      "needs_background": "light"
     },
     "output_type": "display_data"
    }
   ],
   "source": [
    "data_shape = torch.zeros(100, 100, 3)\n",
    "data_gen = model_0(data_shape)\n",
    "data = torch.stack(data_gen)\n",
    "\n",
    "rate_results = infer_rates(model_1, data, learning_rate=.0001, num_steps = 10000)\n",
    "\n",
    "fig, ax = plt.subplots(figsize = (8,6))\n",
    "\n",
    "ax.plot(np.arange(0,10000), rate_results[:, 0], color = \"red\", label = \"r1\")\n",
    "ax.plot(np.arange(0,10000), rate_results[:, 1], color = \"blue\", label = \"r2\")\n",
    "ax.plot(np.arange(0,10000), rate_results[:, 2], color = \"green\", label = \"r3\")\n",
    "\n",
    "ax.hlines(y = .7, xmin = 0, xmax = 10000, color = \"darkred\")\n",
    "ax.hlines(y = .3, xmin = 0, xmax = 10000, color = \"navy\")\n",
    "ax.hlines(y = .9, xmin = 0, xmax = 100, color = \"darkgreen\")\n",
    "\n",
    "plt.legend()"
   ]
  },
  {
   "cell_type": "markdown",
   "id": "131105d4-f82d-4481-81bf-703947c1e65e",
   "metadata": {},
   "source": [
    "#### 1000 reps, 1000 steps"
   ]
  },
  {
   "cell_type": "code",
   "execution_count": 125,
   "id": "b709f4b6-c5b1-4662-8a90-7a6a5c28ca77",
   "metadata": {
    "collapsed": true,
    "jupyter": {
     "outputs_hidden": true
    },
    "tags": []
   },
   "outputs": [
    {
     "ename": "KeyboardInterrupt",
     "evalue": "",
     "output_type": "error",
     "traceback": [
      "\u001b[0;31m---------------------------------------------------------------------------\u001b[0m",
      "\u001b[0;31mKeyboardInterrupt\u001b[0m                         Traceback (most recent call last)",
      "\u001b[0;32m/tmp/ipykernel_17105/1226571766.py\u001b[0m in \u001b[0;36m<module>\u001b[0;34m\u001b[0m\n\u001b[1;32m      3\u001b[0m \u001b[0mdata\u001b[0m \u001b[0;34m=\u001b[0m \u001b[0mtorch\u001b[0m\u001b[0;34m.\u001b[0m\u001b[0mstack\u001b[0m\u001b[0;34m(\u001b[0m\u001b[0mdata_gen\u001b[0m\u001b[0;34m)\u001b[0m\u001b[0;34m\u001b[0m\u001b[0;34m\u001b[0m\u001b[0m\n\u001b[1;32m      4\u001b[0m \u001b[0;34m\u001b[0m\u001b[0m\n\u001b[0;32m----> 5\u001b[0;31m \u001b[0mrate_results\u001b[0m \u001b[0;34m=\u001b[0m \u001b[0minfer_rates\u001b[0m\u001b[0;34m(\u001b[0m\u001b[0mmodel_1\u001b[0m\u001b[0;34m,\u001b[0m \u001b[0mdata\u001b[0m\u001b[0;34m,\u001b[0m \u001b[0mlearning_rate\u001b[0m\u001b[0;34m=\u001b[0m\u001b[0;36m.0001\u001b[0m\u001b[0;34m,\u001b[0m \u001b[0mnum_steps\u001b[0m \u001b[0;34m=\u001b[0m \u001b[0;36m10000\u001b[0m\u001b[0;34m)\u001b[0m\u001b[0;34m\u001b[0m\u001b[0;34m\u001b[0m\u001b[0m\n\u001b[0m\u001b[1;32m      6\u001b[0m \u001b[0;34m\u001b[0m\u001b[0m\n\u001b[1;32m      7\u001b[0m \u001b[0mfig\u001b[0m\u001b[0;34m,\u001b[0m \u001b[0max\u001b[0m \u001b[0;34m=\u001b[0m \u001b[0mplt\u001b[0m\u001b[0;34m.\u001b[0m\u001b[0msubplots\u001b[0m\u001b[0;34m(\u001b[0m\u001b[0mfigsize\u001b[0m \u001b[0;34m=\u001b[0m \u001b[0;34m(\u001b[0m\u001b[0;36m8\u001b[0m\u001b[0;34m,\u001b[0m\u001b[0;36m6\u001b[0m\u001b[0;34m)\u001b[0m\u001b[0;34m)\u001b[0m\u001b[0;34m\u001b[0m\u001b[0;34m\u001b[0m\u001b[0m\n",
      "\u001b[0;32m/tmp/ipykernel_17105/1380246488.py\u001b[0m in \u001b[0;36minfer_rates\u001b[0;34m(model, observations, learning_rate, num_steps, beta0, beta1)\u001b[0m\n\u001b[1;32m     12\u001b[0m     \u001b[0msvi\u001b[0m \u001b[0;34m=\u001b[0m \u001b[0mpyro\u001b[0m\u001b[0;34m.\u001b[0m\u001b[0minfer\u001b[0m\u001b[0;34m.\u001b[0m\u001b[0mSVI\u001b[0m\u001b[0;34m(\u001b[0m\u001b[0mmodel\u001b[0m\u001b[0;34m,\u001b[0m \u001b[0mhmm_guide\u001b[0m\u001b[0;34m,\u001b[0m \u001b[0moptim\u001b[0m\u001b[0;34m,\u001b[0m \u001b[0melbo\u001b[0m\u001b[0;34m)\u001b[0m\u001b[0;34m\u001b[0m\u001b[0;34m\u001b[0m\u001b[0m\n\u001b[1;32m     13\u001b[0m     \u001b[0;32mfor\u001b[0m \u001b[0mstep\u001b[0m \u001b[0;32min\u001b[0m \u001b[0mrange\u001b[0m\u001b[0;34m(\u001b[0m\u001b[0mnum_steps\u001b[0m\u001b[0;34m)\u001b[0m\u001b[0;34m:\u001b[0m\u001b[0;34m\u001b[0m\u001b[0;34m\u001b[0m\u001b[0m\n\u001b[0;32m---> 14\u001b[0;31m         \u001b[0msvi\u001b[0m\u001b[0;34m.\u001b[0m\u001b[0mstep\u001b[0m\u001b[0;34m(\u001b[0m\u001b[0mobservations\u001b[0m\u001b[0;34m)\u001b[0m\u001b[0;34m\u001b[0m\u001b[0;34m\u001b[0m\u001b[0m\n\u001b[0m\u001b[1;32m     15\u001b[0m         \u001b[0;32mfor\u001b[0m \u001b[0mkey\u001b[0m\u001b[0;34m,\u001b[0m \u001b[0mvalue\u001b[0m \u001b[0;32min\u001b[0m \u001b[0mpyro\u001b[0m\u001b[0;34m.\u001b[0m\u001b[0mget_param_store\u001b[0m\u001b[0;34m(\u001b[0m\u001b[0;34m)\u001b[0m\u001b[0;34m.\u001b[0m\u001b[0mitems\u001b[0m\u001b[0;34m(\u001b[0m\u001b[0;34m)\u001b[0m\u001b[0;34m:\u001b[0m\u001b[0;34m\u001b[0m\u001b[0;34m\u001b[0m\u001b[0m\n\u001b[1;32m     16\u001b[0m             \u001b[0mrates\u001b[0m\u001b[0;34m.\u001b[0m\u001b[0mappend\u001b[0m\u001b[0;34m(\u001b[0m\u001b[0mvalue\u001b[0m\u001b[0;34m)\u001b[0m\u001b[0;34m\u001b[0m\u001b[0;34m\u001b[0m\u001b[0m\n",
      "\u001b[0;32m~/anaconda3/lib/python3.9/site-packages/pyro/infer/svi.py\u001b[0m in \u001b[0;36mstep\u001b[0;34m(self, *args, **kwargs)\u001b[0m\n\u001b[1;32m    143\u001b[0m         \u001b[0;31m# get loss and compute gradients\u001b[0m\u001b[0;34m\u001b[0m\u001b[0;34m\u001b[0m\u001b[0m\n\u001b[1;32m    144\u001b[0m         \u001b[0;32mwith\u001b[0m \u001b[0mpoutine\u001b[0m\u001b[0;34m.\u001b[0m\u001b[0mtrace\u001b[0m\u001b[0;34m(\u001b[0m\u001b[0mparam_only\u001b[0m\u001b[0;34m=\u001b[0m\u001b[0;32mTrue\u001b[0m\u001b[0;34m)\u001b[0m \u001b[0;32mas\u001b[0m \u001b[0mparam_capture\u001b[0m\u001b[0;34m:\u001b[0m\u001b[0;34m\u001b[0m\u001b[0;34m\u001b[0m\u001b[0m\n\u001b[0;32m--> 145\u001b[0;31m             \u001b[0mloss\u001b[0m \u001b[0;34m=\u001b[0m \u001b[0mself\u001b[0m\u001b[0;34m.\u001b[0m\u001b[0mloss_and_grads\u001b[0m\u001b[0;34m(\u001b[0m\u001b[0mself\u001b[0m\u001b[0;34m.\u001b[0m\u001b[0mmodel\u001b[0m\u001b[0;34m,\u001b[0m \u001b[0mself\u001b[0m\u001b[0;34m.\u001b[0m\u001b[0mguide\u001b[0m\u001b[0;34m,\u001b[0m \u001b[0;34m*\u001b[0m\u001b[0margs\u001b[0m\u001b[0;34m,\u001b[0m \u001b[0;34m**\u001b[0m\u001b[0mkwargs\u001b[0m\u001b[0;34m)\u001b[0m\u001b[0;34m\u001b[0m\u001b[0;34m\u001b[0m\u001b[0m\n\u001b[0m\u001b[1;32m    146\u001b[0m \u001b[0;34m\u001b[0m\u001b[0m\n\u001b[1;32m    147\u001b[0m         params = set(\n",
      "\u001b[0;32m~/anaconda3/lib/python3.9/site-packages/pyro/infer/traceenum_elbo.py\u001b[0m in \u001b[0;36mloss_and_grads\u001b[0;34m(self, model, guide, *args, **kwargs)\u001b[0m\n\u001b[1;32m    449\u001b[0m         \"\"\"\n\u001b[1;32m    450\u001b[0m         \u001b[0melbo\u001b[0m \u001b[0;34m=\u001b[0m \u001b[0;36m0.0\u001b[0m\u001b[0;34m\u001b[0m\u001b[0;34m\u001b[0m\u001b[0m\n\u001b[0;32m--> 451\u001b[0;31m         \u001b[0;32mfor\u001b[0m \u001b[0mmodel_trace\u001b[0m\u001b[0;34m,\u001b[0m \u001b[0mguide_trace\u001b[0m \u001b[0;32min\u001b[0m \u001b[0mself\u001b[0m\u001b[0;34m.\u001b[0m\u001b[0m_get_traces\u001b[0m\u001b[0;34m(\u001b[0m\u001b[0mmodel\u001b[0m\u001b[0;34m,\u001b[0m \u001b[0mguide\u001b[0m\u001b[0;34m,\u001b[0m \u001b[0margs\u001b[0m\u001b[0;34m,\u001b[0m \u001b[0mkwargs\u001b[0m\u001b[0;34m)\u001b[0m\u001b[0;34m:\u001b[0m\u001b[0;34m\u001b[0m\u001b[0;34m\u001b[0m\u001b[0m\n\u001b[0m\u001b[1;32m    452\u001b[0m             \u001b[0melbo_particle\u001b[0m \u001b[0;34m=\u001b[0m \u001b[0m_compute_dice_elbo\u001b[0m\u001b[0;34m(\u001b[0m\u001b[0mmodel_trace\u001b[0m\u001b[0;34m,\u001b[0m \u001b[0mguide_trace\u001b[0m\u001b[0;34m)\u001b[0m\u001b[0;34m\u001b[0m\u001b[0;34m\u001b[0m\u001b[0m\n\u001b[1;32m    453\u001b[0m             \u001b[0;32mif\u001b[0m \u001b[0mis_identically_zero\u001b[0m\u001b[0;34m(\u001b[0m\u001b[0melbo_particle\u001b[0m\u001b[0;34m)\u001b[0m\u001b[0;34m:\u001b[0m\u001b[0;34m\u001b[0m\u001b[0;34m\u001b[0m\u001b[0m\n",
      "\u001b[0;32m~/anaconda3/lib/python3.9/site-packages/pyro/infer/traceenum_elbo.py\u001b[0m in \u001b[0;36m_get_traces\u001b[0;34m(self, model, guide, args, kwargs)\u001b[0m\n\u001b[1;32m    392\u001b[0m             \u001b[0mq\u001b[0m\u001b[0;34m.\u001b[0m\u001b[0mput\u001b[0m\u001b[0;34m(\u001b[0m\u001b[0mpoutine\u001b[0m\u001b[0;34m.\u001b[0m\u001b[0mTrace\u001b[0m\u001b[0;34m(\u001b[0m\u001b[0;34m)\u001b[0m\u001b[0;34m)\u001b[0m\u001b[0;34m\u001b[0m\u001b[0;34m\u001b[0m\u001b[0m\n\u001b[1;32m    393\u001b[0m             \u001b[0;32mwhile\u001b[0m \u001b[0;32mnot\u001b[0m \u001b[0mq\u001b[0m\u001b[0;34m.\u001b[0m\u001b[0mempty\u001b[0m\u001b[0;34m(\u001b[0m\u001b[0;34m)\u001b[0m\u001b[0;34m:\u001b[0m\u001b[0;34m\u001b[0m\u001b[0;34m\u001b[0m\u001b[0m\n\u001b[0;32m--> 394\u001b[0;31m                 \u001b[0;32myield\u001b[0m \u001b[0mself\u001b[0m\u001b[0;34m.\u001b[0m\u001b[0m_get_trace\u001b[0m\u001b[0;34m(\u001b[0m\u001b[0mmodel\u001b[0m\u001b[0;34m,\u001b[0m \u001b[0mguide\u001b[0m\u001b[0;34m,\u001b[0m \u001b[0margs\u001b[0m\u001b[0;34m,\u001b[0m \u001b[0mkwargs\u001b[0m\u001b[0;34m)\u001b[0m\u001b[0;34m\u001b[0m\u001b[0;34m\u001b[0m\u001b[0m\n\u001b[0m\u001b[1;32m    395\u001b[0m \u001b[0;34m\u001b[0m\u001b[0m\n\u001b[1;32m    396\u001b[0m     \u001b[0;32mdef\u001b[0m \u001b[0mloss\u001b[0m\u001b[0;34m(\u001b[0m\u001b[0mself\u001b[0m\u001b[0;34m,\u001b[0m \u001b[0mmodel\u001b[0m\u001b[0;34m,\u001b[0m \u001b[0mguide\u001b[0m\u001b[0;34m,\u001b[0m \u001b[0;34m*\u001b[0m\u001b[0margs\u001b[0m\u001b[0;34m,\u001b[0m \u001b[0;34m**\u001b[0m\u001b[0mkwargs\u001b[0m\u001b[0;34m)\u001b[0m\u001b[0;34m:\u001b[0m\u001b[0;34m\u001b[0m\u001b[0;34m\u001b[0m\u001b[0m\n",
      "\u001b[0;32m~/anaconda3/lib/python3.9/site-packages/pyro/infer/traceenum_elbo.py\u001b[0m in \u001b[0;36m_get_trace\u001b[0;34m(self, model, guide, args, kwargs)\u001b[0m\n\u001b[1;32m    337\u001b[0m         \u001b[0magainst\u001b[0m \u001b[0mit\u001b[0m\u001b[0;34m.\u001b[0m\u001b[0;34m\u001b[0m\u001b[0;34m\u001b[0m\u001b[0m\n\u001b[1;32m    338\u001b[0m         \"\"\"\n\u001b[0;32m--> 339\u001b[0;31m         model_trace, guide_trace = get_importance_trace(\n\u001b[0m\u001b[1;32m    340\u001b[0m             \u001b[0;34m\"flat\"\u001b[0m\u001b[0;34m,\u001b[0m \u001b[0mself\u001b[0m\u001b[0;34m.\u001b[0m\u001b[0mmax_plate_nesting\u001b[0m\u001b[0;34m,\u001b[0m \u001b[0mmodel\u001b[0m\u001b[0;34m,\u001b[0m \u001b[0mguide\u001b[0m\u001b[0;34m,\u001b[0m \u001b[0margs\u001b[0m\u001b[0;34m,\u001b[0m \u001b[0mkwargs\u001b[0m\u001b[0;34m\u001b[0m\u001b[0;34m\u001b[0m\u001b[0m\n\u001b[1;32m    341\u001b[0m         )\n",
      "\u001b[0;32m~/anaconda3/lib/python3.9/site-packages/pyro/infer/enum.py\u001b[0m in \u001b[0;36mget_importance_trace\u001b[0;34m(graph_type, max_plate_nesting, model, guide, args, kwargs, detach)\u001b[0m\n\u001b[1;32m     63\u001b[0m         \u001b[0;32mif\u001b[0m \u001b[0mdetach\u001b[0m\u001b[0;34m:\u001b[0m\u001b[0;34m\u001b[0m\u001b[0;34m\u001b[0m\u001b[0m\n\u001b[1;32m     64\u001b[0m             \u001b[0mguide_trace\u001b[0m\u001b[0;34m.\u001b[0m\u001b[0mdetach_\u001b[0m\u001b[0;34m(\u001b[0m\u001b[0;34m)\u001b[0m\u001b[0;34m\u001b[0m\u001b[0;34m\u001b[0m\u001b[0m\n\u001b[0;32m---> 65\u001b[0;31m         model_trace = poutine.trace(\n\u001b[0m\u001b[1;32m     66\u001b[0m             \u001b[0mpoutine\u001b[0m\u001b[0;34m.\u001b[0m\u001b[0mreplay\u001b[0m\u001b[0;34m(\u001b[0m\u001b[0mmodel\u001b[0m\u001b[0;34m,\u001b[0m \u001b[0mtrace\u001b[0m\u001b[0;34m=\u001b[0m\u001b[0mguide_trace\u001b[0m\u001b[0;34m)\u001b[0m\u001b[0;34m,\u001b[0m \u001b[0mgraph_type\u001b[0m\u001b[0;34m=\u001b[0m\u001b[0mgraph_type\u001b[0m\u001b[0;34m\u001b[0m\u001b[0;34m\u001b[0m\u001b[0m\n\u001b[1;32m     67\u001b[0m         ).get_trace(*args, **kwargs)\n",
      "\u001b[0;32m~/anaconda3/lib/python3.9/site-packages/pyro/poutine/trace_messenger.py\u001b[0m in \u001b[0;36mget_trace\u001b[0;34m(self, *args, **kwargs)\u001b[0m\n\u001b[1;32m    196\u001b[0m         \u001b[0mCalls\u001b[0m \u001b[0mthis\u001b[0m \u001b[0mpoutine\u001b[0m \u001b[0;32mand\u001b[0m \u001b[0mreturns\u001b[0m \u001b[0mits\u001b[0m \u001b[0mtrace\u001b[0m \u001b[0minstead\u001b[0m \u001b[0mof\u001b[0m \u001b[0mthe\u001b[0m \u001b[0mfunction\u001b[0m\u001b[0;31m'\u001b[0m\u001b[0ms\u001b[0m \u001b[0;32mreturn\u001b[0m \u001b[0mvalue\u001b[0m\u001b[0;34m.\u001b[0m\u001b[0;34m\u001b[0m\u001b[0;34m\u001b[0m\u001b[0m\n\u001b[1;32m    197\u001b[0m         \"\"\"\n\u001b[0;32m--> 198\u001b[0;31m         \u001b[0mself\u001b[0m\u001b[0;34m(\u001b[0m\u001b[0;34m*\u001b[0m\u001b[0margs\u001b[0m\u001b[0;34m,\u001b[0m \u001b[0;34m**\u001b[0m\u001b[0mkwargs\u001b[0m\u001b[0;34m)\u001b[0m\u001b[0;34m\u001b[0m\u001b[0;34m\u001b[0m\u001b[0m\n\u001b[0m\u001b[1;32m    199\u001b[0m         \u001b[0;32mreturn\u001b[0m \u001b[0mself\u001b[0m\u001b[0;34m.\u001b[0m\u001b[0mmsngr\u001b[0m\u001b[0;34m.\u001b[0m\u001b[0mget_trace\u001b[0m\u001b[0;34m(\u001b[0m\u001b[0;34m)\u001b[0m\u001b[0;34m\u001b[0m\u001b[0;34m\u001b[0m\u001b[0m\n",
      "\u001b[0;32m~/anaconda3/lib/python3.9/site-packages/pyro/poutine/trace_messenger.py\u001b[0m in \u001b[0;36m__call__\u001b[0;34m(self, *args, **kwargs)\u001b[0m\n\u001b[1;32m    172\u001b[0m             )\n\u001b[1;32m    173\u001b[0m             \u001b[0;32mtry\u001b[0m\u001b[0;34m:\u001b[0m\u001b[0;34m\u001b[0m\u001b[0;34m\u001b[0m\u001b[0m\n\u001b[0;32m--> 174\u001b[0;31m                 \u001b[0mret\u001b[0m \u001b[0;34m=\u001b[0m \u001b[0mself\u001b[0m\u001b[0;34m.\u001b[0m\u001b[0mfn\u001b[0m\u001b[0;34m(\u001b[0m\u001b[0;34m*\u001b[0m\u001b[0margs\u001b[0m\u001b[0;34m,\u001b[0m \u001b[0;34m**\u001b[0m\u001b[0mkwargs\u001b[0m\u001b[0;34m)\u001b[0m\u001b[0;34m\u001b[0m\u001b[0;34m\u001b[0m\u001b[0m\n\u001b[0m\u001b[1;32m    175\u001b[0m             \u001b[0;32mexcept\u001b[0m \u001b[0;34m(\u001b[0m\u001b[0mValueError\u001b[0m\u001b[0;34m,\u001b[0m \u001b[0mRuntimeError\u001b[0m\u001b[0;34m)\u001b[0m \u001b[0;32mas\u001b[0m \u001b[0me\u001b[0m\u001b[0;34m:\u001b[0m\u001b[0;34m\u001b[0m\u001b[0;34m\u001b[0m\u001b[0m\n\u001b[1;32m    176\u001b[0m                 \u001b[0mexc_type\u001b[0m\u001b[0;34m,\u001b[0m \u001b[0mexc_value\u001b[0m\u001b[0;34m,\u001b[0m \u001b[0mtraceback\u001b[0m \u001b[0;34m=\u001b[0m \u001b[0msys\u001b[0m\u001b[0;34m.\u001b[0m\u001b[0mexc_info\u001b[0m\u001b[0;34m(\u001b[0m\u001b[0;34m)\u001b[0m\u001b[0;34m\u001b[0m\u001b[0;34m\u001b[0m\u001b[0m\n",
      "\u001b[0;32m~/anaconda3/lib/python3.9/site-packages/pyro/poutine/messenger.py\u001b[0m in \u001b[0;36m_context_wrap\u001b[0;34m(context, fn, *args, **kwargs)\u001b[0m\n\u001b[1;32m     10\u001b[0m \u001b[0;32mdef\u001b[0m \u001b[0m_context_wrap\u001b[0m\u001b[0;34m(\u001b[0m\u001b[0mcontext\u001b[0m\u001b[0;34m,\u001b[0m \u001b[0mfn\u001b[0m\u001b[0;34m,\u001b[0m \u001b[0;34m*\u001b[0m\u001b[0margs\u001b[0m\u001b[0;34m,\u001b[0m \u001b[0;34m**\u001b[0m\u001b[0mkwargs\u001b[0m\u001b[0;34m)\u001b[0m\u001b[0;34m:\u001b[0m\u001b[0;34m\u001b[0m\u001b[0;34m\u001b[0m\u001b[0m\n\u001b[1;32m     11\u001b[0m     \u001b[0;32mwith\u001b[0m \u001b[0mcontext\u001b[0m\u001b[0;34m:\u001b[0m\u001b[0;34m\u001b[0m\u001b[0;34m\u001b[0m\u001b[0m\n\u001b[0;32m---> 12\u001b[0;31m         \u001b[0;32mreturn\u001b[0m \u001b[0mfn\u001b[0m\u001b[0;34m(\u001b[0m\u001b[0;34m*\u001b[0m\u001b[0margs\u001b[0m\u001b[0;34m,\u001b[0m \u001b[0;34m**\u001b[0m\u001b[0mkwargs\u001b[0m\u001b[0;34m)\u001b[0m\u001b[0;34m\u001b[0m\u001b[0;34m\u001b[0m\u001b[0m\n\u001b[0m\u001b[1;32m     13\u001b[0m \u001b[0;34m\u001b[0m\u001b[0m\n\u001b[1;32m     14\u001b[0m \u001b[0;34m\u001b[0m\u001b[0m\n",
      "\u001b[0;32m~/anaconda3/lib/python3.9/site-packages/pyro/poutine/messenger.py\u001b[0m in \u001b[0;36m_context_wrap\u001b[0;34m(context, fn, *args, **kwargs)\u001b[0m\n\u001b[1;32m     10\u001b[0m \u001b[0;32mdef\u001b[0m \u001b[0m_context_wrap\u001b[0m\u001b[0;34m(\u001b[0m\u001b[0mcontext\u001b[0m\u001b[0;34m,\u001b[0m \u001b[0mfn\u001b[0m\u001b[0;34m,\u001b[0m \u001b[0;34m*\u001b[0m\u001b[0margs\u001b[0m\u001b[0;34m,\u001b[0m \u001b[0;34m**\u001b[0m\u001b[0mkwargs\u001b[0m\u001b[0;34m)\u001b[0m\u001b[0;34m:\u001b[0m\u001b[0;34m\u001b[0m\u001b[0;34m\u001b[0m\u001b[0m\n\u001b[1;32m     11\u001b[0m     \u001b[0;32mwith\u001b[0m \u001b[0mcontext\u001b[0m\u001b[0;34m:\u001b[0m\u001b[0;34m\u001b[0m\u001b[0;34m\u001b[0m\u001b[0m\n\u001b[0;32m---> 12\u001b[0;31m         \u001b[0;32mreturn\u001b[0m \u001b[0mfn\u001b[0m\u001b[0;34m(\u001b[0m\u001b[0;34m*\u001b[0m\u001b[0margs\u001b[0m\u001b[0;34m,\u001b[0m \u001b[0;34m**\u001b[0m\u001b[0mkwargs\u001b[0m\u001b[0;34m)\u001b[0m\u001b[0;34m\u001b[0m\u001b[0;34m\u001b[0m\u001b[0m\n\u001b[0m\u001b[1;32m     13\u001b[0m \u001b[0;34m\u001b[0m\u001b[0m\n\u001b[1;32m     14\u001b[0m \u001b[0;34m\u001b[0m\u001b[0m\n",
      "\u001b[0;32m/tmp/ipykernel_17105/817977609.py\u001b[0m in \u001b[0;36mmodel_1\u001b[0;34m(data, batch_size)\u001b[0m\n\u001b[1;32m     31\u001b[0m             \u001b[0;31m## Update second run with enumeration. Cycles between 4 and 5 dimension tensor\u001b[0m\u001b[0;34m\u001b[0m\u001b[0;34m\u001b[0m\u001b[0m\n\u001b[1;32m     32\u001b[0m             \u001b[0;32melif\u001b[0m \u001b[0mlen\u001b[0m\u001b[0;34m(\u001b[0m\u001b[0mx\u001b[0m\u001b[0;34m.\u001b[0m\u001b[0mshape\u001b[0m\u001b[0;34m)\u001b[0m \u001b[0;34m==\u001b[0m \u001b[0;36m4\u001b[0m\u001b[0;34m:\u001b[0m\u001b[0;34m\u001b[0m\u001b[0;34m\u001b[0m\u001b[0m\n\u001b[0;32m---> 33\u001b[0;31m                 \u001b[0mupdate\u001b[0m\u001b[0;34m[\u001b[0m\u001b[0mtorch\u001b[0m\u001b[0;34m.\u001b[0m\u001b[0marange\u001b[0m\u001b[0;34m(\u001b[0m\u001b[0mlen\u001b[0m\u001b[0;34m(\u001b[0m\u001b[0mupdate\u001b[0m\u001b[0;34m)\u001b[0m\u001b[0;34m)\u001b[0m\u001b[0;34m,\u001b[0m \u001b[0;36m0\u001b[0m\u001b[0;34m,\u001b[0m \u001b[0;36m0\u001b[0m\u001b[0;34m,\u001b[0m\u001b[0mtorch\u001b[0m\u001b[0;34m.\u001b[0m\u001b[0mflatten\u001b[0m\u001b[0;34m(\u001b[0m\u001b[0mx\u001b[0m\u001b[0;34m)\u001b[0m\u001b[0;34m.\u001b[0m\u001b[0mlong\u001b[0m\u001b[0;34m(\u001b[0m\u001b[0;34m)\u001b[0m\u001b[0;34m]\u001b[0m \u001b[0;34m=\u001b[0m \u001b[0;36m1.\u001b[0m\u001b[0;34m\u001b[0m\u001b[0;34m\u001b[0m\u001b[0m\n\u001b[0m\u001b[1;32m     34\u001b[0m             \u001b[0;32melse\u001b[0m\u001b[0;34m:\u001b[0m\u001b[0;34m\u001b[0m\u001b[0;34m\u001b[0m\u001b[0m\n\u001b[1;32m     35\u001b[0m                 \u001b[0mupdate\u001b[0m\u001b[0;34m[\u001b[0m\u001b[0mtorch\u001b[0m\u001b[0;34m.\u001b[0m\u001b[0marange\u001b[0m\u001b[0;34m(\u001b[0m\u001b[0mlen\u001b[0m\u001b[0;34m(\u001b[0m\u001b[0mupdate\u001b[0m\u001b[0;34m)\u001b[0m\u001b[0;34m)\u001b[0m\u001b[0;34m,\u001b[0m \u001b[0;36m0\u001b[0m\u001b[0;34m,\u001b[0m \u001b[0;36m0\u001b[0m\u001b[0;34m,\u001b[0m\u001b[0;36m0\u001b[0m\u001b[0;34m,\u001b[0m\u001b[0mtorch\u001b[0m\u001b[0;34m.\u001b[0m\u001b[0mflatten\u001b[0m\u001b[0;34m(\u001b[0m\u001b[0mx\u001b[0m\u001b[0;34m)\u001b[0m\u001b[0;34m.\u001b[0m\u001b[0mlong\u001b[0m\u001b[0;34m(\u001b[0m\u001b[0;34m)\u001b[0m\u001b[0;34m]\u001b[0m \u001b[0;34m=\u001b[0m \u001b[0;36m1.\u001b[0m\u001b[0;34m\u001b[0m\u001b[0;34m\u001b[0m\u001b[0m\n",
      "\u001b[0;31mKeyboardInterrupt\u001b[0m: "
     ]
    }
   ],
   "source": [
    "data_shape = torch.zeros(1000, 1000, 3)\n",
    "data_gen = model_0(data_shape)\n",
    "data = torch.stack(data_gen)\n",
    "\n",
    "rate_results = infer_rates(model_1, data, learning_rate=.0001, num_steps = 10000)\n",
    "\n",
    "fig, ax = plt.subplots(figsize = (8,6))\n",
    "\n",
    "ax.plot(np.arange(0,10000), rate_results[:, 0], color = \"red\", label = \"r1\")\n",
    "ax.plot(np.arange(0,10000), rate_results[:, 1], color = \"blue\", label = \"r2\")\n",
    "ax.plot(np.arange(0,10000), rate_results[:, 2], color = \"green\", label = \"r3\")\n",
    "\n",
    "ax.hlines(y = .7, xmin = 0, xmax = 10000, color = \"darkred\")\n",
    "ax.hlines(y = .3, xmin = 0, xmax = 10000, color = \"navy\")\n",
    "ax.hlines(y = .9, xmin = 0, xmax = 100, color = \"darkgreen\")\n",
    "\n",
    "plt.legend()"
   ]
  },
  {
   "cell_type": "code",
   "execution_count": null,
   "id": "5e60a059-3e5e-4e88-aea9-229ffadae7d1",
   "metadata": {},
   "outputs": [],
   "source": []
  },
  {
   "cell_type": "code",
   "execution_count": null,
   "id": "7dc4df7f-9a7b-4f3b-be3e-6a7fc49c40ef",
   "metadata": {},
   "outputs": [],
   "source": []
  },
  {
   "cell_type": "markdown",
   "id": "c40213e6-2b84-4941-8eaa-153a7410a7c5",
   "metadata": {
    "jp-MarkdownHeadingCollapsed": true,
    "tags": []
   },
   "source": [
    "### Vectorized Model (used for inference)"
   ]
  },
  {
   "cell_type": "code",
   "execution_count": 324,
   "id": "21514db4-cf58-4cb7-9f87-c6c6c6a64bf8",
   "metadata": {},
   "outputs": [],
   "source": [
    "def lotka_volterra_1(data, batch_size=None):\n",
    "    \n",
    "    num_sequences, max_length, data_dim = data.shape\n",
    "\n",
    "    ## Rate priors (to infer)\n",
    "    rates = pyro.sample(\n",
    "        \"rates\",\n",
    "        pyro.distributions.LogNormal(torch.tensor([-.15, -1.25, -.15]), .1).to_event(1),\n",
    "    )\n",
    "\n",
    "    ## Starting points\n",
    "    \n",
    "    \n",
    "    sample_plate = pyro.plate(\"sample\", data_dim, dim=-1)\n",
    "    with pyro.plate(\"sequences\", num_sequences, batch_size, dim=-2) as batch:\n",
    "        s_start = torch.tensor([[10., 10.]]*num_sequences)\n",
    "        for t in pyro.markov(range(max_length)):\n",
    "            print(f\"s {s_start}\")\n",
    "            print(f\"rates {rates}\")\n",
    "                \n",
    "            rates_matrix = torch.stack([rates[0] * pyro.ops.indexing.Vindex(s_start)[..., :, 0], \n",
    "                                           rates[1] * pyro.ops.indexing.Vindex(s_start)[..., :, 0] * pyro.ops.indexing.Vindex(s_start)[..., :, 1],\n",
    "                                           rates[2] * pyro.ops.indexing.Vindex(s_start)[..., :, 1]], axis = 1)\n",
    "            print(f\"rates matrix {rates_matrix}\")\n",
    "            #with sample_plate:\n",
    "            x = pyro.sample(\n",
    "                    \"x_{}\".format(t),\n",
    "                    pyro.distributions.Categorical(rates_matrix),\n",
    "                    infer={\"enumerate\": \"parallel\"},\n",
    "            )\n",
    "            print(f\"x sample {x}\")\n",
    "            transition = torch.tensor([[ 1,  0],\n",
    "                  [-1,  1],\n",
    "                  [ 0, -1]])\n",
    "            update = transition[x]\n",
    "            if s_start.shape not in [torch.Size([1,2]), torch.Size([2]), torch.Size([2,2])]:\n",
    "                s_start = s_start.reshape(update.shape)\n",
    "            print(f\"update shape {update.shape}\")\n",
    "            print(f\"s_start shape {s_start.shape}\")\n",
    "            \n",
    "            with sample_plate:\n",
    "                \n",
    "                print(pyro.sample(\n",
    "                    \"test_{}\".format(t),\n",
    "                    pyro.distributions.Normal(s_start + update, .01),\n",
    "                    obs=data[batch, t]\n",
    "                ).shape)\n",
    "                print(data[batch, t].shape)\n",
    "                pyro.sample(\n",
    "                    \"y_{}\".format(t),\n",
    "                    pyro.distributions.Normal(s_start + update, .01),\n",
    "                    obs=data[batch, t]\n",
    "                )\n",
    "            print(\" \")\n",
    "            ## Update s_start for next step\n",
    "            s_start = pyro.deterministic(\"d_{}\".format(t), s_start + update)\n",
    "\n"
   ]
  },
  {
   "cell_type": "code",
   "execution_count": 325,
   "id": "371b8710-042c-401c-9dd9-c21eb53c7ac8",
   "metadata": {
    "collapsed": true,
    "jupyter": {
     "outputs_hidden": true
    },
    "tags": []
   },
   "outputs": [
    {
     "name": "stdout",
     "output_type": "stream",
     "text": [
      "s tensor([[10., 10.],\n",
      "        [10., 10.]])\n",
      "rates tensor([0.8743, 0.3109, 0.8882])\n",
      "rates matrix tensor([[ 8.7432, 31.0922,  8.8823],\n",
      "        [ 8.7432, 31.0922,  8.8823]])\n",
      "x sample tensor([[2, 0],\n",
      "        [0, 1]])\n",
      "update shape torch.Size([2, 2, 2])\n",
      "s_start shape torch.Size([2, 2])\n",
      "torch.Size([2, 2])\n",
      "torch.Size([2, 2])\n",
      " \n",
      "s tensor([[[10.,  9.],\n",
      "         [11., 10.]],\n",
      "\n",
      "        [[11., 10.],\n",
      "         [ 9., 11.]]])\n",
      "rates tensor([0.8743, 0.3109, 0.8882])\n",
      "rates matrix tensor([[[ 8.7432,  9.6175],\n",
      "         [27.9829, 34.2014],\n",
      "         [ 7.9941,  8.8823]],\n",
      "\n",
      "        [[ 9.6175,  7.8689],\n",
      "         [34.2014, 30.7812],\n",
      "         [ 8.8823,  9.7706]]])\n",
      "x sample tensor([[1, 1, 0],\n",
      "        [0, 1, 0]])\n"
     ]
    },
    {
     "ename": "RuntimeError",
     "evalue": "shape '[2, 3, 2]' is invalid for input of size 8\nTrace Shapes:    \n Param Sites:    \nSample Sites:    \n   rates dist | 3\n        value | 3\nTrace Shapes:\n Param Sites:\nSample Sites:\nTrace Shapes:\n Param Sites:\nSample Sites:",
     "output_type": "error",
     "traceback": [
      "\u001b[0;31m---------------------------------------------------------------------------\u001b[0m",
      "\u001b[0;31mRuntimeError\u001b[0m                              Traceback (most recent call last)",
      "\u001b[0;32m~/anaconda3/lib/python3.9/site-packages/pyro/poutine/trace_messenger.py\u001b[0m in \u001b[0;36m__call__\u001b[0;34m(self, *args, **kwargs)\u001b[0m\n\u001b[1;32m    173\u001b[0m             \u001b[0;32mtry\u001b[0m\u001b[0;34m:\u001b[0m\u001b[0;34m\u001b[0m\u001b[0;34m\u001b[0m\u001b[0m\n\u001b[0;32m--> 174\u001b[0;31m                 \u001b[0mret\u001b[0m \u001b[0;34m=\u001b[0m \u001b[0mself\u001b[0m\u001b[0;34m.\u001b[0m\u001b[0mfn\u001b[0m\u001b[0;34m(\u001b[0m\u001b[0;34m*\u001b[0m\u001b[0margs\u001b[0m\u001b[0;34m,\u001b[0m \u001b[0;34m**\u001b[0m\u001b[0mkwargs\u001b[0m\u001b[0;34m)\u001b[0m\u001b[0;34m\u001b[0m\u001b[0;34m\u001b[0m\u001b[0m\n\u001b[0m\u001b[1;32m    175\u001b[0m             \u001b[0;32mexcept\u001b[0m \u001b[0;34m(\u001b[0m\u001b[0mValueError\u001b[0m\u001b[0;34m,\u001b[0m \u001b[0mRuntimeError\u001b[0m\u001b[0;34m)\u001b[0m \u001b[0;32mas\u001b[0m \u001b[0me\u001b[0m\u001b[0;34m:\u001b[0m\u001b[0;34m\u001b[0m\u001b[0;34m\u001b[0m\u001b[0m\n",
      "\u001b[0;32m~/anaconda3/lib/python3.9/site-packages/pyro/poutine/messenger.py\u001b[0m in \u001b[0;36m_context_wrap\u001b[0;34m(context, fn, *args, **kwargs)\u001b[0m\n\u001b[1;32m     11\u001b[0m     \u001b[0;32mwith\u001b[0m \u001b[0mcontext\u001b[0m\u001b[0;34m:\u001b[0m\u001b[0;34m\u001b[0m\u001b[0;34m\u001b[0m\u001b[0m\n\u001b[0;32m---> 12\u001b[0;31m         \u001b[0;32mreturn\u001b[0m \u001b[0mfn\u001b[0m\u001b[0;34m(\u001b[0m\u001b[0;34m*\u001b[0m\u001b[0margs\u001b[0m\u001b[0;34m,\u001b[0m \u001b[0;34m**\u001b[0m\u001b[0mkwargs\u001b[0m\u001b[0;34m)\u001b[0m\u001b[0;34m\u001b[0m\u001b[0;34m\u001b[0m\u001b[0m\n\u001b[0m\u001b[1;32m     13\u001b[0m \u001b[0;34m\u001b[0m\u001b[0m\n",
      "\u001b[0;32m~/anaconda3/lib/python3.9/site-packages/pyro/poutine/messenger.py\u001b[0m in \u001b[0;36m_context_wrap\u001b[0;34m(context, fn, *args, **kwargs)\u001b[0m\n\u001b[1;32m     11\u001b[0m     \u001b[0;32mwith\u001b[0m \u001b[0mcontext\u001b[0m\u001b[0;34m:\u001b[0m\u001b[0;34m\u001b[0m\u001b[0;34m\u001b[0m\u001b[0m\n\u001b[0;32m---> 12\u001b[0;31m         \u001b[0;32mreturn\u001b[0m \u001b[0mfn\u001b[0m\u001b[0;34m(\u001b[0m\u001b[0;34m*\u001b[0m\u001b[0margs\u001b[0m\u001b[0;34m,\u001b[0m \u001b[0;34m**\u001b[0m\u001b[0mkwargs\u001b[0m\u001b[0;34m)\u001b[0m\u001b[0;34m\u001b[0m\u001b[0;34m\u001b[0m\u001b[0m\n\u001b[0m\u001b[1;32m     13\u001b[0m \u001b[0;34m\u001b[0m\u001b[0m\n",
      "\u001b[0;32m~/anaconda3/lib/python3.9/site-packages/pyro/poutine/messenger.py\u001b[0m in \u001b[0;36m_context_wrap\u001b[0;34m(context, fn, *args, **kwargs)\u001b[0m\n\u001b[1;32m     11\u001b[0m     \u001b[0;32mwith\u001b[0m \u001b[0mcontext\u001b[0m\u001b[0;34m:\u001b[0m\u001b[0;34m\u001b[0m\u001b[0;34m\u001b[0m\u001b[0m\n\u001b[0;32m---> 12\u001b[0;31m         \u001b[0;32mreturn\u001b[0m \u001b[0mfn\u001b[0m\u001b[0;34m(\u001b[0m\u001b[0;34m*\u001b[0m\u001b[0margs\u001b[0m\u001b[0;34m,\u001b[0m \u001b[0;34m**\u001b[0m\u001b[0mkwargs\u001b[0m\u001b[0;34m)\u001b[0m\u001b[0;34m\u001b[0m\u001b[0;34m\u001b[0m\u001b[0m\n\u001b[0m\u001b[1;32m     13\u001b[0m \u001b[0;34m\u001b[0m\u001b[0m\n",
      "\u001b[0;32m/tmp/ipykernel_62/4002016868.py\u001b[0m in \u001b[0;36mlotka_volterra_1\u001b[0;34m(data, batch_size)\u001b[0m\n\u001b[1;32m     36\u001b[0m             \u001b[0;32mif\u001b[0m \u001b[0ms_start\u001b[0m\u001b[0;34m.\u001b[0m\u001b[0mshape\u001b[0m \u001b[0;32mnot\u001b[0m \u001b[0;32min\u001b[0m \u001b[0;34m[\u001b[0m\u001b[0mtorch\u001b[0m\u001b[0;34m.\u001b[0m\u001b[0mSize\u001b[0m\u001b[0;34m(\u001b[0m\u001b[0;34m[\u001b[0m\u001b[0;36m1\u001b[0m\u001b[0;34m,\u001b[0m\u001b[0;36m2\u001b[0m\u001b[0;34m]\u001b[0m\u001b[0;34m)\u001b[0m\u001b[0;34m,\u001b[0m \u001b[0mtorch\u001b[0m\u001b[0;34m.\u001b[0m\u001b[0mSize\u001b[0m\u001b[0;34m(\u001b[0m\u001b[0;34m[\u001b[0m\u001b[0;36m2\u001b[0m\u001b[0;34m]\u001b[0m\u001b[0;34m)\u001b[0m\u001b[0;34m,\u001b[0m \u001b[0mtorch\u001b[0m\u001b[0;34m.\u001b[0m\u001b[0mSize\u001b[0m\u001b[0;34m(\u001b[0m\u001b[0;34m[\u001b[0m\u001b[0;36m2\u001b[0m\u001b[0;34m,\u001b[0m\u001b[0;36m2\u001b[0m\u001b[0;34m]\u001b[0m\u001b[0;34m)\u001b[0m\u001b[0;34m]\u001b[0m\u001b[0;34m:\u001b[0m\u001b[0;34m\u001b[0m\u001b[0;34m\u001b[0m\u001b[0m\n\u001b[0;32m---> 37\u001b[0;31m                 \u001b[0ms_start\u001b[0m \u001b[0;34m=\u001b[0m \u001b[0ms_start\u001b[0m\u001b[0;34m.\u001b[0m\u001b[0mreshape\u001b[0m\u001b[0;34m(\u001b[0m\u001b[0mupdate\u001b[0m\u001b[0;34m.\u001b[0m\u001b[0mshape\u001b[0m\u001b[0;34m)\u001b[0m\u001b[0;34m\u001b[0m\u001b[0;34m\u001b[0m\u001b[0m\n\u001b[0m\u001b[1;32m     38\u001b[0m             \u001b[0mprint\u001b[0m\u001b[0;34m(\u001b[0m\u001b[0;34mf\"update shape {update.shape}\"\u001b[0m\u001b[0;34m)\u001b[0m\u001b[0;34m\u001b[0m\u001b[0;34m\u001b[0m\u001b[0m\n",
      "\u001b[0;31mRuntimeError\u001b[0m: shape '[2, 3, 2]' is invalid for input of size 8",
      "\nThe above exception was the direct cause of the following exception:\n",
      "\u001b[0;31mRuntimeError\u001b[0m                              Traceback (most recent call last)",
      "\u001b[0;32m~/anaconda3/lib/python3.9/site-packages/pyro/poutine/trace_messenger.py\u001b[0m in \u001b[0;36m__call__\u001b[0;34m(self, *args, **kwargs)\u001b[0m\n\u001b[1;32m    173\u001b[0m             \u001b[0;32mtry\u001b[0m\u001b[0;34m:\u001b[0m\u001b[0;34m\u001b[0m\u001b[0;34m\u001b[0m\u001b[0m\n\u001b[0;32m--> 174\u001b[0;31m                 \u001b[0mret\u001b[0m \u001b[0;34m=\u001b[0m \u001b[0mself\u001b[0m\u001b[0;34m.\u001b[0m\u001b[0mfn\u001b[0m\u001b[0;34m(\u001b[0m\u001b[0;34m*\u001b[0m\u001b[0margs\u001b[0m\u001b[0;34m,\u001b[0m \u001b[0;34m**\u001b[0m\u001b[0mkwargs\u001b[0m\u001b[0;34m)\u001b[0m\u001b[0;34m\u001b[0m\u001b[0;34m\u001b[0m\u001b[0m\n\u001b[0m\u001b[1;32m    175\u001b[0m             \u001b[0;32mexcept\u001b[0m \u001b[0;34m(\u001b[0m\u001b[0mValueError\u001b[0m\u001b[0;34m,\u001b[0m \u001b[0mRuntimeError\u001b[0m\u001b[0;34m)\u001b[0m \u001b[0;32mas\u001b[0m \u001b[0me\u001b[0m\u001b[0;34m:\u001b[0m\u001b[0;34m\u001b[0m\u001b[0;34m\u001b[0m\u001b[0m\n",
      "\u001b[0;32m~/anaconda3/lib/python3.9/site-packages/pyro/poutine/messenger.py\u001b[0m in \u001b[0;36m_context_wrap\u001b[0;34m(context, fn, *args, **kwargs)\u001b[0m\n\u001b[1;32m     11\u001b[0m     \u001b[0;32mwith\u001b[0m \u001b[0mcontext\u001b[0m\u001b[0;34m:\u001b[0m\u001b[0;34m\u001b[0m\u001b[0;34m\u001b[0m\u001b[0m\n\u001b[0;32m---> 12\u001b[0;31m         \u001b[0;32mreturn\u001b[0m \u001b[0mfn\u001b[0m\u001b[0;34m(\u001b[0m\u001b[0;34m*\u001b[0m\u001b[0margs\u001b[0m\u001b[0;34m,\u001b[0m \u001b[0;34m**\u001b[0m\u001b[0mkwargs\u001b[0m\u001b[0;34m)\u001b[0m\u001b[0;34m\u001b[0m\u001b[0;34m\u001b[0m\u001b[0m\n\u001b[0m\u001b[1;32m     13\u001b[0m \u001b[0;34m\u001b[0m\u001b[0m\n",
      "\u001b[0;32m~/anaconda3/lib/python3.9/site-packages/pyro/poutine/messenger.py\u001b[0m in \u001b[0;36m_context_wrap\u001b[0;34m(context, fn, *args, **kwargs)\u001b[0m\n\u001b[1;32m     11\u001b[0m     \u001b[0;32mwith\u001b[0m \u001b[0mcontext\u001b[0m\u001b[0;34m:\u001b[0m\u001b[0;34m\u001b[0m\u001b[0;34m\u001b[0m\u001b[0m\n\u001b[0;32m---> 12\u001b[0;31m         \u001b[0;32mreturn\u001b[0m \u001b[0mfn\u001b[0m\u001b[0;34m(\u001b[0m\u001b[0;34m*\u001b[0m\u001b[0margs\u001b[0m\u001b[0;34m,\u001b[0m \u001b[0;34m**\u001b[0m\u001b[0mkwargs\u001b[0m\u001b[0;34m)\u001b[0m\u001b[0;34m\u001b[0m\u001b[0;34m\u001b[0m\u001b[0m\n\u001b[0m\u001b[1;32m     13\u001b[0m \u001b[0;34m\u001b[0m\u001b[0m\n",
      "\u001b[0;32m~/anaconda3/lib/python3.9/site-packages/pyro/poutine/messenger.py\u001b[0m in \u001b[0;36m_context_wrap\u001b[0;34m(context, fn, *args, **kwargs)\u001b[0m\n\u001b[1;32m     11\u001b[0m     \u001b[0;32mwith\u001b[0m \u001b[0mcontext\u001b[0m\u001b[0;34m:\u001b[0m\u001b[0;34m\u001b[0m\u001b[0;34m\u001b[0m\u001b[0m\n\u001b[0;32m---> 12\u001b[0;31m         \u001b[0;32mreturn\u001b[0m \u001b[0mfn\u001b[0m\u001b[0;34m(\u001b[0m\u001b[0;34m*\u001b[0m\u001b[0margs\u001b[0m\u001b[0;34m,\u001b[0m \u001b[0;34m**\u001b[0m\u001b[0mkwargs\u001b[0m\u001b[0;34m)\u001b[0m\u001b[0;34m\u001b[0m\u001b[0;34m\u001b[0m\u001b[0m\n\u001b[0m\u001b[1;32m     13\u001b[0m \u001b[0;34m\u001b[0m\u001b[0m\n",
      "\u001b[0;32m~/anaconda3/lib/python3.9/site-packages/pyro/nn/module.py\u001b[0m in \u001b[0;36m__call__\u001b[0;34m(self, *args, **kwargs)\u001b[0m\n\u001b[1;32m    425\u001b[0m         \u001b[0;32mwith\u001b[0m \u001b[0mself\u001b[0m\u001b[0;34m.\u001b[0m\u001b[0m_pyro_context\u001b[0m\u001b[0;34m:\u001b[0m\u001b[0;34m\u001b[0m\u001b[0;34m\u001b[0m\u001b[0m\n\u001b[0;32m--> 426\u001b[0;31m             \u001b[0;32mreturn\u001b[0m \u001b[0msuper\u001b[0m\u001b[0;34m(\u001b[0m\u001b[0;34m)\u001b[0m\u001b[0;34m.\u001b[0m\u001b[0m__call__\u001b[0m\u001b[0;34m(\u001b[0m\u001b[0;34m*\u001b[0m\u001b[0margs\u001b[0m\u001b[0;34m,\u001b[0m \u001b[0;34m**\u001b[0m\u001b[0mkwargs\u001b[0m\u001b[0;34m)\u001b[0m\u001b[0;34m\u001b[0m\u001b[0;34m\u001b[0m\u001b[0m\n\u001b[0m\u001b[1;32m    427\u001b[0m \u001b[0;34m\u001b[0m\u001b[0m\n",
      "\u001b[0;32m~/anaconda3/lib/python3.9/site-packages/torch/nn/modules/module.py\u001b[0m in \u001b[0;36m_call_impl\u001b[0;34m(self, *input, **kwargs)\u001b[0m\n\u001b[1;32m   1101\u001b[0m                 or _global_forward_hooks or _global_forward_pre_hooks):\n\u001b[0;32m-> 1102\u001b[0;31m             \u001b[0;32mreturn\u001b[0m \u001b[0mforward_call\u001b[0m\u001b[0;34m(\u001b[0m\u001b[0;34m*\u001b[0m\u001b[0minput\u001b[0m\u001b[0;34m,\u001b[0m \u001b[0;34m**\u001b[0m\u001b[0mkwargs\u001b[0m\u001b[0;34m)\u001b[0m\u001b[0;34m\u001b[0m\u001b[0;34m\u001b[0m\u001b[0m\n\u001b[0m\u001b[1;32m   1103\u001b[0m         \u001b[0;31m# Do not call functions when jit is used\u001b[0m\u001b[0;34m\u001b[0m\u001b[0;34m\u001b[0m\u001b[0m\n",
      "\u001b[0;32m~/anaconda3/lib/python3.9/site-packages/pyro/infer/autoguide/guides.py\u001b[0m in \u001b[0;36mforward\u001b[0;34m(self, *args, **kwargs)\u001b[0m\n\u001b[1;32m    386\u001b[0m         \u001b[0;32mif\u001b[0m \u001b[0mself\u001b[0m\u001b[0;34m.\u001b[0m\u001b[0mprototype_trace\u001b[0m \u001b[0;32mis\u001b[0m \u001b[0;32mNone\u001b[0m\u001b[0;34m:\u001b[0m\u001b[0;34m\u001b[0m\u001b[0;34m\u001b[0m\u001b[0m\n\u001b[0;32m--> 387\u001b[0;31m             \u001b[0mself\u001b[0m\u001b[0;34m.\u001b[0m\u001b[0m_setup_prototype\u001b[0m\u001b[0;34m(\u001b[0m\u001b[0;34m*\u001b[0m\u001b[0margs\u001b[0m\u001b[0;34m,\u001b[0m \u001b[0;34m**\u001b[0m\u001b[0mkwargs\u001b[0m\u001b[0;34m)\u001b[0m\u001b[0;34m\u001b[0m\u001b[0;34m\u001b[0m\u001b[0m\n\u001b[0m\u001b[1;32m    388\u001b[0m \u001b[0;34m\u001b[0m\u001b[0m\n",
      "\u001b[0;32m~/anaconda3/lib/python3.9/site-packages/pyro/infer/autoguide/guides.py\u001b[0m in \u001b[0;36m_setup_prototype\u001b[0;34m(self, *args, **kwargs)\u001b[0m\n\u001b[1;32m    356\u001b[0m     \u001b[0;32mdef\u001b[0m \u001b[0m_setup_prototype\u001b[0m\u001b[0;34m(\u001b[0m\u001b[0mself\u001b[0m\u001b[0;34m,\u001b[0m \u001b[0;34m*\u001b[0m\u001b[0margs\u001b[0m\u001b[0;34m,\u001b[0m \u001b[0;34m**\u001b[0m\u001b[0mkwargs\u001b[0m\u001b[0;34m)\u001b[0m\u001b[0;34m:\u001b[0m\u001b[0;34m\u001b[0m\u001b[0;34m\u001b[0m\u001b[0m\n\u001b[0;32m--> 357\u001b[0;31m         \u001b[0msuper\u001b[0m\u001b[0;34m(\u001b[0m\u001b[0;34m)\u001b[0m\u001b[0;34m.\u001b[0m\u001b[0m_setup_prototype\u001b[0m\u001b[0;34m(\u001b[0m\u001b[0;34m*\u001b[0m\u001b[0margs\u001b[0m\u001b[0;34m,\u001b[0m \u001b[0;34m**\u001b[0m\u001b[0mkwargs\u001b[0m\u001b[0;34m)\u001b[0m\u001b[0;34m\u001b[0m\u001b[0;34m\u001b[0m\u001b[0m\n\u001b[0m\u001b[1;32m    358\u001b[0m \u001b[0;34m\u001b[0m\u001b[0m\n",
      "\u001b[0;32m~/anaconda3/lib/python3.9/site-packages/pyro/infer/autoguide/guides.py\u001b[0m in \u001b[0;36m_setup_prototype\u001b[0;34m(self, *args, **kwargs)\u001b[0m\n\u001b[1;32m    156\u001b[0m         \u001b[0mmodel\u001b[0m \u001b[0;34m=\u001b[0m \u001b[0mpoutine\u001b[0m\u001b[0;34m.\u001b[0m\u001b[0mblock\u001b[0m\u001b[0;34m(\u001b[0m\u001b[0mself\u001b[0m\u001b[0;34m.\u001b[0m\u001b[0mmodel\u001b[0m\u001b[0;34m,\u001b[0m \u001b[0mself\u001b[0m\u001b[0;34m.\u001b[0m\u001b[0m_prototype_hide_fn\u001b[0m\u001b[0;34m)\u001b[0m\u001b[0;34m\u001b[0m\u001b[0;34m\u001b[0m\u001b[0m\n\u001b[0;32m--> 157\u001b[0;31m         self.prototype_trace = poutine.block(poutine.trace(model).get_trace)(\n\u001b[0m\u001b[1;32m    158\u001b[0m             \u001b[0;34m*\u001b[0m\u001b[0margs\u001b[0m\u001b[0;34m,\u001b[0m \u001b[0;34m**\u001b[0m\u001b[0mkwargs\u001b[0m\u001b[0;34m\u001b[0m\u001b[0;34m\u001b[0m\u001b[0m\n",
      "\u001b[0;32m~/anaconda3/lib/python3.9/site-packages/pyro/poutine/messenger.py\u001b[0m in \u001b[0;36m_context_wrap\u001b[0;34m(context, fn, *args, **kwargs)\u001b[0m\n\u001b[1;32m     11\u001b[0m     \u001b[0;32mwith\u001b[0m \u001b[0mcontext\u001b[0m\u001b[0;34m:\u001b[0m\u001b[0;34m\u001b[0m\u001b[0;34m\u001b[0m\u001b[0m\n\u001b[0;32m---> 12\u001b[0;31m         \u001b[0;32mreturn\u001b[0m \u001b[0mfn\u001b[0m\u001b[0;34m(\u001b[0m\u001b[0;34m*\u001b[0m\u001b[0margs\u001b[0m\u001b[0;34m,\u001b[0m \u001b[0;34m**\u001b[0m\u001b[0mkwargs\u001b[0m\u001b[0;34m)\u001b[0m\u001b[0;34m\u001b[0m\u001b[0;34m\u001b[0m\u001b[0m\n\u001b[0m\u001b[1;32m     13\u001b[0m \u001b[0;34m\u001b[0m\u001b[0m\n",
      "\u001b[0;32m~/anaconda3/lib/python3.9/site-packages/pyro/poutine/trace_messenger.py\u001b[0m in \u001b[0;36mget_trace\u001b[0;34m(self, *args, **kwargs)\u001b[0m\n\u001b[1;32m    197\u001b[0m         \"\"\"\n\u001b[0;32m--> 198\u001b[0;31m         \u001b[0mself\u001b[0m\u001b[0;34m(\u001b[0m\u001b[0;34m*\u001b[0m\u001b[0margs\u001b[0m\u001b[0;34m,\u001b[0m \u001b[0;34m**\u001b[0m\u001b[0mkwargs\u001b[0m\u001b[0;34m)\u001b[0m\u001b[0;34m\u001b[0m\u001b[0;34m\u001b[0m\u001b[0m\n\u001b[0m\u001b[1;32m    199\u001b[0m         \u001b[0;32mreturn\u001b[0m \u001b[0mself\u001b[0m\u001b[0;34m.\u001b[0m\u001b[0mmsngr\u001b[0m\u001b[0;34m.\u001b[0m\u001b[0mget_trace\u001b[0m\u001b[0;34m(\u001b[0m\u001b[0;34m)\u001b[0m\u001b[0;34m\u001b[0m\u001b[0;34m\u001b[0m\u001b[0m\n",
      "\u001b[0;32m~/anaconda3/lib/python3.9/site-packages/pyro/poutine/trace_messenger.py\u001b[0m in \u001b[0;36m__call__\u001b[0;34m(self, *args, **kwargs)\u001b[0m\n\u001b[1;32m    179\u001b[0m                 \u001b[0mexc\u001b[0m \u001b[0;34m=\u001b[0m \u001b[0mexc\u001b[0m\u001b[0;34m.\u001b[0m\u001b[0mwith_traceback\u001b[0m\u001b[0;34m(\u001b[0m\u001b[0mtraceback\u001b[0m\u001b[0;34m)\u001b[0m\u001b[0;34m\u001b[0m\u001b[0;34m\u001b[0m\u001b[0m\n\u001b[0;32m--> 180\u001b[0;31m                 \u001b[0;32mraise\u001b[0m \u001b[0mexc\u001b[0m \u001b[0;32mfrom\u001b[0m \u001b[0me\u001b[0m\u001b[0;34m\u001b[0m\u001b[0;34m\u001b[0m\u001b[0m\n\u001b[0m\u001b[1;32m    181\u001b[0m             self.msngr.trace.add_node(\n",
      "\u001b[0;32m~/anaconda3/lib/python3.9/site-packages/pyro/poutine/trace_messenger.py\u001b[0m in \u001b[0;36m__call__\u001b[0;34m(self, *args, **kwargs)\u001b[0m\n\u001b[1;32m    173\u001b[0m             \u001b[0;32mtry\u001b[0m\u001b[0;34m:\u001b[0m\u001b[0;34m\u001b[0m\u001b[0;34m\u001b[0m\u001b[0m\n\u001b[0;32m--> 174\u001b[0;31m                 \u001b[0mret\u001b[0m \u001b[0;34m=\u001b[0m \u001b[0mself\u001b[0m\u001b[0;34m.\u001b[0m\u001b[0mfn\u001b[0m\u001b[0;34m(\u001b[0m\u001b[0;34m*\u001b[0m\u001b[0margs\u001b[0m\u001b[0;34m,\u001b[0m \u001b[0;34m**\u001b[0m\u001b[0mkwargs\u001b[0m\u001b[0;34m)\u001b[0m\u001b[0;34m\u001b[0m\u001b[0;34m\u001b[0m\u001b[0m\n\u001b[0m\u001b[1;32m    175\u001b[0m             \u001b[0;32mexcept\u001b[0m \u001b[0;34m(\u001b[0m\u001b[0mValueError\u001b[0m\u001b[0;34m,\u001b[0m \u001b[0mRuntimeError\u001b[0m\u001b[0;34m)\u001b[0m \u001b[0;32mas\u001b[0m \u001b[0me\u001b[0m\u001b[0;34m:\u001b[0m\u001b[0;34m\u001b[0m\u001b[0;34m\u001b[0m\u001b[0m\n",
      "\u001b[0;32m~/anaconda3/lib/python3.9/site-packages/pyro/poutine/messenger.py\u001b[0m in \u001b[0;36m_context_wrap\u001b[0;34m(context, fn, *args, **kwargs)\u001b[0m\n\u001b[1;32m     11\u001b[0m     \u001b[0;32mwith\u001b[0m \u001b[0mcontext\u001b[0m\u001b[0;34m:\u001b[0m\u001b[0;34m\u001b[0m\u001b[0;34m\u001b[0m\u001b[0m\n\u001b[0;32m---> 12\u001b[0;31m         \u001b[0;32mreturn\u001b[0m \u001b[0mfn\u001b[0m\u001b[0;34m(\u001b[0m\u001b[0;34m*\u001b[0m\u001b[0margs\u001b[0m\u001b[0;34m,\u001b[0m \u001b[0;34m**\u001b[0m\u001b[0mkwargs\u001b[0m\u001b[0;34m)\u001b[0m\u001b[0;34m\u001b[0m\u001b[0;34m\u001b[0m\u001b[0m\n\u001b[0m\u001b[1;32m     13\u001b[0m \u001b[0;34m\u001b[0m\u001b[0m\n",
      "\u001b[0;32m~/anaconda3/lib/python3.9/site-packages/pyro/poutine/messenger.py\u001b[0m in \u001b[0;36m_context_wrap\u001b[0;34m(context, fn, *args, **kwargs)\u001b[0m\n\u001b[1;32m     11\u001b[0m     \u001b[0;32mwith\u001b[0m \u001b[0mcontext\u001b[0m\u001b[0;34m:\u001b[0m\u001b[0;34m\u001b[0m\u001b[0;34m\u001b[0m\u001b[0m\n\u001b[0;32m---> 12\u001b[0;31m         \u001b[0;32mreturn\u001b[0m \u001b[0mfn\u001b[0m\u001b[0;34m(\u001b[0m\u001b[0;34m*\u001b[0m\u001b[0margs\u001b[0m\u001b[0;34m,\u001b[0m \u001b[0;34m**\u001b[0m\u001b[0mkwargs\u001b[0m\u001b[0;34m)\u001b[0m\u001b[0;34m\u001b[0m\u001b[0;34m\u001b[0m\u001b[0m\n\u001b[0m\u001b[1;32m     13\u001b[0m \u001b[0;34m\u001b[0m\u001b[0m\n",
      "\u001b[0;32m~/anaconda3/lib/python3.9/site-packages/pyro/poutine/messenger.py\u001b[0m in \u001b[0;36m_context_wrap\u001b[0;34m(context, fn, *args, **kwargs)\u001b[0m\n\u001b[1;32m     11\u001b[0m     \u001b[0;32mwith\u001b[0m \u001b[0mcontext\u001b[0m\u001b[0;34m:\u001b[0m\u001b[0;34m\u001b[0m\u001b[0;34m\u001b[0m\u001b[0m\n\u001b[0;32m---> 12\u001b[0;31m         \u001b[0;32mreturn\u001b[0m \u001b[0mfn\u001b[0m\u001b[0;34m(\u001b[0m\u001b[0;34m*\u001b[0m\u001b[0margs\u001b[0m\u001b[0;34m,\u001b[0m \u001b[0;34m**\u001b[0m\u001b[0mkwargs\u001b[0m\u001b[0;34m)\u001b[0m\u001b[0;34m\u001b[0m\u001b[0;34m\u001b[0m\u001b[0m\n\u001b[0m\u001b[1;32m     13\u001b[0m \u001b[0;34m\u001b[0m\u001b[0m\n",
      "\u001b[0;32m/tmp/ipykernel_62/4002016868.py\u001b[0m in \u001b[0;36mlotka_volterra_1\u001b[0;34m(data, batch_size)\u001b[0m\n\u001b[1;32m     36\u001b[0m             \u001b[0;32mif\u001b[0m \u001b[0ms_start\u001b[0m\u001b[0;34m.\u001b[0m\u001b[0mshape\u001b[0m \u001b[0;32mnot\u001b[0m \u001b[0;32min\u001b[0m \u001b[0;34m[\u001b[0m\u001b[0mtorch\u001b[0m\u001b[0;34m.\u001b[0m\u001b[0mSize\u001b[0m\u001b[0;34m(\u001b[0m\u001b[0;34m[\u001b[0m\u001b[0;36m1\u001b[0m\u001b[0;34m,\u001b[0m\u001b[0;36m2\u001b[0m\u001b[0;34m]\u001b[0m\u001b[0;34m)\u001b[0m\u001b[0;34m,\u001b[0m \u001b[0mtorch\u001b[0m\u001b[0;34m.\u001b[0m\u001b[0mSize\u001b[0m\u001b[0;34m(\u001b[0m\u001b[0;34m[\u001b[0m\u001b[0;36m2\u001b[0m\u001b[0;34m]\u001b[0m\u001b[0;34m)\u001b[0m\u001b[0;34m,\u001b[0m \u001b[0mtorch\u001b[0m\u001b[0;34m.\u001b[0m\u001b[0mSize\u001b[0m\u001b[0;34m(\u001b[0m\u001b[0;34m[\u001b[0m\u001b[0;36m2\u001b[0m\u001b[0;34m,\u001b[0m\u001b[0;36m2\u001b[0m\u001b[0;34m]\u001b[0m\u001b[0;34m)\u001b[0m\u001b[0;34m]\u001b[0m\u001b[0;34m:\u001b[0m\u001b[0;34m\u001b[0m\u001b[0;34m\u001b[0m\u001b[0m\n\u001b[0;32m---> 37\u001b[0;31m                 \u001b[0ms_start\u001b[0m \u001b[0;34m=\u001b[0m \u001b[0ms_start\u001b[0m\u001b[0;34m.\u001b[0m\u001b[0mreshape\u001b[0m\u001b[0;34m(\u001b[0m\u001b[0mupdate\u001b[0m\u001b[0;34m.\u001b[0m\u001b[0mshape\u001b[0m\u001b[0;34m)\u001b[0m\u001b[0;34m\u001b[0m\u001b[0;34m\u001b[0m\u001b[0m\n\u001b[0m\u001b[1;32m     38\u001b[0m             \u001b[0mprint\u001b[0m\u001b[0;34m(\u001b[0m\u001b[0;34mf\"update shape {update.shape}\"\u001b[0m\u001b[0;34m)\u001b[0m\u001b[0;34m\u001b[0m\u001b[0;34m\u001b[0m\u001b[0m\n",
      "\u001b[0;31mRuntimeError\u001b[0m: shape '[2, 3, 2]' is invalid for input of size 8\nTrace Shapes:    \n Param Sites:    \nSample Sites:    \n   rates dist | 3\n        value | 3",
      "\nThe above exception was the direct cause of the following exception:\n",
      "\u001b[0;31mRuntimeError\u001b[0m                              Traceback (most recent call last)",
      "\u001b[0;32m~/anaconda3/lib/python3.9/site-packages/pyro/poutine/trace_messenger.py\u001b[0m in \u001b[0;36m__call__\u001b[0;34m(self, *args, **kwargs)\u001b[0m\n\u001b[1;32m    173\u001b[0m             \u001b[0;32mtry\u001b[0m\u001b[0;34m:\u001b[0m\u001b[0;34m\u001b[0m\u001b[0;34m\u001b[0m\u001b[0m\n\u001b[0;32m--> 174\u001b[0;31m                 \u001b[0mret\u001b[0m \u001b[0;34m=\u001b[0m \u001b[0mself\u001b[0m\u001b[0;34m.\u001b[0m\u001b[0mfn\u001b[0m\u001b[0;34m(\u001b[0m\u001b[0;34m*\u001b[0m\u001b[0margs\u001b[0m\u001b[0;34m,\u001b[0m \u001b[0;34m**\u001b[0m\u001b[0mkwargs\u001b[0m\u001b[0;34m)\u001b[0m\u001b[0;34m\u001b[0m\u001b[0;34m\u001b[0m\u001b[0m\n\u001b[0m\u001b[1;32m    175\u001b[0m             \u001b[0;32mexcept\u001b[0m \u001b[0;34m(\u001b[0m\u001b[0mValueError\u001b[0m\u001b[0;34m,\u001b[0m \u001b[0mRuntimeError\u001b[0m\u001b[0;34m)\u001b[0m \u001b[0;32mas\u001b[0m \u001b[0me\u001b[0m\u001b[0;34m:\u001b[0m\u001b[0;34m\u001b[0m\u001b[0;34m\u001b[0m\u001b[0m\n",
      "\u001b[0;32m~/anaconda3/lib/python3.9/site-packages/pyro/poutine/handlers.py\u001b[0m in \u001b[0;36m_fn\u001b[0;34m(*args, **kwargs)\u001b[0m\n\u001b[1;32m    203\u001b[0m                     )\n\u001b[0;32m--> 204\u001b[0;31m                     \u001b[0;32mreturn\u001b[0m \u001b[0mftr\u001b[0m\u001b[0;34m(\u001b[0m\u001b[0;34m*\u001b[0m\u001b[0margs\u001b[0m\u001b[0;34m,\u001b[0m \u001b[0;34m**\u001b[0m\u001b[0mkwargs\u001b[0m\u001b[0;34m)\u001b[0m\u001b[0;34m\u001b[0m\u001b[0;34m\u001b[0m\u001b[0m\n\u001b[0m\u001b[1;32m    205\u001b[0m                 \u001b[0;32mexcept\u001b[0m \u001b[0mNonlocalExit\u001b[0m \u001b[0;32mas\u001b[0m \u001b[0msite_container\u001b[0m\u001b[0;34m:\u001b[0m\u001b[0;34m\u001b[0m\u001b[0;34m\u001b[0m\u001b[0m\n",
      "\u001b[0;32m~/anaconda3/lib/python3.9/site-packages/pyro/poutine/trace_messenger.py\u001b[0m in \u001b[0;36m__call__\u001b[0;34m(self, *args, **kwargs)\u001b[0m\n\u001b[1;32m    179\u001b[0m                 \u001b[0mexc\u001b[0m \u001b[0;34m=\u001b[0m \u001b[0mexc\u001b[0m\u001b[0;34m.\u001b[0m\u001b[0mwith_traceback\u001b[0m\u001b[0;34m(\u001b[0m\u001b[0mtraceback\u001b[0m\u001b[0;34m)\u001b[0m\u001b[0;34m\u001b[0m\u001b[0;34m\u001b[0m\u001b[0m\n\u001b[0;32m--> 180\u001b[0;31m                 \u001b[0;32mraise\u001b[0m \u001b[0mexc\u001b[0m \u001b[0;32mfrom\u001b[0m \u001b[0me\u001b[0m\u001b[0;34m\u001b[0m\u001b[0;34m\u001b[0m\u001b[0m\n\u001b[0m\u001b[1;32m    181\u001b[0m             self.msngr.trace.add_node(\n",
      "\u001b[0;32m~/anaconda3/lib/python3.9/site-packages/pyro/poutine/trace_messenger.py\u001b[0m in \u001b[0;36m__call__\u001b[0;34m(self, *args, **kwargs)\u001b[0m\n\u001b[1;32m    173\u001b[0m             \u001b[0;32mtry\u001b[0m\u001b[0;34m:\u001b[0m\u001b[0;34m\u001b[0m\u001b[0;34m\u001b[0m\u001b[0m\n\u001b[0;32m--> 174\u001b[0;31m                 \u001b[0mret\u001b[0m \u001b[0;34m=\u001b[0m \u001b[0mself\u001b[0m\u001b[0;34m.\u001b[0m\u001b[0mfn\u001b[0m\u001b[0;34m(\u001b[0m\u001b[0;34m*\u001b[0m\u001b[0margs\u001b[0m\u001b[0;34m,\u001b[0m \u001b[0;34m**\u001b[0m\u001b[0mkwargs\u001b[0m\u001b[0;34m)\u001b[0m\u001b[0;34m\u001b[0m\u001b[0;34m\u001b[0m\u001b[0m\n\u001b[0m\u001b[1;32m    175\u001b[0m             \u001b[0;32mexcept\u001b[0m \u001b[0;34m(\u001b[0m\u001b[0mValueError\u001b[0m\u001b[0;34m,\u001b[0m \u001b[0mRuntimeError\u001b[0m\u001b[0;34m)\u001b[0m \u001b[0;32mas\u001b[0m \u001b[0me\u001b[0m\u001b[0;34m:\u001b[0m\u001b[0;34m\u001b[0m\u001b[0;34m\u001b[0m\u001b[0m\n",
      "\u001b[0;32m~/anaconda3/lib/python3.9/site-packages/pyro/poutine/messenger.py\u001b[0m in \u001b[0;36m_context_wrap\u001b[0;34m(context, fn, *args, **kwargs)\u001b[0m\n\u001b[1;32m     11\u001b[0m     \u001b[0;32mwith\u001b[0m \u001b[0mcontext\u001b[0m\u001b[0;34m:\u001b[0m\u001b[0;34m\u001b[0m\u001b[0;34m\u001b[0m\u001b[0m\n\u001b[0;32m---> 12\u001b[0;31m         \u001b[0;32mreturn\u001b[0m \u001b[0mfn\u001b[0m\u001b[0;34m(\u001b[0m\u001b[0;34m*\u001b[0m\u001b[0margs\u001b[0m\u001b[0;34m,\u001b[0m \u001b[0;34m**\u001b[0m\u001b[0mkwargs\u001b[0m\u001b[0;34m)\u001b[0m\u001b[0;34m\u001b[0m\u001b[0;34m\u001b[0m\u001b[0m\n\u001b[0m\u001b[1;32m     13\u001b[0m \u001b[0;34m\u001b[0m\u001b[0m\n",
      "\u001b[0;32m~/anaconda3/lib/python3.9/site-packages/pyro/poutine/messenger.py\u001b[0m in \u001b[0;36m_context_wrap\u001b[0;34m(context, fn, *args, **kwargs)\u001b[0m\n\u001b[1;32m     11\u001b[0m     \u001b[0;32mwith\u001b[0m \u001b[0mcontext\u001b[0m\u001b[0;34m:\u001b[0m\u001b[0;34m\u001b[0m\u001b[0;34m\u001b[0m\u001b[0m\n\u001b[0;32m---> 12\u001b[0;31m         \u001b[0;32mreturn\u001b[0m \u001b[0mfn\u001b[0m\u001b[0;34m(\u001b[0m\u001b[0;34m*\u001b[0m\u001b[0margs\u001b[0m\u001b[0;34m,\u001b[0m \u001b[0;34m**\u001b[0m\u001b[0mkwargs\u001b[0m\u001b[0;34m)\u001b[0m\u001b[0;34m\u001b[0m\u001b[0;34m\u001b[0m\u001b[0m\n\u001b[0m\u001b[1;32m     13\u001b[0m \u001b[0;34m\u001b[0m\u001b[0m\n",
      "\u001b[0;32m~/anaconda3/lib/python3.9/site-packages/pyro/poutine/messenger.py\u001b[0m in \u001b[0;36m_context_wrap\u001b[0;34m(context, fn, *args, **kwargs)\u001b[0m\n\u001b[1;32m     11\u001b[0m     \u001b[0;32mwith\u001b[0m \u001b[0mcontext\u001b[0m\u001b[0;34m:\u001b[0m\u001b[0;34m\u001b[0m\u001b[0;34m\u001b[0m\u001b[0m\n\u001b[0;32m---> 12\u001b[0;31m         \u001b[0;32mreturn\u001b[0m \u001b[0mfn\u001b[0m\u001b[0;34m(\u001b[0m\u001b[0;34m*\u001b[0m\u001b[0margs\u001b[0m\u001b[0;34m,\u001b[0m \u001b[0;34m**\u001b[0m\u001b[0mkwargs\u001b[0m\u001b[0;34m)\u001b[0m\u001b[0;34m\u001b[0m\u001b[0;34m\u001b[0m\u001b[0m\n\u001b[0m\u001b[1;32m     13\u001b[0m \u001b[0;34m\u001b[0m\u001b[0m\n",
      "\u001b[0;32m~/anaconda3/lib/python3.9/site-packages/pyro/nn/module.py\u001b[0m in \u001b[0;36m__call__\u001b[0;34m(self, *args, **kwargs)\u001b[0m\n\u001b[1;32m    425\u001b[0m         \u001b[0;32mwith\u001b[0m \u001b[0mself\u001b[0m\u001b[0;34m.\u001b[0m\u001b[0m_pyro_context\u001b[0m\u001b[0;34m:\u001b[0m\u001b[0;34m\u001b[0m\u001b[0;34m\u001b[0m\u001b[0m\n\u001b[0;32m--> 426\u001b[0;31m             \u001b[0;32mreturn\u001b[0m \u001b[0msuper\u001b[0m\u001b[0;34m(\u001b[0m\u001b[0;34m)\u001b[0m\u001b[0;34m.\u001b[0m\u001b[0m__call__\u001b[0m\u001b[0;34m(\u001b[0m\u001b[0;34m*\u001b[0m\u001b[0margs\u001b[0m\u001b[0;34m,\u001b[0m \u001b[0;34m**\u001b[0m\u001b[0mkwargs\u001b[0m\u001b[0;34m)\u001b[0m\u001b[0;34m\u001b[0m\u001b[0;34m\u001b[0m\u001b[0m\n\u001b[0m\u001b[1;32m    427\u001b[0m \u001b[0;34m\u001b[0m\u001b[0m\n",
      "\u001b[0;32m~/anaconda3/lib/python3.9/site-packages/torch/nn/modules/module.py\u001b[0m in \u001b[0;36m_call_impl\u001b[0;34m(self, *input, **kwargs)\u001b[0m\n\u001b[1;32m   1101\u001b[0m                 or _global_forward_hooks or _global_forward_pre_hooks):\n\u001b[0;32m-> 1102\u001b[0;31m             \u001b[0;32mreturn\u001b[0m \u001b[0mforward_call\u001b[0m\u001b[0;34m(\u001b[0m\u001b[0;34m*\u001b[0m\u001b[0minput\u001b[0m\u001b[0;34m,\u001b[0m \u001b[0;34m**\u001b[0m\u001b[0mkwargs\u001b[0m\u001b[0;34m)\u001b[0m\u001b[0;34m\u001b[0m\u001b[0;34m\u001b[0m\u001b[0m\n\u001b[0m\u001b[1;32m   1103\u001b[0m         \u001b[0;31m# Do not call functions when jit is used\u001b[0m\u001b[0;34m\u001b[0m\u001b[0;34m\u001b[0m\u001b[0m\n",
      "\u001b[0;32m~/anaconda3/lib/python3.9/site-packages/pyro/infer/autoguide/guides.py\u001b[0m in \u001b[0;36mforward\u001b[0;34m(self, *args, **kwargs)\u001b[0m\n\u001b[1;32m    386\u001b[0m         \u001b[0;32mif\u001b[0m \u001b[0mself\u001b[0m\u001b[0;34m.\u001b[0m\u001b[0mprototype_trace\u001b[0m \u001b[0;32mis\u001b[0m \u001b[0;32mNone\u001b[0m\u001b[0;34m:\u001b[0m\u001b[0;34m\u001b[0m\u001b[0;34m\u001b[0m\u001b[0m\n\u001b[0;32m--> 387\u001b[0;31m             \u001b[0mself\u001b[0m\u001b[0;34m.\u001b[0m\u001b[0m_setup_prototype\u001b[0m\u001b[0;34m(\u001b[0m\u001b[0;34m*\u001b[0m\u001b[0margs\u001b[0m\u001b[0;34m,\u001b[0m \u001b[0;34m**\u001b[0m\u001b[0mkwargs\u001b[0m\u001b[0;34m)\u001b[0m\u001b[0;34m\u001b[0m\u001b[0;34m\u001b[0m\u001b[0m\n\u001b[0m\u001b[1;32m    388\u001b[0m \u001b[0;34m\u001b[0m\u001b[0m\n",
      "\u001b[0;32m~/anaconda3/lib/python3.9/site-packages/pyro/infer/autoguide/guides.py\u001b[0m in \u001b[0;36m_setup_prototype\u001b[0;34m(self, *args, **kwargs)\u001b[0m\n\u001b[1;32m    356\u001b[0m     \u001b[0;32mdef\u001b[0m \u001b[0m_setup_prototype\u001b[0m\u001b[0;34m(\u001b[0m\u001b[0mself\u001b[0m\u001b[0;34m,\u001b[0m \u001b[0;34m*\u001b[0m\u001b[0margs\u001b[0m\u001b[0;34m,\u001b[0m \u001b[0;34m**\u001b[0m\u001b[0mkwargs\u001b[0m\u001b[0;34m)\u001b[0m\u001b[0;34m:\u001b[0m\u001b[0;34m\u001b[0m\u001b[0;34m\u001b[0m\u001b[0m\n\u001b[0;32m--> 357\u001b[0;31m         \u001b[0msuper\u001b[0m\u001b[0;34m(\u001b[0m\u001b[0;34m)\u001b[0m\u001b[0;34m.\u001b[0m\u001b[0m_setup_prototype\u001b[0m\u001b[0;34m(\u001b[0m\u001b[0;34m*\u001b[0m\u001b[0margs\u001b[0m\u001b[0;34m,\u001b[0m \u001b[0;34m**\u001b[0m\u001b[0mkwargs\u001b[0m\u001b[0;34m)\u001b[0m\u001b[0;34m\u001b[0m\u001b[0;34m\u001b[0m\u001b[0m\n\u001b[0m\u001b[1;32m    358\u001b[0m \u001b[0;34m\u001b[0m\u001b[0m\n",
      "\u001b[0;32m~/anaconda3/lib/python3.9/site-packages/pyro/infer/autoguide/guides.py\u001b[0m in \u001b[0;36m_setup_prototype\u001b[0;34m(self, *args, **kwargs)\u001b[0m\n\u001b[1;32m    156\u001b[0m         \u001b[0mmodel\u001b[0m \u001b[0;34m=\u001b[0m \u001b[0mpoutine\u001b[0m\u001b[0;34m.\u001b[0m\u001b[0mblock\u001b[0m\u001b[0;34m(\u001b[0m\u001b[0mself\u001b[0m\u001b[0;34m.\u001b[0m\u001b[0mmodel\u001b[0m\u001b[0;34m,\u001b[0m \u001b[0mself\u001b[0m\u001b[0;34m.\u001b[0m\u001b[0m_prototype_hide_fn\u001b[0m\u001b[0;34m)\u001b[0m\u001b[0;34m\u001b[0m\u001b[0;34m\u001b[0m\u001b[0m\n\u001b[0;32m--> 157\u001b[0;31m         self.prototype_trace = poutine.block(poutine.trace(model).get_trace)(\n\u001b[0m\u001b[1;32m    158\u001b[0m             \u001b[0;34m*\u001b[0m\u001b[0margs\u001b[0m\u001b[0;34m,\u001b[0m \u001b[0;34m**\u001b[0m\u001b[0mkwargs\u001b[0m\u001b[0;34m\u001b[0m\u001b[0;34m\u001b[0m\u001b[0m\n",
      "\u001b[0;32m~/anaconda3/lib/python3.9/site-packages/pyro/poutine/messenger.py\u001b[0m in \u001b[0;36m_context_wrap\u001b[0;34m(context, fn, *args, **kwargs)\u001b[0m\n\u001b[1;32m     11\u001b[0m     \u001b[0;32mwith\u001b[0m \u001b[0mcontext\u001b[0m\u001b[0;34m:\u001b[0m\u001b[0;34m\u001b[0m\u001b[0;34m\u001b[0m\u001b[0m\n\u001b[0;32m---> 12\u001b[0;31m         \u001b[0;32mreturn\u001b[0m \u001b[0mfn\u001b[0m\u001b[0;34m(\u001b[0m\u001b[0;34m*\u001b[0m\u001b[0margs\u001b[0m\u001b[0;34m,\u001b[0m \u001b[0;34m**\u001b[0m\u001b[0mkwargs\u001b[0m\u001b[0;34m)\u001b[0m\u001b[0;34m\u001b[0m\u001b[0;34m\u001b[0m\u001b[0m\n\u001b[0m\u001b[1;32m     13\u001b[0m \u001b[0;34m\u001b[0m\u001b[0m\n",
      "\u001b[0;32m~/anaconda3/lib/python3.9/site-packages/pyro/poutine/trace_messenger.py\u001b[0m in \u001b[0;36mget_trace\u001b[0;34m(self, *args, **kwargs)\u001b[0m\n\u001b[1;32m    197\u001b[0m         \"\"\"\n\u001b[0;32m--> 198\u001b[0;31m         \u001b[0mself\u001b[0m\u001b[0;34m(\u001b[0m\u001b[0;34m*\u001b[0m\u001b[0margs\u001b[0m\u001b[0;34m,\u001b[0m \u001b[0;34m**\u001b[0m\u001b[0mkwargs\u001b[0m\u001b[0;34m)\u001b[0m\u001b[0;34m\u001b[0m\u001b[0;34m\u001b[0m\u001b[0m\n\u001b[0m\u001b[1;32m    199\u001b[0m         \u001b[0;32mreturn\u001b[0m \u001b[0mself\u001b[0m\u001b[0;34m.\u001b[0m\u001b[0mmsngr\u001b[0m\u001b[0;34m.\u001b[0m\u001b[0mget_trace\u001b[0m\u001b[0;34m(\u001b[0m\u001b[0;34m)\u001b[0m\u001b[0;34m\u001b[0m\u001b[0;34m\u001b[0m\u001b[0m\n",
      "\u001b[0;32m~/anaconda3/lib/python3.9/site-packages/pyro/poutine/trace_messenger.py\u001b[0m in \u001b[0;36m__call__\u001b[0;34m(self, *args, **kwargs)\u001b[0m\n\u001b[1;32m    179\u001b[0m                 \u001b[0mexc\u001b[0m \u001b[0;34m=\u001b[0m \u001b[0mexc\u001b[0m\u001b[0;34m.\u001b[0m\u001b[0mwith_traceback\u001b[0m\u001b[0;34m(\u001b[0m\u001b[0mtraceback\u001b[0m\u001b[0;34m)\u001b[0m\u001b[0;34m\u001b[0m\u001b[0;34m\u001b[0m\u001b[0m\n\u001b[0;32m--> 180\u001b[0;31m                 \u001b[0;32mraise\u001b[0m \u001b[0mexc\u001b[0m \u001b[0;32mfrom\u001b[0m \u001b[0me\u001b[0m\u001b[0;34m\u001b[0m\u001b[0;34m\u001b[0m\u001b[0m\n\u001b[0m\u001b[1;32m    181\u001b[0m             self.msngr.trace.add_node(\n",
      "\u001b[0;32m~/anaconda3/lib/python3.9/site-packages/pyro/poutine/trace_messenger.py\u001b[0m in \u001b[0;36m__call__\u001b[0;34m(self, *args, **kwargs)\u001b[0m\n\u001b[1;32m    173\u001b[0m             \u001b[0;32mtry\u001b[0m\u001b[0;34m:\u001b[0m\u001b[0;34m\u001b[0m\u001b[0;34m\u001b[0m\u001b[0m\n\u001b[0;32m--> 174\u001b[0;31m                 \u001b[0mret\u001b[0m \u001b[0;34m=\u001b[0m \u001b[0mself\u001b[0m\u001b[0;34m.\u001b[0m\u001b[0mfn\u001b[0m\u001b[0;34m(\u001b[0m\u001b[0;34m*\u001b[0m\u001b[0margs\u001b[0m\u001b[0;34m,\u001b[0m \u001b[0;34m**\u001b[0m\u001b[0mkwargs\u001b[0m\u001b[0;34m)\u001b[0m\u001b[0;34m\u001b[0m\u001b[0;34m\u001b[0m\u001b[0m\n\u001b[0m\u001b[1;32m    175\u001b[0m             \u001b[0;32mexcept\u001b[0m \u001b[0;34m(\u001b[0m\u001b[0mValueError\u001b[0m\u001b[0;34m,\u001b[0m \u001b[0mRuntimeError\u001b[0m\u001b[0;34m)\u001b[0m \u001b[0;32mas\u001b[0m \u001b[0me\u001b[0m\u001b[0;34m:\u001b[0m\u001b[0;34m\u001b[0m\u001b[0;34m\u001b[0m\u001b[0m\n",
      "\u001b[0;32m~/anaconda3/lib/python3.9/site-packages/pyro/poutine/messenger.py\u001b[0m in \u001b[0;36m_context_wrap\u001b[0;34m(context, fn, *args, **kwargs)\u001b[0m\n\u001b[1;32m     11\u001b[0m     \u001b[0;32mwith\u001b[0m \u001b[0mcontext\u001b[0m\u001b[0;34m:\u001b[0m\u001b[0;34m\u001b[0m\u001b[0;34m\u001b[0m\u001b[0m\n\u001b[0;32m---> 12\u001b[0;31m         \u001b[0;32mreturn\u001b[0m \u001b[0mfn\u001b[0m\u001b[0;34m(\u001b[0m\u001b[0;34m*\u001b[0m\u001b[0margs\u001b[0m\u001b[0;34m,\u001b[0m \u001b[0;34m**\u001b[0m\u001b[0mkwargs\u001b[0m\u001b[0;34m)\u001b[0m\u001b[0;34m\u001b[0m\u001b[0;34m\u001b[0m\u001b[0m\n\u001b[0m\u001b[1;32m     13\u001b[0m \u001b[0;34m\u001b[0m\u001b[0m\n",
      "\u001b[0;32m~/anaconda3/lib/python3.9/site-packages/pyro/poutine/messenger.py\u001b[0m in \u001b[0;36m_context_wrap\u001b[0;34m(context, fn, *args, **kwargs)\u001b[0m\n\u001b[1;32m     11\u001b[0m     \u001b[0;32mwith\u001b[0m \u001b[0mcontext\u001b[0m\u001b[0;34m:\u001b[0m\u001b[0;34m\u001b[0m\u001b[0;34m\u001b[0m\u001b[0m\n\u001b[0;32m---> 12\u001b[0;31m         \u001b[0;32mreturn\u001b[0m \u001b[0mfn\u001b[0m\u001b[0;34m(\u001b[0m\u001b[0;34m*\u001b[0m\u001b[0margs\u001b[0m\u001b[0;34m,\u001b[0m \u001b[0;34m**\u001b[0m\u001b[0mkwargs\u001b[0m\u001b[0;34m)\u001b[0m\u001b[0;34m\u001b[0m\u001b[0;34m\u001b[0m\u001b[0m\n\u001b[0m\u001b[1;32m     13\u001b[0m \u001b[0;34m\u001b[0m\u001b[0m\n",
      "\u001b[0;32m~/anaconda3/lib/python3.9/site-packages/pyro/poutine/messenger.py\u001b[0m in \u001b[0;36m_context_wrap\u001b[0;34m(context, fn, *args, **kwargs)\u001b[0m\n\u001b[1;32m     11\u001b[0m     \u001b[0;32mwith\u001b[0m \u001b[0mcontext\u001b[0m\u001b[0;34m:\u001b[0m\u001b[0;34m\u001b[0m\u001b[0;34m\u001b[0m\u001b[0m\n\u001b[0;32m---> 12\u001b[0;31m         \u001b[0;32mreturn\u001b[0m \u001b[0mfn\u001b[0m\u001b[0;34m(\u001b[0m\u001b[0;34m*\u001b[0m\u001b[0margs\u001b[0m\u001b[0;34m,\u001b[0m \u001b[0;34m**\u001b[0m\u001b[0mkwargs\u001b[0m\u001b[0;34m)\u001b[0m\u001b[0;34m\u001b[0m\u001b[0;34m\u001b[0m\u001b[0m\n\u001b[0m\u001b[1;32m     13\u001b[0m \u001b[0;34m\u001b[0m\u001b[0m\n",
      "\u001b[0;32m/tmp/ipykernel_62/4002016868.py\u001b[0m in \u001b[0;36mlotka_volterra_1\u001b[0;34m(data, batch_size)\u001b[0m\n\u001b[1;32m     36\u001b[0m             \u001b[0;32mif\u001b[0m \u001b[0ms_start\u001b[0m\u001b[0;34m.\u001b[0m\u001b[0mshape\u001b[0m \u001b[0;32mnot\u001b[0m \u001b[0;32min\u001b[0m \u001b[0;34m[\u001b[0m\u001b[0mtorch\u001b[0m\u001b[0;34m.\u001b[0m\u001b[0mSize\u001b[0m\u001b[0;34m(\u001b[0m\u001b[0;34m[\u001b[0m\u001b[0;36m1\u001b[0m\u001b[0;34m,\u001b[0m\u001b[0;36m2\u001b[0m\u001b[0;34m]\u001b[0m\u001b[0;34m)\u001b[0m\u001b[0;34m,\u001b[0m \u001b[0mtorch\u001b[0m\u001b[0;34m.\u001b[0m\u001b[0mSize\u001b[0m\u001b[0;34m(\u001b[0m\u001b[0;34m[\u001b[0m\u001b[0;36m2\u001b[0m\u001b[0;34m]\u001b[0m\u001b[0;34m)\u001b[0m\u001b[0;34m,\u001b[0m \u001b[0mtorch\u001b[0m\u001b[0;34m.\u001b[0m\u001b[0mSize\u001b[0m\u001b[0;34m(\u001b[0m\u001b[0;34m[\u001b[0m\u001b[0;36m2\u001b[0m\u001b[0;34m,\u001b[0m\u001b[0;36m2\u001b[0m\u001b[0;34m]\u001b[0m\u001b[0;34m)\u001b[0m\u001b[0;34m]\u001b[0m\u001b[0;34m:\u001b[0m\u001b[0;34m\u001b[0m\u001b[0;34m\u001b[0m\u001b[0m\n\u001b[0;32m---> 37\u001b[0;31m                 \u001b[0ms_start\u001b[0m \u001b[0;34m=\u001b[0m \u001b[0ms_start\u001b[0m\u001b[0;34m.\u001b[0m\u001b[0mreshape\u001b[0m\u001b[0;34m(\u001b[0m\u001b[0mupdate\u001b[0m\u001b[0;34m.\u001b[0m\u001b[0mshape\u001b[0m\u001b[0;34m)\u001b[0m\u001b[0;34m\u001b[0m\u001b[0;34m\u001b[0m\u001b[0m\n\u001b[0m\u001b[1;32m     38\u001b[0m             \u001b[0mprint\u001b[0m\u001b[0;34m(\u001b[0m\u001b[0;34mf\"update shape {update.shape}\"\u001b[0m\u001b[0;34m)\u001b[0m\u001b[0;34m\u001b[0m\u001b[0;34m\u001b[0m\u001b[0m\n",
      "\u001b[0;31mRuntimeError\u001b[0m: shape '[2, 3, 2]' is invalid for input of size 8\nTrace Shapes:    \n Param Sites:    \nSample Sites:    \n   rates dist | 3\n        value | 3\nTrace Shapes:\n Param Sites:\nSample Sites:",
      "\nThe above exception was the direct cause of the following exception:\n",
      "\u001b[0;31mRuntimeError\u001b[0m                              Traceback (most recent call last)",
      "\u001b[0;32m/tmp/ipykernel_62/137770993.py\u001b[0m in \u001b[0;36m<module>\u001b[0;34m\u001b[0m\n\u001b[1;32m      2\u001b[0m \u001b[0mpyro\u001b[0m\u001b[0;34m.\u001b[0m\u001b[0mclear_param_store\u001b[0m\u001b[0;34m(\u001b[0m\u001b[0;34m)\u001b[0m\u001b[0;34m\u001b[0m\u001b[0;34m\u001b[0m\u001b[0m\n\u001b[1;32m      3\u001b[0m \u001b[0melbo\u001b[0m \u001b[0;34m=\u001b[0m \u001b[0mpyro\u001b[0m\u001b[0;34m.\u001b[0m\u001b[0minfer\u001b[0m\u001b[0;34m.\u001b[0m\u001b[0mTraceEnum_ELBO\u001b[0m\u001b[0;34m(\u001b[0m\u001b[0mmax_plate_nesting\u001b[0m\u001b[0;34m=\u001b[0m\u001b[0;36m3\u001b[0m\u001b[0;34m)\u001b[0m\u001b[0;34m\u001b[0m\u001b[0;34m\u001b[0m\u001b[0m\n\u001b[0;32m----> 4\u001b[0;31m \u001b[0melbo\u001b[0m\u001b[0;34m.\u001b[0m\u001b[0mloss\u001b[0m\u001b[0;34m(\u001b[0m\u001b[0mlotka_volterra_1\u001b[0m\u001b[0;34m,\u001b[0m \u001b[0mhmm_guide\u001b[0m\u001b[0;34m,\u001b[0m \u001b[0mtemp\u001b[0m\u001b[0;34m)\u001b[0m \u001b[0;31m## Ensure model compiles\u001b[0m\u001b[0;34m\u001b[0m\u001b[0;34m\u001b[0m\u001b[0m\n\u001b[0m",
      "\u001b[0;32m~/anaconda3/lib/python3.9/site-packages/pyro/infer/traceenum_elbo.py\u001b[0m in \u001b[0;36mloss\u001b[0;34m(self, model, guide, *args, **kwargs)\u001b[0m\n\u001b[1;32m    402\u001b[0m         \"\"\"\n\u001b[1;32m    403\u001b[0m         \u001b[0melbo\u001b[0m \u001b[0;34m=\u001b[0m \u001b[0;36m0.0\u001b[0m\u001b[0;34m\u001b[0m\u001b[0;34m\u001b[0m\u001b[0m\n\u001b[0;32m--> 404\u001b[0;31m         \u001b[0;32mfor\u001b[0m \u001b[0mmodel_trace\u001b[0m\u001b[0;34m,\u001b[0m \u001b[0mguide_trace\u001b[0m \u001b[0;32min\u001b[0m \u001b[0mself\u001b[0m\u001b[0;34m.\u001b[0m\u001b[0m_get_traces\u001b[0m\u001b[0;34m(\u001b[0m\u001b[0mmodel\u001b[0m\u001b[0;34m,\u001b[0m \u001b[0mguide\u001b[0m\u001b[0;34m,\u001b[0m \u001b[0margs\u001b[0m\u001b[0;34m,\u001b[0m \u001b[0mkwargs\u001b[0m\u001b[0;34m)\u001b[0m\u001b[0;34m:\u001b[0m\u001b[0;34m\u001b[0m\u001b[0;34m\u001b[0m\u001b[0m\n\u001b[0m\u001b[1;32m    405\u001b[0m             \u001b[0melbo_particle\u001b[0m \u001b[0;34m=\u001b[0m \u001b[0m_compute_dice_elbo\u001b[0m\u001b[0;34m(\u001b[0m\u001b[0mmodel_trace\u001b[0m\u001b[0;34m,\u001b[0m \u001b[0mguide_trace\u001b[0m\u001b[0;34m)\u001b[0m\u001b[0;34m\u001b[0m\u001b[0;34m\u001b[0m\u001b[0m\n\u001b[1;32m    406\u001b[0m             \u001b[0;32mif\u001b[0m \u001b[0mis_identically_zero\u001b[0m\u001b[0;34m(\u001b[0m\u001b[0melbo_particle\u001b[0m\u001b[0;34m)\u001b[0m\u001b[0;34m:\u001b[0m\u001b[0;34m\u001b[0m\u001b[0;34m\u001b[0m\u001b[0m\n",
      "\u001b[0;32m~/anaconda3/lib/python3.9/site-packages/pyro/infer/traceenum_elbo.py\u001b[0m in \u001b[0;36m_get_traces\u001b[0;34m(self, model, guide, args, kwargs)\u001b[0m\n\u001b[1;32m    392\u001b[0m             \u001b[0mq\u001b[0m\u001b[0;34m.\u001b[0m\u001b[0mput\u001b[0m\u001b[0;34m(\u001b[0m\u001b[0mpoutine\u001b[0m\u001b[0;34m.\u001b[0m\u001b[0mTrace\u001b[0m\u001b[0;34m(\u001b[0m\u001b[0;34m)\u001b[0m\u001b[0;34m)\u001b[0m\u001b[0;34m\u001b[0m\u001b[0;34m\u001b[0m\u001b[0m\n\u001b[1;32m    393\u001b[0m             \u001b[0;32mwhile\u001b[0m \u001b[0;32mnot\u001b[0m \u001b[0mq\u001b[0m\u001b[0;34m.\u001b[0m\u001b[0mempty\u001b[0m\u001b[0;34m(\u001b[0m\u001b[0;34m)\u001b[0m\u001b[0;34m:\u001b[0m\u001b[0;34m\u001b[0m\u001b[0;34m\u001b[0m\u001b[0m\n\u001b[0;32m--> 394\u001b[0;31m                 \u001b[0;32myield\u001b[0m \u001b[0mself\u001b[0m\u001b[0;34m.\u001b[0m\u001b[0m_get_trace\u001b[0m\u001b[0;34m(\u001b[0m\u001b[0mmodel\u001b[0m\u001b[0;34m,\u001b[0m \u001b[0mguide\u001b[0m\u001b[0;34m,\u001b[0m \u001b[0margs\u001b[0m\u001b[0;34m,\u001b[0m \u001b[0mkwargs\u001b[0m\u001b[0;34m)\u001b[0m\u001b[0;34m\u001b[0m\u001b[0;34m\u001b[0m\u001b[0m\n\u001b[0m\u001b[1;32m    395\u001b[0m \u001b[0;34m\u001b[0m\u001b[0m\n\u001b[1;32m    396\u001b[0m     \u001b[0;32mdef\u001b[0m \u001b[0mloss\u001b[0m\u001b[0;34m(\u001b[0m\u001b[0mself\u001b[0m\u001b[0;34m,\u001b[0m \u001b[0mmodel\u001b[0m\u001b[0;34m,\u001b[0m \u001b[0mguide\u001b[0m\u001b[0;34m,\u001b[0m \u001b[0;34m*\u001b[0m\u001b[0margs\u001b[0m\u001b[0;34m,\u001b[0m \u001b[0;34m**\u001b[0m\u001b[0mkwargs\u001b[0m\u001b[0;34m)\u001b[0m\u001b[0;34m:\u001b[0m\u001b[0;34m\u001b[0m\u001b[0;34m\u001b[0m\u001b[0m\n",
      "\u001b[0;32m~/anaconda3/lib/python3.9/site-packages/pyro/infer/traceenum_elbo.py\u001b[0m in \u001b[0;36m_get_trace\u001b[0;34m(self, model, guide, args, kwargs)\u001b[0m\n\u001b[1;32m    337\u001b[0m         \u001b[0magainst\u001b[0m \u001b[0mit\u001b[0m\u001b[0;34m.\u001b[0m\u001b[0;34m\u001b[0m\u001b[0;34m\u001b[0m\u001b[0m\n\u001b[1;32m    338\u001b[0m         \"\"\"\n\u001b[0;32m--> 339\u001b[0;31m         model_trace, guide_trace = get_importance_trace(\n\u001b[0m\u001b[1;32m    340\u001b[0m             \u001b[0;34m\"flat\"\u001b[0m\u001b[0;34m,\u001b[0m \u001b[0mself\u001b[0m\u001b[0;34m.\u001b[0m\u001b[0mmax_plate_nesting\u001b[0m\u001b[0;34m,\u001b[0m \u001b[0mmodel\u001b[0m\u001b[0;34m,\u001b[0m \u001b[0mguide\u001b[0m\u001b[0;34m,\u001b[0m \u001b[0margs\u001b[0m\u001b[0;34m,\u001b[0m \u001b[0mkwargs\u001b[0m\u001b[0;34m\u001b[0m\u001b[0;34m\u001b[0m\u001b[0m\n\u001b[1;32m    341\u001b[0m         )\n",
      "\u001b[0;32m~/anaconda3/lib/python3.9/site-packages/pyro/infer/enum.py\u001b[0m in \u001b[0;36mget_importance_trace\u001b[0;34m(graph_type, max_plate_nesting, model, guide, args, kwargs, detach)\u001b[0m\n\u001b[1;32m     58\u001b[0m         \u001b[0mmodel_trace\u001b[0m\u001b[0;34m,\u001b[0m \u001b[0mguide_trace\u001b[0m \u001b[0;34m=\u001b[0m \u001b[0munwrapped_guide\u001b[0m\u001b[0;34m.\u001b[0m\u001b[0mget_traces\u001b[0m\u001b[0;34m(\u001b[0m\u001b[0;34m)\u001b[0m\u001b[0;34m\u001b[0m\u001b[0;34m\u001b[0m\u001b[0m\n\u001b[1;32m     59\u001b[0m     \u001b[0;32melse\u001b[0m\u001b[0;34m:\u001b[0m\u001b[0;34m\u001b[0m\u001b[0;34m\u001b[0m\u001b[0m\n\u001b[0;32m---> 60\u001b[0;31m         guide_trace = poutine.trace(guide, graph_type=graph_type).get_trace(\n\u001b[0m\u001b[1;32m     61\u001b[0m             \u001b[0;34m*\u001b[0m\u001b[0margs\u001b[0m\u001b[0;34m,\u001b[0m \u001b[0;34m**\u001b[0m\u001b[0mkwargs\u001b[0m\u001b[0;34m\u001b[0m\u001b[0;34m\u001b[0m\u001b[0m\n\u001b[1;32m     62\u001b[0m         )\n",
      "\u001b[0;32m~/anaconda3/lib/python3.9/site-packages/pyro/poutine/trace_messenger.py\u001b[0m in \u001b[0;36mget_trace\u001b[0;34m(self, *args, **kwargs)\u001b[0m\n\u001b[1;32m    196\u001b[0m         \u001b[0mCalls\u001b[0m \u001b[0mthis\u001b[0m \u001b[0mpoutine\u001b[0m \u001b[0;32mand\u001b[0m \u001b[0mreturns\u001b[0m \u001b[0mits\u001b[0m \u001b[0mtrace\u001b[0m \u001b[0minstead\u001b[0m \u001b[0mof\u001b[0m \u001b[0mthe\u001b[0m \u001b[0mfunction\u001b[0m\u001b[0;31m'\u001b[0m\u001b[0ms\u001b[0m \u001b[0;32mreturn\u001b[0m \u001b[0mvalue\u001b[0m\u001b[0;34m.\u001b[0m\u001b[0;34m\u001b[0m\u001b[0;34m\u001b[0m\u001b[0m\n\u001b[1;32m    197\u001b[0m         \"\"\"\n\u001b[0;32m--> 198\u001b[0;31m         \u001b[0mself\u001b[0m\u001b[0;34m(\u001b[0m\u001b[0;34m*\u001b[0m\u001b[0margs\u001b[0m\u001b[0;34m,\u001b[0m \u001b[0;34m**\u001b[0m\u001b[0mkwargs\u001b[0m\u001b[0;34m)\u001b[0m\u001b[0;34m\u001b[0m\u001b[0;34m\u001b[0m\u001b[0m\n\u001b[0m\u001b[1;32m    199\u001b[0m         \u001b[0;32mreturn\u001b[0m \u001b[0mself\u001b[0m\u001b[0;34m.\u001b[0m\u001b[0mmsngr\u001b[0m\u001b[0;34m.\u001b[0m\u001b[0mget_trace\u001b[0m\u001b[0;34m(\u001b[0m\u001b[0;34m)\u001b[0m\u001b[0;34m\u001b[0m\u001b[0;34m\u001b[0m\u001b[0m\n",
      "\u001b[0;32m~/anaconda3/lib/python3.9/site-packages/pyro/poutine/trace_messenger.py\u001b[0m in \u001b[0;36m__call__\u001b[0;34m(self, *args, **kwargs)\u001b[0m\n\u001b[1;32m    178\u001b[0m                 \u001b[0mexc\u001b[0m \u001b[0;34m=\u001b[0m \u001b[0mexc_type\u001b[0m\u001b[0;34m(\u001b[0m\u001b[0;34mu\"{}\\n{}\"\u001b[0m\u001b[0;34m.\u001b[0m\u001b[0mformat\u001b[0m\u001b[0;34m(\u001b[0m\u001b[0mexc_value\u001b[0m\u001b[0;34m,\u001b[0m \u001b[0mshapes\u001b[0m\u001b[0;34m)\u001b[0m\u001b[0;34m)\u001b[0m\u001b[0;34m\u001b[0m\u001b[0;34m\u001b[0m\u001b[0m\n\u001b[1;32m    179\u001b[0m                 \u001b[0mexc\u001b[0m \u001b[0;34m=\u001b[0m \u001b[0mexc\u001b[0m\u001b[0;34m.\u001b[0m\u001b[0mwith_traceback\u001b[0m\u001b[0;34m(\u001b[0m\u001b[0mtraceback\u001b[0m\u001b[0;34m)\u001b[0m\u001b[0;34m\u001b[0m\u001b[0;34m\u001b[0m\u001b[0m\n\u001b[0;32m--> 180\u001b[0;31m                 \u001b[0;32mraise\u001b[0m \u001b[0mexc\u001b[0m \u001b[0;32mfrom\u001b[0m \u001b[0me\u001b[0m\u001b[0;34m\u001b[0m\u001b[0;34m\u001b[0m\u001b[0m\n\u001b[0m\u001b[1;32m    181\u001b[0m             self.msngr.trace.add_node(\n\u001b[1;32m    182\u001b[0m                 \u001b[0;34m\"_RETURN\"\u001b[0m\u001b[0;34m,\u001b[0m \u001b[0mname\u001b[0m\u001b[0;34m=\u001b[0m\u001b[0;34m\"_RETURN\"\u001b[0m\u001b[0;34m,\u001b[0m \u001b[0mtype\u001b[0m\u001b[0;34m=\u001b[0m\u001b[0;34m\"return\"\u001b[0m\u001b[0;34m,\u001b[0m \u001b[0mvalue\u001b[0m\u001b[0;34m=\u001b[0m\u001b[0mret\u001b[0m\u001b[0;34m\u001b[0m\u001b[0;34m\u001b[0m\u001b[0m\n",
      "\u001b[0;32m~/anaconda3/lib/python3.9/site-packages/pyro/poutine/trace_messenger.py\u001b[0m in \u001b[0;36m__call__\u001b[0;34m(self, *args, **kwargs)\u001b[0m\n\u001b[1;32m    172\u001b[0m             )\n\u001b[1;32m    173\u001b[0m             \u001b[0;32mtry\u001b[0m\u001b[0;34m:\u001b[0m\u001b[0;34m\u001b[0m\u001b[0;34m\u001b[0m\u001b[0m\n\u001b[0;32m--> 174\u001b[0;31m                 \u001b[0mret\u001b[0m \u001b[0;34m=\u001b[0m \u001b[0mself\u001b[0m\u001b[0;34m.\u001b[0m\u001b[0mfn\u001b[0m\u001b[0;34m(\u001b[0m\u001b[0;34m*\u001b[0m\u001b[0margs\u001b[0m\u001b[0;34m,\u001b[0m \u001b[0;34m**\u001b[0m\u001b[0mkwargs\u001b[0m\u001b[0;34m)\u001b[0m\u001b[0;34m\u001b[0m\u001b[0;34m\u001b[0m\u001b[0m\n\u001b[0m\u001b[1;32m    175\u001b[0m             \u001b[0;32mexcept\u001b[0m \u001b[0;34m(\u001b[0m\u001b[0mValueError\u001b[0m\u001b[0;34m,\u001b[0m \u001b[0mRuntimeError\u001b[0m\u001b[0;34m)\u001b[0m \u001b[0;32mas\u001b[0m \u001b[0me\u001b[0m\u001b[0;34m:\u001b[0m\u001b[0;34m\u001b[0m\u001b[0;34m\u001b[0m\u001b[0m\n\u001b[1;32m    176\u001b[0m                 \u001b[0mexc_type\u001b[0m\u001b[0;34m,\u001b[0m \u001b[0mexc_value\u001b[0m\u001b[0;34m,\u001b[0m \u001b[0mtraceback\u001b[0m \u001b[0;34m=\u001b[0m \u001b[0msys\u001b[0m\u001b[0;34m.\u001b[0m\u001b[0mexc_info\u001b[0m\u001b[0;34m(\u001b[0m\u001b[0;34m)\u001b[0m\u001b[0;34m\u001b[0m\u001b[0;34m\u001b[0m\u001b[0m\n",
      "\u001b[0;32m~/anaconda3/lib/python3.9/site-packages/pyro/poutine/handlers.py\u001b[0m in \u001b[0;36m_fn\u001b[0;34m(*args, **kwargs)\u001b[0m\n\u001b[1;32m    202\u001b[0m                         )\n\u001b[1;32m    203\u001b[0m                     )\n\u001b[0;32m--> 204\u001b[0;31m                     \u001b[0;32mreturn\u001b[0m \u001b[0mftr\u001b[0m\u001b[0;34m(\u001b[0m\u001b[0;34m*\u001b[0m\u001b[0margs\u001b[0m\u001b[0;34m,\u001b[0m \u001b[0;34m**\u001b[0m\u001b[0mkwargs\u001b[0m\u001b[0;34m)\u001b[0m\u001b[0;34m\u001b[0m\u001b[0;34m\u001b[0m\u001b[0m\n\u001b[0m\u001b[1;32m    205\u001b[0m                 \u001b[0;32mexcept\u001b[0m \u001b[0mNonlocalExit\u001b[0m \u001b[0;32mas\u001b[0m \u001b[0msite_container\u001b[0m\u001b[0;34m:\u001b[0m\u001b[0;34m\u001b[0m\u001b[0;34m\u001b[0m\u001b[0m\n\u001b[1;32m    206\u001b[0m                     \u001b[0msite_container\u001b[0m\u001b[0;34m.\u001b[0m\u001b[0mreset_stack\u001b[0m\u001b[0;34m(\u001b[0m\u001b[0;34m)\u001b[0m\u001b[0;34m\u001b[0m\u001b[0;34m\u001b[0m\u001b[0m\n",
      "\u001b[0;32m~/anaconda3/lib/python3.9/site-packages/pyro/poutine/trace_messenger.py\u001b[0m in \u001b[0;36m__call__\u001b[0;34m(self, *args, **kwargs)\u001b[0m\n\u001b[1;32m    178\u001b[0m                 \u001b[0mexc\u001b[0m \u001b[0;34m=\u001b[0m \u001b[0mexc_type\u001b[0m\u001b[0;34m(\u001b[0m\u001b[0;34mu\"{}\\n{}\"\u001b[0m\u001b[0;34m.\u001b[0m\u001b[0mformat\u001b[0m\u001b[0;34m(\u001b[0m\u001b[0mexc_value\u001b[0m\u001b[0;34m,\u001b[0m \u001b[0mshapes\u001b[0m\u001b[0;34m)\u001b[0m\u001b[0;34m)\u001b[0m\u001b[0;34m\u001b[0m\u001b[0;34m\u001b[0m\u001b[0m\n\u001b[1;32m    179\u001b[0m                 \u001b[0mexc\u001b[0m \u001b[0;34m=\u001b[0m \u001b[0mexc\u001b[0m\u001b[0;34m.\u001b[0m\u001b[0mwith_traceback\u001b[0m\u001b[0;34m(\u001b[0m\u001b[0mtraceback\u001b[0m\u001b[0;34m)\u001b[0m\u001b[0;34m\u001b[0m\u001b[0;34m\u001b[0m\u001b[0m\n\u001b[0;32m--> 180\u001b[0;31m                 \u001b[0;32mraise\u001b[0m \u001b[0mexc\u001b[0m \u001b[0;32mfrom\u001b[0m \u001b[0me\u001b[0m\u001b[0;34m\u001b[0m\u001b[0;34m\u001b[0m\u001b[0m\n\u001b[0m\u001b[1;32m    181\u001b[0m             self.msngr.trace.add_node(\n\u001b[1;32m    182\u001b[0m                 \u001b[0;34m\"_RETURN\"\u001b[0m\u001b[0;34m,\u001b[0m \u001b[0mname\u001b[0m\u001b[0;34m=\u001b[0m\u001b[0;34m\"_RETURN\"\u001b[0m\u001b[0;34m,\u001b[0m \u001b[0mtype\u001b[0m\u001b[0;34m=\u001b[0m\u001b[0;34m\"return\"\u001b[0m\u001b[0;34m,\u001b[0m \u001b[0mvalue\u001b[0m\u001b[0;34m=\u001b[0m\u001b[0mret\u001b[0m\u001b[0;34m\u001b[0m\u001b[0;34m\u001b[0m\u001b[0m\n",
      "\u001b[0;32m~/anaconda3/lib/python3.9/site-packages/pyro/poutine/trace_messenger.py\u001b[0m in \u001b[0;36m__call__\u001b[0;34m(self, *args, **kwargs)\u001b[0m\n\u001b[1;32m    172\u001b[0m             )\n\u001b[1;32m    173\u001b[0m             \u001b[0;32mtry\u001b[0m\u001b[0;34m:\u001b[0m\u001b[0;34m\u001b[0m\u001b[0;34m\u001b[0m\u001b[0m\n\u001b[0;32m--> 174\u001b[0;31m                 \u001b[0mret\u001b[0m \u001b[0;34m=\u001b[0m \u001b[0mself\u001b[0m\u001b[0;34m.\u001b[0m\u001b[0mfn\u001b[0m\u001b[0;34m(\u001b[0m\u001b[0;34m*\u001b[0m\u001b[0margs\u001b[0m\u001b[0;34m,\u001b[0m \u001b[0;34m**\u001b[0m\u001b[0mkwargs\u001b[0m\u001b[0;34m)\u001b[0m\u001b[0;34m\u001b[0m\u001b[0;34m\u001b[0m\u001b[0m\n\u001b[0m\u001b[1;32m    175\u001b[0m             \u001b[0;32mexcept\u001b[0m \u001b[0;34m(\u001b[0m\u001b[0mValueError\u001b[0m\u001b[0;34m,\u001b[0m \u001b[0mRuntimeError\u001b[0m\u001b[0;34m)\u001b[0m \u001b[0;32mas\u001b[0m \u001b[0me\u001b[0m\u001b[0;34m:\u001b[0m\u001b[0;34m\u001b[0m\u001b[0;34m\u001b[0m\u001b[0m\n\u001b[1;32m    176\u001b[0m                 \u001b[0mexc_type\u001b[0m\u001b[0;34m,\u001b[0m \u001b[0mexc_value\u001b[0m\u001b[0;34m,\u001b[0m \u001b[0mtraceback\u001b[0m \u001b[0;34m=\u001b[0m \u001b[0msys\u001b[0m\u001b[0;34m.\u001b[0m\u001b[0mexc_info\u001b[0m\u001b[0;34m(\u001b[0m\u001b[0;34m)\u001b[0m\u001b[0;34m\u001b[0m\u001b[0;34m\u001b[0m\u001b[0m\n",
      "\u001b[0;32m~/anaconda3/lib/python3.9/site-packages/pyro/poutine/messenger.py\u001b[0m in \u001b[0;36m_context_wrap\u001b[0;34m(context, fn, *args, **kwargs)\u001b[0m\n\u001b[1;32m     10\u001b[0m \u001b[0;32mdef\u001b[0m \u001b[0m_context_wrap\u001b[0m\u001b[0;34m(\u001b[0m\u001b[0mcontext\u001b[0m\u001b[0;34m,\u001b[0m \u001b[0mfn\u001b[0m\u001b[0;34m,\u001b[0m \u001b[0;34m*\u001b[0m\u001b[0margs\u001b[0m\u001b[0;34m,\u001b[0m \u001b[0;34m**\u001b[0m\u001b[0mkwargs\u001b[0m\u001b[0;34m)\u001b[0m\u001b[0;34m:\u001b[0m\u001b[0;34m\u001b[0m\u001b[0;34m\u001b[0m\u001b[0m\n\u001b[1;32m     11\u001b[0m     \u001b[0;32mwith\u001b[0m \u001b[0mcontext\u001b[0m\u001b[0;34m:\u001b[0m\u001b[0;34m\u001b[0m\u001b[0;34m\u001b[0m\u001b[0m\n\u001b[0;32m---> 12\u001b[0;31m         \u001b[0;32mreturn\u001b[0m \u001b[0mfn\u001b[0m\u001b[0;34m(\u001b[0m\u001b[0;34m*\u001b[0m\u001b[0margs\u001b[0m\u001b[0;34m,\u001b[0m \u001b[0;34m**\u001b[0m\u001b[0mkwargs\u001b[0m\u001b[0;34m)\u001b[0m\u001b[0;34m\u001b[0m\u001b[0;34m\u001b[0m\u001b[0m\n\u001b[0m\u001b[1;32m     13\u001b[0m \u001b[0;34m\u001b[0m\u001b[0m\n\u001b[1;32m     14\u001b[0m \u001b[0;34m\u001b[0m\u001b[0m\n",
      "\u001b[0;32m~/anaconda3/lib/python3.9/site-packages/pyro/poutine/messenger.py\u001b[0m in \u001b[0;36m_context_wrap\u001b[0;34m(context, fn, *args, **kwargs)\u001b[0m\n\u001b[1;32m     10\u001b[0m \u001b[0;32mdef\u001b[0m \u001b[0m_context_wrap\u001b[0m\u001b[0;34m(\u001b[0m\u001b[0mcontext\u001b[0m\u001b[0;34m,\u001b[0m \u001b[0mfn\u001b[0m\u001b[0;34m,\u001b[0m \u001b[0;34m*\u001b[0m\u001b[0margs\u001b[0m\u001b[0;34m,\u001b[0m \u001b[0;34m**\u001b[0m\u001b[0mkwargs\u001b[0m\u001b[0;34m)\u001b[0m\u001b[0;34m:\u001b[0m\u001b[0;34m\u001b[0m\u001b[0;34m\u001b[0m\u001b[0m\n\u001b[1;32m     11\u001b[0m     \u001b[0;32mwith\u001b[0m \u001b[0mcontext\u001b[0m\u001b[0;34m:\u001b[0m\u001b[0;34m\u001b[0m\u001b[0;34m\u001b[0m\u001b[0m\n\u001b[0;32m---> 12\u001b[0;31m         \u001b[0;32mreturn\u001b[0m \u001b[0mfn\u001b[0m\u001b[0;34m(\u001b[0m\u001b[0;34m*\u001b[0m\u001b[0margs\u001b[0m\u001b[0;34m,\u001b[0m \u001b[0;34m**\u001b[0m\u001b[0mkwargs\u001b[0m\u001b[0;34m)\u001b[0m\u001b[0;34m\u001b[0m\u001b[0;34m\u001b[0m\u001b[0m\n\u001b[0m\u001b[1;32m     13\u001b[0m \u001b[0;34m\u001b[0m\u001b[0m\n\u001b[1;32m     14\u001b[0m \u001b[0;34m\u001b[0m\u001b[0m\n",
      "\u001b[0;32m~/anaconda3/lib/python3.9/site-packages/pyro/poutine/messenger.py\u001b[0m in \u001b[0;36m_context_wrap\u001b[0;34m(context, fn, *args, **kwargs)\u001b[0m\n\u001b[1;32m     10\u001b[0m \u001b[0;32mdef\u001b[0m \u001b[0m_context_wrap\u001b[0m\u001b[0;34m(\u001b[0m\u001b[0mcontext\u001b[0m\u001b[0;34m,\u001b[0m \u001b[0mfn\u001b[0m\u001b[0;34m,\u001b[0m \u001b[0;34m*\u001b[0m\u001b[0margs\u001b[0m\u001b[0;34m,\u001b[0m \u001b[0;34m**\u001b[0m\u001b[0mkwargs\u001b[0m\u001b[0;34m)\u001b[0m\u001b[0;34m:\u001b[0m\u001b[0;34m\u001b[0m\u001b[0;34m\u001b[0m\u001b[0m\n\u001b[1;32m     11\u001b[0m     \u001b[0;32mwith\u001b[0m \u001b[0mcontext\u001b[0m\u001b[0;34m:\u001b[0m\u001b[0;34m\u001b[0m\u001b[0;34m\u001b[0m\u001b[0m\n\u001b[0;32m---> 12\u001b[0;31m         \u001b[0;32mreturn\u001b[0m \u001b[0mfn\u001b[0m\u001b[0;34m(\u001b[0m\u001b[0;34m*\u001b[0m\u001b[0margs\u001b[0m\u001b[0;34m,\u001b[0m \u001b[0;34m**\u001b[0m\u001b[0mkwargs\u001b[0m\u001b[0;34m)\u001b[0m\u001b[0;34m\u001b[0m\u001b[0;34m\u001b[0m\u001b[0m\n\u001b[0m\u001b[1;32m     13\u001b[0m \u001b[0;34m\u001b[0m\u001b[0m\n\u001b[1;32m     14\u001b[0m \u001b[0;34m\u001b[0m\u001b[0m\n",
      "\u001b[0;32m~/anaconda3/lib/python3.9/site-packages/pyro/nn/module.py\u001b[0m in \u001b[0;36m__call__\u001b[0;34m(self, *args, **kwargs)\u001b[0m\n\u001b[1;32m    424\u001b[0m     \u001b[0;32mdef\u001b[0m \u001b[0m__call__\u001b[0m\u001b[0;34m(\u001b[0m\u001b[0mself\u001b[0m\u001b[0;34m,\u001b[0m \u001b[0;34m*\u001b[0m\u001b[0margs\u001b[0m\u001b[0;34m,\u001b[0m \u001b[0;34m**\u001b[0m\u001b[0mkwargs\u001b[0m\u001b[0;34m)\u001b[0m\u001b[0;34m:\u001b[0m\u001b[0;34m\u001b[0m\u001b[0;34m\u001b[0m\u001b[0m\n\u001b[1;32m    425\u001b[0m         \u001b[0;32mwith\u001b[0m \u001b[0mself\u001b[0m\u001b[0;34m.\u001b[0m\u001b[0m_pyro_context\u001b[0m\u001b[0;34m:\u001b[0m\u001b[0;34m\u001b[0m\u001b[0;34m\u001b[0m\u001b[0m\n\u001b[0;32m--> 426\u001b[0;31m             \u001b[0;32mreturn\u001b[0m \u001b[0msuper\u001b[0m\u001b[0;34m(\u001b[0m\u001b[0;34m)\u001b[0m\u001b[0;34m.\u001b[0m\u001b[0m__call__\u001b[0m\u001b[0;34m(\u001b[0m\u001b[0;34m*\u001b[0m\u001b[0margs\u001b[0m\u001b[0;34m,\u001b[0m \u001b[0;34m**\u001b[0m\u001b[0mkwargs\u001b[0m\u001b[0;34m)\u001b[0m\u001b[0;34m\u001b[0m\u001b[0;34m\u001b[0m\u001b[0m\n\u001b[0m\u001b[1;32m    427\u001b[0m \u001b[0;34m\u001b[0m\u001b[0m\n\u001b[1;32m    428\u001b[0m     \u001b[0;32mdef\u001b[0m \u001b[0m__getattr__\u001b[0m\u001b[0;34m(\u001b[0m\u001b[0mself\u001b[0m\u001b[0;34m,\u001b[0m \u001b[0mname\u001b[0m\u001b[0;34m)\u001b[0m\u001b[0;34m:\u001b[0m\u001b[0;34m\u001b[0m\u001b[0;34m\u001b[0m\u001b[0m\n",
      "\u001b[0;32m~/anaconda3/lib/python3.9/site-packages/torch/nn/modules/module.py\u001b[0m in \u001b[0;36m_call_impl\u001b[0;34m(self, *input, **kwargs)\u001b[0m\n\u001b[1;32m   1100\u001b[0m         if not (self._backward_hooks or self._forward_hooks or self._forward_pre_hooks or _global_backward_hooks\n\u001b[1;32m   1101\u001b[0m                 or _global_forward_hooks or _global_forward_pre_hooks):\n\u001b[0;32m-> 1102\u001b[0;31m             \u001b[0;32mreturn\u001b[0m \u001b[0mforward_call\u001b[0m\u001b[0;34m(\u001b[0m\u001b[0;34m*\u001b[0m\u001b[0minput\u001b[0m\u001b[0;34m,\u001b[0m \u001b[0;34m**\u001b[0m\u001b[0mkwargs\u001b[0m\u001b[0;34m)\u001b[0m\u001b[0;34m\u001b[0m\u001b[0;34m\u001b[0m\u001b[0m\n\u001b[0m\u001b[1;32m   1103\u001b[0m         \u001b[0;31m# Do not call functions when jit is used\u001b[0m\u001b[0;34m\u001b[0m\u001b[0;34m\u001b[0m\u001b[0m\n\u001b[1;32m   1104\u001b[0m         \u001b[0mfull_backward_hooks\u001b[0m\u001b[0;34m,\u001b[0m \u001b[0mnon_full_backward_hooks\u001b[0m \u001b[0;34m=\u001b[0m \u001b[0;34m[\u001b[0m\u001b[0;34m]\u001b[0m\u001b[0;34m,\u001b[0m \u001b[0;34m[\u001b[0m\u001b[0;34m]\u001b[0m\u001b[0;34m\u001b[0m\u001b[0;34m\u001b[0m\u001b[0m\n",
      "\u001b[0;32m~/anaconda3/lib/python3.9/site-packages/pyro/infer/autoguide/guides.py\u001b[0m in \u001b[0;36mforward\u001b[0;34m(self, *args, **kwargs)\u001b[0m\n\u001b[1;32m    385\u001b[0m         \u001b[0;31m# if we've never run the model before, do so now so we can inspect the model structure\u001b[0m\u001b[0;34m\u001b[0m\u001b[0;34m\u001b[0m\u001b[0m\n\u001b[1;32m    386\u001b[0m         \u001b[0;32mif\u001b[0m \u001b[0mself\u001b[0m\u001b[0;34m.\u001b[0m\u001b[0mprototype_trace\u001b[0m \u001b[0;32mis\u001b[0m \u001b[0;32mNone\u001b[0m\u001b[0;34m:\u001b[0m\u001b[0;34m\u001b[0m\u001b[0;34m\u001b[0m\u001b[0m\n\u001b[0;32m--> 387\u001b[0;31m             \u001b[0mself\u001b[0m\u001b[0;34m.\u001b[0m\u001b[0m_setup_prototype\u001b[0m\u001b[0;34m(\u001b[0m\u001b[0;34m*\u001b[0m\u001b[0margs\u001b[0m\u001b[0;34m,\u001b[0m \u001b[0;34m**\u001b[0m\u001b[0mkwargs\u001b[0m\u001b[0;34m)\u001b[0m\u001b[0;34m\u001b[0m\u001b[0;34m\u001b[0m\u001b[0m\n\u001b[0m\u001b[1;32m    388\u001b[0m \u001b[0;34m\u001b[0m\u001b[0m\n\u001b[1;32m    389\u001b[0m         \u001b[0mplates\u001b[0m \u001b[0;34m=\u001b[0m \u001b[0mself\u001b[0m\u001b[0;34m.\u001b[0m\u001b[0m_create_plates\u001b[0m\u001b[0;34m(\u001b[0m\u001b[0;34m*\u001b[0m\u001b[0margs\u001b[0m\u001b[0;34m,\u001b[0m \u001b[0;34m**\u001b[0m\u001b[0mkwargs\u001b[0m\u001b[0;34m)\u001b[0m\u001b[0;34m\u001b[0m\u001b[0;34m\u001b[0m\u001b[0m\n",
      "\u001b[0;32m~/anaconda3/lib/python3.9/site-packages/pyro/infer/autoguide/guides.py\u001b[0m in \u001b[0;36m_setup_prototype\u001b[0;34m(self, *args, **kwargs)\u001b[0m\n\u001b[1;32m    355\u001b[0m \u001b[0;34m\u001b[0m\u001b[0m\n\u001b[1;32m    356\u001b[0m     \u001b[0;32mdef\u001b[0m \u001b[0m_setup_prototype\u001b[0m\u001b[0;34m(\u001b[0m\u001b[0mself\u001b[0m\u001b[0;34m,\u001b[0m \u001b[0;34m*\u001b[0m\u001b[0margs\u001b[0m\u001b[0;34m,\u001b[0m \u001b[0;34m**\u001b[0m\u001b[0mkwargs\u001b[0m\u001b[0;34m)\u001b[0m\u001b[0;34m:\u001b[0m\u001b[0;34m\u001b[0m\u001b[0;34m\u001b[0m\u001b[0m\n\u001b[0;32m--> 357\u001b[0;31m         \u001b[0msuper\u001b[0m\u001b[0;34m(\u001b[0m\u001b[0;34m)\u001b[0m\u001b[0;34m.\u001b[0m\u001b[0m_setup_prototype\u001b[0m\u001b[0;34m(\u001b[0m\u001b[0;34m*\u001b[0m\u001b[0margs\u001b[0m\u001b[0;34m,\u001b[0m \u001b[0;34m**\u001b[0m\u001b[0mkwargs\u001b[0m\u001b[0;34m)\u001b[0m\u001b[0;34m\u001b[0m\u001b[0;34m\u001b[0m\u001b[0m\n\u001b[0m\u001b[1;32m    358\u001b[0m \u001b[0;34m\u001b[0m\u001b[0m\n\u001b[1;32m    359\u001b[0m         \u001b[0;31m# Initialize guide params\u001b[0m\u001b[0;34m\u001b[0m\u001b[0;34m\u001b[0m\u001b[0m\n",
      "\u001b[0;32m~/anaconda3/lib/python3.9/site-packages/pyro/infer/autoguide/guides.py\u001b[0m in \u001b[0;36m_setup_prototype\u001b[0;34m(self, *args, **kwargs)\u001b[0m\n\u001b[1;32m    155\u001b[0m         \u001b[0;31m# run the model so we can inspect its structure\u001b[0m\u001b[0;34m\u001b[0m\u001b[0;34m\u001b[0m\u001b[0m\n\u001b[1;32m    156\u001b[0m         \u001b[0mmodel\u001b[0m \u001b[0;34m=\u001b[0m \u001b[0mpoutine\u001b[0m\u001b[0;34m.\u001b[0m\u001b[0mblock\u001b[0m\u001b[0;34m(\u001b[0m\u001b[0mself\u001b[0m\u001b[0;34m.\u001b[0m\u001b[0mmodel\u001b[0m\u001b[0;34m,\u001b[0m \u001b[0mself\u001b[0m\u001b[0;34m.\u001b[0m\u001b[0m_prototype_hide_fn\u001b[0m\u001b[0;34m)\u001b[0m\u001b[0;34m\u001b[0m\u001b[0;34m\u001b[0m\u001b[0m\n\u001b[0;32m--> 157\u001b[0;31m         self.prototype_trace = poutine.block(poutine.trace(model).get_trace)(\n\u001b[0m\u001b[1;32m    158\u001b[0m             \u001b[0;34m*\u001b[0m\u001b[0margs\u001b[0m\u001b[0;34m,\u001b[0m \u001b[0;34m**\u001b[0m\u001b[0mkwargs\u001b[0m\u001b[0;34m\u001b[0m\u001b[0;34m\u001b[0m\u001b[0m\n\u001b[1;32m    159\u001b[0m         )\n",
      "\u001b[0;32m~/anaconda3/lib/python3.9/site-packages/pyro/poutine/messenger.py\u001b[0m in \u001b[0;36m_context_wrap\u001b[0;34m(context, fn, *args, **kwargs)\u001b[0m\n\u001b[1;32m     10\u001b[0m \u001b[0;32mdef\u001b[0m \u001b[0m_context_wrap\u001b[0m\u001b[0;34m(\u001b[0m\u001b[0mcontext\u001b[0m\u001b[0;34m,\u001b[0m \u001b[0mfn\u001b[0m\u001b[0;34m,\u001b[0m \u001b[0;34m*\u001b[0m\u001b[0margs\u001b[0m\u001b[0;34m,\u001b[0m \u001b[0;34m**\u001b[0m\u001b[0mkwargs\u001b[0m\u001b[0;34m)\u001b[0m\u001b[0;34m:\u001b[0m\u001b[0;34m\u001b[0m\u001b[0;34m\u001b[0m\u001b[0m\n\u001b[1;32m     11\u001b[0m     \u001b[0;32mwith\u001b[0m \u001b[0mcontext\u001b[0m\u001b[0;34m:\u001b[0m\u001b[0;34m\u001b[0m\u001b[0;34m\u001b[0m\u001b[0m\n\u001b[0;32m---> 12\u001b[0;31m         \u001b[0;32mreturn\u001b[0m \u001b[0mfn\u001b[0m\u001b[0;34m(\u001b[0m\u001b[0;34m*\u001b[0m\u001b[0margs\u001b[0m\u001b[0;34m,\u001b[0m \u001b[0;34m**\u001b[0m\u001b[0mkwargs\u001b[0m\u001b[0;34m)\u001b[0m\u001b[0;34m\u001b[0m\u001b[0;34m\u001b[0m\u001b[0m\n\u001b[0m\u001b[1;32m     13\u001b[0m \u001b[0;34m\u001b[0m\u001b[0m\n\u001b[1;32m     14\u001b[0m \u001b[0;34m\u001b[0m\u001b[0m\n",
      "\u001b[0;32m~/anaconda3/lib/python3.9/site-packages/pyro/poutine/trace_messenger.py\u001b[0m in \u001b[0;36mget_trace\u001b[0;34m(self, *args, **kwargs)\u001b[0m\n\u001b[1;32m    196\u001b[0m         \u001b[0mCalls\u001b[0m \u001b[0mthis\u001b[0m \u001b[0mpoutine\u001b[0m \u001b[0;32mand\u001b[0m \u001b[0mreturns\u001b[0m \u001b[0mits\u001b[0m \u001b[0mtrace\u001b[0m \u001b[0minstead\u001b[0m \u001b[0mof\u001b[0m \u001b[0mthe\u001b[0m \u001b[0mfunction\u001b[0m\u001b[0;31m'\u001b[0m\u001b[0ms\u001b[0m \u001b[0;32mreturn\u001b[0m \u001b[0mvalue\u001b[0m\u001b[0;34m.\u001b[0m\u001b[0;34m\u001b[0m\u001b[0;34m\u001b[0m\u001b[0m\n\u001b[1;32m    197\u001b[0m         \"\"\"\n\u001b[0;32m--> 198\u001b[0;31m         \u001b[0mself\u001b[0m\u001b[0;34m(\u001b[0m\u001b[0;34m*\u001b[0m\u001b[0margs\u001b[0m\u001b[0;34m,\u001b[0m \u001b[0;34m**\u001b[0m\u001b[0mkwargs\u001b[0m\u001b[0;34m)\u001b[0m\u001b[0;34m\u001b[0m\u001b[0;34m\u001b[0m\u001b[0m\n\u001b[0m\u001b[1;32m    199\u001b[0m         \u001b[0;32mreturn\u001b[0m \u001b[0mself\u001b[0m\u001b[0;34m.\u001b[0m\u001b[0mmsngr\u001b[0m\u001b[0;34m.\u001b[0m\u001b[0mget_trace\u001b[0m\u001b[0;34m(\u001b[0m\u001b[0;34m)\u001b[0m\u001b[0;34m\u001b[0m\u001b[0;34m\u001b[0m\u001b[0m\n",
      "\u001b[0;32m~/anaconda3/lib/python3.9/site-packages/pyro/poutine/trace_messenger.py\u001b[0m in \u001b[0;36m__call__\u001b[0;34m(self, *args, **kwargs)\u001b[0m\n\u001b[1;32m    178\u001b[0m                 \u001b[0mexc\u001b[0m \u001b[0;34m=\u001b[0m \u001b[0mexc_type\u001b[0m\u001b[0;34m(\u001b[0m\u001b[0;34mu\"{}\\n{}\"\u001b[0m\u001b[0;34m.\u001b[0m\u001b[0mformat\u001b[0m\u001b[0;34m(\u001b[0m\u001b[0mexc_value\u001b[0m\u001b[0;34m,\u001b[0m \u001b[0mshapes\u001b[0m\u001b[0;34m)\u001b[0m\u001b[0;34m)\u001b[0m\u001b[0;34m\u001b[0m\u001b[0;34m\u001b[0m\u001b[0m\n\u001b[1;32m    179\u001b[0m                 \u001b[0mexc\u001b[0m \u001b[0;34m=\u001b[0m \u001b[0mexc\u001b[0m\u001b[0;34m.\u001b[0m\u001b[0mwith_traceback\u001b[0m\u001b[0;34m(\u001b[0m\u001b[0mtraceback\u001b[0m\u001b[0;34m)\u001b[0m\u001b[0;34m\u001b[0m\u001b[0;34m\u001b[0m\u001b[0m\n\u001b[0;32m--> 180\u001b[0;31m                 \u001b[0;32mraise\u001b[0m \u001b[0mexc\u001b[0m \u001b[0;32mfrom\u001b[0m \u001b[0me\u001b[0m\u001b[0;34m\u001b[0m\u001b[0;34m\u001b[0m\u001b[0m\n\u001b[0m\u001b[1;32m    181\u001b[0m             self.msngr.trace.add_node(\n\u001b[1;32m    182\u001b[0m                 \u001b[0;34m\"_RETURN\"\u001b[0m\u001b[0;34m,\u001b[0m \u001b[0mname\u001b[0m\u001b[0;34m=\u001b[0m\u001b[0;34m\"_RETURN\"\u001b[0m\u001b[0;34m,\u001b[0m \u001b[0mtype\u001b[0m\u001b[0;34m=\u001b[0m\u001b[0;34m\"return\"\u001b[0m\u001b[0;34m,\u001b[0m \u001b[0mvalue\u001b[0m\u001b[0;34m=\u001b[0m\u001b[0mret\u001b[0m\u001b[0;34m\u001b[0m\u001b[0;34m\u001b[0m\u001b[0m\n",
      "\u001b[0;32m~/anaconda3/lib/python3.9/site-packages/pyro/poutine/trace_messenger.py\u001b[0m in \u001b[0;36m__call__\u001b[0;34m(self, *args, **kwargs)\u001b[0m\n\u001b[1;32m    172\u001b[0m             )\n\u001b[1;32m    173\u001b[0m             \u001b[0;32mtry\u001b[0m\u001b[0;34m:\u001b[0m\u001b[0;34m\u001b[0m\u001b[0;34m\u001b[0m\u001b[0m\n\u001b[0;32m--> 174\u001b[0;31m                 \u001b[0mret\u001b[0m \u001b[0;34m=\u001b[0m \u001b[0mself\u001b[0m\u001b[0;34m.\u001b[0m\u001b[0mfn\u001b[0m\u001b[0;34m(\u001b[0m\u001b[0;34m*\u001b[0m\u001b[0margs\u001b[0m\u001b[0;34m,\u001b[0m \u001b[0;34m**\u001b[0m\u001b[0mkwargs\u001b[0m\u001b[0;34m)\u001b[0m\u001b[0;34m\u001b[0m\u001b[0;34m\u001b[0m\u001b[0m\n\u001b[0m\u001b[1;32m    175\u001b[0m             \u001b[0;32mexcept\u001b[0m \u001b[0;34m(\u001b[0m\u001b[0mValueError\u001b[0m\u001b[0;34m,\u001b[0m \u001b[0mRuntimeError\u001b[0m\u001b[0;34m)\u001b[0m \u001b[0;32mas\u001b[0m \u001b[0me\u001b[0m\u001b[0;34m:\u001b[0m\u001b[0;34m\u001b[0m\u001b[0;34m\u001b[0m\u001b[0m\n\u001b[1;32m    176\u001b[0m                 \u001b[0mexc_type\u001b[0m\u001b[0;34m,\u001b[0m \u001b[0mexc_value\u001b[0m\u001b[0;34m,\u001b[0m \u001b[0mtraceback\u001b[0m \u001b[0;34m=\u001b[0m \u001b[0msys\u001b[0m\u001b[0;34m.\u001b[0m\u001b[0mexc_info\u001b[0m\u001b[0;34m(\u001b[0m\u001b[0;34m)\u001b[0m\u001b[0;34m\u001b[0m\u001b[0;34m\u001b[0m\u001b[0m\n",
      "\u001b[0;32m~/anaconda3/lib/python3.9/site-packages/pyro/poutine/messenger.py\u001b[0m in \u001b[0;36m_context_wrap\u001b[0;34m(context, fn, *args, **kwargs)\u001b[0m\n\u001b[1;32m     10\u001b[0m \u001b[0;32mdef\u001b[0m \u001b[0m_context_wrap\u001b[0m\u001b[0;34m(\u001b[0m\u001b[0mcontext\u001b[0m\u001b[0;34m,\u001b[0m \u001b[0mfn\u001b[0m\u001b[0;34m,\u001b[0m \u001b[0;34m*\u001b[0m\u001b[0margs\u001b[0m\u001b[0;34m,\u001b[0m \u001b[0;34m**\u001b[0m\u001b[0mkwargs\u001b[0m\u001b[0;34m)\u001b[0m\u001b[0;34m:\u001b[0m\u001b[0;34m\u001b[0m\u001b[0;34m\u001b[0m\u001b[0m\n\u001b[1;32m     11\u001b[0m     \u001b[0;32mwith\u001b[0m \u001b[0mcontext\u001b[0m\u001b[0;34m:\u001b[0m\u001b[0;34m\u001b[0m\u001b[0;34m\u001b[0m\u001b[0m\n\u001b[0;32m---> 12\u001b[0;31m         \u001b[0;32mreturn\u001b[0m \u001b[0mfn\u001b[0m\u001b[0;34m(\u001b[0m\u001b[0;34m*\u001b[0m\u001b[0margs\u001b[0m\u001b[0;34m,\u001b[0m \u001b[0;34m**\u001b[0m\u001b[0mkwargs\u001b[0m\u001b[0;34m)\u001b[0m\u001b[0;34m\u001b[0m\u001b[0;34m\u001b[0m\u001b[0m\n\u001b[0m\u001b[1;32m     13\u001b[0m \u001b[0;34m\u001b[0m\u001b[0m\n\u001b[1;32m     14\u001b[0m \u001b[0;34m\u001b[0m\u001b[0m\n",
      "\u001b[0;32m~/anaconda3/lib/python3.9/site-packages/pyro/poutine/messenger.py\u001b[0m in \u001b[0;36m_context_wrap\u001b[0;34m(context, fn, *args, **kwargs)\u001b[0m\n\u001b[1;32m     10\u001b[0m \u001b[0;32mdef\u001b[0m \u001b[0m_context_wrap\u001b[0m\u001b[0;34m(\u001b[0m\u001b[0mcontext\u001b[0m\u001b[0;34m,\u001b[0m \u001b[0mfn\u001b[0m\u001b[0;34m,\u001b[0m \u001b[0;34m*\u001b[0m\u001b[0margs\u001b[0m\u001b[0;34m,\u001b[0m \u001b[0;34m**\u001b[0m\u001b[0mkwargs\u001b[0m\u001b[0;34m)\u001b[0m\u001b[0;34m:\u001b[0m\u001b[0;34m\u001b[0m\u001b[0;34m\u001b[0m\u001b[0m\n\u001b[1;32m     11\u001b[0m     \u001b[0;32mwith\u001b[0m \u001b[0mcontext\u001b[0m\u001b[0;34m:\u001b[0m\u001b[0;34m\u001b[0m\u001b[0;34m\u001b[0m\u001b[0m\n\u001b[0;32m---> 12\u001b[0;31m         \u001b[0;32mreturn\u001b[0m \u001b[0mfn\u001b[0m\u001b[0;34m(\u001b[0m\u001b[0;34m*\u001b[0m\u001b[0margs\u001b[0m\u001b[0;34m,\u001b[0m \u001b[0;34m**\u001b[0m\u001b[0mkwargs\u001b[0m\u001b[0;34m)\u001b[0m\u001b[0;34m\u001b[0m\u001b[0;34m\u001b[0m\u001b[0m\n\u001b[0m\u001b[1;32m     13\u001b[0m \u001b[0;34m\u001b[0m\u001b[0m\n\u001b[1;32m     14\u001b[0m \u001b[0;34m\u001b[0m\u001b[0m\n",
      "\u001b[0;32m~/anaconda3/lib/python3.9/site-packages/pyro/poutine/messenger.py\u001b[0m in \u001b[0;36m_context_wrap\u001b[0;34m(context, fn, *args, **kwargs)\u001b[0m\n\u001b[1;32m     10\u001b[0m \u001b[0;32mdef\u001b[0m \u001b[0m_context_wrap\u001b[0m\u001b[0;34m(\u001b[0m\u001b[0mcontext\u001b[0m\u001b[0;34m,\u001b[0m \u001b[0mfn\u001b[0m\u001b[0;34m,\u001b[0m \u001b[0;34m*\u001b[0m\u001b[0margs\u001b[0m\u001b[0;34m,\u001b[0m \u001b[0;34m**\u001b[0m\u001b[0mkwargs\u001b[0m\u001b[0;34m)\u001b[0m\u001b[0;34m:\u001b[0m\u001b[0;34m\u001b[0m\u001b[0;34m\u001b[0m\u001b[0m\n\u001b[1;32m     11\u001b[0m     \u001b[0;32mwith\u001b[0m \u001b[0mcontext\u001b[0m\u001b[0;34m:\u001b[0m\u001b[0;34m\u001b[0m\u001b[0;34m\u001b[0m\u001b[0m\n\u001b[0;32m---> 12\u001b[0;31m         \u001b[0;32mreturn\u001b[0m \u001b[0mfn\u001b[0m\u001b[0;34m(\u001b[0m\u001b[0;34m*\u001b[0m\u001b[0margs\u001b[0m\u001b[0;34m,\u001b[0m \u001b[0;34m**\u001b[0m\u001b[0mkwargs\u001b[0m\u001b[0;34m)\u001b[0m\u001b[0;34m\u001b[0m\u001b[0;34m\u001b[0m\u001b[0m\n\u001b[0m\u001b[1;32m     13\u001b[0m \u001b[0;34m\u001b[0m\u001b[0m\n\u001b[1;32m     14\u001b[0m \u001b[0;34m\u001b[0m\u001b[0m\n",
      "\u001b[0;32m/tmp/ipykernel_62/4002016868.py\u001b[0m in \u001b[0;36mlotka_volterra_1\u001b[0;34m(data, batch_size)\u001b[0m\n\u001b[1;32m     35\u001b[0m             \u001b[0mupdate\u001b[0m \u001b[0;34m=\u001b[0m \u001b[0mtransition\u001b[0m\u001b[0;34m[\u001b[0m\u001b[0mx\u001b[0m\u001b[0;34m]\u001b[0m\u001b[0;34m\u001b[0m\u001b[0;34m\u001b[0m\u001b[0m\n\u001b[1;32m     36\u001b[0m             \u001b[0;32mif\u001b[0m \u001b[0ms_start\u001b[0m\u001b[0;34m.\u001b[0m\u001b[0mshape\u001b[0m \u001b[0;32mnot\u001b[0m \u001b[0;32min\u001b[0m \u001b[0;34m[\u001b[0m\u001b[0mtorch\u001b[0m\u001b[0;34m.\u001b[0m\u001b[0mSize\u001b[0m\u001b[0;34m(\u001b[0m\u001b[0;34m[\u001b[0m\u001b[0;36m1\u001b[0m\u001b[0;34m,\u001b[0m\u001b[0;36m2\u001b[0m\u001b[0;34m]\u001b[0m\u001b[0;34m)\u001b[0m\u001b[0;34m,\u001b[0m \u001b[0mtorch\u001b[0m\u001b[0;34m.\u001b[0m\u001b[0mSize\u001b[0m\u001b[0;34m(\u001b[0m\u001b[0;34m[\u001b[0m\u001b[0;36m2\u001b[0m\u001b[0;34m]\u001b[0m\u001b[0;34m)\u001b[0m\u001b[0;34m,\u001b[0m \u001b[0mtorch\u001b[0m\u001b[0;34m.\u001b[0m\u001b[0mSize\u001b[0m\u001b[0;34m(\u001b[0m\u001b[0;34m[\u001b[0m\u001b[0;36m2\u001b[0m\u001b[0;34m,\u001b[0m\u001b[0;36m2\u001b[0m\u001b[0;34m]\u001b[0m\u001b[0;34m)\u001b[0m\u001b[0;34m]\u001b[0m\u001b[0;34m:\u001b[0m\u001b[0;34m\u001b[0m\u001b[0;34m\u001b[0m\u001b[0m\n\u001b[0;32m---> 37\u001b[0;31m                 \u001b[0ms_start\u001b[0m \u001b[0;34m=\u001b[0m \u001b[0ms_start\u001b[0m\u001b[0;34m.\u001b[0m\u001b[0mreshape\u001b[0m\u001b[0;34m(\u001b[0m\u001b[0mupdate\u001b[0m\u001b[0;34m.\u001b[0m\u001b[0mshape\u001b[0m\u001b[0;34m)\u001b[0m\u001b[0;34m\u001b[0m\u001b[0;34m\u001b[0m\u001b[0m\n\u001b[0m\u001b[1;32m     38\u001b[0m             \u001b[0mprint\u001b[0m\u001b[0;34m(\u001b[0m\u001b[0;34mf\"update shape {update.shape}\"\u001b[0m\u001b[0;34m)\u001b[0m\u001b[0;34m\u001b[0m\u001b[0;34m\u001b[0m\u001b[0m\n\u001b[1;32m     39\u001b[0m             \u001b[0mprint\u001b[0m\u001b[0;34m(\u001b[0m\u001b[0;34mf\"s_start shape {s_start.shape}\"\u001b[0m\u001b[0;34m)\u001b[0m\u001b[0;34m\u001b[0m\u001b[0;34m\u001b[0m\u001b[0m\n",
      "\u001b[0;31mRuntimeError\u001b[0m: shape '[2, 3, 2]' is invalid for input of size 8\nTrace Shapes:    \n Param Sites:    \nSample Sites:    \n   rates dist | 3\n        value | 3\nTrace Shapes:\n Param Sites:\nSample Sites:\nTrace Shapes:\n Param Sites:\nSample Sites:"
     ]
    }
   ],
   "source": [
    "hmm_guide = pyro.infer.autoguide.AutoDelta(pyro.poutine.block(lotka_volterra_1, expose=[\"rates\"]))\n",
    "pyro.clear_param_store()\n",
    "elbo = pyro.infer.TraceEnum_ELBO(max_plate_nesting=3)\n",
    "elbo.loss(lotka_volterra_1, hmm_guide, temp) ## Ensure model compiles"
   ]
  },
  {
   "cell_type": "markdown",
   "id": "fafa0e83-473f-4e77-aad9-929aa56c4c2b",
   "metadata": {
    "jp-MarkdownHeadingCollapsed": true,
    "tags": []
   },
   "source": [
    "## Inference"
   ]
  },
  {
   "cell_type": "code",
   "execution_count": 26,
   "id": "8c0b6abe-c297-4115-8cdc-551145edff5f",
   "metadata": {
    "collapsed": true,
    "jupyter": {
     "outputs_hidden": true
    },
    "tags": []
   },
   "outputs": [
    {
     "ename": "ValueError",
     "evalue": "only one element tensors can be converted to Python scalars\n Trace Shapes:               \n  Param Sites:               \n Sample Sites:               \n   sample dist            |  \n         value          2 |  \nsequences dist            |  \n         value         20 |  \n    x_0_0 dist            |  \n         value   3 1 1  1 |  \n    y_0_0 dist 3 1 1 1  2 |  \n         value 3 1 1 1  2 |  \n    d_0_0 dist   3 1 1  1 | 2\n         value   3 1 1  1 | 2",
     "output_type": "error",
     "traceback": [
      "\u001b[0;31m---------------------------------------------------------------------------\u001b[0m",
      "\u001b[0;31mValueError\u001b[0m                                Traceback (most recent call last)",
      "\u001b[0;32m~/anaconda3/lib/python3.9/site-packages/pyro/poutine/trace_messenger.py\u001b[0m in \u001b[0;36m__call__\u001b[0;34m(self, *args, **kwargs)\u001b[0m\n\u001b[1;32m    173\u001b[0m             \u001b[0;32mtry\u001b[0m\u001b[0;34m:\u001b[0m\u001b[0;34m\u001b[0m\u001b[0;34m\u001b[0m\u001b[0m\n\u001b[0;32m--> 174\u001b[0;31m                 \u001b[0mret\u001b[0m \u001b[0;34m=\u001b[0m \u001b[0mself\u001b[0m\u001b[0;34m.\u001b[0m\u001b[0mfn\u001b[0m\u001b[0;34m(\u001b[0m\u001b[0;34m*\u001b[0m\u001b[0margs\u001b[0m\u001b[0;34m,\u001b[0m \u001b[0;34m**\u001b[0m\u001b[0mkwargs\u001b[0m\u001b[0;34m)\u001b[0m\u001b[0;34m\u001b[0m\u001b[0;34m\u001b[0m\u001b[0m\n\u001b[0m\u001b[1;32m    175\u001b[0m             \u001b[0;32mexcept\u001b[0m \u001b[0;34m(\u001b[0m\u001b[0mValueError\u001b[0m\u001b[0;34m,\u001b[0m \u001b[0mRuntimeError\u001b[0m\u001b[0;34m)\u001b[0m \u001b[0;32mas\u001b[0m \u001b[0me\u001b[0m\u001b[0;34m:\u001b[0m\u001b[0;34m\u001b[0m\u001b[0;34m\u001b[0m\u001b[0m\n",
      "\u001b[0;32m~/anaconda3/lib/python3.9/site-packages/pyro/poutine/messenger.py\u001b[0m in \u001b[0;36m_context_wrap\u001b[0;34m(context, fn, *args, **kwargs)\u001b[0m\n\u001b[1;32m     11\u001b[0m     \u001b[0;32mwith\u001b[0m \u001b[0mcontext\u001b[0m\u001b[0;34m:\u001b[0m\u001b[0;34m\u001b[0m\u001b[0;34m\u001b[0m\u001b[0m\n\u001b[0;32m---> 12\u001b[0;31m         \u001b[0;32mreturn\u001b[0m \u001b[0mfn\u001b[0m\u001b[0;34m(\u001b[0m\u001b[0;34m*\u001b[0m\u001b[0margs\u001b[0m\u001b[0;34m,\u001b[0m \u001b[0;34m**\u001b[0m\u001b[0mkwargs\u001b[0m\u001b[0;34m)\u001b[0m\u001b[0;34m\u001b[0m\u001b[0;34m\u001b[0m\u001b[0m\n\u001b[0m\u001b[1;32m     13\u001b[0m \u001b[0;34m\u001b[0m\u001b[0m\n",
      "\u001b[0;32m~/anaconda3/lib/python3.9/site-packages/pyro/poutine/messenger.py\u001b[0m in \u001b[0;36m_context_wrap\u001b[0;34m(context, fn, *args, **kwargs)\u001b[0m\n\u001b[1;32m     11\u001b[0m     \u001b[0;32mwith\u001b[0m \u001b[0mcontext\u001b[0m\u001b[0;34m:\u001b[0m\u001b[0;34m\u001b[0m\u001b[0;34m\u001b[0m\u001b[0m\n\u001b[0;32m---> 12\u001b[0;31m         \u001b[0;32mreturn\u001b[0m \u001b[0mfn\u001b[0m\u001b[0;34m(\u001b[0m\u001b[0;34m*\u001b[0m\u001b[0margs\u001b[0m\u001b[0;34m,\u001b[0m \u001b[0;34m**\u001b[0m\u001b[0mkwargs\u001b[0m\u001b[0;34m)\u001b[0m\u001b[0;34m\u001b[0m\u001b[0;34m\u001b[0m\u001b[0m\n\u001b[0m\u001b[1;32m     13\u001b[0m \u001b[0;34m\u001b[0m\u001b[0m\n",
      "\u001b[0;32m/tmp/ipykernel_62/3492871785.py\u001b[0m in \u001b[0;36mlotka_volterra_0\u001b[0;34m(sequences)\u001b[0m\n\u001b[1;32m     19\u001b[0m                         \u001b[0;34m\"x_{}_{}\"\u001b[0m\u001b[0;34m.\u001b[0m\u001b[0mformat\u001b[0m\u001b[0;34m(\u001b[0m\u001b[0mt\u001b[0m\u001b[0;34m,\u001b[0m \u001b[0mi\u001b[0m\u001b[0;34m)\u001b[0m\u001b[0;34m,\u001b[0m\u001b[0;34m\u001b[0m\u001b[0;34m\u001b[0m\u001b[0m\n\u001b[0;32m---> 20\u001b[0;31m                         pyro.distributions.Categorical(torch.tensor([rates[0] * s_start[0], \n\u001b[0m\u001b[1;32m     21\u001b[0m                                                                    \u001b[0mrates\u001b[0m\u001b[0;34m[\u001b[0m\u001b[0;36m1\u001b[0m\u001b[0;34m]\u001b[0m \u001b[0;34m*\u001b[0m \u001b[0ms_start\u001b[0m\u001b[0;34m[\u001b[0m\u001b[0;36m0\u001b[0m\u001b[0;34m]\u001b[0m \u001b[0;34m*\u001b[0m \u001b[0ms_start\u001b[0m\u001b[0;34m[\u001b[0m\u001b[0;36m1\u001b[0m\u001b[0;34m]\u001b[0m\u001b[0;34m,\u001b[0m\u001b[0;34m\u001b[0m\u001b[0;34m\u001b[0m\u001b[0m\n",
      "\u001b[0;31mValueError\u001b[0m: only one element tensors can be converted to Python scalars",
      "\nThe above exception was the direct cause of the following exception:\n",
      "\u001b[0;31mValueError\u001b[0m                                Traceback (most recent call last)",
      "\u001b[0;32m/tmp/ipykernel_62/1621091604.py\u001b[0m in \u001b[0;36m<module>\u001b[0;34m\u001b[0m\n\u001b[0;32m----> 1\u001b[0;31m \u001b[0mrate_results\u001b[0m \u001b[0;34m=\u001b[0m \u001b[0minfer_rates\u001b[0m\u001b[0;34m(\u001b[0m\u001b[0mlotka_volterra_0\u001b[0m\u001b[0;34m,\u001b[0m \u001b[0mtemp\u001b[0m\u001b[0;34m,\u001b[0m \u001b[0mlearning_rate\u001b[0m\u001b[0;34m=\u001b[0m\u001b[0;36m.0001\u001b[0m\u001b[0;34m,\u001b[0m \u001b[0mnum_steps\u001b[0m \u001b[0;34m=\u001b[0m \u001b[0;36m1000\u001b[0m\u001b[0;34m)\u001b[0m\u001b[0;34m\u001b[0m\u001b[0;34m\u001b[0m\u001b[0m\n\u001b[0m",
      "\u001b[0;32m/tmp/ipykernel_62/1380246488.py\u001b[0m in \u001b[0;36minfer_rates\u001b[0;34m(model, observations, learning_rate, num_steps, beta0, beta1)\u001b[0m\n\u001b[1;32m      4\u001b[0m     \u001b[0mpyro\u001b[0m\u001b[0;34m.\u001b[0m\u001b[0mclear_param_store\u001b[0m\u001b[0;34m(\u001b[0m\u001b[0;34m)\u001b[0m\u001b[0;34m\u001b[0m\u001b[0;34m\u001b[0m\u001b[0m\n\u001b[1;32m      5\u001b[0m     \u001b[0melbo\u001b[0m \u001b[0;34m=\u001b[0m \u001b[0mpyro\u001b[0m\u001b[0;34m.\u001b[0m\u001b[0minfer\u001b[0m\u001b[0;34m.\u001b[0m\u001b[0mTraceEnum_ELBO\u001b[0m\u001b[0;34m(\u001b[0m\u001b[0mmax_plate_nesting\u001b[0m\u001b[0;34m=\u001b[0m\u001b[0;36m3\u001b[0m\u001b[0;34m)\u001b[0m\u001b[0;34m\u001b[0m\u001b[0;34m\u001b[0m\u001b[0m\n\u001b[0;32m----> 6\u001b[0;31m     \u001b[0melbo\u001b[0m\u001b[0;34m.\u001b[0m\u001b[0mloss\u001b[0m\u001b[0;34m(\u001b[0m\u001b[0mmodel\u001b[0m\u001b[0;34m,\u001b[0m \u001b[0mhmm_guide\u001b[0m\u001b[0;34m,\u001b[0m \u001b[0mobservations\u001b[0m\u001b[0;34m)\u001b[0m \u001b[0;31m## Ensure model compiles\u001b[0m\u001b[0;34m\u001b[0m\u001b[0;34m\u001b[0m\u001b[0m\n\u001b[0m\u001b[1;32m      7\u001b[0m \u001b[0;34m\u001b[0m\u001b[0m\n\u001b[1;32m      8\u001b[0m     \u001b[0mrates\u001b[0m \u001b[0;34m=\u001b[0m \u001b[0mlist\u001b[0m\u001b[0;34m(\u001b[0m\u001b[0;34m)\u001b[0m\u001b[0;34m\u001b[0m\u001b[0;34m\u001b[0m\u001b[0m\n",
      "\u001b[0;32m~/anaconda3/lib/python3.9/site-packages/pyro/infer/traceenum_elbo.py\u001b[0m in \u001b[0;36mloss\u001b[0;34m(self, model, guide, *args, **kwargs)\u001b[0m\n\u001b[1;32m    402\u001b[0m         \"\"\"\n\u001b[1;32m    403\u001b[0m         \u001b[0melbo\u001b[0m \u001b[0;34m=\u001b[0m \u001b[0;36m0.0\u001b[0m\u001b[0;34m\u001b[0m\u001b[0;34m\u001b[0m\u001b[0m\n\u001b[0;32m--> 404\u001b[0;31m         \u001b[0;32mfor\u001b[0m \u001b[0mmodel_trace\u001b[0m\u001b[0;34m,\u001b[0m \u001b[0mguide_trace\u001b[0m \u001b[0;32min\u001b[0m \u001b[0mself\u001b[0m\u001b[0;34m.\u001b[0m\u001b[0m_get_traces\u001b[0m\u001b[0;34m(\u001b[0m\u001b[0mmodel\u001b[0m\u001b[0;34m,\u001b[0m \u001b[0mguide\u001b[0m\u001b[0;34m,\u001b[0m \u001b[0margs\u001b[0m\u001b[0;34m,\u001b[0m \u001b[0mkwargs\u001b[0m\u001b[0;34m)\u001b[0m\u001b[0;34m:\u001b[0m\u001b[0;34m\u001b[0m\u001b[0;34m\u001b[0m\u001b[0m\n\u001b[0m\u001b[1;32m    405\u001b[0m             \u001b[0melbo_particle\u001b[0m \u001b[0;34m=\u001b[0m \u001b[0m_compute_dice_elbo\u001b[0m\u001b[0;34m(\u001b[0m\u001b[0mmodel_trace\u001b[0m\u001b[0;34m,\u001b[0m \u001b[0mguide_trace\u001b[0m\u001b[0;34m)\u001b[0m\u001b[0;34m\u001b[0m\u001b[0;34m\u001b[0m\u001b[0m\n\u001b[1;32m    406\u001b[0m             \u001b[0;32mif\u001b[0m \u001b[0mis_identically_zero\u001b[0m\u001b[0;34m(\u001b[0m\u001b[0melbo_particle\u001b[0m\u001b[0;34m)\u001b[0m\u001b[0;34m:\u001b[0m\u001b[0;34m\u001b[0m\u001b[0;34m\u001b[0m\u001b[0m\n",
      "\u001b[0;32m~/anaconda3/lib/python3.9/site-packages/pyro/infer/traceenum_elbo.py\u001b[0m in \u001b[0;36m_get_traces\u001b[0;34m(self, model, guide, args, kwargs)\u001b[0m\n\u001b[1;32m    392\u001b[0m             \u001b[0mq\u001b[0m\u001b[0;34m.\u001b[0m\u001b[0mput\u001b[0m\u001b[0;34m(\u001b[0m\u001b[0mpoutine\u001b[0m\u001b[0;34m.\u001b[0m\u001b[0mTrace\u001b[0m\u001b[0;34m(\u001b[0m\u001b[0;34m)\u001b[0m\u001b[0;34m)\u001b[0m\u001b[0;34m\u001b[0m\u001b[0;34m\u001b[0m\u001b[0m\n\u001b[1;32m    393\u001b[0m             \u001b[0;32mwhile\u001b[0m \u001b[0;32mnot\u001b[0m \u001b[0mq\u001b[0m\u001b[0;34m.\u001b[0m\u001b[0mempty\u001b[0m\u001b[0;34m(\u001b[0m\u001b[0;34m)\u001b[0m\u001b[0;34m:\u001b[0m\u001b[0;34m\u001b[0m\u001b[0;34m\u001b[0m\u001b[0m\n\u001b[0;32m--> 394\u001b[0;31m                 \u001b[0;32myield\u001b[0m \u001b[0mself\u001b[0m\u001b[0;34m.\u001b[0m\u001b[0m_get_trace\u001b[0m\u001b[0;34m(\u001b[0m\u001b[0mmodel\u001b[0m\u001b[0;34m,\u001b[0m \u001b[0mguide\u001b[0m\u001b[0;34m,\u001b[0m \u001b[0margs\u001b[0m\u001b[0;34m,\u001b[0m \u001b[0mkwargs\u001b[0m\u001b[0;34m)\u001b[0m\u001b[0;34m\u001b[0m\u001b[0;34m\u001b[0m\u001b[0m\n\u001b[0m\u001b[1;32m    395\u001b[0m \u001b[0;34m\u001b[0m\u001b[0m\n\u001b[1;32m    396\u001b[0m     \u001b[0;32mdef\u001b[0m \u001b[0mloss\u001b[0m\u001b[0;34m(\u001b[0m\u001b[0mself\u001b[0m\u001b[0;34m,\u001b[0m \u001b[0mmodel\u001b[0m\u001b[0;34m,\u001b[0m \u001b[0mguide\u001b[0m\u001b[0;34m,\u001b[0m \u001b[0;34m*\u001b[0m\u001b[0margs\u001b[0m\u001b[0;34m,\u001b[0m \u001b[0;34m**\u001b[0m\u001b[0mkwargs\u001b[0m\u001b[0;34m)\u001b[0m\u001b[0;34m:\u001b[0m\u001b[0;34m\u001b[0m\u001b[0;34m\u001b[0m\u001b[0m\n",
      "\u001b[0;32m~/anaconda3/lib/python3.9/site-packages/pyro/infer/traceenum_elbo.py\u001b[0m in \u001b[0;36m_get_trace\u001b[0;34m(self, model, guide, args, kwargs)\u001b[0m\n\u001b[1;32m    337\u001b[0m         \u001b[0magainst\u001b[0m \u001b[0mit\u001b[0m\u001b[0;34m.\u001b[0m\u001b[0;34m\u001b[0m\u001b[0;34m\u001b[0m\u001b[0m\n\u001b[1;32m    338\u001b[0m         \"\"\"\n\u001b[0;32m--> 339\u001b[0;31m         model_trace, guide_trace = get_importance_trace(\n\u001b[0m\u001b[1;32m    340\u001b[0m             \u001b[0;34m\"flat\"\u001b[0m\u001b[0;34m,\u001b[0m \u001b[0mself\u001b[0m\u001b[0;34m.\u001b[0m\u001b[0mmax_plate_nesting\u001b[0m\u001b[0;34m,\u001b[0m \u001b[0mmodel\u001b[0m\u001b[0;34m,\u001b[0m \u001b[0mguide\u001b[0m\u001b[0;34m,\u001b[0m \u001b[0margs\u001b[0m\u001b[0;34m,\u001b[0m \u001b[0mkwargs\u001b[0m\u001b[0;34m\u001b[0m\u001b[0;34m\u001b[0m\u001b[0m\n\u001b[1;32m    341\u001b[0m         )\n",
      "\u001b[0;32m~/anaconda3/lib/python3.9/site-packages/pyro/infer/enum.py\u001b[0m in \u001b[0;36mget_importance_trace\u001b[0;34m(graph_type, max_plate_nesting, model, guide, args, kwargs, detach)\u001b[0m\n\u001b[1;32m     63\u001b[0m         \u001b[0;32mif\u001b[0m \u001b[0mdetach\u001b[0m\u001b[0;34m:\u001b[0m\u001b[0;34m\u001b[0m\u001b[0;34m\u001b[0m\u001b[0m\n\u001b[1;32m     64\u001b[0m             \u001b[0mguide_trace\u001b[0m\u001b[0;34m.\u001b[0m\u001b[0mdetach_\u001b[0m\u001b[0;34m(\u001b[0m\u001b[0;34m)\u001b[0m\u001b[0;34m\u001b[0m\u001b[0;34m\u001b[0m\u001b[0m\n\u001b[0;32m---> 65\u001b[0;31m         model_trace = poutine.trace(\n\u001b[0m\u001b[1;32m     66\u001b[0m             \u001b[0mpoutine\u001b[0m\u001b[0;34m.\u001b[0m\u001b[0mreplay\u001b[0m\u001b[0;34m(\u001b[0m\u001b[0mmodel\u001b[0m\u001b[0;34m,\u001b[0m \u001b[0mtrace\u001b[0m\u001b[0;34m=\u001b[0m\u001b[0mguide_trace\u001b[0m\u001b[0;34m)\u001b[0m\u001b[0;34m,\u001b[0m \u001b[0mgraph_type\u001b[0m\u001b[0;34m=\u001b[0m\u001b[0mgraph_type\u001b[0m\u001b[0;34m\u001b[0m\u001b[0;34m\u001b[0m\u001b[0m\n\u001b[1;32m     67\u001b[0m         ).get_trace(*args, **kwargs)\n",
      "\u001b[0;32m~/anaconda3/lib/python3.9/site-packages/pyro/poutine/trace_messenger.py\u001b[0m in \u001b[0;36mget_trace\u001b[0;34m(self, *args, **kwargs)\u001b[0m\n\u001b[1;32m    196\u001b[0m         \u001b[0mCalls\u001b[0m \u001b[0mthis\u001b[0m \u001b[0mpoutine\u001b[0m \u001b[0;32mand\u001b[0m \u001b[0mreturns\u001b[0m \u001b[0mits\u001b[0m \u001b[0mtrace\u001b[0m \u001b[0minstead\u001b[0m \u001b[0mof\u001b[0m \u001b[0mthe\u001b[0m \u001b[0mfunction\u001b[0m\u001b[0;31m'\u001b[0m\u001b[0ms\u001b[0m \u001b[0;32mreturn\u001b[0m \u001b[0mvalue\u001b[0m\u001b[0;34m.\u001b[0m\u001b[0;34m\u001b[0m\u001b[0;34m\u001b[0m\u001b[0m\n\u001b[1;32m    197\u001b[0m         \"\"\"\n\u001b[0;32m--> 198\u001b[0;31m         \u001b[0mself\u001b[0m\u001b[0;34m(\u001b[0m\u001b[0;34m*\u001b[0m\u001b[0margs\u001b[0m\u001b[0;34m,\u001b[0m \u001b[0;34m**\u001b[0m\u001b[0mkwargs\u001b[0m\u001b[0;34m)\u001b[0m\u001b[0;34m\u001b[0m\u001b[0;34m\u001b[0m\u001b[0m\n\u001b[0m\u001b[1;32m    199\u001b[0m         \u001b[0;32mreturn\u001b[0m \u001b[0mself\u001b[0m\u001b[0;34m.\u001b[0m\u001b[0mmsngr\u001b[0m\u001b[0;34m.\u001b[0m\u001b[0mget_trace\u001b[0m\u001b[0;34m(\u001b[0m\u001b[0;34m)\u001b[0m\u001b[0;34m\u001b[0m\u001b[0;34m\u001b[0m\u001b[0m\n",
      "\u001b[0;32m~/anaconda3/lib/python3.9/site-packages/pyro/poutine/trace_messenger.py\u001b[0m in \u001b[0;36m__call__\u001b[0;34m(self, *args, **kwargs)\u001b[0m\n\u001b[1;32m    178\u001b[0m                 \u001b[0mexc\u001b[0m \u001b[0;34m=\u001b[0m \u001b[0mexc_type\u001b[0m\u001b[0;34m(\u001b[0m\u001b[0;34mu\"{}\\n{}\"\u001b[0m\u001b[0;34m.\u001b[0m\u001b[0mformat\u001b[0m\u001b[0;34m(\u001b[0m\u001b[0mexc_value\u001b[0m\u001b[0;34m,\u001b[0m \u001b[0mshapes\u001b[0m\u001b[0;34m)\u001b[0m\u001b[0;34m)\u001b[0m\u001b[0;34m\u001b[0m\u001b[0;34m\u001b[0m\u001b[0m\n\u001b[1;32m    179\u001b[0m                 \u001b[0mexc\u001b[0m \u001b[0;34m=\u001b[0m \u001b[0mexc\u001b[0m\u001b[0;34m.\u001b[0m\u001b[0mwith_traceback\u001b[0m\u001b[0;34m(\u001b[0m\u001b[0mtraceback\u001b[0m\u001b[0;34m)\u001b[0m\u001b[0;34m\u001b[0m\u001b[0;34m\u001b[0m\u001b[0m\n\u001b[0;32m--> 180\u001b[0;31m                 \u001b[0;32mraise\u001b[0m \u001b[0mexc\u001b[0m \u001b[0;32mfrom\u001b[0m \u001b[0me\u001b[0m\u001b[0;34m\u001b[0m\u001b[0;34m\u001b[0m\u001b[0m\n\u001b[0m\u001b[1;32m    181\u001b[0m             self.msngr.trace.add_node(\n\u001b[1;32m    182\u001b[0m                 \u001b[0;34m\"_RETURN\"\u001b[0m\u001b[0;34m,\u001b[0m \u001b[0mname\u001b[0m\u001b[0;34m=\u001b[0m\u001b[0;34m\"_RETURN\"\u001b[0m\u001b[0;34m,\u001b[0m \u001b[0mtype\u001b[0m\u001b[0;34m=\u001b[0m\u001b[0;34m\"return\"\u001b[0m\u001b[0;34m,\u001b[0m \u001b[0mvalue\u001b[0m\u001b[0;34m=\u001b[0m\u001b[0mret\u001b[0m\u001b[0;34m\u001b[0m\u001b[0;34m\u001b[0m\u001b[0m\n",
      "\u001b[0;32m~/anaconda3/lib/python3.9/site-packages/pyro/poutine/trace_messenger.py\u001b[0m in \u001b[0;36m__call__\u001b[0;34m(self, *args, **kwargs)\u001b[0m\n\u001b[1;32m    172\u001b[0m             )\n\u001b[1;32m    173\u001b[0m             \u001b[0;32mtry\u001b[0m\u001b[0;34m:\u001b[0m\u001b[0;34m\u001b[0m\u001b[0;34m\u001b[0m\u001b[0m\n\u001b[0;32m--> 174\u001b[0;31m                 \u001b[0mret\u001b[0m \u001b[0;34m=\u001b[0m \u001b[0mself\u001b[0m\u001b[0;34m.\u001b[0m\u001b[0mfn\u001b[0m\u001b[0;34m(\u001b[0m\u001b[0;34m*\u001b[0m\u001b[0margs\u001b[0m\u001b[0;34m,\u001b[0m \u001b[0;34m**\u001b[0m\u001b[0mkwargs\u001b[0m\u001b[0;34m)\u001b[0m\u001b[0;34m\u001b[0m\u001b[0;34m\u001b[0m\u001b[0m\n\u001b[0m\u001b[1;32m    175\u001b[0m             \u001b[0;32mexcept\u001b[0m \u001b[0;34m(\u001b[0m\u001b[0mValueError\u001b[0m\u001b[0;34m,\u001b[0m \u001b[0mRuntimeError\u001b[0m\u001b[0;34m)\u001b[0m \u001b[0;32mas\u001b[0m \u001b[0me\u001b[0m\u001b[0;34m:\u001b[0m\u001b[0;34m\u001b[0m\u001b[0;34m\u001b[0m\u001b[0m\n\u001b[1;32m    176\u001b[0m                 \u001b[0mexc_type\u001b[0m\u001b[0;34m,\u001b[0m \u001b[0mexc_value\u001b[0m\u001b[0;34m,\u001b[0m \u001b[0mtraceback\u001b[0m \u001b[0;34m=\u001b[0m \u001b[0msys\u001b[0m\u001b[0;34m.\u001b[0m\u001b[0mexc_info\u001b[0m\u001b[0;34m(\u001b[0m\u001b[0;34m)\u001b[0m\u001b[0;34m\u001b[0m\u001b[0;34m\u001b[0m\u001b[0m\n",
      "\u001b[0;32m~/anaconda3/lib/python3.9/site-packages/pyro/poutine/messenger.py\u001b[0m in \u001b[0;36m_context_wrap\u001b[0;34m(context, fn, *args, **kwargs)\u001b[0m\n\u001b[1;32m     10\u001b[0m \u001b[0;32mdef\u001b[0m \u001b[0m_context_wrap\u001b[0m\u001b[0;34m(\u001b[0m\u001b[0mcontext\u001b[0m\u001b[0;34m,\u001b[0m \u001b[0mfn\u001b[0m\u001b[0;34m,\u001b[0m \u001b[0;34m*\u001b[0m\u001b[0margs\u001b[0m\u001b[0;34m,\u001b[0m \u001b[0;34m**\u001b[0m\u001b[0mkwargs\u001b[0m\u001b[0;34m)\u001b[0m\u001b[0;34m:\u001b[0m\u001b[0;34m\u001b[0m\u001b[0;34m\u001b[0m\u001b[0m\n\u001b[1;32m     11\u001b[0m     \u001b[0;32mwith\u001b[0m \u001b[0mcontext\u001b[0m\u001b[0;34m:\u001b[0m\u001b[0;34m\u001b[0m\u001b[0;34m\u001b[0m\u001b[0m\n\u001b[0;32m---> 12\u001b[0;31m         \u001b[0;32mreturn\u001b[0m \u001b[0mfn\u001b[0m\u001b[0;34m(\u001b[0m\u001b[0;34m*\u001b[0m\u001b[0margs\u001b[0m\u001b[0;34m,\u001b[0m \u001b[0;34m**\u001b[0m\u001b[0mkwargs\u001b[0m\u001b[0;34m)\u001b[0m\u001b[0;34m\u001b[0m\u001b[0;34m\u001b[0m\u001b[0m\n\u001b[0m\u001b[1;32m     13\u001b[0m \u001b[0;34m\u001b[0m\u001b[0m\n\u001b[1;32m     14\u001b[0m \u001b[0;34m\u001b[0m\u001b[0m\n",
      "\u001b[0;32m~/anaconda3/lib/python3.9/site-packages/pyro/poutine/messenger.py\u001b[0m in \u001b[0;36m_context_wrap\u001b[0;34m(context, fn, *args, **kwargs)\u001b[0m\n\u001b[1;32m     10\u001b[0m \u001b[0;32mdef\u001b[0m \u001b[0m_context_wrap\u001b[0m\u001b[0;34m(\u001b[0m\u001b[0mcontext\u001b[0m\u001b[0;34m,\u001b[0m \u001b[0mfn\u001b[0m\u001b[0;34m,\u001b[0m \u001b[0;34m*\u001b[0m\u001b[0margs\u001b[0m\u001b[0;34m,\u001b[0m \u001b[0;34m**\u001b[0m\u001b[0mkwargs\u001b[0m\u001b[0;34m)\u001b[0m\u001b[0;34m:\u001b[0m\u001b[0;34m\u001b[0m\u001b[0;34m\u001b[0m\u001b[0m\n\u001b[1;32m     11\u001b[0m     \u001b[0;32mwith\u001b[0m \u001b[0mcontext\u001b[0m\u001b[0;34m:\u001b[0m\u001b[0;34m\u001b[0m\u001b[0;34m\u001b[0m\u001b[0m\n\u001b[0;32m---> 12\u001b[0;31m         \u001b[0;32mreturn\u001b[0m \u001b[0mfn\u001b[0m\u001b[0;34m(\u001b[0m\u001b[0;34m*\u001b[0m\u001b[0margs\u001b[0m\u001b[0;34m,\u001b[0m \u001b[0;34m**\u001b[0m\u001b[0mkwargs\u001b[0m\u001b[0;34m)\u001b[0m\u001b[0;34m\u001b[0m\u001b[0;34m\u001b[0m\u001b[0m\n\u001b[0m\u001b[1;32m     13\u001b[0m \u001b[0;34m\u001b[0m\u001b[0m\n\u001b[1;32m     14\u001b[0m \u001b[0;34m\u001b[0m\u001b[0m\n",
      "\u001b[0;32m/tmp/ipykernel_62/3492871785.py\u001b[0m in \u001b[0;36mlotka_volterra_0\u001b[0;34m(sequences)\u001b[0m\n\u001b[1;32m     18\u001b[0m             x = pyro.sample(\n\u001b[1;32m     19\u001b[0m                         \u001b[0;34m\"x_{}_{}\"\u001b[0m\u001b[0;34m.\u001b[0m\u001b[0mformat\u001b[0m\u001b[0;34m(\u001b[0m\u001b[0mt\u001b[0m\u001b[0;34m,\u001b[0m \u001b[0mi\u001b[0m\u001b[0;34m)\u001b[0m\u001b[0;34m,\u001b[0m\u001b[0;34m\u001b[0m\u001b[0;34m\u001b[0m\u001b[0m\n\u001b[0;32m---> 20\u001b[0;31m                         pyro.distributions.Categorical(torch.tensor([rates[0] * s_start[0], \n\u001b[0m\u001b[1;32m     21\u001b[0m                                                                    \u001b[0mrates\u001b[0m\u001b[0;34m[\u001b[0m\u001b[0;36m1\u001b[0m\u001b[0;34m]\u001b[0m \u001b[0;34m*\u001b[0m \u001b[0ms_start\u001b[0m\u001b[0;34m[\u001b[0m\u001b[0;36m0\u001b[0m\u001b[0;34m]\u001b[0m \u001b[0;34m*\u001b[0m \u001b[0ms_start\u001b[0m\u001b[0;34m[\u001b[0m\u001b[0;36m1\u001b[0m\u001b[0;34m]\u001b[0m\u001b[0;34m,\u001b[0m\u001b[0;34m\u001b[0m\u001b[0;34m\u001b[0m\u001b[0m\n\u001b[1;32m     22\u001b[0m                                                                    rates[2] * s_start[1]])),\n",
      "\u001b[0;31mValueError\u001b[0m: only one element tensors can be converted to Python scalars\n Trace Shapes:               \n  Param Sites:               \n Sample Sites:               \n   sample dist            |  \n         value          2 |  \nsequences dist            |  \n         value         20 |  \n    x_0_0 dist            |  \n         value   3 1 1  1 |  \n    y_0_0 dist 3 1 1 1  2 |  \n         value 3 1 1 1  2 |  \n    d_0_0 dist   3 1 1  1 | 2\n         value   3 1 1  1 | 2"
     ]
    }
   ],
   "source": [
    "rate_results = infer_rates(lotka_volterra_0, temp, learning_rate=.0001, num_steps = 1000)"
   ]
  },
  {
   "cell_type": "code",
   "execution_count": 12,
   "id": "29843e21-39c3-430e-8281-ff5fe184307f",
   "metadata": {},
   "outputs": [
    {
     "data": {
      "text/plain": [
       "<matplotlib.legend.Legend at 0x7ffa331fd2b0>"
      ]
     },
     "execution_count": 12,
     "metadata": {},
     "output_type": "execute_result"
    },
    {
     "data": {
      "image/png": "[encoded data removed]",
      "text/plain": [
       "<Figure size 576x432 with 1 Axes>"
      ]
     },
     "metadata": {
      "needs_background": "light"
     },
     "output_type": "display_data"
    }
   ],
   "source": [
    "fig, ax = plt.subplots(figsize = (8,6))\n",
    "\n",
    "ax.plot(np.arange(0,1000), rate_results[:, 0], color = \"red\", label = \"r1\")\n",
    "ax.plot(np.arange(0,1000), rate_results[:, 1], color = \"blue\", label = \"r2\")\n",
    "ax.plot(np.arange(0,1000), rate_results[:, 2], color = \"green\", label = \"r3\")\n",
    "\n",
    "ax.hlines(y = .7, xmin = 0, xmax = 1000, color = \"darkred\")\n",
    "ax.hlines(y = .3, xmin = 0, xmax = 1000,color = \"navy\")\n",
    "ax.hlines(y = .9, xmin = 0, xmax = 1000,color = \"darkgreen\")\n",
    "\n",
    "plt.legend()"
   ]
  },
  {
   "cell_type": "markdown",
   "id": "64c6ec0a-af1b-406a-998b-ea71d7e43cdc",
   "metadata": {
    "jp-MarkdownHeadingCollapsed": true,
    "tags": []
   },
   "source": [
    "## Workable examples"
   ]
  },
  {
   "cell_type": "code",
   "execution_count": 62,
   "id": "c4ee3e97-d416-4e9e-b635-ca4cbcd97903",
   "metadata": {
    "collapsed": true,
    "jupyter": {
     "outputs_hidden": true
    },
    "tags": []
   },
   "outputs": [
    {
     "name": "stdout",
     "output_type": "stream",
     "text": [
      "Loss: 100227360.0\n",
      "AutoDelta.rates:\n",
      "tensor([0.8635, 0.2920, 0.8685], grad_fn=<AddBackward0>)\n",
      "\n",
      "Loss: 100227360.0\n",
      "AutoDelta.rates:\n",
      "tensor([0.8550, 0.2891, 0.8772], grad_fn=<AddBackward0>)\n",
      "\n",
      "Loss: 100227352.0\n",
      "AutoDelta.rates:\n",
      "tensor([0.8468, 0.2863, 0.8858], grad_fn=<AddBackward0>)\n",
      "\n",
      "Loss: 100227360.0\n",
      "AutoDelta.rates:\n",
      "tensor([0.8388, 0.2835, 0.8943], grad_fn=<AddBackward0>)\n",
      "\n",
      "Loss: 100227352.0\n",
      "AutoDelta.rates:\n",
      "tensor([0.8311, 0.2809, 0.9029], grad_fn=<AddBackward0>)\n",
      "\n",
      "Loss: 100227352.0\n",
      "AutoDelta.rates:\n",
      "tensor([0.8237, 0.2783, 0.9113], grad_fn=<AddBackward0>)\n",
      "\n",
      "Loss: 100227344.0\n",
      "AutoDelta.rates:\n",
      "tensor([0.8166, 0.2757, 0.9197], grad_fn=<AddBackward0>)\n",
      "\n",
      "Loss: 100227344.0\n",
      "AutoDelta.rates:\n",
      "tensor([0.8097, 0.2733, 0.9280], grad_fn=<AddBackward0>)\n",
      "\n",
      "Loss: 100227344.0\n",
      "AutoDelta.rates:\n",
      "tensor([0.8031, 0.2709, 0.9362], grad_fn=<AddBackward0>)\n",
      "\n",
      "Loss: 100227336.0\n",
      "AutoDelta.rates:\n",
      "tensor([0.7967, 0.2685, 0.9444], grad_fn=<AddBackward0>)\n",
      "\n",
      "Loss: 100227344.0\n",
      "AutoDelta.rates:\n",
      "tensor([0.7905, 0.2663, 0.9525], grad_fn=<AddBackward0>)\n",
      "\n",
      "Loss: 100227344.0\n",
      "AutoDelta.rates:\n",
      "tensor([0.7847, 0.2640, 0.9606], grad_fn=<AddBackward0>)\n",
      "\n",
      "Loss: 100227344.0\n",
      "AutoDelta.rates:\n",
      "tensor([0.7790, 0.2619, 0.9686], grad_fn=<AddBackward0>)\n",
      "\n",
      "Loss: 100227344.0\n",
      "AutoDelta.rates:\n",
      "tensor([0.7736, 0.2598, 0.9765], grad_fn=<AddBackward0>)\n",
      "\n",
      "Loss: 100227336.0\n",
      "AutoDelta.rates:\n",
      "tensor([0.7684, 0.2577, 0.9843], grad_fn=<AddBackward0>)\n",
      "\n",
      "Loss: 100227336.0\n",
      "AutoDelta.rates:\n",
      "tensor([0.7635, 0.2558, 0.9921], grad_fn=<AddBackward0>)\n",
      "\n",
      "Loss: 100227336.0\n",
      "AutoDelta.rates:\n",
      "tensor([0.7588, 0.2538, 0.9997], grad_fn=<AddBackward0>)\n",
      "\n",
      "Loss: 100227336.0\n",
      "AutoDelta.rates:\n",
      "tensor([0.7544, 0.2520, 1.0073], grad_fn=<AddBackward0>)\n",
      "\n",
      "Loss: 100227336.0\n",
      "AutoDelta.rates:\n",
      "tensor([0.7502, 0.2501, 1.0148], grad_fn=<AddBackward0>)\n",
      "\n",
      "Loss: 100227336.0\n",
      "AutoDelta.rates:\n",
      "tensor([0.7462, 0.2484, 1.0222], grad_fn=<AddBackward0>)\n",
      "\n",
      "Loss: 100227336.0\n",
      "AutoDelta.rates:\n",
      "tensor([0.7425, 0.2467, 1.0296], grad_fn=<AddBackward0>)\n",
      "\n",
      "Loss: 100227336.0\n",
      "AutoDelta.rates:\n",
      "tensor([0.7390, 0.2450, 1.0368], grad_fn=<AddBackward0>)\n",
      "\n",
      "Loss: 100227336.0\n",
      "AutoDelta.rates:\n",
      "tensor([0.7358, 0.2434, 1.0440], grad_fn=<AddBackward0>)\n",
      "\n",
      "Loss: 100227328.0\n",
      "AutoDelta.rates:\n",
      "tensor([0.7328, 0.2419, 1.0510], grad_fn=<AddBackward0>)\n",
      "\n",
      "Loss: 100227328.0\n",
      "AutoDelta.rates:\n",
      "tensor([0.7301, 0.2404, 1.0580], grad_fn=<AddBackward0>)\n",
      "\n",
      "Loss: 100227328.0\n",
      "AutoDelta.rates:\n",
      "tensor([0.7276, 0.2389, 1.0649], grad_fn=<AddBackward0>)\n",
      "\n",
      "Loss: 100227328.0\n",
      "AutoDelta.rates:\n",
      "tensor([0.7254, 0.2375, 1.0716], grad_fn=<AddBackward0>)\n",
      "\n",
      "Loss: 100227328.0\n",
      "AutoDelta.rates:\n",
      "tensor([0.7235, 0.2362, 1.0783], grad_fn=<AddBackward0>)\n",
      "\n",
      "Loss: 100227328.0\n",
      "AutoDelta.rates:\n",
      "tensor([0.7217, 0.2349, 1.0848], grad_fn=<AddBackward0>)\n",
      "\n",
      "Loss: 100227328.0\n",
      "AutoDelta.rates:\n",
      "tensor([0.7203, 0.2337, 1.0913], grad_fn=<AddBackward0>)\n",
      "\n",
      "Loss: 100227328.0\n",
      "AutoDelta.rates:\n",
      "tensor([0.7190, 0.2325, 1.0976], grad_fn=<AddBackward0>)\n",
      "\n",
      "Loss: 100227328.0\n",
      "AutoDelta.rates:\n",
      "tensor([0.7181, 0.2314, 1.1039], grad_fn=<AddBackward0>)\n",
      "\n",
      "Loss: 100227328.0\n",
      "AutoDelta.rates:\n",
      "tensor([0.7173, 0.2303, 1.1100], grad_fn=<AddBackward0>)\n",
      "\n",
      "Loss: 100227328.0\n",
      "AutoDelta.rates:\n",
      "tensor([0.7168, 0.2293, 1.1160], grad_fn=<AddBackward0>)\n",
      "\n",
      "Loss: 100227328.0\n",
      "AutoDelta.rates:\n",
      "tensor([0.7165, 0.2284, 1.1219], grad_fn=<AddBackward0>)\n",
      "\n",
      "Loss: 100227328.0\n",
      "AutoDelta.rates:\n",
      "tensor([0.7164, 0.2275, 1.1277], grad_fn=<AddBackward0>)\n",
      "\n",
      "Loss: 100227328.0\n",
      "AutoDelta.rates:\n",
      "tensor([0.7165, 0.2267, 1.1333], grad_fn=<AddBackward0>)\n",
      "\n",
      "Loss: 100227328.0\n",
      "AutoDelta.rates:\n",
      "tensor([0.7167, 0.2259, 1.1389], grad_fn=<AddBackward0>)\n",
      "\n",
      "Loss: 100227328.0\n",
      "AutoDelta.rates:\n",
      "tensor([0.7172, 0.2252, 1.1443], grad_fn=<AddBackward0>)\n",
      "\n",
      "Loss: 100227328.0\n",
      "AutoDelta.rates:\n",
      "tensor([0.7178, 0.2246, 1.1496], grad_fn=<AddBackward0>)\n",
      "\n",
      "Loss: 100227328.0\n",
      "AutoDelta.rates:\n",
      "tensor([0.7185, 0.2240, 1.1548], grad_fn=<AddBackward0>)\n",
      "\n",
      "Loss: 100227328.0\n",
      "AutoDelta.rates:\n",
      "tensor([0.7193, 0.2234, 1.1599], grad_fn=<AddBackward0>)\n",
      "\n",
      "Loss: 100227328.0\n",
      "AutoDelta.rates:\n",
      "tensor([0.7202, 0.2230, 1.1648], grad_fn=<AddBackward0>)\n",
      "\n",
      "Loss: 100227328.0\n",
      "AutoDelta.rates:\n",
      "tensor([0.7212, 0.2225, 1.1696], grad_fn=<AddBackward0>)\n",
      "\n",
      "Loss: 100227328.0\n",
      "AutoDelta.rates:\n",
      "tensor([0.7223, 0.2222, 1.1743], grad_fn=<AddBackward0>)\n",
      "\n",
      "Loss: 100227328.0\n",
      "AutoDelta.rates:\n",
      "tensor([0.7234, 0.2219, 1.1788], grad_fn=<AddBackward0>)\n",
      "\n",
      "Loss: 100227328.0\n",
      "AutoDelta.rates:\n",
      "tensor([0.7245, 0.2216, 1.1832], grad_fn=<AddBackward0>)\n",
      "\n",
      "Loss: 100227328.0\n",
      "AutoDelta.rates:\n",
      "tensor([0.7257, 0.2214, 1.1875], grad_fn=<AddBackward0>)\n",
      "\n",
      "Loss: 100227328.0\n",
      "AutoDelta.rates:\n",
      "tensor([0.7269, 0.2213, 1.1916], grad_fn=<AddBackward0>)\n",
      "\n",
      "Loss: 100227328.0\n",
      "AutoDelta.rates:\n",
      "tensor([0.7280, 0.2211, 1.1956], grad_fn=<AddBackward0>)\n",
      "\n",
      "Loss: 100227328.0\n",
      "AutoDelta.rates:\n",
      "tensor([0.7292, 0.2211, 1.1994], grad_fn=<AddBackward0>)\n",
      "\n",
      "Loss: 100227328.0\n",
      "AutoDelta.rates:\n",
      "tensor([0.7303, 0.2210, 1.2031], grad_fn=<AddBackward0>)\n",
      "\n",
      "Loss: 100227328.0\n",
      "AutoDelta.rates:\n",
      "tensor([0.7314, 0.2210, 1.2066], grad_fn=<AddBackward0>)\n",
      "\n",
      "Loss: 100227328.0\n",
      "AutoDelta.rates:\n",
      "tensor([0.7325, 0.2210, 1.2100], grad_fn=<AddBackward0>)\n",
      "\n",
      "Loss: 100227328.0\n",
      "AutoDelta.rates:\n",
      "tensor([0.7335, 0.2211, 1.2132], grad_fn=<AddBackward0>)\n",
      "\n",
      "Loss: 100227328.0\n",
      "AutoDelta.rates:\n",
      "tensor([0.7345, 0.2211, 1.2162], grad_fn=<AddBackward0>)\n",
      "\n",
      "Loss: 100227328.0\n",
      "AutoDelta.rates:\n",
      "tensor([0.7354, 0.2212, 1.2190], grad_fn=<AddBackward0>)\n",
      "\n",
      "Loss: 100227328.0\n",
      "AutoDelta.rates:\n",
      "tensor([0.7363, 0.2213, 1.2217], grad_fn=<AddBackward0>)\n",
      "\n",
      "Loss: 100227328.0\n",
      "AutoDelta.rates:\n",
      "tensor([0.7371, 0.2214, 1.2242], grad_fn=<AddBackward0>)\n",
      "\n",
      "Loss: 100227328.0\n",
      "AutoDelta.rates:\n",
      "tensor([0.7379, 0.2215, 1.2265], grad_fn=<AddBackward0>)\n",
      "\n",
      "Loss: 100227328.0\n",
      "AutoDelta.rates:\n",
      "tensor([0.7386, 0.2216, 1.2287], grad_fn=<AddBackward0>)\n",
      "\n",
      "Loss: 100227328.0\n",
      "AutoDelta.rates:\n",
      "tensor([0.7393, 0.2217, 1.2306], grad_fn=<AddBackward0>)\n",
      "\n",
      "Loss: 100227328.0\n",
      "AutoDelta.rates:\n",
      "tensor([0.7399, 0.2218, 1.2324], grad_fn=<AddBackward0>)\n",
      "\n",
      "Loss: 100227328.0\n",
      "AutoDelta.rates:\n",
      "tensor([0.7404, 0.2219, 1.2341], grad_fn=<AddBackward0>)\n",
      "\n",
      "Loss: 100227328.0\n",
      "AutoDelta.rates:\n",
      "tensor([0.7409, 0.2220, 1.2356], grad_fn=<AddBackward0>)\n",
      "\n",
      "Loss: 100227328.0\n",
      "AutoDelta.rates:\n",
      "tensor([0.7414, 0.2220, 1.2369], grad_fn=<AddBackward0>)\n",
      "\n",
      "Loss: 100227328.0\n",
      "AutoDelta.rates:\n",
      "tensor([0.7417, 0.2221, 1.2381], grad_fn=<AddBackward0>)\n",
      "\n",
      "Loss: 100227328.0\n",
      "AutoDelta.rates:\n",
      "tensor([0.7421, 0.2222, 1.2391], grad_fn=<AddBackward0>)\n",
      "\n",
      "Loss: 100227328.0\n",
      "AutoDelta.rates:\n",
      "tensor([0.7424, 0.2222, 1.2400], grad_fn=<AddBackward0>)\n",
      "\n",
      "Loss: 100227328.0\n",
      "AutoDelta.rates:\n",
      "tensor([0.7427, 0.2223, 1.2408], grad_fn=<AddBackward0>)\n",
      "\n",
      "Loss: 100227328.0\n",
      "AutoDelta.rates:\n",
      "tensor([0.7429, 0.2223, 1.2415], grad_fn=<AddBackward0>)\n",
      "\n",
      "Loss: 100227328.0\n",
      "AutoDelta.rates:\n",
      "tensor([0.7431, 0.2224, 1.2420], grad_fn=<AddBackward0>)\n",
      "\n",
      "Loss: 100227328.0\n",
      "AutoDelta.rates:\n",
      "tensor([0.7432, 0.2224, 1.2425], grad_fn=<AddBackward0>)\n",
      "\n",
      "Loss: 100227328.0\n",
      "AutoDelta.rates:\n",
      "tensor([0.7434, 0.2224, 1.2429], grad_fn=<AddBackward0>)\n",
      "\n",
      "Loss: 100227328.0\n",
      "AutoDelta.rates:\n",
      "tensor([0.7435, 0.2225, 1.2432], grad_fn=<AddBackward0>)\n",
      "\n",
      "Loss: 100227328.0\n",
      "AutoDelta.rates:\n",
      "tensor([0.7436, 0.2225, 1.2435], grad_fn=<AddBackward0>)\n",
      "\n",
      "Loss: 100227328.0\n",
      "AutoDelta.rates:\n",
      "tensor([0.7436, 0.2225, 1.2437], grad_fn=<AddBackward0>)\n",
      "\n",
      "Loss: 100227328.0\n",
      "AutoDelta.rates:\n",
      "tensor([0.7437, 0.2225, 1.2438], grad_fn=<AddBackward0>)\n",
      "\n",
      "Loss: 100227328.0\n",
      "AutoDelta.rates:\n",
      "tensor([0.7437, 0.2225, 1.2440], grad_fn=<AddBackward0>)\n",
      "\n",
      "Loss: 100227328.0\n",
      "AutoDelta.rates:\n",
      "tensor([0.7438, 0.2225, 1.2441], grad_fn=<AddBackward0>)\n",
      "\n",
      "Loss: 100227328.0\n",
      "AutoDelta.rates:\n",
      "tensor([0.7438, 0.2225, 1.2441], grad_fn=<AddBackward0>)\n",
      "\n",
      "Loss: 100227328.0\n",
      "AutoDelta.rates:\n",
      "tensor([0.7438, 0.2225, 1.2442], grad_fn=<AddBackward0>)\n",
      "\n",
      "Loss: 100227328.0\n",
      "AutoDelta.rates:\n",
      "tensor([0.7438, 0.2225, 1.2442], grad_fn=<AddBackward0>)\n",
      "\n",
      "Loss: 100227328.0\n",
      "AutoDelta.rates:\n",
      "tensor([0.7438, 0.2225, 1.2442], grad_fn=<AddBackward0>)\n",
      "\n",
      "Loss: 100227328.0\n",
      "AutoDelta.rates:\n",
      "tensor([0.7438, 0.2225, 1.2443], grad_fn=<AddBackward0>)\n",
      "\n",
      "Loss: 100227328.0\n",
      "AutoDelta.rates:\n",
      "tensor([0.7438, 0.2225, 1.2443], grad_fn=<AddBackward0>)\n",
      "\n",
      "Loss: 100227328.0\n",
      "AutoDelta.rates:\n",
      "tensor([0.7438, 0.2225, 1.2443], grad_fn=<AddBackward0>)\n",
      "\n",
      "Loss: 100227328.0\n",
      "AutoDelta.rates:\n",
      "tensor([0.7438, 0.2225, 1.2443], grad_fn=<AddBackward0>)\n",
      "\n",
      "Loss: 100227328.0\n",
      "AutoDelta.rates:\n",
      "tensor([0.7438, 0.2225, 1.2443], grad_fn=<AddBackward0>)\n",
      "\n",
      "Loss: 100227328.0\n",
      "AutoDelta.rates:\n",
      "tensor([0.7438, 0.2225, 1.2443], grad_fn=<AddBackward0>)\n",
      "\n",
      "Loss: 100227328.0\n",
      "AutoDelta.rates:\n",
      "tensor([0.7438, 0.2225, 1.2443], grad_fn=<AddBackward0>)\n",
      "\n",
      "Loss: 100227328.0\n",
      "AutoDelta.rates:\n",
      "tensor([0.7438, 0.2225, 1.2443], grad_fn=<AddBackward0>)\n",
      "\n",
      "Loss: 100227328.0\n",
      "AutoDelta.rates:\n",
      "tensor([0.7438, 0.2225, 1.2443], grad_fn=<AddBackward0>)\n",
      "\n",
      "Loss: 100227328.0\n",
      "AutoDelta.rates:\n",
      "tensor([0.7438, 0.2225, 1.2443], grad_fn=<AddBackward0>)\n",
      "\n",
      "Loss: 100227328.0\n",
      "AutoDelta.rates:\n",
      "tensor([0.7438, 0.2225, 1.2443], grad_fn=<AddBackward0>)\n",
      "\n",
      "Loss: 100227328.0\n",
      "AutoDelta.rates:\n",
      "tensor([0.7438, 0.2225, 1.2443], grad_fn=<AddBackward0>)\n",
      "\n",
      "Loss: 100227328.0\n",
      "AutoDelta.rates:\n",
      "tensor([0.7438, 0.2225, 1.2443], grad_fn=<AddBackward0>)\n",
      "\n",
      "Loss: 100227328.0\n",
      "AutoDelta.rates:\n",
      "tensor([0.7438, 0.2225, 1.2443], grad_fn=<AddBackward0>)\n",
      "\n",
      "Loss: 100227328.0\n",
      "AutoDelta.rates:\n",
      "tensor([0.7438, 0.2225, 1.2443], grad_fn=<AddBackward0>)\n",
      "\n",
      "Loss: 100227328.0\n",
      "AutoDelta.rates:\n",
      "tensor([0.7438, 0.2225, 1.2443], grad_fn=<AddBackward0>)\n",
      "\n"
     ]
    }
   ],
   "source": [
    "import torch\n",
    "import pyro\n",
    "\n",
    "# data = torch.tensor([[[10.9915,  9.9980, 10.0029],\n",
    "#          [10.9792, 10.0190, 11.0013],\n",
    "#          [11.9798, 10.0281, 10.9844],\n",
    "#          [11.9864, 10.0178, 11.9636],\n",
    "#          [11.9791, 10.0111, 12.9479],\n",
    "#          [12.9784,  9.9971, 12.9429],\n",
    "#          [12.9844,  9.9968, 13.9576],\n",
    "#          [13.9950,  9.9862, 13.9662],\n",
    "#          [13.9851,  9.9806, 14.9800]],\n",
    "\n",
    "#         [[10.9924, 10.0120,  9.9946],\n",
    "#          [10.9949, 11.0098,  9.9916],\n",
    "#          [12.0087, 11.0148, 10.0069],\n",
    "#          [12.0109, 11.0124, 11.0090],\n",
    "#          [12.0299, 12.0056, 11.0012],\n",
    "#          [12.0322, 12.9978, 11.0013],\n",
    "#          [12.0273, 13.9908, 11.0110],\n",
    "#          [12.0199, 13.9760, 12.0274],\n",
    "#          [13.0021, 13.9667, 12.0194]],\n",
    "\n",
    "#         [[10.0110,  9.9978, 11.0101],\n",
    "#          [11.0041,  9.9873, 11.0155],\n",
    "#          [10.9992,  9.9824, 12.0085],\n",
    "#          [12.0218,  9.9913, 11.9981],\n",
    "#          [12.0341,  9.9903, 12.9941],\n",
    "#          [13.0320,  9.9898, 12.9641],\n",
    "#          [13.0294,  9.9919, 13.9693],\n",
    "#          [14.0283,  9.9874, 13.9610],\n",
    "#          [14.0334,  9.9912, 14.9647]],\n",
    "\n",
    "#         [[10.9901, 10.0050,  9.9998],\n",
    "#          [11.9909, 10.0130, 10.0088],\n",
    "#          [13.0000, 10.0105,  9.9982],\n",
    "#          [14.0220, 10.0119,  9.9914],\n",
    "#          [14.0181, 10.0044, 10.9915],\n",
    "#          [15.0204,  9.9897, 10.9864],\n",
    "#          [15.0125,  9.9888, 11.9793],\n",
    "#          [15.0039,  9.9820, 12.9838],\n",
    "#          [16.0207,  9.9937, 12.9904]],\n",
    "\n",
    "#         [[10.9960, 10.0221, 10.0036],\n",
    "#          [11.9814, 10.0106, 10.0011],\n",
    "#          [11.9768, 10.9957,  9.9973],\n",
    "#          [11.9831, 10.9929, 10.9996],\n",
    "#          [11.9816, 10.9941, 11.9998],\n",
    "#          [11.9728, 11.9895, 11.9986],\n",
    "#          [11.9643, 12.9964, 12.0039],\n",
    "#          [12.9711, 13.0104, 11.9892],\n",
    "#          [12.9613, 13.0284, 13.0069]]])\n",
    "\n",
    "\n",
    "def model_1(data, batch_size=None):\n",
    "    \n",
    "    num_sequences, max_length, data_dim = data.shape\n",
    "    # r1 = pyro.sample(\n",
    "    #     \"r1\",\n",
    "    #     pyro.distributions.Normal(torch.tensor(.6), .1).to_event(1),\n",
    "    # )\n",
    "    # r2 = pyro.sample(\n",
    "    #     \"r2\",\n",
    "    #     pyro.distributions.Normal(torch.tensor(.3), .1).to_event(1),\n",
    "    # )\n",
    "    # r3 = pyro.sample(\n",
    "    #     \"r3\",\n",
    "    #     pyro.distributions.Normal(torch.tensor(.9), .1).to_event(1),\n",
    "    # )\n",
    "\n",
    "    ## Rate priors\n",
    "    rates = pyro.sample(\n",
    "        \"rates\",\n",
    "        pyro.distributions.LogNormal(torch.tensor([-.15, -1.25, -.15]), .1).to_event(1),\n",
    "    )\n",
    "    # rates = torch.tensor([r1, r2, r3])\n",
    "    ## Starting points\n",
    "    s_start = torch.tensor([10., 10., 10.])\n",
    "    \n",
    "    sample_plate = pyro.plate(\"sample\", data_dim, dim=-1)\n",
    "    with pyro.plate(\"sequences\", num_sequences, batch_size, dim=-2) as batch:\n",
    "\n",
    "        for t in pyro.markov(range(max_length)):\n",
    "\n",
    "            x = pyro.sample(\n",
    "                    \"x_{}\".format(t),\n",
    "                    pyro.distributions.Categorical(rates),\n",
    "                    infer={\"enumerate\": \"parallel\"},\n",
    "                )\n",
    "\n",
    "            ## Define update matrix\n",
    "            update = torch.zeros(tuple(torch.cat((torch.tensor(x.shape[:-1]), torch.tensor([3])))))\n",
    "            \n",
    "            ## Update first run without enumeration\n",
    "            if len(x.shape) == 2:\n",
    "                update[torch.arange(len(update)), torch.flatten(x).long()] = 1.\n",
    "            ## Update second run with enumeration. Cycles between 4 and 5 dimension tensor\n",
    "            elif len(x.shape) == 4:\n",
    "                update[torch.arange(len(update)), 0, 0,torch.flatten(x).long()] = 1.\n",
    "            else:\n",
    "                update[torch.arange(len(update)), 0, 0,0,torch.flatten(x).long()] = 1.\n",
    "            \n",
    "            ## Ensure `s_start` shape matches `update` matrix dimension.\n",
    "            ## Enumeration run cycles between 4 and 5 dimensions, \n",
    "            ## `s_start` changes dimensions when combined.\n",
    "            if s_start.shape != torch.Size([3]):\n",
    "                s_start = s_start.reshape(update.shape)\n",
    "\n",
    "            with sample_plate:\n",
    "                sample = pyro.sample(\n",
    "                    \"y_{}\".format(t),\n",
    "                    pyro.distributions.Normal(s_start + update, .01),\n",
    "                    obs=data[batch, t]\n",
    "                )\n",
    "            \n",
    "            ## Update s_start for next step\n",
    "            s_start = pyro.deterministic(\"d_{}\".format(t), s_start + update)\n",
    "            \n",
    "\n",
    "hmm_guide = pyro.infer.autoguide.AutoDelta(pyro.poutine.block(model_1, expose=[\"rates\"]))\n",
    "pyro.clear_param_store()\n",
    "elbo = pyro.infer.TraceEnum_ELBO(max_plate_nesting=3)\n",
    "elbo.loss(model_1, hmm_guide, data) ## Ensure model compiles\n",
    "\n",
    "rates = list()\n",
    "\n",
    "## Infer rates\n",
    "optim = pyro.optim.Adam({'lr': .0001})\n",
    "svi = pyro.infer.SVI(model_1, hmm_guide, optim, elbo)\n",
    "for step in range(10000):\n",
    "    svi.step(data)\n",
    "    for key, value in pyro.get_param_store().items():\n",
    "        rates.append(value)\n",
    "    if step %100 == 0:\n",
    "        \n",
    "        print(f\"Loss: {svi.evaluate_loss(data)}\")\n",
    "        for key, value in pyro.get_param_store().items():    \n",
    "            print(f\"{key}:\\n{value}\\n\")\n"
   ]
  },
  {
   "cell_type": "markdown",
   "id": "1f4616b1-8eff-40dc-b59b-049f05c7ae64",
   "metadata": {
    "jp-MarkdownHeadingCollapsed": true,
    "tags": []
   },
   "source": [
    "## New Data Generation"
   ]
  },
  {
   "cell_type": "code",
   "execution_count": 28,
   "id": "fca837ae-26c5-48de-9101-caa7c0bd20d7",
   "metadata": {
    "collapsed": true,
    "jupyter": {
     "outputs_hidden": true
    },
    "tags": []
   },
   "outputs": [
    {
     "name": "stdout",
     "output_type": "stream",
     "text": [
      "66663755776.0\n",
      "AutoDelta.r1:\n",
      "0.6099592447280884\n",
      "\n",
      "AutoDelta.r2:\n",
      "0.2919798791408539\n",
      "\n",
      "AutoDelta.r3:\n",
      "0.8930048942565918\n",
      "\n",
      "66663755776.0\n",
      "AutoDelta.r1:\n",
      "0.6000280380249023\n",
      "\n",
      "AutoDelta.r2:\n",
      "0.3000393807888031\n",
      "\n",
      "AutoDelta.r3:\n",
      "0.9000186920166016\n",
      "\n",
      "66663755776.0\n",
      "AutoDelta.r1:\n",
      "0.5999998450279236\n",
      "\n",
      "AutoDelta.r2:\n",
      "0.3000001609325409\n",
      "\n",
      "AutoDelta.r3:\n",
      "0.9000001549720764\n",
      "\n",
      "66663755776.0\n",
      "AutoDelta.r1:\n",
      "0.6000000238418579\n",
      "\n",
      "AutoDelta.r2:\n",
      "0.30000004172325134\n",
      "\n",
      "AutoDelta.r3:\n",
      "0.9000000953674316\n",
      "\n",
      "66663755776.0\n",
      "AutoDelta.r1:\n",
      "0.6000000834465027\n",
      "\n",
      "AutoDelta.r2:\n",
      "0.30000004172325134\n",
      "\n",
      "AutoDelta.r3:\n",
      "0.8999999761581421\n",
      "\n",
      "66663755776.0\n",
      "AutoDelta.r1:\n",
      "0.5999999642372131\n",
      "\n",
      "AutoDelta.r2:\n",
      "0.30000004172325134\n",
      "\n",
      "AutoDelta.r3:\n",
      "0.8999999761581421\n",
      "\n"
     ]
    },
    {
     "ename": "KeyboardInterrupt",
     "evalue": "",
     "output_type": "error",
     "traceback": [
      "\u001b[0;31m---------------------------------------------------------------------------\u001b[0m",
      "\u001b[0;31mKeyboardInterrupt\u001b[0m                         Traceback (most recent call last)",
      "\u001b[0;32m/tmp/ipykernel_17050/2846466764.py\u001b[0m in \u001b[0;36m<module>\u001b[0;34m\u001b[0m\n\u001b[1;32m     74\u001b[0m \u001b[0msvi\u001b[0m \u001b[0;34m=\u001b[0m \u001b[0mpyro\u001b[0m\u001b[0;34m.\u001b[0m\u001b[0minfer\u001b[0m\u001b[0;34m.\u001b[0m\u001b[0mSVI\u001b[0m\u001b[0;34m(\u001b[0m\u001b[0mmodel_1\u001b[0m\u001b[0;34m,\u001b[0m \u001b[0mhmm_guide\u001b[0m\u001b[0;34m,\u001b[0m \u001b[0moptim\u001b[0m\u001b[0;34m,\u001b[0m \u001b[0melbo\u001b[0m\u001b[0;34m)\u001b[0m\u001b[0;34m\u001b[0m\u001b[0;34m\u001b[0m\u001b[0m\n\u001b[1;32m     75\u001b[0m \u001b[0;32mfor\u001b[0m \u001b[0mstep\u001b[0m \u001b[0;32min\u001b[0m \u001b[0mrange\u001b[0m\u001b[0;34m(\u001b[0m\u001b[0;36m10000\u001b[0m\u001b[0;34m)\u001b[0m\u001b[0;34m:\u001b[0m\u001b[0;34m\u001b[0m\u001b[0;34m\u001b[0m\u001b[0m\n\u001b[0;32m---> 76\u001b[0;31m     \u001b[0mloss\u001b[0m \u001b[0;34m=\u001b[0m \u001b[0msvi\u001b[0m\u001b[0;34m.\u001b[0m\u001b[0mstep\u001b[0m\u001b[0;34m(\u001b[0m\u001b[0mtest\u001b[0m\u001b[0;34m)\u001b[0m\u001b[0;34m\u001b[0m\u001b[0;34m\u001b[0m\u001b[0m\n\u001b[0m\u001b[1;32m     77\u001b[0m     \u001b[0;32mif\u001b[0m \u001b[0mstep\u001b[0m \u001b[0;34m%\u001b[0m\u001b[0;36m100\u001b[0m \u001b[0;34m==\u001b[0m \u001b[0;36m0\u001b[0m\u001b[0;34m:\u001b[0m\u001b[0;34m\u001b[0m\u001b[0;34m\u001b[0m\u001b[0m\n\u001b[1;32m     78\u001b[0m         \u001b[0mprint\u001b[0m\u001b[0;34m(\u001b[0m\u001b[0mloss\u001b[0m\u001b[0;34m)\u001b[0m\u001b[0;34m\u001b[0m\u001b[0;34m\u001b[0m\u001b[0m\n",
      "\u001b[0;32m~/anaconda3/lib/python3.9/site-packages/pyro/infer/svi.py\u001b[0m in \u001b[0;36mstep\u001b[0;34m(self, *args, **kwargs)\u001b[0m\n\u001b[1;32m    143\u001b[0m         \u001b[0;31m# get loss and compute gradients\u001b[0m\u001b[0;34m\u001b[0m\u001b[0;34m\u001b[0m\u001b[0m\n\u001b[1;32m    144\u001b[0m         \u001b[0;32mwith\u001b[0m \u001b[0mpoutine\u001b[0m\u001b[0;34m.\u001b[0m\u001b[0mtrace\u001b[0m\u001b[0;34m(\u001b[0m\u001b[0mparam_only\u001b[0m\u001b[0;34m=\u001b[0m\u001b[0;32mTrue\u001b[0m\u001b[0;34m)\u001b[0m \u001b[0;32mas\u001b[0m \u001b[0mparam_capture\u001b[0m\u001b[0;34m:\u001b[0m\u001b[0;34m\u001b[0m\u001b[0;34m\u001b[0m\u001b[0m\n\u001b[0;32m--> 145\u001b[0;31m             \u001b[0mloss\u001b[0m \u001b[0;34m=\u001b[0m \u001b[0mself\u001b[0m\u001b[0;34m.\u001b[0m\u001b[0mloss_and_grads\u001b[0m\u001b[0;34m(\u001b[0m\u001b[0mself\u001b[0m\u001b[0;34m.\u001b[0m\u001b[0mmodel\u001b[0m\u001b[0;34m,\u001b[0m \u001b[0mself\u001b[0m\u001b[0;34m.\u001b[0m\u001b[0mguide\u001b[0m\u001b[0;34m,\u001b[0m \u001b[0;34m*\u001b[0m\u001b[0margs\u001b[0m\u001b[0;34m,\u001b[0m \u001b[0;34m**\u001b[0m\u001b[0mkwargs\u001b[0m\u001b[0;34m)\u001b[0m\u001b[0;34m\u001b[0m\u001b[0;34m\u001b[0m\u001b[0m\n\u001b[0m\u001b[1;32m    146\u001b[0m \u001b[0;34m\u001b[0m\u001b[0m\n\u001b[1;32m    147\u001b[0m         params = set(\n",
      "\u001b[0;32m~/anaconda3/lib/python3.9/site-packages/pyro/infer/traceenum_elbo.py\u001b[0m in \u001b[0;36mloss_and_grads\u001b[0;34m(self, model, guide, *args, **kwargs)\u001b[0m\n\u001b[1;32m    450\u001b[0m         \u001b[0melbo\u001b[0m \u001b[0;34m=\u001b[0m \u001b[0;36m0.0\u001b[0m\u001b[0;34m\u001b[0m\u001b[0;34m\u001b[0m\u001b[0m\n\u001b[1;32m    451\u001b[0m         \u001b[0;32mfor\u001b[0m \u001b[0mmodel_trace\u001b[0m\u001b[0;34m,\u001b[0m \u001b[0mguide_trace\u001b[0m \u001b[0;32min\u001b[0m \u001b[0mself\u001b[0m\u001b[0;34m.\u001b[0m\u001b[0m_get_traces\u001b[0m\u001b[0;34m(\u001b[0m\u001b[0mmodel\u001b[0m\u001b[0;34m,\u001b[0m \u001b[0mguide\u001b[0m\u001b[0;34m,\u001b[0m \u001b[0margs\u001b[0m\u001b[0;34m,\u001b[0m \u001b[0mkwargs\u001b[0m\u001b[0;34m)\u001b[0m\u001b[0;34m:\u001b[0m\u001b[0;34m\u001b[0m\u001b[0;34m\u001b[0m\u001b[0m\n\u001b[0;32m--> 452\u001b[0;31m             \u001b[0melbo_particle\u001b[0m \u001b[0;34m=\u001b[0m \u001b[0m_compute_dice_elbo\u001b[0m\u001b[0;34m(\u001b[0m\u001b[0mmodel_trace\u001b[0m\u001b[0;34m,\u001b[0m \u001b[0mguide_trace\u001b[0m\u001b[0;34m)\u001b[0m\u001b[0;34m\u001b[0m\u001b[0;34m\u001b[0m\u001b[0m\n\u001b[0m\u001b[1;32m    453\u001b[0m             \u001b[0;32mif\u001b[0m \u001b[0mis_identically_zero\u001b[0m\u001b[0;34m(\u001b[0m\u001b[0melbo_particle\u001b[0m\u001b[0;34m)\u001b[0m\u001b[0;34m:\u001b[0m\u001b[0;34m\u001b[0m\u001b[0;34m\u001b[0m\u001b[0m\n\u001b[1;32m    454\u001b[0m                 \u001b[0;32mcontinue\u001b[0m\u001b[0;34m\u001b[0m\u001b[0;34m\u001b[0m\u001b[0m\n",
      "\u001b[0;32m~/anaconda3/lib/python3.9/site-packages/pyro/infer/traceenum_elbo.py\u001b[0m in \u001b[0;36m_compute_dice_elbo\u001b[0;34m(model_trace, guide_trace)\u001b[0m\n\u001b[1;32m    197\u001b[0m         \u001b[0;32mwith\u001b[0m \u001b[0mshared_intermediates\u001b[0m\u001b[0;34m(\u001b[0m\u001b[0;34m)\u001b[0m \u001b[0;32mas\u001b[0m \u001b[0mcache\u001b[0m\u001b[0;34m:\u001b[0m\u001b[0;34m\u001b[0m\u001b[0;34m\u001b[0m\u001b[0m\n\u001b[1;32m    198\u001b[0m             \u001b[0mring\u001b[0m \u001b[0;34m=\u001b[0m \u001b[0mSampleRing\u001b[0m\u001b[0;34m(\u001b[0m\u001b[0mcache\u001b[0m\u001b[0;34m=\u001b[0m\u001b[0mcache\u001b[0m\u001b[0;34m,\u001b[0m \u001b[0mdim_to_size\u001b[0m\u001b[0;34m=\u001b[0m\u001b[0mdim_to_size\u001b[0m\u001b[0;34m)\u001b[0m\u001b[0;34m\u001b[0m\u001b[0;34m\u001b[0m\u001b[0m\n\u001b[0;32m--> 199\u001b[0;31m             \u001b[0mlog_factors\u001b[0m \u001b[0;34m=\u001b[0m \u001b[0mcontract_tensor_tree\u001b[0m\u001b[0;34m(\u001b[0m\u001b[0mlog_factors\u001b[0m\u001b[0;34m,\u001b[0m \u001b[0msum_dims\u001b[0m\u001b[0;34m,\u001b[0m \u001b[0mring\u001b[0m\u001b[0;34m=\u001b[0m\u001b[0mring\u001b[0m\u001b[0;34m)\u001b[0m\u001b[0;34m\u001b[0m\u001b[0;34m\u001b[0m\u001b[0m\n\u001b[0m\u001b[1;32m    200\u001b[0m             \u001b[0mmodel_trace\u001b[0m\u001b[0;34m.\u001b[0m\u001b[0m_sharing_cache\u001b[0m \u001b[0;34m=\u001b[0m \u001b[0mcache\u001b[0m  \u001b[0;31m# For TraceEnumSample_ELBO.\u001b[0m\u001b[0;34m\u001b[0m\u001b[0;34m\u001b[0m\u001b[0m\n\u001b[1;32m    201\u001b[0m         \u001b[0;32mfor\u001b[0m \u001b[0mt\u001b[0m\u001b[0;34m,\u001b[0m \u001b[0mlog_factors_t\u001b[0m \u001b[0;32min\u001b[0m \u001b[0mlog_factors\u001b[0m\u001b[0;34m.\u001b[0m\u001b[0mitems\u001b[0m\u001b[0;34m(\u001b[0m\u001b[0;34m)\u001b[0m\u001b[0;34m:\u001b[0m\u001b[0;34m\u001b[0m\u001b[0;34m\u001b[0m\u001b[0m\n",
      "\u001b[0;32m~/anaconda3/lib/python3.9/site-packages/pyro/ops/contract.py\u001b[0m in \u001b[0;36mcontract_tensor_tree\u001b[0;34m(tensor_tree, sum_dims, cache, ring)\u001b[0m\n\u001b[1;32m    198\u001b[0m \u001b[0;34m\u001b[0m\u001b[0m\n\u001b[1;32m    199\u001b[0m         \u001b[0;31m# Contract this connected component down to a single tensor.\u001b[0m\u001b[0;34m\u001b[0m\u001b[0;34m\u001b[0m\u001b[0m\n\u001b[0;32m--> 200\u001b[0;31m         \u001b[0mordinal\u001b[0m\u001b[0;34m,\u001b[0m \u001b[0mterm\u001b[0m \u001b[0;34m=\u001b[0m \u001b[0m_contract_component\u001b[0m\u001b[0;34m(\u001b[0m\u001b[0mring\u001b[0m\u001b[0;34m,\u001b[0m \u001b[0mcomponent\u001b[0m\u001b[0;34m,\u001b[0m \u001b[0mdims\u001b[0m\u001b[0;34m,\u001b[0m \u001b[0mset\u001b[0m\u001b[0;34m(\u001b[0m\u001b[0;34m)\u001b[0m\u001b[0;34m)\u001b[0m\u001b[0;34m\u001b[0m\u001b[0;34m\u001b[0m\u001b[0m\n\u001b[0m\u001b[1;32m    201\u001b[0m         \u001b[0mcontracted_tree\u001b[0m\u001b[0;34m.\u001b[0m\u001b[0msetdefault\u001b[0m\u001b[0;34m(\u001b[0m\u001b[0mordinal\u001b[0m\u001b[0;34m,\u001b[0m \u001b[0;34m[\u001b[0m\u001b[0;34m]\u001b[0m\u001b[0;34m)\u001b[0m\u001b[0;34m.\u001b[0m\u001b[0mappend\u001b[0m\u001b[0;34m(\u001b[0m\u001b[0mterm\u001b[0m\u001b[0;34m)\u001b[0m\u001b[0;34m\u001b[0m\u001b[0;34m\u001b[0m\u001b[0m\n\u001b[1;32m    202\u001b[0m \u001b[0;34m\u001b[0m\u001b[0m\n",
      "\u001b[0;32m~/anaconda3/lib/python3.9/site-packages/pyro/ops/contract.py\u001b[0m in \u001b[0;36m_contract_component\u001b[0;34m(ring, tensor_tree, sum_dims, target_dims)\u001b[0m\n\u001b[1;32m    123\u001b[0m \u001b[0;34m\u001b[0m\u001b[0m\n\u001b[1;32m    124\u001b[0m             \u001b[0;31m# Eliminate sum dims via a sumproduct contraction.\u001b[0m\u001b[0;34m\u001b[0m\u001b[0;34m\u001b[0m\u001b[0m\n\u001b[0;32m--> 125\u001b[0;31m             \u001b[0mterm\u001b[0m \u001b[0;34m=\u001b[0m \u001b[0mring\u001b[0m\u001b[0;34m.\u001b[0m\u001b[0msumproduct\u001b[0m\u001b[0;34m(\u001b[0m\u001b[0mterms\u001b[0m\u001b[0;34m,\u001b[0m \u001b[0mdims\u001b[0m \u001b[0;34m-\u001b[0m \u001b[0mlocal_dims\u001b[0m\u001b[0;34m)\u001b[0m\u001b[0;34m\u001b[0m\u001b[0;34m\u001b[0m\u001b[0m\n\u001b[0m\u001b[1;32m    126\u001b[0m \u001b[0;34m\u001b[0m\u001b[0m\n\u001b[1;32m    127\u001b[0m             \u001b[0;31m# Eliminate extra plate dims via product contractions.\u001b[0m\u001b[0;34m\u001b[0m\u001b[0;34m\u001b[0m\u001b[0m\n",
      "\u001b[0;32m~/anaconda3/lib/python3.9/site-packages/pyro/ops/rings.py\u001b[0m in \u001b[0;36msumproduct\u001b[0;34m(self, terms, dims)\u001b[0m\n\u001b[1;32m    197\u001b[0m         \u001b[0moutput\u001b[0m \u001b[0;34m=\u001b[0m \u001b[0;34m\"\"\u001b[0m\u001b[0;34m.\u001b[0m\u001b[0mjoin\u001b[0m\u001b[0;34m(\u001b[0m\u001b[0msorted\u001b[0m\u001b[0;34m(\u001b[0m\u001b[0mset\u001b[0m\u001b[0;34m(\u001b[0m\u001b[0;34m\"\"\u001b[0m\u001b[0;34m.\u001b[0m\u001b[0mjoin\u001b[0m\u001b[0;34m(\u001b[0m\u001b[0minputs\u001b[0m\u001b[0;34m)\u001b[0m\u001b[0;34m)\u001b[0m \u001b[0;34m-\u001b[0m \u001b[0mset\u001b[0m\u001b[0;34m(\u001b[0m\u001b[0mdims\u001b[0m\u001b[0;34m)\u001b[0m\u001b[0;34m)\u001b[0m\u001b[0;34m)\u001b[0m\u001b[0;34m\u001b[0m\u001b[0;34m\u001b[0m\u001b[0m\n\u001b[1;32m    198\u001b[0m         \u001b[0mequation\u001b[0m \u001b[0;34m=\u001b[0m \u001b[0;34m\",\"\u001b[0m\u001b[0;34m.\u001b[0m\u001b[0mjoin\u001b[0m\u001b[0;34m(\u001b[0m\u001b[0minputs\u001b[0m\u001b[0;34m)\u001b[0m \u001b[0;34m+\u001b[0m \u001b[0;34m\"->\"\u001b[0m \u001b[0;34m+\u001b[0m \u001b[0moutput\u001b[0m\u001b[0;34m\u001b[0m\u001b[0;34m\u001b[0m\u001b[0m\n\u001b[0;32m--> 199\u001b[0;31m         \u001b[0mterm\u001b[0m \u001b[0;34m=\u001b[0m \u001b[0mcontract\u001b[0m\u001b[0;34m(\u001b[0m\u001b[0mequation\u001b[0m\u001b[0;34m,\u001b[0m \u001b[0;34m*\u001b[0m\u001b[0mterms\u001b[0m\u001b[0;34m,\u001b[0m \u001b[0mbackend\u001b[0m\u001b[0;34m=\u001b[0m\u001b[0mself\u001b[0m\u001b[0;34m.\u001b[0m\u001b[0m_backend\u001b[0m\u001b[0;34m)\u001b[0m\u001b[0;34m\u001b[0m\u001b[0;34m\u001b[0m\u001b[0m\n\u001b[0m\u001b[1;32m    200\u001b[0m         \u001b[0mterm\u001b[0m\u001b[0;34m.\u001b[0m\u001b[0m_pyro_dims\u001b[0m \u001b[0;34m=\u001b[0m \u001b[0moutput\u001b[0m\u001b[0;34m\u001b[0m\u001b[0;34m\u001b[0m\u001b[0m\n\u001b[1;32m    201\u001b[0m         \u001b[0;32mreturn\u001b[0m \u001b[0mterm\u001b[0m\u001b[0;34m\u001b[0m\u001b[0;34m\u001b[0m\u001b[0m\n",
      "\u001b[0;32m~/anaconda3/lib/python3.9/site-packages/pyro/ops/einsum/__init__.py\u001b[0m in \u001b[0;36mcontract\u001b[0;34m(equation, *operands, **kwargs)\u001b[0m\n\u001b[1;32m     44\u001b[0m     \u001b[0;32mwith\u001b[0m \u001b[0mignore_jit_warnings\u001b[0m\u001b[0;34m(\u001b[0m\u001b[0;34m)\u001b[0m\u001b[0;34m:\u001b[0m\u001b[0;34m\u001b[0m\u001b[0;34m\u001b[0m\u001b[0m\n\u001b[1;32m     45\u001b[0m         \u001b[0mexpr\u001b[0m \u001b[0;34m=\u001b[0m \u001b[0mcontract_expression\u001b[0m\u001b[0;34m(\u001b[0m\u001b[0mequation\u001b[0m\u001b[0;34m,\u001b[0m \u001b[0;34m*\u001b[0m\u001b[0mshapes\u001b[0m\u001b[0;34m)\u001b[0m\u001b[0;34m\u001b[0m\u001b[0;34m\u001b[0m\u001b[0m\n\u001b[0;32m---> 46\u001b[0;31m         \u001b[0;32mreturn\u001b[0m \u001b[0mexpr\u001b[0m\u001b[0;34m(\u001b[0m\u001b[0;34m*\u001b[0m\u001b[0moperands\u001b[0m\u001b[0;34m,\u001b[0m \u001b[0mbackend\u001b[0m\u001b[0;34m=\u001b[0m\u001b[0mbackend\u001b[0m\u001b[0;34m,\u001b[0m \u001b[0mout\u001b[0m\u001b[0;34m=\u001b[0m\u001b[0mout\u001b[0m\u001b[0;34m)\u001b[0m\u001b[0;34m\u001b[0m\u001b[0;34m\u001b[0m\u001b[0m\n\u001b[0m\u001b[1;32m     47\u001b[0m \u001b[0;34m\u001b[0m\u001b[0m\n\u001b[1;32m     48\u001b[0m \u001b[0;34m\u001b[0m\u001b[0m\n",
      "\u001b[0;32m~/anaconda3/lib/python3.9/site-packages/opt_einsum/contract.py\u001b[0m in \u001b[0;36m__call__\u001b[0;34m(self, *arrays, **kwargs)\u001b[0m\n\u001b[1;32m    761\u001b[0m                 \u001b[0;32mreturn\u001b[0m \u001b[0mself\u001b[0m\u001b[0;34m.\u001b[0m\u001b[0m_contract_with_conversion\u001b[0m\u001b[0;34m(\u001b[0m\u001b[0mops\u001b[0m\u001b[0;34m,\u001b[0m \u001b[0mout\u001b[0m\u001b[0;34m,\u001b[0m \u001b[0mbackend\u001b[0m\u001b[0;34m,\u001b[0m \u001b[0mevaluate_constants\u001b[0m\u001b[0;34m=\u001b[0m\u001b[0mevaluate_constants\u001b[0m\u001b[0;34m)\u001b[0m\u001b[0;34m\u001b[0m\u001b[0;34m\u001b[0m\u001b[0m\n\u001b[1;32m    762\u001b[0m \u001b[0;34m\u001b[0m\u001b[0m\n\u001b[0;32m--> 763\u001b[0;31m             \u001b[0;32mreturn\u001b[0m \u001b[0mself\u001b[0m\u001b[0;34m.\u001b[0m\u001b[0m_contract\u001b[0m\u001b[0;34m(\u001b[0m\u001b[0mops\u001b[0m\u001b[0;34m,\u001b[0m \u001b[0mout\u001b[0m\u001b[0;34m,\u001b[0m \u001b[0mbackend\u001b[0m\u001b[0;34m,\u001b[0m \u001b[0mevaluate_constants\u001b[0m\u001b[0;34m=\u001b[0m\u001b[0mevaluate_constants\u001b[0m\u001b[0;34m)\u001b[0m\u001b[0;34m\u001b[0m\u001b[0;34m\u001b[0m\u001b[0m\n\u001b[0m\u001b[1;32m    764\u001b[0m \u001b[0;34m\u001b[0m\u001b[0m\n\u001b[1;32m    765\u001b[0m         \u001b[0;32mexcept\u001b[0m \u001b[0mValueError\u001b[0m \u001b[0;32mas\u001b[0m \u001b[0merr\u001b[0m\u001b[0;34m:\u001b[0m\u001b[0;34m\u001b[0m\u001b[0;34m\u001b[0m\u001b[0m\n",
      "\u001b[0;32m~/anaconda3/lib/python3.9/site-packages/opt_einsum/contract.py\u001b[0m in \u001b[0;36m_contract\u001b[0;34m(self, arrays, out, backend, evaluate_constants)\u001b[0m\n\u001b[1;32m    691\u001b[0m         \u001b[0mcontraction_list\u001b[0m \u001b[0;34m=\u001b[0m \u001b[0mself\u001b[0m\u001b[0;34m.\u001b[0m\u001b[0m_full_contraction_list\u001b[0m \u001b[0;32mif\u001b[0m \u001b[0mevaluate_constants\u001b[0m \u001b[0;32melse\u001b[0m \u001b[0mself\u001b[0m\u001b[0;34m.\u001b[0m\u001b[0mcontraction_list\u001b[0m\u001b[0;34m\u001b[0m\u001b[0;34m\u001b[0m\u001b[0m\n\u001b[1;32m    692\u001b[0m \u001b[0;34m\u001b[0m\u001b[0m\n\u001b[0;32m--> 693\u001b[0;31m         return _core_contract(list(arrays),\n\u001b[0m\u001b[1;32m    694\u001b[0m                               \u001b[0mcontraction_list\u001b[0m\u001b[0;34m,\u001b[0m\u001b[0;34m\u001b[0m\u001b[0;34m\u001b[0m\u001b[0m\n\u001b[1;32m    695\u001b[0m                               \u001b[0mout\u001b[0m\u001b[0;34m=\u001b[0m\u001b[0mout\u001b[0m\u001b[0;34m,\u001b[0m\u001b[0;34m\u001b[0m\u001b[0;34m\u001b[0m\u001b[0m\n",
      "\u001b[0;32m~/anaconda3/lib/python3.9/site-packages/opt_einsum/contract.py\u001b[0m in \u001b[0;36m_core_contract\u001b[0;34m(operands, contraction_list, backend, evaluate_constants, **einsum_kwargs)\u001b[0m\n\u001b[1;32m    589\u001b[0m \u001b[0;34m\u001b[0m\u001b[0m\n\u001b[1;32m    590\u001b[0m             \u001b[0;31m# Do the contraction\u001b[0m\u001b[0;34m\u001b[0m\u001b[0;34m\u001b[0m\u001b[0m\n\u001b[0;32m--> 591\u001b[0;31m             \u001b[0mnew_view\u001b[0m \u001b[0;34m=\u001b[0m \u001b[0m_einsum\u001b[0m\u001b[0;34m(\u001b[0m\u001b[0meinsum_str\u001b[0m\u001b[0;34m,\u001b[0m \u001b[0;34m*\u001b[0m\u001b[0mtmp_operands\u001b[0m\u001b[0;34m,\u001b[0m \u001b[0mbackend\u001b[0m\u001b[0;34m=\u001b[0m\u001b[0mbackend\u001b[0m\u001b[0;34m,\u001b[0m \u001b[0;34m**\u001b[0m\u001b[0meinsum_kwargs\u001b[0m\u001b[0;34m)\u001b[0m\u001b[0;34m\u001b[0m\u001b[0;34m\u001b[0m\u001b[0m\n\u001b[0m\u001b[1;32m    592\u001b[0m \u001b[0;34m\u001b[0m\u001b[0m\n\u001b[1;32m    593\u001b[0m         \u001b[0;31m# Append new items and dereference what we can\u001b[0m\u001b[0;34m\u001b[0m\u001b[0;34m\u001b[0m\u001b[0m\n",
      "\u001b[0;32m~/anaconda3/lib/python3.9/site-packages/opt_einsum/sharing.py\u001b[0m in \u001b[0;36mcached_einsum\u001b[0;34m(*args, **kwargs)\u001b[0m\n\u001b[1;32m    166\u001b[0m \u001b[0;34m\u001b[0m\u001b[0m\n\u001b[1;32m    167\u001b[0m         \u001b[0mkey\u001b[0m \u001b[0;34m=\u001b[0m \u001b[0;34m'einsum'\u001b[0m\u001b[0;34m,\u001b[0m \u001b[0mbackend\u001b[0m\u001b[0;34m,\u001b[0m \u001b[0mcanonical_equation\u001b[0m\u001b[0;34m,\u001b[0m \u001b[0mcanonical_ids\u001b[0m\u001b[0;34m\u001b[0m\u001b[0;34m\u001b[0m\u001b[0m\n\u001b[0;32m--> 168\u001b[0;31m         \u001b[0;32mreturn\u001b[0m \u001b[0m_memoize\u001b[0m\u001b[0;34m(\u001b[0m\u001b[0mkey\u001b[0m\u001b[0;34m,\u001b[0m \u001b[0meinsum\u001b[0m\u001b[0;34m,\u001b[0m \u001b[0mequation\u001b[0m\u001b[0;34m,\u001b[0m \u001b[0;34m*\u001b[0m\u001b[0moperands\u001b[0m\u001b[0;34m,\u001b[0m \u001b[0mbackend\u001b[0m\u001b[0;34m=\u001b[0m\u001b[0mbackend\u001b[0m\u001b[0;34m)\u001b[0m\u001b[0;34m\u001b[0m\u001b[0;34m\u001b[0m\u001b[0m\n\u001b[0m\u001b[1;32m    169\u001b[0m \u001b[0;34m\u001b[0m\u001b[0m\n\u001b[1;32m    170\u001b[0m     \u001b[0;32mreturn\u001b[0m \u001b[0mcached_einsum\u001b[0m\u001b[0;34m\u001b[0m\u001b[0;34m\u001b[0m\u001b[0m\n",
      "\u001b[0;32m~/anaconda3/lib/python3.9/site-packages/opt_einsum/sharing.py\u001b[0m in \u001b[0;36m_memoize\u001b[0;34m(key, fn, *args, **kwargs)\u001b[0m\n\u001b[1;32m     99\u001b[0m     \u001b[0;32mif\u001b[0m \u001b[0mkey\u001b[0m \u001b[0;32min\u001b[0m \u001b[0mcache\u001b[0m\u001b[0;34m:\u001b[0m\u001b[0;34m\u001b[0m\u001b[0;34m\u001b[0m\u001b[0m\n\u001b[1;32m    100\u001b[0m         \u001b[0;32mreturn\u001b[0m \u001b[0mcache\u001b[0m\u001b[0;34m[\u001b[0m\u001b[0mkey\u001b[0m\u001b[0;34m]\u001b[0m\u001b[0;34m\u001b[0m\u001b[0;34m\u001b[0m\u001b[0m\n\u001b[0;32m--> 101\u001b[0;31m     \u001b[0mresult\u001b[0m \u001b[0;34m=\u001b[0m \u001b[0mfn\u001b[0m\u001b[0;34m(\u001b[0m\u001b[0;34m*\u001b[0m\u001b[0margs\u001b[0m\u001b[0;34m,\u001b[0m \u001b[0;34m**\u001b[0m\u001b[0mkwargs\u001b[0m\u001b[0;34m)\u001b[0m\u001b[0;34m\u001b[0m\u001b[0;34m\u001b[0m\u001b[0m\n\u001b[0m\u001b[1;32m    102\u001b[0m     \u001b[0mcache\u001b[0m\u001b[0;34m[\u001b[0m\u001b[0mkey\u001b[0m\u001b[0;34m]\u001b[0m \u001b[0;34m=\u001b[0m \u001b[0mresult\u001b[0m\u001b[0;34m\u001b[0m\u001b[0;34m\u001b[0m\u001b[0m\n\u001b[1;32m    103\u001b[0m     \u001b[0;32mreturn\u001b[0m \u001b[0mresult\u001b[0m\u001b[0;34m\u001b[0m\u001b[0;34m\u001b[0m\u001b[0m\n",
      "\u001b[0;32m~/anaconda3/lib/python3.9/site-packages/opt_einsum/contract.py\u001b[0m in \u001b[0;36m_einsum\u001b[0;34m(*operands, **kwargs)\u001b[0m\n\u001b[1;32m    351\u001b[0m         \u001b[0meinsum_str\u001b[0m \u001b[0;34m=\u001b[0m \u001b[0mparser\u001b[0m\u001b[0;34m.\u001b[0m\u001b[0mconvert_to_valid_einsum_chars\u001b[0m\u001b[0;34m(\u001b[0m\u001b[0meinsum_str\u001b[0m\u001b[0;34m)\u001b[0m\u001b[0;34m\u001b[0m\u001b[0;34m\u001b[0m\u001b[0m\n\u001b[1;32m    352\u001b[0m \u001b[0;34m\u001b[0m\u001b[0m\n\u001b[0;32m--> 353\u001b[0;31m     \u001b[0;32mreturn\u001b[0m \u001b[0mfn\u001b[0m\u001b[0;34m(\u001b[0m\u001b[0meinsum_str\u001b[0m\u001b[0;34m,\u001b[0m \u001b[0;34m*\u001b[0m\u001b[0moperands\u001b[0m\u001b[0;34m,\u001b[0m \u001b[0;34m**\u001b[0m\u001b[0mkwargs\u001b[0m\u001b[0;34m)\u001b[0m\u001b[0;34m\u001b[0m\u001b[0;34m\u001b[0m\u001b[0m\n\u001b[0m\u001b[1;32m    354\u001b[0m \u001b[0;34m\u001b[0m\u001b[0m\n\u001b[1;32m    355\u001b[0m \u001b[0;34m\u001b[0m\u001b[0m\n",
      "\u001b[0;32m~/anaconda3/lib/python3.9/site-packages/pyro/ops/einsum/torch_sample.py\u001b[0m in \u001b[0;36meinsum\u001b[0;34m(equation, *operands)\u001b[0m\n\u001b[1;32m     66\u001b[0m     \u001b[0mequation\u001b[0m \u001b[0;34m=\u001b[0m \u001b[0mpacked\u001b[0m\u001b[0;34m.\u001b[0m\u001b[0mrename_equation\u001b[0m\u001b[0;34m(\u001b[0m\u001b[0mequation\u001b[0m\u001b[0;34m,\u001b[0m \u001b[0;34m*\u001b[0m\u001b[0moperands\u001b[0m\u001b[0;34m)\u001b[0m\u001b[0;34m\u001b[0m\u001b[0;34m\u001b[0m\u001b[0m\n\u001b[1;32m     67\u001b[0m     \u001b[0minputs\u001b[0m\u001b[0;34m,\u001b[0m \u001b[0moutput\u001b[0m \u001b[0;34m=\u001b[0m \u001b[0mequation\u001b[0m\u001b[0;34m.\u001b[0m\u001b[0msplit\u001b[0m\u001b[0;34m(\u001b[0m\u001b[0;34m\"->\"\u001b[0m\u001b[0;34m)\u001b[0m\u001b[0;34m\u001b[0m\u001b[0;34m\u001b[0m\u001b[0m\n\u001b[0;32m---> 68\u001b[0;31m     \u001b[0mresult\u001b[0m \u001b[0;34m=\u001b[0m \u001b[0mpyro\u001b[0m\u001b[0;34m.\u001b[0m\u001b[0mops\u001b[0m\u001b[0;34m.\u001b[0m\u001b[0meinsum\u001b[0m\u001b[0;34m.\u001b[0m\u001b[0mtorch_log\u001b[0m\u001b[0;34m.\u001b[0m\u001b[0meinsum\u001b[0m\u001b[0;34m(\u001b[0m\u001b[0mequation\u001b[0m\u001b[0;34m,\u001b[0m \u001b[0;34m*\u001b[0m\u001b[0moperands\u001b[0m\u001b[0;34m)\u001b[0m\u001b[0;34m\u001b[0m\u001b[0;34m\u001b[0m\u001b[0m\n\u001b[0m\u001b[1;32m     69\u001b[0m     \u001b[0mresult\u001b[0m\u001b[0;34m.\u001b[0m\u001b[0m_pyro_dims\u001b[0m \u001b[0;34m=\u001b[0m \u001b[0moutput\u001b[0m\u001b[0;34m\u001b[0m\u001b[0;34m\u001b[0m\u001b[0m\n\u001b[1;32m     70\u001b[0m     \u001b[0;32massert\u001b[0m \u001b[0mresult\u001b[0m\u001b[0;34m.\u001b[0m\u001b[0mdim\u001b[0m\u001b[0;34m(\u001b[0m\u001b[0;34m)\u001b[0m \u001b[0;34m==\u001b[0m \u001b[0mlen\u001b[0m\u001b[0;34m(\u001b[0m\u001b[0mresult\u001b[0m\u001b[0;34m.\u001b[0m\u001b[0m_pyro_dims\u001b[0m\u001b[0;34m)\u001b[0m\u001b[0;34m\u001b[0m\u001b[0;34m\u001b[0m\u001b[0m\n",
      "\u001b[0;32m~/anaconda3/lib/python3.9/site-packages/pyro/ops/einsum/torch_log.py\u001b[0m in \u001b[0;36meinsum\u001b[0;34m(equation, *operands)\u001b[0m\n\u001b[1;32m     36\u001b[0m         \u001b[0;31m# avoid nan due to -inf - -inf\u001b[0m\u001b[0;34m\u001b[0m\u001b[0;34m\u001b[0m\u001b[0m\n\u001b[1;32m     37\u001b[0m         \u001b[0mshift\u001b[0m \u001b[0;34m=\u001b[0m \u001b[0mshift\u001b[0m\u001b[0;34m.\u001b[0m\u001b[0mclamp\u001b[0m\u001b[0;34m(\u001b[0m\u001b[0mmin\u001b[0m\u001b[0;34m=\u001b[0m\u001b[0mtorch\u001b[0m\u001b[0;34m.\u001b[0m\u001b[0mfinfo\u001b[0m\u001b[0;34m(\u001b[0m\u001b[0mshift\u001b[0m\u001b[0;34m.\u001b[0m\u001b[0mdtype\u001b[0m\u001b[0;34m)\u001b[0m\u001b[0;34m.\u001b[0m\u001b[0mmin\u001b[0m\u001b[0;34m)\u001b[0m\u001b[0;34m\u001b[0m\u001b[0;34m\u001b[0m\u001b[0m\n\u001b[0;32m---> 38\u001b[0;31m         \u001b[0mexp_operands\u001b[0m\u001b[0;34m.\u001b[0m\u001b[0mappend\u001b[0m\u001b[0;34m(\u001b[0m\u001b[0;34m(\u001b[0m\u001b[0moperand\u001b[0m \u001b[0;34m-\u001b[0m \u001b[0mshift\u001b[0m\u001b[0;34m)\u001b[0m\u001b[0;34m.\u001b[0m\u001b[0mexp\u001b[0m\u001b[0;34m(\u001b[0m\u001b[0;34m)\u001b[0m\u001b[0;34m)\u001b[0m\u001b[0;34m\u001b[0m\u001b[0;34m\u001b[0m\u001b[0m\n\u001b[0m\u001b[1;32m     39\u001b[0m \u001b[0;34m\u001b[0m\u001b[0m\n\u001b[1;32m     40\u001b[0m         \u001b[0;31m# permute shift to match output\u001b[0m\u001b[0;34m\u001b[0m\u001b[0;34m\u001b[0m\u001b[0m\n",
      "\u001b[0;31mKeyboardInterrupt\u001b[0m: "
     ]
    }
   ],
   "source": [
    "def model_1(data, batch_size=None):\n",
    "    \n",
    "    num_sequences, max_length, data_dim = data.shape\n",
    "    \n",
    "    #with pyro.plate(\"rate_sample\"):\n",
    "    ## Rate priors\n",
    "    r1 = pyro.sample(\n",
    "        \"r1\",\n",
    "        pyro.distributions.Normal(torch.tensor(.6), .01),\n",
    "    )\n",
    "    r2 = pyro.sample(\n",
    "        \"r2\",\n",
    "        pyro.distributions.Normal(torch.tensor(.3), .01),\n",
    "    )\n",
    "    r3 = pyro.sample(\n",
    "        \"r3\",\n",
    "        pyro.distributions.Normal(torch.tensor(.9), .01),\n",
    "    )\n",
    "\n",
    "    \n",
    "    ## Starting points\n",
    "    s_start = torch.tensor([10., 10., 10.])\n",
    "    \n",
    "    sample_plate = pyro.plate(\"sample\", data_dim, dim=-1)\n",
    "    with pyro.plate(\"sequences\", num_sequences, batch_size, dim=-2) as batch:\n",
    "        x = 0\n",
    "        \n",
    "        for t in pyro.markov(range(1, max_length)):\n",
    "\n",
    "            x = pyro.sample(\n",
    "                    \"x_{}\".format(t),\n",
    "                    pyro.distributions.Categorical(torch.tensor([r1, r2, r3])),\n",
    "                    infer={\"enumerate\": \"parallel\"},\n",
    "                )\n",
    "\n",
    "            \n",
    "            ## Define update matrix\n",
    "            update = torch.zeros(tuple(torch.cat((torch.tensor(x.shape[:-1]), torch.tensor([3])))))\n",
    "            \n",
    "            ## Update first run without enumeration\n",
    "            if len(x.shape) == 2:\n",
    "                update[torch.arange(len(update)), torch.flatten(x).long()] = 1.\n",
    "            ## Update second run with enumeration. Cycles between 4 and 5 dimension tensor\n",
    "            elif len(x.shape) == 4:\n",
    "                update[torch.arange(len(update)), 0, 0,torch.flatten(x).long()] = 1.\n",
    "            else:\n",
    "                update[torch.arange(len(update)), 0, 0,0,torch.flatten(x).long()] = 1.\n",
    "            \n",
    "            ## Ensure `s_start` shape matches `update` matrix dimension.\n",
    "            ## Enumeration run cycles between 4 and 5 dimensions, \n",
    "            ## `s_start` changes dimensions when combined.\n",
    "            if s_start.shape != torch.Size([3]):\n",
    "                s_start = s_start.reshape(update.shape)\n",
    "\n",
    "            with sample_plate:\n",
    "                #print(data[batch, t])\n",
    "                sample = pyro.sample(\n",
    "                    \"y_{}\".format(t),\n",
    "                    pyro.distributions.Normal(s_start + update, .01),\n",
    "                    obs=data[batch, t]\n",
    "                )\n",
    "            \n",
    "            ## Update s_start for next step\n",
    "            s_start = pyro.deterministic(\"d_{}\".format(t), s_start + update)\n",
    "            \n",
    "\n",
    "hmm_guide = pyro.infer.autoguide.AutoDelta(pyro.poutine.block(model_1, expose=[\"r1\", \"r2\", \"r3\"]))\n",
    "pyro.clear_param_store()\n",
    "elbo = pyro.infer.TraceEnum_ELBO(max_plate_nesting=3)\n",
    "elbo.loss(model_1, hmm_guide, test) ## Ensure model compiles\n",
    "\n",
    "## Infer rates\n",
    "optim = pyro.optim.Adam({'lr': .01})#, 'betas' : (0.95, 0.999)})\n",
    "svi = pyro.infer.SVI(model_1, hmm_guide, optim, elbo)\n",
    "for step in range(10000):\n",
    "    loss = svi.step(test)\n",
    "    if step %100 == 0:\n",
    "        print(loss)\n",
    "        for key, value in pyro.get_param_store().items():    \n",
    "            print(f\"{key}:\\n{value}\\n\")\n",
    "\n",
    "## Check inferred rate values   \n",
    "for key, value in pyro.get_param_store().items():    \n",
    "    print(f\"{key}:\\n{value}\\n\")"
   ]
  },
  {
   "cell_type": "code",
   "execution_count": 766,
   "id": "d3b6869d-f1d9-4c21-8cc8-adea953eb510",
   "metadata": {},
   "outputs": [],
   "source": [
    "temp = model_1(data)\n",
    "test = torch.stack(temp)"
   ]
  },
  {
   "cell_type": "code",
   "execution_count": 767,
   "id": "5e4cede6-355c-4be8-9a2b-eb557d2de2a3",
   "metadata": {
    "collapsed": true,
    "jupyter": {
     "outputs_hidden": true
    },
    "tags": []
   },
   "outputs": [
    {
     "data": {
      "text/plain": [
       "tensor([[[10., 10., 11.],\n",
       "         [10., 10., 11.],\n",
       "         [10., 10., 11.],\n",
       "         ...,\n",
       "         [10., 10., 11.],\n",
       "         [10., 10., 11.],\n",
       "         [11., 10., 10.]],\n",
       "\n",
       "        [[10., 10., 12.],\n",
       "         [11., 10., 11.],\n",
       "         [11., 10., 11.],\n",
       "         ...,\n",
       "         [11., 10., 11.],\n",
       "         [10., 10., 12.],\n",
       "         [12., 10., 10.]],\n",
       "\n",
       "        [[11., 10., 12.],\n",
       "         [11., 11., 11.],\n",
       "         [11., 10., 12.],\n",
       "         ...,\n",
       "         [11., 10., 12.],\n",
       "         [10., 10., 13.],\n",
       "         [13., 10., 10.]],\n",
       "\n",
       "        ...,\n",
       "\n",
       "        [[44., 29., 54.],\n",
       "         [43., 25., 59.],\n",
       "         [54., 26., 47.],\n",
       "         ...,\n",
       "         [48., 20., 59.],\n",
       "         [44., 29., 54.],\n",
       "         [44., 23., 60.]],\n",
       "\n",
       "        [[44., 29., 55.],\n",
       "         [44., 25., 59.],\n",
       "         [55., 26., 47.],\n",
       "         ...,\n",
       "         [49., 20., 59.],\n",
       "         [44., 29., 55.],\n",
       "         [44., 24., 60.]],\n",
       "\n",
       "        [[44., 30., 55.],\n",
       "         [45., 25., 59.],\n",
       "         [56., 26., 47.],\n",
       "         ...,\n",
       "         [50., 20., 59.],\n",
       "         [44., 29., 56.],\n",
       "         [45., 24., 60.]]])"
      ]
     },
     "execution_count": 767,
     "metadata": {},
     "output_type": "execute_result"
    }
   ],
   "source": [
    "test"
   ]
  },
  {
   "cell_type": "code",
   "execution_count": 741,
   "id": "8f2512c5-dc2a-430b-a758-b41731742a5c",
   "metadata": {},
   "outputs": [],
   "source": [
    "s_start = torch.tensor([[10., 10., 10.]])"
   ]
  },
  {
   "cell_type": "code",
   "execution_count": 742,
   "id": "28344af6-babe-4a88-9385-ae35f8469601",
   "metadata": {},
   "outputs": [
    {
     "ename": "RuntimeError",
     "evalue": "shape '[100, 3]' is invalid for input of size 3",
     "output_type": "error",
     "traceback": [
      "\u001b[0;31m---------------------------------------------------------------------------\u001b[0m",
      "\u001b[0;31mRuntimeError\u001b[0m                              Traceback (most recent call last)",
      "\u001b[0;32m/tmp/ipykernel_387/596155234.py\u001b[0m in \u001b[0;36m<module>\u001b[0;34m\u001b[0m\n\u001b[0;32m----> 1\u001b[0;31m \u001b[0ms_start\u001b[0m\u001b[0;34m.\u001b[0m\u001b[0mreshape\u001b[0m\u001b[0;34m(\u001b[0m\u001b[0;34m[\u001b[0m\u001b[0;36m100\u001b[0m\u001b[0;34m,\u001b[0m \u001b[0;36m3\u001b[0m\u001b[0;34m]\u001b[0m\u001b[0;34m)\u001b[0m\u001b[0;34m\u001b[0m\u001b[0;34m\u001b[0m\u001b[0m\n\u001b[0m",
      "\u001b[0;31mRuntimeError\u001b[0m: shape '[100, 3]' is invalid for input of size 3"
     ]
    }
   ],
   "source": [
    "s_start.reshape([100, 3])"
   ]
  },
  {
   "cell_type": "code",
   "execution_count": 743,
   "id": "28ac324d-936a-471f-a146-250f333fb1ce",
   "metadata": {},
   "outputs": [
    {
     "data": {
      "text/plain": [
       "torch.Size([1, 3])"
      ]
     },
     "execution_count": 746,
     "metadata": {},
     "output_type": "execute_result"
    }
   ],
   "source": [
    "s_start.shape"
   ]
  },
  {
   "cell_type": "code",
   "execution_count": 53,
   "id": "29f44d09-3245-4337-9d2f-ae586491a8c2",
   "metadata": {},
   "outputs": [],
   "source": [
    "import torch\n",
    "import pyro\n",
    "\n",
    "## Define Model\n",
    "def model_0(sequences, num_sequences, max_length, batch_size=None):\n",
    "    \n",
    "    collect = list()\n",
    "    \n",
    "    temp, temp2, data_dim = sequences.shape\n",
    "\n",
    "    rates = torch.tensor([.7, .3, .9])\n",
    "\n",
    "        # s_start = pyro.sample(\n",
    "        #     \"start\", \n",
    "        #     pyro.distributions.Normal(10, 0.01).expand([3]).to_event(1))\n",
    "        # print(s_start)\n",
    "    # s_start = torch.tensor([10., 10., 10.])\n",
    "    ## Loop over sequences\n",
    "    sample_plate = pyro.plate(\"sample\", data_dim, dim=-1)\n",
    "    for i in pyro.plate(\"sequences\", num_sequences, batch_size):\n",
    "        temp_list = list()\n",
    "        s_start = torch.tensor([10., 10., 10.])\n",
    "        for t in pyro.markov(torch.arange(max_length)):\n",
    "\n",
    "            x = pyro.sample(\n",
    "                        \"x_{}_{}\".format(t, i),\n",
    "                        pyro.distributions.Categorical(rates),\n",
    "                        infer={\"enumerate\": \"parallel\"},\n",
    "                    )\n",
    "            \n",
    "            ## Update tensor\n",
    "            update = torch.zeros(3)\n",
    "            update[x] = 1\n",
    "            with sample_plate:\n",
    "                \n",
    "                ## Observed sample\n",
    "                obs = pyro.sample(\n",
    "                    \"y_{}_{}\".format(t, i),\n",
    "                    pyro.distributions.Normal(s_start + update, .01)\n",
    "                )\n",
    "                #print(obs)\n",
    "                temp_list.append(list(obs))\n",
    "            \n",
    "            ## True update\n",
    "            s_start = pyro.deterministic(\"d_{}_{}\".format(t, i), s_start + update, event_dim=1)\n",
    "            \n",
    "        collect.append(torch.tensor(temp_list))\n",
    "    return collect\n",
    "## Inference\n"
   ]
  },
  {
   "cell_type": "code",
   "execution_count": 56,
   "id": "b710d8c1-8ce8-4ea9-bb0a-f151c3582218",
   "metadata": {},
   "outputs": [],
   "source": [
    "temp = model_0(torch.zeros(20, 20, 3), 20, 20)\n",
    "data = torch.stack(temp)"
   ]
  },
  {
   "cell_type": "code",
   "execution_count": 52,
   "id": "5424d32b-38a2-48e9-90a5-75e9e062a380",
   "metadata": {},
   "outputs": [
    {
     "data": {
      "text/plain": [
       "torch.Size([1000, 1000, 3])"
      ]
     },
     "execution_count": 52,
     "metadata": {},
     "output_type": "execute_result"
    }
   ],
   "source": [
    "torch.zeros(1000, 1000, 3).shape"
   ]
  },
  {
   "cell_type": "code",
   "execution_count": 64,
   "id": "b55998e3-86fa-4a0a-98b6-437d495a7994",
   "metadata": {},
   "outputs": [],
   "source": [
    "big_data = data"
   ]
  },
  {
   "cell_type": "markdown",
   "id": "756b62c5-8ee9-41f6-9135-aca77374d323",
   "metadata": {
    "tags": []
   },
   "source": [
    "## Define Models"
   ]
  },
  {
   "cell_type": "markdown",
   "id": "f0a4079b-8451-4e0d-9a82-da4685b8e043",
   "metadata": {
    "tags": []
   },
   "source": [
    "### Unvectorized Loop Model (used for data gen)"
   ]
  },
  {
   "cell_type": "code",
   "execution_count": 4,
   "id": "ae739267-c2d2-4124-a07a-f4cbbc4da488",
   "metadata": {},
   "outputs": [],
   "source": [
    "## Define Model\n",
    "def model_0(sequences):\n",
    "    \n",
    "    collect = list()\n",
    "    \n",
    "    num_sequences, max_length, data_dim = sequences.shape\n",
    "    \n",
    "    ## Define true rates\n",
    "    # rates = torch.tensor([.7, .3, .9])\n",
    "    rates = pyro.sample(\n",
    "        \"rates\",\n",
    "        pyro.distributions.LogNormal(torch.tensor([-.15, -1.25, -.15]), .1).to_event(1),\n",
    "    )\n",
    "\n",
    "    ## Loop over sequences\n",
    "    sample_plate = pyro.plate(\"sample\", data_dim, dim=-1)\n",
    "    for i in pyro.plate(\"sequences\", num_sequences):\n",
    "        temp_list = list()\n",
    "        s_start = torch.tensor([10., 10., 10.])\n",
    "        for t in pyro.markov(torch.arange(max_length)):\n",
    "\n",
    "            x = pyro.sample(\n",
    "                        \"x_{}_{}\".format(t, i),\n",
    "                        pyro.distributions.Categorical(rates),\n",
    "                        infer={\"enumerate\": \"parallel\"},\n",
    "                    )\n",
    "            print(x.shape)\n",
    "            print(x)\n",
    "            ## Update tensor\n",
    "            update = torch.zeros(3)\n",
    "            update[x] = 1\n",
    "            print(update)\n",
    "            print(s_start + update)\n",
    "            with sample_plate:\n",
    "                \n",
    "                print(pyro.sample(\n",
    "                    \"meh_{}_{}\".format(t, i),\n",
    "                    pyro.distributions.Normal(s_start + update, .01),\n",
    "                    #obs=sequences[i, t]\n",
    "                ).shape)\n",
    "                print(sequences[i, t].shape)\n",
    "                ## Observed sample\n",
    "                obs = pyro.sample(\n",
    "                    \"y_{}_{}\".format(t, i),\n",
    "                    pyro.distributions.Normal(s_start + update, .01),\n",
    "                    obs=sequences[i, t]\n",
    "                )\n",
    "                #print(obs)\n",
    "                temp_list.append(list(obs))\n",
    "            \n",
    "            ## True update\n",
    "            s_start = pyro.deterministic(\"d_{}_{}\".format(t, i), s_start + update, event_dim=1)\n",
    "            print(\" \")\n",
    "        collect.append(torch.tensor(temp_list))\n",
    "    return collect\n"
   ]
  },
  {
   "cell_type": "code",
   "execution_count": 542,
   "id": "e2402d9d-7c80-4424-8051-7c7d514fbc19",
   "metadata": {},
   "outputs": [],
   "source": [
    "index = torch.tensor([[[0]],\n",
    "\n",
    "        [[1]],\n",
    "\n",
    "        [[2]]])"
   ]
  },
  {
   "cell_type": "code",
   "execution_count": 543,
   "id": "acaa32f5-ef1c-4233-8fe5-a3e94fdcb5fe",
   "metadata": {},
   "outputs": [],
   "source": [
    "update = torch.zeros(3)\n"
   ]
  },
  {
   "cell_type": "code",
   "execution_count": 546,
   "id": "2a8cc3b4-3d86-42e5-b1dd-eba9a9168518",
   "metadata": {},
   "outputs": [],
   "source": [
    "update[index] = 1."
   ]
  },
  {
   "cell_type": "code",
   "execution_count": 547,
   "id": "b5e29700-f8e0-4e40-9b99-9f2249cf6558",
   "metadata": {},
   "outputs": [
    {
     "data": {
      "text/plain": [
       "tensor([1., 1., 1.])"
      ]
     },
     "execution_count": 547,
     "metadata": {},
     "output_type": "execute_result"
    }
   ],
   "source": [
    "update"
   ]
  },
  {
   "cell_type": "code",
   "execution_count": 541,
   "id": "ea960aed-e1fe-4043-9b02-018392de566b",
   "metadata": {
    "collapsed": true,
    "jupyter": {
     "outputs_hidden": true
    },
    "tags": []
   },
   "outputs": [
    {
     "name": "stdout",
     "output_type": "stream",
     "text": [
      "torch.Size([])\n",
      "tensor(2)\n",
      "tensor([0., 0., 1.])\n",
      "tensor([10., 10., 11.])\n",
      "torch.Size([3])\n",
      "torch.Size([3])\n",
      " \n",
      "torch.Size([])\n",
      "tensor(2)\n",
      "tensor([0., 0., 1.])\n",
      "tensor([10., 10., 12.])\n",
      "torch.Size([3])\n",
      "torch.Size([3])\n",
      " \n",
      "torch.Size([])\n",
      "tensor(1)\n",
      "tensor([0., 1., 0.])\n",
      "tensor([10., 11., 12.])\n",
      "torch.Size([3])\n",
      "torch.Size([3])\n",
      " \n",
      "torch.Size([])\n",
      "tensor(0)\n",
      "tensor([1., 0., 0.])\n",
      "tensor([11., 11., 12.])\n",
      "torch.Size([3])\n",
      "torch.Size([3])\n",
      " \n",
      "torch.Size([])\n",
      "tensor(0)\n",
      "tensor([1., 0., 0.])\n",
      "tensor([12., 11., 12.])\n",
      "torch.Size([3])\n",
      "torch.Size([3])\n",
      " \n",
      "torch.Size([])\n",
      "tensor(2)\n",
      "tensor([0., 0., 1.])\n",
      "tensor([12., 11., 13.])\n",
      "torch.Size([3])\n",
      "torch.Size([3])\n",
      " \n",
      "torch.Size([])\n",
      "tensor(0)\n",
      "tensor([1., 0., 0.])\n",
      "tensor([13., 11., 13.])\n",
      "torch.Size([3])\n",
      "torch.Size([3])\n",
      " \n",
      "torch.Size([])\n",
      "tensor(0)\n",
      "tensor([1., 0., 0.])\n",
      "tensor([14., 11., 13.])\n",
      "torch.Size([3])\n",
      "torch.Size([3])\n",
      " \n",
      "torch.Size([])\n",
      "tensor(0)\n",
      "tensor([1., 0., 0.])\n",
      "tensor([15., 11., 13.])\n",
      "torch.Size([3])\n",
      "torch.Size([3])\n",
      " \n",
      "torch.Size([])\n",
      "tensor(1)\n",
      "tensor([0., 1., 0.])\n",
      "tensor([15., 12., 13.])\n",
      "torch.Size([3])\n",
      "torch.Size([3])\n",
      " \n",
      "torch.Size([])\n",
      "tensor(2)\n",
      "tensor([0., 0., 1.])\n",
      "tensor([10., 10., 11.])\n",
      "torch.Size([3])\n",
      "torch.Size([3])\n",
      " \n",
      "torch.Size([])\n",
      "tensor(0)\n",
      "tensor([1., 0., 0.])\n",
      "tensor([11., 10., 11.])\n",
      "torch.Size([3])\n",
      "torch.Size([3])\n",
      " \n",
      "torch.Size([])\n",
      "tensor(1)\n",
      "tensor([0., 1., 0.])\n",
      "tensor([11., 11., 11.])\n",
      "torch.Size([3])\n",
      "torch.Size([3])\n",
      " \n",
      "torch.Size([])\n",
      "tensor(0)\n",
      "tensor([1., 0., 0.])\n",
      "tensor([12., 11., 11.])\n",
      "torch.Size([3])\n",
      "torch.Size([3])\n",
      " \n",
      "torch.Size([])\n",
      "tensor(0)\n",
      "tensor([1., 0., 0.])\n",
      "tensor([13., 11., 11.])\n",
      "torch.Size([3])\n",
      "torch.Size([3])\n",
      " \n",
      "torch.Size([])\n",
      "tensor(2)\n",
      "tensor([0., 0., 1.])\n",
      "tensor([13., 11., 12.])\n",
      "torch.Size([3])\n",
      "torch.Size([3])\n",
      " \n",
      "torch.Size([])\n",
      "tensor(2)\n",
      "tensor([0., 0., 1.])\n",
      "tensor([13., 11., 13.])\n",
      "torch.Size([3])\n",
      "torch.Size([3])\n",
      " \n",
      "torch.Size([])\n",
      "tensor(1)\n",
      "tensor([0., 1., 0.])\n",
      "tensor([13., 12., 13.])\n",
      "torch.Size([3])\n",
      "torch.Size([3])\n",
      " \n",
      "torch.Size([])\n",
      "tensor(2)\n",
      "tensor([0., 0., 1.])\n",
      "tensor([13., 12., 14.])\n",
      "torch.Size([3])\n",
      "torch.Size([3])\n",
      " \n",
      "torch.Size([])\n",
      "tensor(0)\n",
      "tensor([1., 0., 0.])\n",
      "tensor([14., 12., 14.])\n",
      "torch.Size([3])\n",
      "torch.Size([3])\n",
      " \n",
      "torch.Size([3, 1])\n",
      "tensor([[0],\n",
      "        [1],\n",
      "        [2]])\n",
      "tensor([1., 1., 1.])\n",
      "tensor([11., 11., 11.])\n",
      "torch.Size([3])\n",
      "torch.Size([3])\n",
      " \n",
      "torch.Size([3, 1, 1])\n",
      "tensor([[[0]],\n",
      "\n",
      "        [[1]],\n",
      "\n",
      "        [[2]]])\n",
      "tensor([1., 1., 1.])\n",
      "tensor([12., 12., 12.])\n",
      "torch.Size([3])\n",
      "torch.Size([3])\n",
      " \n",
      "torch.Size([3, 1])\n",
      "tensor([[0],\n",
      "        [1],\n",
      "        [2]])\n",
      "tensor([1., 1., 1.])\n",
      "tensor([13., 13., 13.])\n",
      "torch.Size([3])\n",
      "torch.Size([3])\n",
      " \n",
      "torch.Size([3, 1, 1])\n",
      "tensor([[[0]],\n",
      "\n",
      "        [[1]],\n",
      "\n",
      "        [[2]]])\n",
      "tensor([1., 1., 1.])\n",
      "tensor([14., 14., 14.])\n",
      "torch.Size([3])\n",
      "torch.Size([3])\n",
      " \n",
      "torch.Size([3, 1])\n",
      "tensor([[0],\n",
      "        [1],\n",
      "        [2]])\n",
      "tensor([1., 1., 1.])\n",
      "tensor([15., 15., 15.])\n",
      "torch.Size([3])\n",
      "torch.Size([3])\n",
      " \n",
      "torch.Size([3, 1, 1])\n",
      "tensor([[[0]],\n",
      "\n",
      "        [[1]],\n",
      "\n",
      "        [[2]]])\n",
      "tensor([1., 1., 1.])\n",
      "tensor([16., 16., 16.])\n",
      "torch.Size([3])\n",
      "torch.Size([3])\n",
      " \n",
      "torch.Size([3, 1])\n",
      "tensor([[0],\n",
      "        [1],\n",
      "        [2]])\n",
      "tensor([1., 1., 1.])\n",
      "tensor([17., 17., 17.])\n",
      "torch.Size([3])\n",
      "torch.Size([3])\n",
      " \n",
      "torch.Size([3, 1, 1])\n",
      "tensor([[[0]],\n",
      "\n",
      "        [[1]],\n",
      "\n",
      "        [[2]]])\n",
      "tensor([1., 1., 1.])\n",
      "tensor([18., 18., 18.])\n",
      "torch.Size([3])\n",
      "torch.Size([3])\n",
      " \n",
      "torch.Size([3, 1])\n",
      "tensor([[0],\n",
      "        [1],\n",
      "        [2]])\n",
      "tensor([1., 1., 1.])\n",
      "tensor([19., 19., 19.])\n",
      "torch.Size([3])\n",
      "torch.Size([3])\n",
      " \n",
      "torch.Size([3, 1, 1])\n",
      "tensor([[[0]],\n",
      "\n",
      "        [[1]],\n",
      "\n",
      "        [[2]]])\n",
      "tensor([1., 1., 1.])\n",
      "tensor([20., 20., 20.])\n",
      "torch.Size([3])\n",
      "torch.Size([3])\n",
      " \n",
      "torch.Size([3, 1])\n",
      "tensor([[0],\n",
      "        [1],\n",
      "        [2]])\n",
      "tensor([1., 1., 1.])\n",
      "tensor([11., 11., 11.])\n",
      "torch.Size([3])\n",
      "torch.Size([3])\n",
      " \n",
      "torch.Size([3, 1, 1])\n",
      "tensor([[[0]],\n",
      "\n",
      "        [[1]],\n",
      "\n",
      "        [[2]]])\n",
      "tensor([1., 1., 1.])\n",
      "tensor([12., 12., 12.])\n",
      "torch.Size([3])\n",
      "torch.Size([3])\n",
      " \n",
      "torch.Size([3, 1])\n",
      "tensor([[0],\n",
      "        [1],\n",
      "        [2]])\n",
      "tensor([1., 1., 1.])\n",
      "tensor([13., 13., 13.])\n",
      "torch.Size([3])\n",
      "torch.Size([3])\n",
      " \n",
      "torch.Size([3, 1, 1])\n",
      "tensor([[[0]],\n",
      "\n",
      "        [[1]],\n",
      "\n",
      "        [[2]]])\n",
      "tensor([1., 1., 1.])\n",
      "tensor([14., 14., 14.])\n",
      "torch.Size([3])\n",
      "torch.Size([3])\n",
      " \n",
      "torch.Size([3, 1])\n",
      "tensor([[0],\n",
      "        [1],\n",
      "        [2]])\n",
      "tensor([1., 1., 1.])\n",
      "tensor([15., 15., 15.])\n",
      "torch.Size([3])\n",
      "torch.Size([3])\n",
      " \n",
      "torch.Size([3, 1, 1])\n",
      "tensor([[[0]],\n",
      "\n",
      "        [[1]],\n",
      "\n",
      "        [[2]]])\n",
      "tensor([1., 1., 1.])\n",
      "tensor([16., 16., 16.])\n",
      "torch.Size([3])\n",
      "torch.Size([3])\n",
      " \n",
      "torch.Size([3, 1])\n",
      "tensor([[0],\n",
      "        [1],\n",
      "        [2]])\n",
      "tensor([1., 1., 1.])\n",
      "tensor([17., 17., 17.])\n",
      "torch.Size([3])\n",
      "torch.Size([3])\n",
      " \n",
      "torch.Size([3, 1, 1])\n",
      "tensor([[[0]],\n",
      "\n",
      "        [[1]],\n",
      "\n",
      "        [[2]]])\n",
      "tensor([1., 1., 1.])\n",
      "tensor([18., 18., 18.])\n",
      "torch.Size([3])\n",
      "torch.Size([3])\n",
      " \n",
      "torch.Size([3, 1])\n",
      "tensor([[0],\n",
      "        [1],\n",
      "        [2]])\n",
      "tensor([1., 1., 1.])\n",
      "tensor([19., 19., 19.])\n",
      "torch.Size([3])\n",
      "torch.Size([3])\n",
      " \n",
      "torch.Size([3, 1, 1])\n",
      "tensor([[[0]],\n",
      "\n",
      "        [[1]],\n",
      "\n",
      "        [[2]]])\n",
      "tensor([1., 1., 1.])\n",
      "tensor([20., 20., 20.])\n",
      "torch.Size([3])\n",
      "torch.Size([3])\n",
      " \n"
     ]
    },
    {
     "data": {
      "text/plain": [
       "5692781.0"
      ]
     },
     "execution_count": 541,
     "metadata": {},
     "output_type": "execute_result"
    }
   ],
   "source": [
    "hmm_guide = pyro.infer.autoguide.AutoDelta(pyro.poutine.block(model_0, expose=[\"rates\"]))\n",
    "pyro.clear_param_store()\n",
    "elbo = pyro.infer.TraceEnum_ELBO(max_plate_nesting=1)\n",
    "elbo.loss(model_0, hmm_guide, data) ## Ensure model compiles"
   ]
  },
  {
   "cell_type": "markdown",
   "id": "01cb6352-acb1-4dd6-9630-c87dfbeca6a8",
   "metadata": {
    "tags": []
   },
   "source": [
    "### Vectorized Model (used for inference)"
   ]
  },
  {
   "cell_type": "code",
   "execution_count": 8,
   "id": "b6ecb6c0-6246-484f-9147-fd14fc023682",
   "metadata": {},
   "outputs": [],
   "source": [
    "def model_1(data, batch_size=None):\n",
    "    \n",
    "    num_sequences, max_length, data_dim = data.shape\n",
    "\n",
    "    ## Rate priors (to infer)\n",
    "    rates = pyro.sample(\n",
    "        \"rates\",\n",
    "        pyro.distributions.LogNormal(torch.tensor([-.15, -1.25, -.15]), .1).to_event(1),\n",
    "    )\n",
    "\n",
    "    ## Starting points\n",
    "    \n",
    "    \n",
    "    sample_plate = pyro.plate(\"sample\", data_dim, dim=-1)\n",
    "    with pyro.plate(\"sequences\", num_sequences, batch_size, dim=-2) as batch:\n",
    "        s_start = torch.tensor([10., 10., 10.])\n",
    "        for t in pyro.markov(range(max_length)):\n",
    "\n",
    "            x = pyro.sample(\n",
    "                    \"x_{}\".format(t),\n",
    "                    pyro.distributions.Categorical(rates),\n",
    "                    infer={\"enumerate\": \"parallel\"},\n",
    "                )\n",
    "            print(x.shape)\n",
    "            ## Define update matrix\n",
    "            update = torch.zeros(tuple(torch.cat((torch.tensor(x.shape[:-1]), torch.tensor([3])))))\n",
    "            \n",
    "            ## Update first run without enumeration\n",
    "            if len(x.shape) == 2:\n",
    "                update[torch.arange(len(update)), torch.flatten(x).long()] = 1.\n",
    "            ## Update second run with enumeration. Cycles between 4 and 5 dimension tensor\n",
    "            elif len(x.shape) == 4:\n",
    "                update[torch.arange(len(update)), 0, 0,torch.flatten(x).long()] = 1.\n",
    "            else:\n",
    "                update[torch.arange(len(update)), 0, 0,0,torch.flatten(x).long()] = 1.\n",
    "            \n",
    "            ## Ensure `s_start` shape matches `update` matrix dimension.\n",
    "            ## Enumeration run cycles between 4 and 5 dimensions, \n",
    "            ## `s_start` changes dimensions when combined.\n",
    "            if s_start.shape != torch.Size([3]):\n",
    "                s_start = s_start.reshape(update.shape)\n",
    "\n",
    "            with sample_plate:\n",
    "                pyro.sample(\n",
    "                    \"y_{}\".format(t),\n",
    "                    pyro.distributions.Normal(s_start + update, .01),\n",
    "                    obs=data[batch, t]\n",
    "                )\n",
    "            \n",
    "            ## Update s_start for next step\n",
    "            s_start = pyro.deterministic(\"d_{}\".format(t), s_start + update)\n"
   ]
  },
  {
   "cell_type": "markdown",
   "id": "7ac15c4b-b7a7-40bf-8043-b8162510052e",
   "metadata": {
    "jp-MarkdownHeadingCollapsed": true,
    "tags": []
   },
   "source": [
    "## Generate Data"
   ]
  },
  {
   "cell_type": "code",
   "execution_count": 5,
   "id": "0ca0190a-b528-422a-96c7-163a3ce7aac4",
   "metadata": {
    "collapsed": true,
    "jupyter": {
     "outputs_hidden": true
    },
    "tags": []
   },
   "outputs": [
    {
     "name": "stdout",
     "output_type": "stream",
     "text": [
      "torch.Size([])\n",
      "tensor(0)\n",
      "tensor([1., 0., 0.])\n",
      "tensor([11., 10., 10.])\n",
      "torch.Size([3])\n",
      "torch.Size([3])\n",
      " \n",
      "torch.Size([])\n",
      "tensor(2)\n",
      "tensor([0., 0., 1.])\n",
      "tensor([11., 10., 11.])\n",
      "torch.Size([3])\n",
      "torch.Size([3])\n",
      " \n",
      "torch.Size([])\n",
      "tensor(2)\n",
      "tensor([0., 0., 1.])\n",
      "tensor([11., 10., 12.])\n",
      "torch.Size([3])\n",
      "torch.Size([3])\n",
      " \n",
      "torch.Size([])\n",
      "tensor(1)\n",
      "tensor([0., 1., 0.])\n",
      "tensor([11., 11., 12.])\n",
      "torch.Size([3])\n",
      "torch.Size([3])\n",
      " \n",
      "torch.Size([])\n",
      "tensor(0)\n",
      "tensor([1., 0., 0.])\n",
      "tensor([12., 11., 12.])\n",
      "torch.Size([3])\n",
      "torch.Size([3])\n",
      " \n",
      "torch.Size([])\n",
      "tensor(0)\n",
      "tensor([1., 0., 0.])\n",
      "tensor([13., 11., 12.])\n",
      "torch.Size([3])\n",
      "torch.Size([3])\n",
      " \n",
      "torch.Size([])\n",
      "tensor(0)\n",
      "tensor([1., 0., 0.])\n",
      "tensor([14., 11., 12.])\n",
      "torch.Size([3])\n",
      "torch.Size([3])\n",
      " \n",
      "torch.Size([])\n",
      "tensor(2)\n",
      "tensor([0., 0., 1.])\n",
      "tensor([14., 11., 13.])\n",
      "torch.Size([3])\n",
      "torch.Size([3])\n",
      " \n",
      "torch.Size([])\n",
      "tensor(2)\n",
      "tensor([0., 0., 1.])\n",
      "tensor([14., 11., 14.])\n",
      "torch.Size([3])\n",
      "torch.Size([3])\n",
      " \n",
      "torch.Size([])\n",
      "tensor(2)\n",
      "tensor([0., 0., 1.])\n",
      "tensor([14., 11., 15.])\n",
      "torch.Size([3])\n",
      "torch.Size([3])\n",
      " \n",
      "torch.Size([])\n",
      "tensor(1)\n",
      "tensor([0., 1., 0.])\n",
      "tensor([10., 11., 10.])\n",
      "torch.Size([3])\n",
      "torch.Size([3])\n",
      " \n",
      "torch.Size([])\n",
      "tensor(0)\n",
      "tensor([1., 0., 0.])\n",
      "tensor([11., 11., 10.])\n",
      "torch.Size([3])\n",
      "torch.Size([3])\n",
      " \n",
      "torch.Size([])\n",
      "tensor(2)\n",
      "tensor([0., 0., 1.])\n",
      "tensor([11., 11., 11.])\n",
      "torch.Size([3])\n",
      "torch.Size([3])\n",
      " \n",
      "torch.Size([])\n",
      "tensor(1)\n",
      "tensor([0., 1., 0.])\n",
      "tensor([11., 12., 11.])\n",
      "torch.Size([3])\n",
      "torch.Size([3])\n",
      " \n",
      "torch.Size([])\n",
      "tensor(0)\n",
      "tensor([1., 0., 0.])\n",
      "tensor([12., 12., 11.])\n",
      "torch.Size([3])\n",
      "torch.Size([3])\n",
      " \n",
      "torch.Size([])\n",
      "tensor(1)\n",
      "tensor([0., 1., 0.])\n",
      "tensor([12., 13., 11.])\n",
      "torch.Size([3])\n",
      "torch.Size([3])\n",
      " \n",
      "torch.Size([])\n",
      "tensor(0)\n",
      "tensor([1., 0., 0.])\n",
      "tensor([13., 13., 11.])\n",
      "torch.Size([3])\n",
      "torch.Size([3])\n",
      " \n",
      "torch.Size([])\n",
      "tensor(2)\n",
      "tensor([0., 0., 1.])\n",
      "tensor([13., 13., 12.])\n",
      "torch.Size([3])\n",
      "torch.Size([3])\n",
      " \n",
      "torch.Size([])\n",
      "tensor(0)\n",
      "tensor([1., 0., 0.])\n",
      "tensor([14., 13., 12.])\n",
      "torch.Size([3])\n",
      "torch.Size([3])\n",
      " \n",
      "torch.Size([])\n",
      "tensor(2)\n",
      "tensor([0., 0., 1.])\n",
      "tensor([14., 13., 13.])\n",
      "torch.Size([3])\n",
      "torch.Size([3])\n",
      " \n"
     ]
    }
   ],
   "source": [
    "data_shape = torch.zeros(2, 10, 3)\n",
    "data_gen = model_0(data_shape)\n",
    "data = torch.stack(data_gen)"
   ]
  },
  {
   "cell_type": "code",
   "execution_count": 6,
   "id": "a13ae4da-ec47-4460-b6d5-462f76afc082",
   "metadata": {
    "tags": []
   },
   "outputs": [
    {
     "data": {
      "text/plain": [
       "torch.Size([2, 10, 3])"
      ]
     },
     "execution_count": 6,
     "metadata": {},
     "output_type": "execute_result"
    }
   ],
   "source": [
    "data.shape"
   ]
  },
  {
   "cell_type": "markdown",
   "id": "aa499f53-99ca-4863-902f-56ed659630cc",
   "metadata": {
    "tags": []
   },
   "source": [
    "### Save Data"
   ]
  },
  {
   "cell_type": "code",
   "execution_count": 435,
   "id": "1bddd790-3d19-40ab-beb4-4fc46ae57798",
   "metadata": {},
   "outputs": [],
   "source": [
    "with open('../data/test_data.pickle', 'wb') as handle:\n",
    "    pickle.dump(data, handle, protocol=pickle.HIGHEST_PROTOCOL)"
   ]
  },
  {
   "cell_type": "markdown",
   "id": "09e69377-fff4-4d70-abef-81074896cbd2",
   "metadata": {
    "tags": []
   },
   "source": [
    "### Confirm rates make sense"
   ]
  },
  {
   "cell_type": "markdown",
   "id": "6ca53b3f-d1e4-499f-b056-79c690501948",
   "metadata": {},
   "source": [
    "#### S1"
   ]
  },
  {
   "cell_type": "code",
   "execution_count": 6,
   "id": "1a8d0ca8-5ccb-4f72-b8e7-7355a557ce68",
   "metadata": {},
   "outputs": [
    {
     "data": {
      "text/plain": [
       "(array([3., 1., 6., 5., 0., 1., 1., 2., 0., 1.]),\n",
       " array([13.998356, 14.798813, 15.599271, 16.399729, 17.200186, 18.000643,\n",
       "        18.8011  , 19.601557, 20.402016, 21.202473, 22.00293 ],\n",
       "       dtype=float32),\n",
       " <BarContainer object of 10 artists>)"
      ]
     },
     "execution_count": 6,
     "metadata": {},
     "output_type": "execute_result"
    },
    {
     "data": {
      "image/png": "[encoded data removed]",
      "text/plain": [
       "<Figure size 432x288 with 1 Axes>"
      ]
     },
     "metadata": {
      "needs_background": "light"
     },
     "output_type": "display_data"
    }
   ],
   "source": [
    "fig, ax = plt.subplots()\n",
    "\n",
    "ax.hist(np.array(data[:, 19, 0]), bins = 10)"
   ]
  },
  {
   "cell_type": "markdown",
   "id": "7e8d1daf-d6c2-4c28-b4d4-b8381c6c2034",
   "metadata": {},
   "source": [
    "#### S2"
   ]
  },
  {
   "cell_type": "code",
   "execution_count": 7,
   "id": "24696cbf-3e0c-49c6-9edd-8754cdaf0ccc",
   "metadata": {},
   "outputs": [
    {
     "data": {
      "text/plain": [
       "(array([1., 2., 0., 6., 0., 4., 6., 0., 0., 1.]),\n",
       " array([ 9.990631, 10.589281, 11.18793 , 11.78658 , 12.385229, 12.983879,\n",
       "        13.582529, 14.181178, 14.779828, 15.378477, 15.977127],\n",
       "       dtype=float32),\n",
       " <BarContainer object of 10 artists>)"
      ]
     },
     "execution_count": 7,
     "metadata": {},
     "output_type": "execute_result"
    },
    {
     "data": {
      "image/png": "[encoded data removed]",
      "text/plain": [
       "<Figure size 432x288 with 1 Axes>"
      ]
     },
     "metadata": {
      "needs_background": "light"
     },
     "output_type": "display_data"
    }
   ],
   "source": [
    "fig, ax = plt.subplots()\n",
    "\n",
    "ax.hist(np.array(data[:, 19, 1]), bins = 10)"
   ]
  },
  {
   "cell_type": "markdown",
   "id": "fb74ed7c-3d22-4938-b577-47281abc8c79",
   "metadata": {},
   "source": [
    "#### S3"
   ]
  },
  {
   "cell_type": "code",
   "execution_count": 2,
   "id": "0bc6b668-0ed8-4c03-85ad-5a7d83980373",
   "metadata": {},
   "outputs": [],
   "source": [
    "import numpy as np"
   ]
  },
  {
   "cell_type": "code",
   "execution_count": 3,
   "id": "4c950b30-ef28-4ffa-8da0-2c80ab0167d8",
   "metadata": {},
   "outputs": [
    {
     "data": {
      "text/plain": [
       "array([0.90125046, 0.015625  , 0.35355339])"
      ]
     },
     "execution_count": 3,
     "metadata": {},
     "output_type": "execute_result"
    }
   ],
   "source": [
    "2**np.array([-.15, -6., -1.5])"
   ]
  },
  {
   "cell_type": "code",
   "execution_count": 4,
   "id": "6e45d416-18ee-4405-9f45-cde5137407ee",
   "metadata": {},
   "outputs": [
    {
     "data": {
      "text/plain": [
       "array([0.90125046, 0.0625    , 0.5       ])"
      ]
     },
     "execution_count": 4,
     "metadata": {},
     "output_type": "execute_result"
    }
   ],
   "source": [
    "2**np.array([-.15, -4., -1.])"
   ]
  },
  {
   "cell_type": "code",
   "execution_count": 84,
   "id": "36af4ec0-5c1e-4272-987a-5707829ceda8",
   "metadata": {},
   "outputs": [
    {
     "data": {
      "text/plain": [
       "(array([2., 1., 7., 0., 2., 0., 0., 3., 3., 2.]),\n",
       " array([15.9991045, 16.699142 , 17.399181 , 18.099218 , 18.799257 ,\n",
       "        19.499296 , 20.199333 , 20.899372 , 21.599411 , 22.299448 ,\n",
       "        22.999487 ], dtype=float32),\n",
       " <BarContainer object of 10 artists>)"
      ]
     },
     "execution_count": 84,
     "metadata": {},
     "output_type": "execute_result"
    },
    {
     "data": {
      "image/png": "[encoded data removed]",
      "text/plain": [
       "<Figure size 432x288 with 1 Axes>"
      ]
     },
     "metadata": {
      "needs_background": "light"
     },
     "output_type": "display_data"
    }
   ],
   "source": [
    "fig, ax = plt.subplots()\n",
    "\n",
    "ax.hist(np.array(data[:, 19, 2]), bins = 10)"
   ]
  },
  {
   "cell_type": "markdown",
   "id": "6134d219-cfda-4c2f-8d45-31aad3ac66f9",
   "metadata": {
    "jp-MarkdownHeadingCollapsed": true,
    "tags": []
   },
   "source": [
    "## Inference (!)"
   ]
  },
  {
   "cell_type": "code",
   "execution_count": 502,
   "id": "7ed35eb1-b5cb-4c59-91f1-4aef0c61c19b",
   "metadata": {
    "tags": []
   },
   "outputs": [],
   "source": [
    "def infer_rates(model, observations, learning_rate=.001, num_steps = 1000, beta0=.9, beta1=.99):\n",
    "    \n",
    "    hmm_guide = pyro.infer.autoguide.AutoDelta(pyro.poutine.block(model, expose=[\"rates\"]))\n",
    "    pyro.clear_param_store()\n",
    "    elbo = pyro.infer.TraceEnum_ELBO(max_plate_nesting=3)\n",
    "    elbo.loss(model, hmm_guide, observations) ## Ensure model compiles\n",
    "\n",
    "    rates = list()\n",
    "\n",
    "    ## Infer rates\n",
    "    optim = pyro.optim.Adam({\"lr\": learning_rate, \"betas\" : (beta0, beta1)})\n",
    "    svi = pyro.infer.SVI(model, hmm_guide, optim, elbo)\n",
    "    for step in range(num_steps):\n",
    "        svi.step(observations)\n",
    "        for key, value in pyro.get_param_store().items():\n",
    "            rates.append(value)\n",
    "#         if step %100 == 0:\n",
    "\n",
    "#             print(f\"Loss: {svi.evaluate_loss(data)}\")\n",
    "#             for key, value in pyro.get_param_store().items():    \n",
    "#                 print(f\"{key}:\\n{value}\\n\")\n",
    "    \n",
    "    rates = np.array([x.detach().numpy() for x in rates])\n",
    "    return rates\n"
   ]
  },
  {
   "cell_type": "code",
   "execution_count": 505,
   "id": "f6bf348e-fc37-4ff5-ab85-ec9d38c6ef52",
   "metadata": {
    "collapsed": true,
    "jupyter": {
     "outputs_hidden": true
    },
    "tags": []
   },
   "outputs": [
    {
     "ename": "KeyboardInterrupt",
     "evalue": "",
     "output_type": "error",
     "traceback": [
      "\u001b[0;31m---------------------------------------------------------------------------\u001b[0m",
      "\u001b[0;31mKeyboardInterrupt\u001b[0m                         Traceback (most recent call last)",
      "\u001b[0;32m/tmp/ipykernel_62/472032555.py\u001b[0m in \u001b[0;36m<module>\u001b[0;34m\u001b[0m\n\u001b[0;32m----> 1\u001b[0;31m \u001b[0mrate_results\u001b[0m \u001b[0;34m=\u001b[0m \u001b[0minfer_rates\u001b[0m\u001b[0;34m(\u001b[0m\u001b[0mmodel_0\u001b[0m\u001b[0;34m,\u001b[0m \u001b[0mdata\u001b[0m\u001b[0;34m,\u001b[0m \u001b[0mlearning_rate\u001b[0m\u001b[0;34m=\u001b[0m\u001b[0;36m.0001\u001b[0m\u001b[0;34m,\u001b[0m \u001b[0mnum_steps\u001b[0m \u001b[0;34m=\u001b[0m \u001b[0;36m1000\u001b[0m\u001b[0;34m)\u001b[0m\u001b[0;34m\u001b[0m\u001b[0;34m\u001b[0m\u001b[0m\n\u001b[0m",
      "\u001b[0;32m/tmp/ipykernel_62/1380246488.py\u001b[0m in \u001b[0;36minfer_rates\u001b[0;34m(model, observations, learning_rate, num_steps, beta0, beta1)\u001b[0m\n\u001b[1;32m     12\u001b[0m     \u001b[0msvi\u001b[0m \u001b[0;34m=\u001b[0m \u001b[0mpyro\u001b[0m\u001b[0;34m.\u001b[0m\u001b[0minfer\u001b[0m\u001b[0;34m.\u001b[0m\u001b[0mSVI\u001b[0m\u001b[0;34m(\u001b[0m\u001b[0mmodel\u001b[0m\u001b[0;34m,\u001b[0m \u001b[0mhmm_guide\u001b[0m\u001b[0;34m,\u001b[0m \u001b[0moptim\u001b[0m\u001b[0;34m,\u001b[0m \u001b[0melbo\u001b[0m\u001b[0;34m)\u001b[0m\u001b[0;34m\u001b[0m\u001b[0;34m\u001b[0m\u001b[0m\n\u001b[1;32m     13\u001b[0m     \u001b[0;32mfor\u001b[0m \u001b[0mstep\u001b[0m \u001b[0;32min\u001b[0m \u001b[0mrange\u001b[0m\u001b[0;34m(\u001b[0m\u001b[0mnum_steps\u001b[0m\u001b[0;34m)\u001b[0m\u001b[0;34m:\u001b[0m\u001b[0;34m\u001b[0m\u001b[0;34m\u001b[0m\u001b[0m\n\u001b[0;32m---> 14\u001b[0;31m         \u001b[0msvi\u001b[0m\u001b[0;34m.\u001b[0m\u001b[0mstep\u001b[0m\u001b[0;34m(\u001b[0m\u001b[0mobservations\u001b[0m\u001b[0;34m)\u001b[0m\u001b[0;34m\u001b[0m\u001b[0;34m\u001b[0m\u001b[0m\n\u001b[0m\u001b[1;32m     15\u001b[0m         \u001b[0;32mfor\u001b[0m \u001b[0mkey\u001b[0m\u001b[0;34m,\u001b[0m \u001b[0mvalue\u001b[0m \u001b[0;32min\u001b[0m \u001b[0mpyro\u001b[0m\u001b[0;34m.\u001b[0m\u001b[0mget_param_store\u001b[0m\u001b[0;34m(\u001b[0m\u001b[0;34m)\u001b[0m\u001b[0;34m.\u001b[0m\u001b[0mitems\u001b[0m\u001b[0;34m(\u001b[0m\u001b[0;34m)\u001b[0m\u001b[0;34m:\u001b[0m\u001b[0;34m\u001b[0m\u001b[0;34m\u001b[0m\u001b[0m\n\u001b[1;32m     16\u001b[0m             \u001b[0mrates\u001b[0m\u001b[0;34m.\u001b[0m\u001b[0mappend\u001b[0m\u001b[0;34m(\u001b[0m\u001b[0mvalue\u001b[0m\u001b[0;34m)\u001b[0m\u001b[0;34m\u001b[0m\u001b[0;34m\u001b[0m\u001b[0m\n",
      "\u001b[0;32m~/anaconda3/lib/python3.9/site-packages/pyro/infer/svi.py\u001b[0m in \u001b[0;36mstep\u001b[0;34m(self, *args, **kwargs)\u001b[0m\n\u001b[1;32m    143\u001b[0m         \u001b[0;31m# get loss and compute gradients\u001b[0m\u001b[0;34m\u001b[0m\u001b[0;34m\u001b[0m\u001b[0m\n\u001b[1;32m    144\u001b[0m         \u001b[0;32mwith\u001b[0m \u001b[0mpoutine\u001b[0m\u001b[0;34m.\u001b[0m\u001b[0mtrace\u001b[0m\u001b[0;34m(\u001b[0m\u001b[0mparam_only\u001b[0m\u001b[0;34m=\u001b[0m\u001b[0;32mTrue\u001b[0m\u001b[0;34m)\u001b[0m \u001b[0;32mas\u001b[0m \u001b[0mparam_capture\u001b[0m\u001b[0;34m:\u001b[0m\u001b[0;34m\u001b[0m\u001b[0;34m\u001b[0m\u001b[0m\n\u001b[0;32m--> 145\u001b[0;31m             \u001b[0mloss\u001b[0m \u001b[0;34m=\u001b[0m \u001b[0mself\u001b[0m\u001b[0;34m.\u001b[0m\u001b[0mloss_and_grads\u001b[0m\u001b[0;34m(\u001b[0m\u001b[0mself\u001b[0m\u001b[0;34m.\u001b[0m\u001b[0mmodel\u001b[0m\u001b[0;34m,\u001b[0m \u001b[0mself\u001b[0m\u001b[0;34m.\u001b[0m\u001b[0mguide\u001b[0m\u001b[0;34m,\u001b[0m \u001b[0;34m*\u001b[0m\u001b[0margs\u001b[0m\u001b[0;34m,\u001b[0m \u001b[0;34m**\u001b[0m\u001b[0mkwargs\u001b[0m\u001b[0;34m)\u001b[0m\u001b[0;34m\u001b[0m\u001b[0;34m\u001b[0m\u001b[0m\n\u001b[0m\u001b[1;32m    146\u001b[0m \u001b[0;34m\u001b[0m\u001b[0m\n\u001b[1;32m    147\u001b[0m         params = set(\n",
      "\u001b[0;32m~/anaconda3/lib/python3.9/site-packages/pyro/infer/traceenum_elbo.py\u001b[0m in \u001b[0;36mloss_and_grads\u001b[0;34m(self, model, guide, *args, **kwargs)\u001b[0m\n\u001b[1;32m    449\u001b[0m         \"\"\"\n\u001b[1;32m    450\u001b[0m         \u001b[0melbo\u001b[0m \u001b[0;34m=\u001b[0m \u001b[0;36m0.0\u001b[0m\u001b[0;34m\u001b[0m\u001b[0;34m\u001b[0m\u001b[0m\n\u001b[0;32m--> 451\u001b[0;31m         \u001b[0;32mfor\u001b[0m \u001b[0mmodel_trace\u001b[0m\u001b[0;34m,\u001b[0m \u001b[0mguide_trace\u001b[0m \u001b[0;32min\u001b[0m \u001b[0mself\u001b[0m\u001b[0;34m.\u001b[0m\u001b[0m_get_traces\u001b[0m\u001b[0;34m(\u001b[0m\u001b[0mmodel\u001b[0m\u001b[0;34m,\u001b[0m \u001b[0mguide\u001b[0m\u001b[0;34m,\u001b[0m \u001b[0margs\u001b[0m\u001b[0;34m,\u001b[0m \u001b[0mkwargs\u001b[0m\u001b[0;34m)\u001b[0m\u001b[0;34m:\u001b[0m\u001b[0;34m\u001b[0m\u001b[0;34m\u001b[0m\u001b[0m\n\u001b[0m\u001b[1;32m    452\u001b[0m             \u001b[0melbo_particle\u001b[0m \u001b[0;34m=\u001b[0m \u001b[0m_compute_dice_elbo\u001b[0m\u001b[0;34m(\u001b[0m\u001b[0mmodel_trace\u001b[0m\u001b[0;34m,\u001b[0m \u001b[0mguide_trace\u001b[0m\u001b[0;34m)\u001b[0m\u001b[0;34m\u001b[0m\u001b[0;34m\u001b[0m\u001b[0m\n\u001b[1;32m    453\u001b[0m             \u001b[0;32mif\u001b[0m \u001b[0mis_identically_zero\u001b[0m\u001b[0;34m(\u001b[0m\u001b[0melbo_particle\u001b[0m\u001b[0;34m)\u001b[0m\u001b[0;34m:\u001b[0m\u001b[0;34m\u001b[0m\u001b[0;34m\u001b[0m\u001b[0m\n",
      "\u001b[0;32m~/anaconda3/lib/python3.9/site-packages/pyro/infer/traceenum_elbo.py\u001b[0m in \u001b[0;36m_get_traces\u001b[0;34m(self, model, guide, args, kwargs)\u001b[0m\n\u001b[1;32m    392\u001b[0m             \u001b[0mq\u001b[0m\u001b[0;34m.\u001b[0m\u001b[0mput\u001b[0m\u001b[0;34m(\u001b[0m\u001b[0mpoutine\u001b[0m\u001b[0;34m.\u001b[0m\u001b[0mTrace\u001b[0m\u001b[0;34m(\u001b[0m\u001b[0;34m)\u001b[0m\u001b[0;34m)\u001b[0m\u001b[0;34m\u001b[0m\u001b[0;34m\u001b[0m\u001b[0m\n\u001b[1;32m    393\u001b[0m             \u001b[0;32mwhile\u001b[0m \u001b[0;32mnot\u001b[0m \u001b[0mq\u001b[0m\u001b[0;34m.\u001b[0m\u001b[0mempty\u001b[0m\u001b[0;34m(\u001b[0m\u001b[0;34m)\u001b[0m\u001b[0;34m:\u001b[0m\u001b[0;34m\u001b[0m\u001b[0;34m\u001b[0m\u001b[0m\n\u001b[0;32m--> 394\u001b[0;31m                 \u001b[0;32myield\u001b[0m \u001b[0mself\u001b[0m\u001b[0;34m.\u001b[0m\u001b[0m_get_trace\u001b[0m\u001b[0;34m(\u001b[0m\u001b[0mmodel\u001b[0m\u001b[0;34m,\u001b[0m \u001b[0mguide\u001b[0m\u001b[0;34m,\u001b[0m \u001b[0margs\u001b[0m\u001b[0;34m,\u001b[0m \u001b[0mkwargs\u001b[0m\u001b[0;34m)\u001b[0m\u001b[0;34m\u001b[0m\u001b[0;34m\u001b[0m\u001b[0m\n\u001b[0m\u001b[1;32m    395\u001b[0m \u001b[0;34m\u001b[0m\u001b[0m\n\u001b[1;32m    396\u001b[0m     \u001b[0;32mdef\u001b[0m \u001b[0mloss\u001b[0m\u001b[0;34m(\u001b[0m\u001b[0mself\u001b[0m\u001b[0;34m,\u001b[0m \u001b[0mmodel\u001b[0m\u001b[0;34m,\u001b[0m \u001b[0mguide\u001b[0m\u001b[0;34m,\u001b[0m \u001b[0;34m*\u001b[0m\u001b[0margs\u001b[0m\u001b[0;34m,\u001b[0m \u001b[0;34m**\u001b[0m\u001b[0mkwargs\u001b[0m\u001b[0;34m)\u001b[0m\u001b[0;34m:\u001b[0m\u001b[0;34m\u001b[0m\u001b[0;34m\u001b[0m\u001b[0m\n",
      "\u001b[0;32m~/anaconda3/lib/python3.9/site-packages/pyro/infer/traceenum_elbo.py\u001b[0m in \u001b[0;36m_get_trace\u001b[0;34m(self, model, guide, args, kwargs)\u001b[0m\n\u001b[1;32m    337\u001b[0m         \u001b[0magainst\u001b[0m \u001b[0mit\u001b[0m\u001b[0;34m.\u001b[0m\u001b[0;34m\u001b[0m\u001b[0;34m\u001b[0m\u001b[0m\n\u001b[1;32m    338\u001b[0m         \"\"\"\n\u001b[0;32m--> 339\u001b[0;31m         model_trace, guide_trace = get_importance_trace(\n\u001b[0m\u001b[1;32m    340\u001b[0m             \u001b[0;34m\"flat\"\u001b[0m\u001b[0;34m,\u001b[0m \u001b[0mself\u001b[0m\u001b[0;34m.\u001b[0m\u001b[0mmax_plate_nesting\u001b[0m\u001b[0;34m,\u001b[0m \u001b[0mmodel\u001b[0m\u001b[0;34m,\u001b[0m \u001b[0mguide\u001b[0m\u001b[0;34m,\u001b[0m \u001b[0margs\u001b[0m\u001b[0;34m,\u001b[0m \u001b[0mkwargs\u001b[0m\u001b[0;34m\u001b[0m\u001b[0;34m\u001b[0m\u001b[0m\n\u001b[1;32m    341\u001b[0m         )\n",
      "\u001b[0;32m~/anaconda3/lib/python3.9/site-packages/pyro/infer/enum.py\u001b[0m in \u001b[0;36mget_importance_trace\u001b[0;34m(graph_type, max_plate_nesting, model, guide, args, kwargs, detach)\u001b[0m\n\u001b[1;32m     63\u001b[0m         \u001b[0;32mif\u001b[0m \u001b[0mdetach\u001b[0m\u001b[0;34m:\u001b[0m\u001b[0;34m\u001b[0m\u001b[0;34m\u001b[0m\u001b[0m\n\u001b[1;32m     64\u001b[0m             \u001b[0mguide_trace\u001b[0m\u001b[0;34m.\u001b[0m\u001b[0mdetach_\u001b[0m\u001b[0;34m(\u001b[0m\u001b[0;34m)\u001b[0m\u001b[0;34m\u001b[0m\u001b[0;34m\u001b[0m\u001b[0m\n\u001b[0;32m---> 65\u001b[0;31m         model_trace = poutine.trace(\n\u001b[0m\u001b[1;32m     66\u001b[0m             \u001b[0mpoutine\u001b[0m\u001b[0;34m.\u001b[0m\u001b[0mreplay\u001b[0m\u001b[0;34m(\u001b[0m\u001b[0mmodel\u001b[0m\u001b[0;34m,\u001b[0m \u001b[0mtrace\u001b[0m\u001b[0;34m=\u001b[0m\u001b[0mguide_trace\u001b[0m\u001b[0;34m)\u001b[0m\u001b[0;34m,\u001b[0m \u001b[0mgraph_type\u001b[0m\u001b[0;34m=\u001b[0m\u001b[0mgraph_type\u001b[0m\u001b[0;34m\u001b[0m\u001b[0;34m\u001b[0m\u001b[0m\n\u001b[1;32m     67\u001b[0m         ).get_trace(*args, **kwargs)\n",
      "\u001b[0;32m~/anaconda3/lib/python3.9/site-packages/pyro/poutine/trace_messenger.py\u001b[0m in \u001b[0;36mget_trace\u001b[0;34m(self, *args, **kwargs)\u001b[0m\n\u001b[1;32m    196\u001b[0m         \u001b[0mCalls\u001b[0m \u001b[0mthis\u001b[0m \u001b[0mpoutine\u001b[0m \u001b[0;32mand\u001b[0m \u001b[0mreturns\u001b[0m \u001b[0mits\u001b[0m \u001b[0mtrace\u001b[0m \u001b[0minstead\u001b[0m \u001b[0mof\u001b[0m \u001b[0mthe\u001b[0m \u001b[0mfunction\u001b[0m\u001b[0;31m'\u001b[0m\u001b[0ms\u001b[0m \u001b[0;32mreturn\u001b[0m \u001b[0mvalue\u001b[0m\u001b[0;34m.\u001b[0m\u001b[0;34m\u001b[0m\u001b[0;34m\u001b[0m\u001b[0m\n\u001b[1;32m    197\u001b[0m         \"\"\"\n\u001b[0;32m--> 198\u001b[0;31m         \u001b[0mself\u001b[0m\u001b[0;34m(\u001b[0m\u001b[0;34m*\u001b[0m\u001b[0margs\u001b[0m\u001b[0;34m,\u001b[0m \u001b[0;34m**\u001b[0m\u001b[0mkwargs\u001b[0m\u001b[0;34m)\u001b[0m\u001b[0;34m\u001b[0m\u001b[0;34m\u001b[0m\u001b[0m\n\u001b[0m\u001b[1;32m    199\u001b[0m         \u001b[0;32mreturn\u001b[0m \u001b[0mself\u001b[0m\u001b[0;34m.\u001b[0m\u001b[0mmsngr\u001b[0m\u001b[0;34m.\u001b[0m\u001b[0mget_trace\u001b[0m\u001b[0;34m(\u001b[0m\u001b[0;34m)\u001b[0m\u001b[0;34m\u001b[0m\u001b[0;34m\u001b[0m\u001b[0m\n",
      "\u001b[0;32m~/anaconda3/lib/python3.9/site-packages/pyro/poutine/trace_messenger.py\u001b[0m in \u001b[0;36m__call__\u001b[0;34m(self, *args, **kwargs)\u001b[0m\n\u001b[1;32m    172\u001b[0m             )\n\u001b[1;32m    173\u001b[0m             \u001b[0;32mtry\u001b[0m\u001b[0;34m:\u001b[0m\u001b[0;34m\u001b[0m\u001b[0;34m\u001b[0m\u001b[0m\n\u001b[0;32m--> 174\u001b[0;31m                 \u001b[0mret\u001b[0m \u001b[0;34m=\u001b[0m \u001b[0mself\u001b[0m\u001b[0;34m.\u001b[0m\u001b[0mfn\u001b[0m\u001b[0;34m(\u001b[0m\u001b[0;34m*\u001b[0m\u001b[0margs\u001b[0m\u001b[0;34m,\u001b[0m \u001b[0;34m**\u001b[0m\u001b[0mkwargs\u001b[0m\u001b[0;34m)\u001b[0m\u001b[0;34m\u001b[0m\u001b[0;34m\u001b[0m\u001b[0m\n\u001b[0m\u001b[1;32m    175\u001b[0m             \u001b[0;32mexcept\u001b[0m \u001b[0;34m(\u001b[0m\u001b[0mValueError\u001b[0m\u001b[0;34m,\u001b[0m \u001b[0mRuntimeError\u001b[0m\u001b[0;34m)\u001b[0m \u001b[0;32mas\u001b[0m \u001b[0me\u001b[0m\u001b[0;34m:\u001b[0m\u001b[0;34m\u001b[0m\u001b[0;34m\u001b[0m\u001b[0m\n\u001b[1;32m    176\u001b[0m                 \u001b[0mexc_type\u001b[0m\u001b[0;34m,\u001b[0m \u001b[0mexc_value\u001b[0m\u001b[0;34m,\u001b[0m \u001b[0mtraceback\u001b[0m \u001b[0;34m=\u001b[0m \u001b[0msys\u001b[0m\u001b[0;34m.\u001b[0m\u001b[0mexc_info\u001b[0m\u001b[0;34m(\u001b[0m\u001b[0;34m)\u001b[0m\u001b[0;34m\u001b[0m\u001b[0;34m\u001b[0m\u001b[0m\n",
      "\u001b[0;32m~/anaconda3/lib/python3.9/site-packages/pyro/poutine/messenger.py\u001b[0m in \u001b[0;36m_context_wrap\u001b[0;34m(context, fn, *args, **kwargs)\u001b[0m\n\u001b[1;32m     10\u001b[0m \u001b[0;32mdef\u001b[0m \u001b[0m_context_wrap\u001b[0m\u001b[0;34m(\u001b[0m\u001b[0mcontext\u001b[0m\u001b[0;34m,\u001b[0m \u001b[0mfn\u001b[0m\u001b[0;34m,\u001b[0m \u001b[0;34m*\u001b[0m\u001b[0margs\u001b[0m\u001b[0;34m,\u001b[0m \u001b[0;34m**\u001b[0m\u001b[0mkwargs\u001b[0m\u001b[0;34m)\u001b[0m\u001b[0;34m:\u001b[0m\u001b[0;34m\u001b[0m\u001b[0;34m\u001b[0m\u001b[0m\n\u001b[1;32m     11\u001b[0m     \u001b[0;32mwith\u001b[0m \u001b[0mcontext\u001b[0m\u001b[0;34m:\u001b[0m\u001b[0;34m\u001b[0m\u001b[0;34m\u001b[0m\u001b[0m\n\u001b[0;32m---> 12\u001b[0;31m         \u001b[0;32mreturn\u001b[0m \u001b[0mfn\u001b[0m\u001b[0;34m(\u001b[0m\u001b[0;34m*\u001b[0m\u001b[0margs\u001b[0m\u001b[0;34m,\u001b[0m \u001b[0;34m**\u001b[0m\u001b[0mkwargs\u001b[0m\u001b[0;34m)\u001b[0m\u001b[0;34m\u001b[0m\u001b[0;34m\u001b[0m\u001b[0m\n\u001b[0m\u001b[1;32m     13\u001b[0m \u001b[0;34m\u001b[0m\u001b[0m\n\u001b[1;32m     14\u001b[0m \u001b[0;34m\u001b[0m\u001b[0m\n",
      "\u001b[0;32m~/anaconda3/lib/python3.9/site-packages/pyro/poutine/messenger.py\u001b[0m in \u001b[0;36m_context_wrap\u001b[0;34m(context, fn, *args, **kwargs)\u001b[0m\n\u001b[1;32m     10\u001b[0m \u001b[0;32mdef\u001b[0m \u001b[0m_context_wrap\u001b[0m\u001b[0;34m(\u001b[0m\u001b[0mcontext\u001b[0m\u001b[0;34m,\u001b[0m \u001b[0mfn\u001b[0m\u001b[0;34m,\u001b[0m \u001b[0;34m*\u001b[0m\u001b[0margs\u001b[0m\u001b[0;34m,\u001b[0m \u001b[0;34m**\u001b[0m\u001b[0mkwargs\u001b[0m\u001b[0;34m)\u001b[0m\u001b[0;34m:\u001b[0m\u001b[0;34m\u001b[0m\u001b[0;34m\u001b[0m\u001b[0m\n\u001b[1;32m     11\u001b[0m     \u001b[0;32mwith\u001b[0m \u001b[0mcontext\u001b[0m\u001b[0;34m:\u001b[0m\u001b[0;34m\u001b[0m\u001b[0;34m\u001b[0m\u001b[0m\n\u001b[0;32m---> 12\u001b[0;31m         \u001b[0;32mreturn\u001b[0m \u001b[0mfn\u001b[0m\u001b[0;34m(\u001b[0m\u001b[0;34m*\u001b[0m\u001b[0margs\u001b[0m\u001b[0;34m,\u001b[0m \u001b[0;34m**\u001b[0m\u001b[0mkwargs\u001b[0m\u001b[0;34m)\u001b[0m\u001b[0;34m\u001b[0m\u001b[0;34m\u001b[0m\u001b[0m\n\u001b[0m\u001b[1;32m     13\u001b[0m \u001b[0;34m\u001b[0m\u001b[0m\n\u001b[1;32m     14\u001b[0m \u001b[0;34m\u001b[0m\u001b[0m\n",
      "\u001b[0;32m/tmp/ipykernel_62/321274051.py\u001b[0m in \u001b[0;36mmodel_0\u001b[0;34m(sequences)\u001b[0m\n\u001b[1;32m     34\u001b[0m                 obs = pyro.sample(\n\u001b[1;32m     35\u001b[0m                     \u001b[0;34m\"y_{}_{}\"\u001b[0m\u001b[0;34m.\u001b[0m\u001b[0mformat\u001b[0m\u001b[0;34m(\u001b[0m\u001b[0mt\u001b[0m\u001b[0;34m,\u001b[0m \u001b[0mi\u001b[0m\u001b[0;34m)\u001b[0m\u001b[0;34m,\u001b[0m\u001b[0;34m\u001b[0m\u001b[0;34m\u001b[0m\u001b[0m\n\u001b[0;32m---> 36\u001b[0;31m                     \u001b[0mpyro\u001b[0m\u001b[0;34m.\u001b[0m\u001b[0mdistributions\u001b[0m\u001b[0;34m.\u001b[0m\u001b[0mNormal\u001b[0m\u001b[0;34m(\u001b[0m\u001b[0ms_start\u001b[0m \u001b[0;34m+\u001b[0m \u001b[0mupdate\u001b[0m\u001b[0;34m,\u001b[0m \u001b[0;36m.01\u001b[0m\u001b[0;34m)\u001b[0m\u001b[0;34m,\u001b[0m\u001b[0;34m\u001b[0m\u001b[0;34m\u001b[0m\u001b[0m\n\u001b[0m\u001b[1;32m     37\u001b[0m                     \u001b[0mobs\u001b[0m\u001b[0;34m=\u001b[0m\u001b[0msequences\u001b[0m\u001b[0;34m[\u001b[0m\u001b[0mi\u001b[0m\u001b[0;34m,\u001b[0m \u001b[0mt\u001b[0m\u001b[0;34m]\u001b[0m\u001b[0;34m\u001b[0m\u001b[0;34m\u001b[0m\u001b[0m\n\u001b[1;32m     38\u001b[0m                 )\n",
      "\u001b[0;32m~/anaconda3/lib/python3.9/site-packages/pyro/distributions/distribution.py\u001b[0m in \u001b[0;36m__call__\u001b[0;34m(cls, *args, **kwargs)\u001b[0m\n\u001b[1;32m     16\u001b[0m             \u001b[0;32mif\u001b[0m \u001b[0mresult\u001b[0m \u001b[0;32mis\u001b[0m \u001b[0;32mnot\u001b[0m \u001b[0;32mNone\u001b[0m\u001b[0;34m:\u001b[0m\u001b[0;34m\u001b[0m\u001b[0;34m\u001b[0m\u001b[0m\n\u001b[1;32m     17\u001b[0m                 \u001b[0;32mreturn\u001b[0m \u001b[0mresult\u001b[0m\u001b[0;34m\u001b[0m\u001b[0;34m\u001b[0m\u001b[0m\n\u001b[0;32m---> 18\u001b[0;31m         \u001b[0;32mreturn\u001b[0m \u001b[0msuper\u001b[0m\u001b[0;34m(\u001b[0m\u001b[0;34m)\u001b[0m\u001b[0;34m.\u001b[0m\u001b[0m__call__\u001b[0m\u001b[0;34m(\u001b[0m\u001b[0;34m*\u001b[0m\u001b[0margs\u001b[0m\u001b[0;34m,\u001b[0m \u001b[0;34m**\u001b[0m\u001b[0mkwargs\u001b[0m\u001b[0;34m)\u001b[0m\u001b[0;34m\u001b[0m\u001b[0;34m\u001b[0m\u001b[0m\n\u001b[0m\u001b[1;32m     19\u001b[0m \u001b[0;34m\u001b[0m\u001b[0m\n\u001b[1;32m     20\u001b[0m     \u001b[0;34m@\u001b[0m\u001b[0mproperty\u001b[0m\u001b[0;34m\u001b[0m\u001b[0;34m\u001b[0m\u001b[0m\n",
      "\u001b[0;32m~/anaconda3/lib/python3.9/site-packages/torch/distributions/normal.py\u001b[0m in \u001b[0;36m__init__\u001b[0;34m(self, loc, scale, validate_args)\u001b[0m\n\u001b[1;32m     48\u001b[0m         \u001b[0;32melse\u001b[0m\u001b[0;34m:\u001b[0m\u001b[0;34m\u001b[0m\u001b[0;34m\u001b[0m\u001b[0m\n\u001b[1;32m     49\u001b[0m             \u001b[0mbatch_shape\u001b[0m \u001b[0;34m=\u001b[0m \u001b[0mself\u001b[0m\u001b[0;34m.\u001b[0m\u001b[0mloc\u001b[0m\u001b[0;34m.\u001b[0m\u001b[0msize\u001b[0m\u001b[0;34m(\u001b[0m\u001b[0;34m)\u001b[0m\u001b[0;34m\u001b[0m\u001b[0;34m\u001b[0m\u001b[0m\n\u001b[0;32m---> 50\u001b[0;31m         \u001b[0msuper\u001b[0m\u001b[0;34m(\u001b[0m\u001b[0mNormal\u001b[0m\u001b[0;34m,\u001b[0m \u001b[0mself\u001b[0m\u001b[0;34m)\u001b[0m\u001b[0;34m.\u001b[0m\u001b[0m__init__\u001b[0m\u001b[0;34m(\u001b[0m\u001b[0mbatch_shape\u001b[0m\u001b[0;34m,\u001b[0m \u001b[0mvalidate_args\u001b[0m\u001b[0;34m=\u001b[0m\u001b[0mvalidate_args\u001b[0m\u001b[0;34m)\u001b[0m\u001b[0;34m\u001b[0m\u001b[0;34m\u001b[0m\u001b[0m\n\u001b[0m\u001b[1;32m     51\u001b[0m \u001b[0;34m\u001b[0m\u001b[0m\n\u001b[1;32m     52\u001b[0m     \u001b[0;32mdef\u001b[0m \u001b[0mexpand\u001b[0m\u001b[0;34m(\u001b[0m\u001b[0mself\u001b[0m\u001b[0;34m,\u001b[0m \u001b[0mbatch_shape\u001b[0m\u001b[0;34m,\u001b[0m \u001b[0m_instance\u001b[0m\u001b[0;34m=\u001b[0m\u001b[0;32mNone\u001b[0m\u001b[0;34m)\u001b[0m\u001b[0;34m:\u001b[0m\u001b[0;34m\u001b[0m\u001b[0;34m\u001b[0m\u001b[0m\n",
      "\u001b[0;32m~/anaconda3/lib/python3.9/site-packages/torch/distributions/distribution.py\u001b[0m in \u001b[0;36m__init__\u001b[0;34m(self, batch_shape, event_shape, validate_args)\u001b[0m\n\u001b[1;32m     51\u001b[0m                     \u001b[0;32mcontinue\u001b[0m  \u001b[0;31m# skip checking lazily-constructed args\u001b[0m\u001b[0;34m\u001b[0m\u001b[0;34m\u001b[0m\u001b[0m\n\u001b[1;32m     52\u001b[0m                 \u001b[0mvalue\u001b[0m \u001b[0;34m=\u001b[0m \u001b[0mgetattr\u001b[0m\u001b[0;34m(\u001b[0m\u001b[0mself\u001b[0m\u001b[0;34m,\u001b[0m \u001b[0mparam\u001b[0m\u001b[0;34m)\u001b[0m\u001b[0;34m\u001b[0m\u001b[0;34m\u001b[0m\u001b[0m\n\u001b[0;32m---> 53\u001b[0;31m                 \u001b[0mvalid\u001b[0m \u001b[0;34m=\u001b[0m \u001b[0mconstraint\u001b[0m\u001b[0;34m.\u001b[0m\u001b[0mcheck\u001b[0m\u001b[0;34m(\u001b[0m\u001b[0mvalue\u001b[0m\u001b[0;34m)\u001b[0m\u001b[0;34m\u001b[0m\u001b[0;34m\u001b[0m\u001b[0m\n\u001b[0m\u001b[1;32m     54\u001b[0m                 \u001b[0;32mif\u001b[0m \u001b[0;32mnot\u001b[0m \u001b[0mvalid\u001b[0m\u001b[0;34m.\u001b[0m\u001b[0mall\u001b[0m\u001b[0;34m(\u001b[0m\u001b[0;34m)\u001b[0m\u001b[0;34m:\u001b[0m\u001b[0;34m\u001b[0m\u001b[0;34m\u001b[0m\u001b[0m\n\u001b[1;32m     55\u001b[0m                     raise ValueError(\n",
      "\u001b[0;32m~/anaconda3/lib/python3.9/site-packages/torch/distributions/constraints.py\u001b[0m in \u001b[0;36mcheck\u001b[0;34m(self, value)\u001b[0m\n\u001b[1;32m    299\u001b[0m     \"\"\"\n\u001b[1;32m    300\u001b[0m     \u001b[0;32mdef\u001b[0m \u001b[0mcheck\u001b[0m\u001b[0;34m(\u001b[0m\u001b[0mself\u001b[0m\u001b[0;34m,\u001b[0m \u001b[0mvalue\u001b[0m\u001b[0;34m)\u001b[0m\u001b[0;34m:\u001b[0m\u001b[0;34m\u001b[0m\u001b[0;34m\u001b[0m\u001b[0m\n\u001b[0;32m--> 301\u001b[0;31m         \u001b[0;32mreturn\u001b[0m \u001b[0mvalue\u001b[0m \u001b[0;34m==\u001b[0m \u001b[0mvalue\u001b[0m  \u001b[0;31m# False for NANs.\u001b[0m\u001b[0;34m\u001b[0m\u001b[0;34m\u001b[0m\u001b[0m\n\u001b[0m\u001b[1;32m    302\u001b[0m \u001b[0;34m\u001b[0m\u001b[0m\n\u001b[1;32m    303\u001b[0m \u001b[0;34m\u001b[0m\u001b[0m\n",
      "\u001b[0;31mKeyboardInterrupt\u001b[0m: "
     ]
    }
   ],
   "source": [
    "rate_results = infer_rates(model_1, data, learning_rate=.0001, num_steps = 1000)"
   ]
  },
  {
   "cell_type": "code",
   "execution_count": null,
   "id": "c44f6a43-338a-44e1-b5cb-a99f7d0a06d9",
   "metadata": {},
   "outputs": [],
   "source": [
    "fig, ax = plt.subplots(figsize = (8,6))\n",
    "\n",
    "ax.plot(np.arange(0,1000), rate_results[:, 0], color = \"red\", label = \"r1\")\n",
    "ax.plot(np.arange(0,1000), rate_results[:, 1], color = \"blue\", label = \"r2\")\n",
    "ax.plot(np.arange(0,1000), rate_results[:, 2], color = \"green\", label = \"r3\")\n",
    "\n",
    "ax.hlines(y = .7, xmin = 0, xmax = 1000, color = \"darkred\")\n",
    "ax.hlines(y = .3, xmin = 0, xmax = 1000,color = \"navy\")\n",
    "ax.hlines(y = .9, xmin = 0, xmax = 1000,color = \"darkgreen\")\n",
    "\n",
    "plt.legend()"
   ]
  },
  {
   "cell_type": "markdown",
   "id": "7d77f7d9-401e-45d0-9559-1a63b222c2ad",
   "metadata": {},
   "source": [
    "### Try some different data sizes"
   ]
  },
  {
   "cell_type": "markdown",
   "id": "3ee779b4-4806-4bf8-bd5e-f5e15f71a9f0",
   "metadata": {},
   "source": [
    "#### 20 reps, 100 steps"
   ]
  },
  {
   "cell_type": "code",
   "execution_count": 420,
   "id": "c9054692-cc70-4436-b80a-1cd826de2911",
   "metadata": {},
   "outputs": [
    {
     "data": {
      "text/plain": [
       "<matplotlib.legend.Legend at 0x7ffa0a7f15b0>"
      ]
     },
     "execution_count": 420,
     "metadata": {},
     "output_type": "execute_result"
    },
    {
     "data": {
      "image/png": "[encoded data removed]",
      "text/plain": [
       "<Figure size 576x432 with 1 Axes>"
      ]
     },
     "metadata": {
      "needs_background": "light"
     },
     "output_type": "display_data"
    }
   ],
   "source": [
    "data_shape = torch.zeros(20, 100, 3)\n",
    "data_gen = model_0(data_shape)\n",
    "data = torch.stack(data_gen)\n",
    "\n",
    "rate_results = infer_rates(model_1, data, learning_rate=.0001, num_steps = 10000)\n",
    "\n",
    "fig, ax = plt.subplots(figsize = (8,6))\n",
    "\n",
    "ax.plot(np.arange(0,10000), rate_results[:, 0], color = \"red\", label = \"r1\")\n",
    "ax.plot(np.arange(0,10000), rate_results[:, 1], color = \"blue\", label = \"r2\")\n",
    "ax.plot(np.arange(0,10000), rate_results[:, 2], color = \"green\", label = \"r3\")\n",
    "\n",
    "ax.hlines(y = .7, xmin = 0, xmax = 10000, color = \"darkred\")\n",
    "ax.hlines(y = .3, xmin = 0, xmax = 10000, color = \"navy\")\n",
    "ax.hlines(y = .9, xmin = 0, xmax = 100, color = \"darkgreen\")\n",
    "\n",
    "plt.legend()"
   ]
  },
  {
   "cell_type": "markdown",
   "id": "45a5e092-a5e3-4120-8c46-ed480f9ea50e",
   "metadata": {},
   "source": [
    "#### 100 reps, 20 steps"
   ]
  },
  {
   "cell_type": "code",
   "execution_count": 421,
   "id": "97f8fa84-a150-4ccc-acc0-88f63d01b6fc",
   "metadata": {},
   "outputs": [
    {
     "data": {
      "text/plain": [
       "<matplotlib.legend.Legend at 0x7ffa09ad2340>"
      ]
     },
     "execution_count": 421,
     "metadata": {},
     "output_type": "execute_result"
    },
    {
     "data": {
      "image/png": "[encoded data removed]",
      "text/plain": [
       "<Figure size 576x432 with 1 Axes>"
      ]
     },
     "metadata": {
      "needs_background": "light"
     },
     "output_type": "display_data"
    }
   ],
   "source": [
    "data_shape = torch.zeros(100, 20, 3)\n",
    "data_gen = model_0(data_shape)\n",
    "data = torch.stack(data_gen)\n",
    "\n",
    "rate_results = infer_rates(model_1, data, learning_rate=.0001, num_steps = 10000)\n",
    "\n",
    "fig, ax = plt.subplots(figsize = (8,6))\n",
    "\n",
    "ax.plot(np.arange(0,10000), rate_results[:, 0], color = \"red\", label = \"r1\")\n",
    "ax.plot(np.arange(0,10000), rate_results[:, 1], color = \"blue\", label = \"r2\")\n",
    "ax.plot(np.arange(0,10000), rate_results[:, 2], color = \"green\", label = \"r3\")\n",
    "\n",
    "ax.hlines(y = .7, xmin = 0, xmax = 10000, color = \"darkred\")\n",
    "ax.hlines(y = .3, xmin = 0, xmax = 10000, color = \"navy\")\n",
    "ax.hlines(y = .9, xmin = 0, xmax = 100, color = \"darkgreen\")\n",
    "\n",
    "plt.legend()"
   ]
  },
  {
   "cell_type": "markdown",
   "id": "54bc161d-eaa5-4533-9f09-f1ce0fa098ed",
   "metadata": {},
   "source": [
    "#### 100 reps, 100 steps"
   ]
  },
  {
   "cell_type": "code",
   "execution_count": 422,
   "id": "dd2c0ced-220c-45ba-a873-17cb520d7a6f",
   "metadata": {},
   "outputs": [
    {
     "data": {
      "text/plain": [
       "<matplotlib.legend.Legend at 0x7ffa03dec880>"
      ]
     },
     "execution_count": 422,
     "metadata": {},
     "output_type": "execute_result"
    },
    {
     "data": {
      "image/png": "[encoded data removed]",
      "text/plain": [
       "<Figure size 576x432 with 1 Axes>"
      ]
     },
     "metadata": {
      "needs_background": "light"
     },
     "output_type": "display_data"
    }
   ],
   "source": [
    "data_shape = torch.zeros(100, 100, 3)\n",
    "data_gen = model_0(data_shape)\n",
    "data = torch.stack(data_gen)\n",
    "\n",
    "rate_results = infer_rates(model_1, data, learning_rate=.0001, num_steps = 10000)\n",
    "\n",
    "fig, ax = plt.subplots(figsize = (8,6))\n",
    "\n",
    "ax.plot(np.arange(0,10000), rate_results[:, 0], color = \"red\", label = \"r1\")\n",
    "ax.plot(np.arange(0,10000), rate_results[:, 1], color = \"blue\", label = \"r2\")\n",
    "ax.plot(np.arange(0,10000), rate_results[:, 2], color = \"green\", label = \"r3\")\n",
    "\n",
    "ax.hlines(y = .7, xmin = 0, xmax = 10000, color = \"darkred\")\n",
    "ax.hlines(y = .3, xmin = 0, xmax = 10000, color = \"navy\")\n",
    "ax.hlines(y = .9, xmin = 0, xmax = 100, color = \"darkgreen\")\n",
    "\n",
    "plt.legend()"
   ]
  },
  {
   "cell_type": "markdown",
   "id": "e403248d-b187-48f6-bacf-f833bf0ea53f",
   "metadata": {},
   "source": [
    "#### 1000 reps, 1000 steps"
   ]
  },
  {
   "cell_type": "code",
   "execution_count": 125,
   "id": "d97f0638-27ae-48dc-ac28-f6a86abaed4c",
   "metadata": {
    "collapsed": true,
    "jupyter": {
     "outputs_hidden": true
    },
    "tags": []
   },
   "outputs": [
    {
     "ename": "KeyboardInterrupt",
     "evalue": "",
     "output_type": "error",
     "traceback": [
      "\u001b[0;31m---------------------------------------------------------------------------\u001b[0m",
      "\u001b[0;31mKeyboardInterrupt\u001b[0m                         Traceback (most recent call last)",
      "\u001b[0;32m/tmp/ipykernel_17105/1226571766.py\u001b[0m in \u001b[0;36m<module>\u001b[0;34m\u001b[0m\n\u001b[1;32m      3\u001b[0m \u001b[0mdata\u001b[0m \u001b[0;34m=\u001b[0m \u001b[0mtorch\u001b[0m\u001b[0;34m.\u001b[0m\u001b[0mstack\u001b[0m\u001b[0;34m(\u001b[0m\u001b[0mdata_gen\u001b[0m\u001b[0;34m)\u001b[0m\u001b[0;34m\u001b[0m\u001b[0;34m\u001b[0m\u001b[0m\n\u001b[1;32m      4\u001b[0m \u001b[0;34m\u001b[0m\u001b[0m\n\u001b[0;32m----> 5\u001b[0;31m \u001b[0mrate_results\u001b[0m \u001b[0;34m=\u001b[0m \u001b[0minfer_rates\u001b[0m\u001b[0;34m(\u001b[0m\u001b[0mmodel_1\u001b[0m\u001b[0;34m,\u001b[0m \u001b[0mdata\u001b[0m\u001b[0;34m,\u001b[0m \u001b[0mlearning_rate\u001b[0m\u001b[0;34m=\u001b[0m\u001b[0;36m.0001\u001b[0m\u001b[0;34m,\u001b[0m \u001b[0mnum_steps\u001b[0m \u001b[0;34m=\u001b[0m \u001b[0;36m10000\u001b[0m\u001b[0;34m)\u001b[0m\u001b[0;34m\u001b[0m\u001b[0;34m\u001b[0m\u001b[0m\n\u001b[0m\u001b[1;32m      6\u001b[0m \u001b[0;34m\u001b[0m\u001b[0m\n\u001b[1;32m      7\u001b[0m \u001b[0mfig\u001b[0m\u001b[0;34m,\u001b[0m \u001b[0max\u001b[0m \u001b[0;34m=\u001b[0m \u001b[0mplt\u001b[0m\u001b[0;34m.\u001b[0m\u001b[0msubplots\u001b[0m\u001b[0;34m(\u001b[0m\u001b[0mfigsize\u001b[0m \u001b[0;34m=\u001b[0m \u001b[0;34m(\u001b[0m\u001b[0;36m8\u001b[0m\u001b[0;34m,\u001b[0m\u001b[0;36m6\u001b[0m\u001b[0;34m)\u001b[0m\u001b[0;34m)\u001b[0m\u001b[0;34m\u001b[0m\u001b[0;34m\u001b[0m\u001b[0m\n",
      "\u001b[0;32m/tmp/ipykernel_17105/1380246488.py\u001b[0m in \u001b[0;36minfer_rates\u001b[0;34m(model, observations, learning_rate, num_steps, beta0, beta1)\u001b[0m\n\u001b[1;32m     12\u001b[0m     \u001b[0msvi\u001b[0m \u001b[0;34m=\u001b[0m \u001b[0mpyro\u001b[0m\u001b[0;34m.\u001b[0m\u001b[0minfer\u001b[0m\u001b[0;34m.\u001b[0m\u001b[0mSVI\u001b[0m\u001b[0;34m(\u001b[0m\u001b[0mmodel\u001b[0m\u001b[0;34m,\u001b[0m \u001b[0mhmm_guide\u001b[0m\u001b[0;34m,\u001b[0m \u001b[0moptim\u001b[0m\u001b[0;34m,\u001b[0m \u001b[0melbo\u001b[0m\u001b[0;34m)\u001b[0m\u001b[0;34m\u001b[0m\u001b[0;34m\u001b[0m\u001b[0m\n\u001b[1;32m     13\u001b[0m     \u001b[0;32mfor\u001b[0m \u001b[0mstep\u001b[0m \u001b[0;32min\u001b[0m \u001b[0mrange\u001b[0m\u001b[0;34m(\u001b[0m\u001b[0mnum_steps\u001b[0m\u001b[0;34m)\u001b[0m\u001b[0;34m:\u001b[0m\u001b[0;34m\u001b[0m\u001b[0;34m\u001b[0m\u001b[0m\n\u001b[0;32m---> 14\u001b[0;31m         \u001b[0msvi\u001b[0m\u001b[0;34m.\u001b[0m\u001b[0mstep\u001b[0m\u001b[0;34m(\u001b[0m\u001b[0mobservations\u001b[0m\u001b[0;34m)\u001b[0m\u001b[0;34m\u001b[0m\u001b[0;34m\u001b[0m\u001b[0m\n\u001b[0m\u001b[1;32m     15\u001b[0m         \u001b[0;32mfor\u001b[0m \u001b[0mkey\u001b[0m\u001b[0;34m,\u001b[0m \u001b[0mvalue\u001b[0m \u001b[0;32min\u001b[0m \u001b[0mpyro\u001b[0m\u001b[0;34m.\u001b[0m\u001b[0mget_param_store\u001b[0m\u001b[0;34m(\u001b[0m\u001b[0;34m)\u001b[0m\u001b[0;34m.\u001b[0m\u001b[0mitems\u001b[0m\u001b[0;34m(\u001b[0m\u001b[0;34m)\u001b[0m\u001b[0;34m:\u001b[0m\u001b[0;34m\u001b[0m\u001b[0;34m\u001b[0m\u001b[0m\n\u001b[1;32m     16\u001b[0m             \u001b[0mrates\u001b[0m\u001b[0;34m.\u001b[0m\u001b[0mappend\u001b[0m\u001b[0;34m(\u001b[0m\u001b[0mvalue\u001b[0m\u001b[0;34m)\u001b[0m\u001b[0;34m\u001b[0m\u001b[0;34m\u001b[0m\u001b[0m\n",
      "\u001b[0;32m~/anaconda3/lib/python3.9/site-packages/pyro/infer/svi.py\u001b[0m in \u001b[0;36mstep\u001b[0;34m(self, *args, **kwargs)\u001b[0m\n\u001b[1;32m    143\u001b[0m         \u001b[0;31m# get loss and compute gradients\u001b[0m\u001b[0;34m\u001b[0m\u001b[0;34m\u001b[0m\u001b[0m\n\u001b[1;32m    144\u001b[0m         \u001b[0;32mwith\u001b[0m \u001b[0mpoutine\u001b[0m\u001b[0;34m.\u001b[0m\u001b[0mtrace\u001b[0m\u001b[0;34m(\u001b[0m\u001b[0mparam_only\u001b[0m\u001b[0;34m=\u001b[0m\u001b[0;32mTrue\u001b[0m\u001b[0;34m)\u001b[0m \u001b[0;32mas\u001b[0m \u001b[0mparam_capture\u001b[0m\u001b[0;34m:\u001b[0m\u001b[0;34m\u001b[0m\u001b[0;34m\u001b[0m\u001b[0m\n\u001b[0;32m--> 145\u001b[0;31m             \u001b[0mloss\u001b[0m \u001b[0;34m=\u001b[0m \u001b[0mself\u001b[0m\u001b[0;34m.\u001b[0m\u001b[0mloss_and_grads\u001b[0m\u001b[0;34m(\u001b[0m\u001b[0mself\u001b[0m\u001b[0;34m.\u001b[0m\u001b[0mmodel\u001b[0m\u001b[0;34m,\u001b[0m \u001b[0mself\u001b[0m\u001b[0;34m.\u001b[0m\u001b[0mguide\u001b[0m\u001b[0;34m,\u001b[0m \u001b[0;34m*\u001b[0m\u001b[0margs\u001b[0m\u001b[0;34m,\u001b[0m \u001b[0;34m**\u001b[0m\u001b[0mkwargs\u001b[0m\u001b[0;34m)\u001b[0m\u001b[0;34m\u001b[0m\u001b[0;34m\u001b[0m\u001b[0m\n\u001b[0m\u001b[1;32m    146\u001b[0m \u001b[0;34m\u001b[0m\u001b[0m\n\u001b[1;32m    147\u001b[0m         params = set(\n",
      "\u001b[0;32m~/anaconda3/lib/python3.9/site-packages/pyro/infer/traceenum_elbo.py\u001b[0m in \u001b[0;36mloss_and_grads\u001b[0;34m(self, model, guide, *args, **kwargs)\u001b[0m\n\u001b[1;32m    449\u001b[0m         \"\"\"\n\u001b[1;32m    450\u001b[0m         \u001b[0melbo\u001b[0m \u001b[0;34m=\u001b[0m \u001b[0;36m0.0\u001b[0m\u001b[0;34m\u001b[0m\u001b[0;34m\u001b[0m\u001b[0m\n\u001b[0;32m--> 451\u001b[0;31m         \u001b[0;32mfor\u001b[0m \u001b[0mmodel_trace\u001b[0m\u001b[0;34m,\u001b[0m \u001b[0mguide_trace\u001b[0m \u001b[0;32min\u001b[0m \u001b[0mself\u001b[0m\u001b[0;34m.\u001b[0m\u001b[0m_get_traces\u001b[0m\u001b[0;34m(\u001b[0m\u001b[0mmodel\u001b[0m\u001b[0;34m,\u001b[0m \u001b[0mguide\u001b[0m\u001b[0;34m,\u001b[0m \u001b[0margs\u001b[0m\u001b[0;34m,\u001b[0m \u001b[0mkwargs\u001b[0m\u001b[0;34m)\u001b[0m\u001b[0;34m:\u001b[0m\u001b[0;34m\u001b[0m\u001b[0;34m\u001b[0m\u001b[0m\n\u001b[0m\u001b[1;32m    452\u001b[0m             \u001b[0melbo_particle\u001b[0m \u001b[0;34m=\u001b[0m \u001b[0m_compute_dice_elbo\u001b[0m\u001b[0;34m(\u001b[0m\u001b[0mmodel_trace\u001b[0m\u001b[0;34m,\u001b[0m \u001b[0mguide_trace\u001b[0m\u001b[0;34m)\u001b[0m\u001b[0;34m\u001b[0m\u001b[0;34m\u001b[0m\u001b[0m\n\u001b[1;32m    453\u001b[0m             \u001b[0;32mif\u001b[0m \u001b[0mis_identically_zero\u001b[0m\u001b[0;34m(\u001b[0m\u001b[0melbo_particle\u001b[0m\u001b[0;34m)\u001b[0m\u001b[0;34m:\u001b[0m\u001b[0;34m\u001b[0m\u001b[0;34m\u001b[0m\u001b[0m\n",
      "\u001b[0;32m~/anaconda3/lib/python3.9/site-packages/pyro/infer/traceenum_elbo.py\u001b[0m in \u001b[0;36m_get_traces\u001b[0;34m(self, model, guide, args, kwargs)\u001b[0m\n\u001b[1;32m    392\u001b[0m             \u001b[0mq\u001b[0m\u001b[0;34m.\u001b[0m\u001b[0mput\u001b[0m\u001b[0;34m(\u001b[0m\u001b[0mpoutine\u001b[0m\u001b[0;34m.\u001b[0m\u001b[0mTrace\u001b[0m\u001b[0;34m(\u001b[0m\u001b[0;34m)\u001b[0m\u001b[0;34m)\u001b[0m\u001b[0;34m\u001b[0m\u001b[0;34m\u001b[0m\u001b[0m\n\u001b[1;32m    393\u001b[0m             \u001b[0;32mwhile\u001b[0m \u001b[0;32mnot\u001b[0m \u001b[0mq\u001b[0m\u001b[0;34m.\u001b[0m\u001b[0mempty\u001b[0m\u001b[0;34m(\u001b[0m\u001b[0;34m)\u001b[0m\u001b[0;34m:\u001b[0m\u001b[0;34m\u001b[0m\u001b[0;34m\u001b[0m\u001b[0m\n\u001b[0;32m--> 394\u001b[0;31m                 \u001b[0;32myield\u001b[0m \u001b[0mself\u001b[0m\u001b[0;34m.\u001b[0m\u001b[0m_get_trace\u001b[0m\u001b[0;34m(\u001b[0m\u001b[0mmodel\u001b[0m\u001b[0;34m,\u001b[0m \u001b[0mguide\u001b[0m\u001b[0;34m,\u001b[0m \u001b[0margs\u001b[0m\u001b[0;34m,\u001b[0m \u001b[0mkwargs\u001b[0m\u001b[0;34m)\u001b[0m\u001b[0;34m\u001b[0m\u001b[0;34m\u001b[0m\u001b[0m\n\u001b[0m\u001b[1;32m    395\u001b[0m \u001b[0;34m\u001b[0m\u001b[0m\n\u001b[1;32m    396\u001b[0m     \u001b[0;32mdef\u001b[0m \u001b[0mloss\u001b[0m\u001b[0;34m(\u001b[0m\u001b[0mself\u001b[0m\u001b[0;34m,\u001b[0m \u001b[0mmodel\u001b[0m\u001b[0;34m,\u001b[0m \u001b[0mguide\u001b[0m\u001b[0;34m,\u001b[0m \u001b[0;34m*\u001b[0m\u001b[0margs\u001b[0m\u001b[0;34m,\u001b[0m \u001b[0;34m**\u001b[0m\u001b[0mkwargs\u001b[0m\u001b[0;34m)\u001b[0m\u001b[0;34m:\u001b[0m\u001b[0;34m\u001b[0m\u001b[0;34m\u001b[0m\u001b[0m\n",
      "\u001b[0;32m~/anaconda3/lib/python3.9/site-packages/pyro/infer/traceenum_elbo.py\u001b[0m in \u001b[0;36m_get_trace\u001b[0;34m(self, model, guide, args, kwargs)\u001b[0m\n\u001b[1;32m    337\u001b[0m         \u001b[0magainst\u001b[0m \u001b[0mit\u001b[0m\u001b[0;34m.\u001b[0m\u001b[0;34m\u001b[0m\u001b[0;34m\u001b[0m\u001b[0m\n\u001b[1;32m    338\u001b[0m         \"\"\"\n\u001b[0;32m--> 339\u001b[0;31m         model_trace, guide_trace = get_importance_trace(\n\u001b[0m\u001b[1;32m    340\u001b[0m             \u001b[0;34m\"flat\"\u001b[0m\u001b[0;34m,\u001b[0m \u001b[0mself\u001b[0m\u001b[0;34m.\u001b[0m\u001b[0mmax_plate_nesting\u001b[0m\u001b[0;34m,\u001b[0m \u001b[0mmodel\u001b[0m\u001b[0;34m,\u001b[0m \u001b[0mguide\u001b[0m\u001b[0;34m,\u001b[0m \u001b[0margs\u001b[0m\u001b[0;34m,\u001b[0m \u001b[0mkwargs\u001b[0m\u001b[0;34m\u001b[0m\u001b[0;34m\u001b[0m\u001b[0m\n\u001b[1;32m    341\u001b[0m         )\n",
      "\u001b[0;32m~/anaconda3/lib/python3.9/site-packages/pyro/infer/enum.py\u001b[0m in \u001b[0;36mget_importance_trace\u001b[0;34m(graph_type, max_plate_nesting, model, guide, args, kwargs, detach)\u001b[0m\n\u001b[1;32m     63\u001b[0m         \u001b[0;32mif\u001b[0m \u001b[0mdetach\u001b[0m\u001b[0;34m:\u001b[0m\u001b[0;34m\u001b[0m\u001b[0;34m\u001b[0m\u001b[0m\n\u001b[1;32m     64\u001b[0m             \u001b[0mguide_trace\u001b[0m\u001b[0;34m.\u001b[0m\u001b[0mdetach_\u001b[0m\u001b[0;34m(\u001b[0m\u001b[0;34m)\u001b[0m\u001b[0;34m\u001b[0m\u001b[0;34m\u001b[0m\u001b[0m\n\u001b[0;32m---> 65\u001b[0;31m         model_trace = poutine.trace(\n\u001b[0m\u001b[1;32m     66\u001b[0m             \u001b[0mpoutine\u001b[0m\u001b[0;34m.\u001b[0m\u001b[0mreplay\u001b[0m\u001b[0;34m(\u001b[0m\u001b[0mmodel\u001b[0m\u001b[0;34m,\u001b[0m \u001b[0mtrace\u001b[0m\u001b[0;34m=\u001b[0m\u001b[0mguide_trace\u001b[0m\u001b[0;34m)\u001b[0m\u001b[0;34m,\u001b[0m \u001b[0mgraph_type\u001b[0m\u001b[0;34m=\u001b[0m\u001b[0mgraph_type\u001b[0m\u001b[0;34m\u001b[0m\u001b[0;34m\u001b[0m\u001b[0m\n\u001b[1;32m     67\u001b[0m         ).get_trace(*args, **kwargs)\n",
      "\u001b[0;32m~/anaconda3/lib/python3.9/site-packages/pyro/poutine/trace_messenger.py\u001b[0m in \u001b[0;36mget_trace\u001b[0;34m(self, *args, **kwargs)\u001b[0m\n\u001b[1;32m    196\u001b[0m         \u001b[0mCalls\u001b[0m \u001b[0mthis\u001b[0m \u001b[0mpoutine\u001b[0m \u001b[0;32mand\u001b[0m \u001b[0mreturns\u001b[0m \u001b[0mits\u001b[0m \u001b[0mtrace\u001b[0m \u001b[0minstead\u001b[0m \u001b[0mof\u001b[0m \u001b[0mthe\u001b[0m \u001b[0mfunction\u001b[0m\u001b[0;31m'\u001b[0m\u001b[0ms\u001b[0m \u001b[0;32mreturn\u001b[0m \u001b[0mvalue\u001b[0m\u001b[0;34m.\u001b[0m\u001b[0;34m\u001b[0m\u001b[0;34m\u001b[0m\u001b[0m\n\u001b[1;32m    197\u001b[0m         \"\"\"\n\u001b[0;32m--> 198\u001b[0;31m         \u001b[0mself\u001b[0m\u001b[0;34m(\u001b[0m\u001b[0;34m*\u001b[0m\u001b[0margs\u001b[0m\u001b[0;34m,\u001b[0m \u001b[0;34m**\u001b[0m\u001b[0mkwargs\u001b[0m\u001b[0;34m)\u001b[0m\u001b[0;34m\u001b[0m\u001b[0;34m\u001b[0m\u001b[0m\n\u001b[0m\u001b[1;32m    199\u001b[0m         \u001b[0;32mreturn\u001b[0m \u001b[0mself\u001b[0m\u001b[0;34m.\u001b[0m\u001b[0mmsngr\u001b[0m\u001b[0;34m.\u001b[0m\u001b[0mget_trace\u001b[0m\u001b[0;34m(\u001b[0m\u001b[0;34m)\u001b[0m\u001b[0;34m\u001b[0m\u001b[0;34m\u001b[0m\u001b[0m\n",
      "\u001b[0;32m~/anaconda3/lib/python3.9/site-packages/pyro/poutine/trace_messenger.py\u001b[0m in \u001b[0;36m__call__\u001b[0;34m(self, *args, **kwargs)\u001b[0m\n\u001b[1;32m    172\u001b[0m             )\n\u001b[1;32m    173\u001b[0m             \u001b[0;32mtry\u001b[0m\u001b[0;34m:\u001b[0m\u001b[0;34m\u001b[0m\u001b[0;34m\u001b[0m\u001b[0m\n\u001b[0;32m--> 174\u001b[0;31m                 \u001b[0mret\u001b[0m \u001b[0;34m=\u001b[0m \u001b[0mself\u001b[0m\u001b[0;34m.\u001b[0m\u001b[0mfn\u001b[0m\u001b[0;34m(\u001b[0m\u001b[0;34m*\u001b[0m\u001b[0margs\u001b[0m\u001b[0;34m,\u001b[0m \u001b[0;34m**\u001b[0m\u001b[0mkwargs\u001b[0m\u001b[0;34m)\u001b[0m\u001b[0;34m\u001b[0m\u001b[0;34m\u001b[0m\u001b[0m\n\u001b[0m\u001b[1;32m    175\u001b[0m             \u001b[0;32mexcept\u001b[0m \u001b[0;34m(\u001b[0m\u001b[0mValueError\u001b[0m\u001b[0;34m,\u001b[0m \u001b[0mRuntimeError\u001b[0m\u001b[0;34m)\u001b[0m \u001b[0;32mas\u001b[0m \u001b[0me\u001b[0m\u001b[0;34m:\u001b[0m\u001b[0;34m\u001b[0m\u001b[0;34m\u001b[0m\u001b[0m\n\u001b[1;32m    176\u001b[0m                 \u001b[0mexc_type\u001b[0m\u001b[0;34m,\u001b[0m \u001b[0mexc_value\u001b[0m\u001b[0;34m,\u001b[0m \u001b[0mtraceback\u001b[0m \u001b[0;34m=\u001b[0m \u001b[0msys\u001b[0m\u001b[0;34m.\u001b[0m\u001b[0mexc_info\u001b[0m\u001b[0;34m(\u001b[0m\u001b[0;34m)\u001b[0m\u001b[0;34m\u001b[0m\u001b[0;34m\u001b[0m\u001b[0m\n",
      "\u001b[0;32m~/anaconda3/lib/python3.9/site-packages/pyro/poutine/messenger.py\u001b[0m in \u001b[0;36m_context_wrap\u001b[0;34m(context, fn, *args, **kwargs)\u001b[0m\n\u001b[1;32m     10\u001b[0m \u001b[0;32mdef\u001b[0m \u001b[0m_context_wrap\u001b[0m\u001b[0;34m(\u001b[0m\u001b[0mcontext\u001b[0m\u001b[0;34m,\u001b[0m \u001b[0mfn\u001b[0m\u001b[0;34m,\u001b[0m \u001b[0;34m*\u001b[0m\u001b[0margs\u001b[0m\u001b[0;34m,\u001b[0m \u001b[0;34m**\u001b[0m\u001b[0mkwargs\u001b[0m\u001b[0;34m)\u001b[0m\u001b[0;34m:\u001b[0m\u001b[0;34m\u001b[0m\u001b[0;34m\u001b[0m\u001b[0m\n\u001b[1;32m     11\u001b[0m     \u001b[0;32mwith\u001b[0m \u001b[0mcontext\u001b[0m\u001b[0;34m:\u001b[0m\u001b[0;34m\u001b[0m\u001b[0;34m\u001b[0m\u001b[0m\n\u001b[0;32m---> 12\u001b[0;31m         \u001b[0;32mreturn\u001b[0m \u001b[0mfn\u001b[0m\u001b[0;34m(\u001b[0m\u001b[0;34m*\u001b[0m\u001b[0margs\u001b[0m\u001b[0;34m,\u001b[0m \u001b[0;34m**\u001b[0m\u001b[0mkwargs\u001b[0m\u001b[0;34m)\u001b[0m\u001b[0;34m\u001b[0m\u001b[0;34m\u001b[0m\u001b[0m\n\u001b[0m\u001b[1;32m     13\u001b[0m \u001b[0;34m\u001b[0m\u001b[0m\n\u001b[1;32m     14\u001b[0m \u001b[0;34m\u001b[0m\u001b[0m\n",
      "\u001b[0;32m~/anaconda3/lib/python3.9/site-packages/pyro/poutine/messenger.py\u001b[0m in \u001b[0;36m_context_wrap\u001b[0;34m(context, fn, *args, **kwargs)\u001b[0m\n\u001b[1;32m     10\u001b[0m \u001b[0;32mdef\u001b[0m \u001b[0m_context_wrap\u001b[0m\u001b[0;34m(\u001b[0m\u001b[0mcontext\u001b[0m\u001b[0;34m,\u001b[0m \u001b[0mfn\u001b[0m\u001b[0;34m,\u001b[0m \u001b[0;34m*\u001b[0m\u001b[0margs\u001b[0m\u001b[0;34m,\u001b[0m \u001b[0;34m**\u001b[0m\u001b[0mkwargs\u001b[0m\u001b[0;34m)\u001b[0m\u001b[0;34m:\u001b[0m\u001b[0;34m\u001b[0m\u001b[0;34m\u001b[0m\u001b[0m\n\u001b[1;32m     11\u001b[0m     \u001b[0;32mwith\u001b[0m \u001b[0mcontext\u001b[0m\u001b[0;34m:\u001b[0m\u001b[0;34m\u001b[0m\u001b[0;34m\u001b[0m\u001b[0m\n\u001b[0;32m---> 12\u001b[0;31m         \u001b[0;32mreturn\u001b[0m \u001b[0mfn\u001b[0m\u001b[0;34m(\u001b[0m\u001b[0;34m*\u001b[0m\u001b[0margs\u001b[0m\u001b[0;34m,\u001b[0m \u001b[0;34m**\u001b[0m\u001b[0mkwargs\u001b[0m\u001b[0;34m)\u001b[0m\u001b[0;34m\u001b[0m\u001b[0;34m\u001b[0m\u001b[0m\n\u001b[0m\u001b[1;32m     13\u001b[0m \u001b[0;34m\u001b[0m\u001b[0m\n\u001b[1;32m     14\u001b[0m \u001b[0;34m\u001b[0m\u001b[0m\n",
      "\u001b[0;32m/tmp/ipykernel_17105/817977609.py\u001b[0m in \u001b[0;36mmodel_1\u001b[0;34m(data, batch_size)\u001b[0m\n\u001b[1;32m     31\u001b[0m             \u001b[0;31m## Update second run with enumeration. Cycles between 4 and 5 dimension tensor\u001b[0m\u001b[0;34m\u001b[0m\u001b[0;34m\u001b[0m\u001b[0m\n\u001b[1;32m     32\u001b[0m             \u001b[0;32melif\u001b[0m \u001b[0mlen\u001b[0m\u001b[0;34m(\u001b[0m\u001b[0mx\u001b[0m\u001b[0;34m.\u001b[0m\u001b[0mshape\u001b[0m\u001b[0;34m)\u001b[0m \u001b[0;34m==\u001b[0m \u001b[0;36m4\u001b[0m\u001b[0;34m:\u001b[0m\u001b[0;34m\u001b[0m\u001b[0;34m\u001b[0m\u001b[0m\n\u001b[0;32m---> 33\u001b[0;31m                 \u001b[0mupdate\u001b[0m\u001b[0;34m[\u001b[0m\u001b[0mtorch\u001b[0m\u001b[0;34m.\u001b[0m\u001b[0marange\u001b[0m\u001b[0;34m(\u001b[0m\u001b[0mlen\u001b[0m\u001b[0;34m(\u001b[0m\u001b[0mupdate\u001b[0m\u001b[0;34m)\u001b[0m\u001b[0;34m)\u001b[0m\u001b[0;34m,\u001b[0m \u001b[0;36m0\u001b[0m\u001b[0;34m,\u001b[0m \u001b[0;36m0\u001b[0m\u001b[0;34m,\u001b[0m\u001b[0mtorch\u001b[0m\u001b[0;34m.\u001b[0m\u001b[0mflatten\u001b[0m\u001b[0;34m(\u001b[0m\u001b[0mx\u001b[0m\u001b[0;34m)\u001b[0m\u001b[0;34m.\u001b[0m\u001b[0mlong\u001b[0m\u001b[0;34m(\u001b[0m\u001b[0;34m)\u001b[0m\u001b[0;34m]\u001b[0m \u001b[0;34m=\u001b[0m \u001b[0;36m1.\u001b[0m\u001b[0;34m\u001b[0m\u001b[0;34m\u001b[0m\u001b[0m\n\u001b[0m\u001b[1;32m     34\u001b[0m             \u001b[0;32melse\u001b[0m\u001b[0;34m:\u001b[0m\u001b[0;34m\u001b[0m\u001b[0;34m\u001b[0m\u001b[0m\n\u001b[1;32m     35\u001b[0m                 \u001b[0mupdate\u001b[0m\u001b[0;34m[\u001b[0m\u001b[0mtorch\u001b[0m\u001b[0;34m.\u001b[0m\u001b[0marange\u001b[0m\u001b[0;34m(\u001b[0m\u001b[0mlen\u001b[0m\u001b[0;34m(\u001b[0m\u001b[0mupdate\u001b[0m\u001b[0;34m)\u001b[0m\u001b[0;34m)\u001b[0m\u001b[0;34m,\u001b[0m \u001b[0;36m0\u001b[0m\u001b[0;34m,\u001b[0m \u001b[0;36m0\u001b[0m\u001b[0;34m,\u001b[0m\u001b[0;36m0\u001b[0m\u001b[0;34m,\u001b[0m\u001b[0mtorch\u001b[0m\u001b[0;34m.\u001b[0m\u001b[0mflatten\u001b[0m\u001b[0;34m(\u001b[0m\u001b[0mx\u001b[0m\u001b[0;34m)\u001b[0m\u001b[0;34m.\u001b[0m\u001b[0mlong\u001b[0m\u001b[0;34m(\u001b[0m\u001b[0;34m)\u001b[0m\u001b[0;34m]\u001b[0m \u001b[0;34m=\u001b[0m \u001b[0;36m1.\u001b[0m\u001b[0;34m\u001b[0m\u001b[0;34m\u001b[0m\u001b[0m\n",
      "\u001b[0;31mKeyboardInterrupt\u001b[0m: "
     ]
    }
   ],
   "source": [
    "data_shape = torch.zeros(1000, 1000, 3)\n",
    "data_gen = model_0(data_shape)\n",
    "data = torch.stack(data_gen)\n",
    "\n",
    "rate_results = infer_rates(model_1, data, learning_rate=.0001, num_steps = 10000)\n",
    "\n",
    "fig, ax = plt.subplots(figsize = (8,6))\n",
    "\n",
    "ax.plot(np.arange(0,10000), rate_results[:, 0], color = \"red\", label = \"r1\")\n",
    "ax.plot(np.arange(0,10000), rate_results[:, 1], color = \"blue\", label = \"r2\")\n",
    "ax.plot(np.arange(0,10000), rate_results[:, 2], color = \"green\", label = \"r3\")\n",
    "\n",
    "ax.hlines(y = .7, xmin = 0, xmax = 10000, color = \"darkred\")\n",
    "ax.hlines(y = .3, xmin = 0, xmax = 10000, color = \"navy\")\n",
    "ax.hlines(y = .9, xmin = 0, xmax = 100, color = \"darkgreen\")\n",
    "\n",
    "plt.legend()"
   ]
  },
  {
   "cell_type": "code",
   "execution_count": null,
   "id": "36addb89-f612-40db-8a9f-b1b6b06cad98",
   "metadata": {},
   "outputs": [],
   "source": []
  }
 ],
 "metadata": {
  "kernelspec": {
   "display_name": "Python 3 (ipykernel)",
   "language": "python",
   "name": "python3"
  },
  "language_info": {
   "codemirror_mode": {
    "name": "ipython",
    "version": 3
   },
   "file_extension": ".py",
   "mimetype": "text/x-python",
   "name": "python",
   "nbconvert_exporter": "python",
   "pygments_lexer": "ipython3",
   "version": "3.9.7"
  }
 },
 "nbformat": 4,
 "nbformat_minor": 5
}
